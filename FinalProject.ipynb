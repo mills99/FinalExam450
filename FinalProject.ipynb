{
 "cells": [
  {
   "cell_type": "code",
   "execution_count": 426,
   "id": "a67565cd",
   "metadata": {},
   "outputs": [
    {
     "data": {
      "text/html": [
       "<div>\n",
       "<style scoped>\n",
       "    .dataframe tbody tr th:only-of-type {\n",
       "        vertical-align: middle;\n",
       "    }\n",
       "\n",
       "    .dataframe tbody tr th {\n",
       "        vertical-align: top;\n",
       "    }\n",
       "\n",
       "    .dataframe thead th {\n",
       "        text-align: right;\n",
       "    }\n",
       "</style>\n",
       "<table border=\"1\" class=\"dataframe\">\n",
       "  <thead>\n",
       "    <tr style=\"text-align: right;\">\n",
       "      <th></th>\n",
       "      <th>Manufacturer</th>\n",
       "      <th>Model</th>\n",
       "      <th>Sales_in_thousands</th>\n",
       "      <th>__year_resale_value</th>\n",
       "      <th>Vehicle_type</th>\n",
       "      <th>Price_in_thousands</th>\n",
       "      <th>Engine_size</th>\n",
       "      <th>Horsepower</th>\n",
       "      <th>Wheelbase</th>\n",
       "      <th>Width</th>\n",
       "      <th>Length</th>\n",
       "      <th>Curb_weight</th>\n",
       "      <th>Fuel_capacity</th>\n",
       "      <th>Fuel_efficiency</th>\n",
       "      <th>Latest_Launch</th>\n",
       "      <th>Power_perf_factor</th>\n",
       "    </tr>\n",
       "  </thead>\n",
       "  <tbody>\n",
       "    <tr>\n",
       "      <th>0</th>\n",
       "      <td>Acura</td>\n",
       "      <td>Integra</td>\n",
       "      <td>16.919</td>\n",
       "      <td>16.360</td>\n",
       "      <td>Passenger</td>\n",
       "      <td>21.50</td>\n",
       "      <td>1.8</td>\n",
       "      <td>140.0</td>\n",
       "      <td>101.2</td>\n",
       "      <td>67.3</td>\n",
       "      <td>172.4</td>\n",
       "      <td>2.639</td>\n",
       "      <td>13.2</td>\n",
       "      <td>28.0</td>\n",
       "      <td>2/2/2012</td>\n",
       "      <td>58.280150</td>\n",
       "    </tr>\n",
       "    <tr>\n",
       "      <th>1</th>\n",
       "      <td>Acura</td>\n",
       "      <td>TL</td>\n",
       "      <td>39.384</td>\n",
       "      <td>19.875</td>\n",
       "      <td>Passenger</td>\n",
       "      <td>28.40</td>\n",
       "      <td>3.2</td>\n",
       "      <td>225.0</td>\n",
       "      <td>108.1</td>\n",
       "      <td>70.3</td>\n",
       "      <td>192.9</td>\n",
       "      <td>3.517</td>\n",
       "      <td>17.2</td>\n",
       "      <td>25.0</td>\n",
       "      <td>6/3/2011</td>\n",
       "      <td>91.370778</td>\n",
       "    </tr>\n",
       "    <tr>\n",
       "      <th>2</th>\n",
       "      <td>Acura</td>\n",
       "      <td>CL</td>\n",
       "      <td>14.114</td>\n",
       "      <td>18.225</td>\n",
       "      <td>Passenger</td>\n",
       "      <td>NaN</td>\n",
       "      <td>3.2</td>\n",
       "      <td>225.0</td>\n",
       "      <td>106.9</td>\n",
       "      <td>70.6</td>\n",
       "      <td>192.0</td>\n",
       "      <td>3.470</td>\n",
       "      <td>17.2</td>\n",
       "      <td>26.0</td>\n",
       "      <td>1/4/2012</td>\n",
       "      <td>NaN</td>\n",
       "    </tr>\n",
       "    <tr>\n",
       "      <th>3</th>\n",
       "      <td>Acura</td>\n",
       "      <td>RL</td>\n",
       "      <td>8.588</td>\n",
       "      <td>29.725</td>\n",
       "      <td>Passenger</td>\n",
       "      <td>42.00</td>\n",
       "      <td>3.5</td>\n",
       "      <td>210.0</td>\n",
       "      <td>114.6</td>\n",
       "      <td>71.4</td>\n",
       "      <td>196.6</td>\n",
       "      <td>3.850</td>\n",
       "      <td>18.0</td>\n",
       "      <td>22.0</td>\n",
       "      <td>3/10/2011</td>\n",
       "      <td>91.389779</td>\n",
       "    </tr>\n",
       "    <tr>\n",
       "      <th>4</th>\n",
       "      <td>Audi</td>\n",
       "      <td>A4</td>\n",
       "      <td>20.397</td>\n",
       "      <td>22.255</td>\n",
       "      <td>Passenger</td>\n",
       "      <td>23.99</td>\n",
       "      <td>1.8</td>\n",
       "      <td>150.0</td>\n",
       "      <td>102.6</td>\n",
       "      <td>68.2</td>\n",
       "      <td>178.0</td>\n",
       "      <td>2.998</td>\n",
       "      <td>16.4</td>\n",
       "      <td>27.0</td>\n",
       "      <td>10/8/2011</td>\n",
       "      <td>62.777639</td>\n",
       "    </tr>\n",
       "    <tr>\n",
       "      <th>...</th>\n",
       "      <td>...</td>\n",
       "      <td>...</td>\n",
       "      <td>...</td>\n",
       "      <td>...</td>\n",
       "      <td>...</td>\n",
       "      <td>...</td>\n",
       "      <td>...</td>\n",
       "      <td>...</td>\n",
       "      <td>...</td>\n",
       "      <td>...</td>\n",
       "      <td>...</td>\n",
       "      <td>...</td>\n",
       "      <td>...</td>\n",
       "      <td>...</td>\n",
       "      <td>...</td>\n",
       "      <td>...</td>\n",
       "    </tr>\n",
       "    <tr>\n",
       "      <th>152</th>\n",
       "      <td>Volvo</td>\n",
       "      <td>V40</td>\n",
       "      <td>3.545</td>\n",
       "      <td>NaN</td>\n",
       "      <td>Passenger</td>\n",
       "      <td>24.40</td>\n",
       "      <td>1.9</td>\n",
       "      <td>160.0</td>\n",
       "      <td>100.5</td>\n",
       "      <td>67.6</td>\n",
       "      <td>176.6</td>\n",
       "      <td>3.042</td>\n",
       "      <td>15.8</td>\n",
       "      <td>25.0</td>\n",
       "      <td>9/21/2011</td>\n",
       "      <td>66.498812</td>\n",
       "    </tr>\n",
       "    <tr>\n",
       "      <th>153</th>\n",
       "      <td>Volvo</td>\n",
       "      <td>S70</td>\n",
       "      <td>15.245</td>\n",
       "      <td>NaN</td>\n",
       "      <td>Passenger</td>\n",
       "      <td>27.50</td>\n",
       "      <td>2.4</td>\n",
       "      <td>168.0</td>\n",
       "      <td>104.9</td>\n",
       "      <td>69.3</td>\n",
       "      <td>185.9</td>\n",
       "      <td>3.208</td>\n",
       "      <td>17.9</td>\n",
       "      <td>25.0</td>\n",
       "      <td>11/24/2012</td>\n",
       "      <td>70.654495</td>\n",
       "    </tr>\n",
       "    <tr>\n",
       "      <th>154</th>\n",
       "      <td>Volvo</td>\n",
       "      <td>V70</td>\n",
       "      <td>17.531</td>\n",
       "      <td>NaN</td>\n",
       "      <td>Passenger</td>\n",
       "      <td>28.80</td>\n",
       "      <td>2.4</td>\n",
       "      <td>168.0</td>\n",
       "      <td>104.9</td>\n",
       "      <td>69.3</td>\n",
       "      <td>186.2</td>\n",
       "      <td>3.259</td>\n",
       "      <td>17.9</td>\n",
       "      <td>25.0</td>\n",
       "      <td>6/25/2011</td>\n",
       "      <td>71.155978</td>\n",
       "    </tr>\n",
       "    <tr>\n",
       "      <th>155</th>\n",
       "      <td>Volvo</td>\n",
       "      <td>C70</td>\n",
       "      <td>3.493</td>\n",
       "      <td>NaN</td>\n",
       "      <td>Passenger</td>\n",
       "      <td>45.50</td>\n",
       "      <td>2.3</td>\n",
       "      <td>236.0</td>\n",
       "      <td>104.9</td>\n",
       "      <td>71.5</td>\n",
       "      <td>185.7</td>\n",
       "      <td>3.601</td>\n",
       "      <td>18.5</td>\n",
       "      <td>23.0</td>\n",
       "      <td>4/26/2011</td>\n",
       "      <td>101.623357</td>\n",
       "    </tr>\n",
       "    <tr>\n",
       "      <th>156</th>\n",
       "      <td>Volvo</td>\n",
       "      <td>S80</td>\n",
       "      <td>18.969</td>\n",
       "      <td>NaN</td>\n",
       "      <td>Passenger</td>\n",
       "      <td>36.00</td>\n",
       "      <td>2.9</td>\n",
       "      <td>201.0</td>\n",
       "      <td>109.9</td>\n",
       "      <td>72.1</td>\n",
       "      <td>189.8</td>\n",
       "      <td>3.600</td>\n",
       "      <td>21.1</td>\n",
       "      <td>24.0</td>\n",
       "      <td>11/14/2011</td>\n",
       "      <td>85.735655</td>\n",
       "    </tr>\n",
       "  </tbody>\n",
       "</table>\n",
       "<p>157 rows × 16 columns</p>\n",
       "</div>"
      ],
      "text/plain": [
       "    Manufacturer    Model  Sales_in_thousands  __year_resale_value  \\\n",
       "0          Acura  Integra              16.919               16.360   \n",
       "1          Acura       TL              39.384               19.875   \n",
       "2          Acura       CL              14.114               18.225   \n",
       "3          Acura       RL               8.588               29.725   \n",
       "4           Audi       A4              20.397               22.255   \n",
       "..           ...      ...                 ...                  ...   \n",
       "152        Volvo      V40               3.545                  NaN   \n",
       "153        Volvo      S70              15.245                  NaN   \n",
       "154        Volvo      V70              17.531                  NaN   \n",
       "155        Volvo      C70               3.493                  NaN   \n",
       "156        Volvo      S80              18.969                  NaN   \n",
       "\n",
       "    Vehicle_type  Price_in_thousands  Engine_size  Horsepower  Wheelbase  \\\n",
       "0      Passenger               21.50          1.8       140.0      101.2   \n",
       "1      Passenger               28.40          3.2       225.0      108.1   \n",
       "2      Passenger                 NaN          3.2       225.0      106.9   \n",
       "3      Passenger               42.00          3.5       210.0      114.6   \n",
       "4      Passenger               23.99          1.8       150.0      102.6   \n",
       "..           ...                 ...          ...         ...        ...   \n",
       "152    Passenger               24.40          1.9       160.0      100.5   \n",
       "153    Passenger               27.50          2.4       168.0      104.9   \n",
       "154    Passenger               28.80          2.4       168.0      104.9   \n",
       "155    Passenger               45.50          2.3       236.0      104.9   \n",
       "156    Passenger               36.00          2.9       201.0      109.9   \n",
       "\n",
       "     Width  Length  Curb_weight  Fuel_capacity  Fuel_efficiency Latest_Launch  \\\n",
       "0     67.3   172.4        2.639           13.2             28.0      2/2/2012   \n",
       "1     70.3   192.9        3.517           17.2             25.0      6/3/2011   \n",
       "2     70.6   192.0        3.470           17.2             26.0      1/4/2012   \n",
       "3     71.4   196.6        3.850           18.0             22.0     3/10/2011   \n",
       "4     68.2   178.0        2.998           16.4             27.0     10/8/2011   \n",
       "..     ...     ...          ...            ...              ...           ...   \n",
       "152   67.6   176.6        3.042           15.8             25.0     9/21/2011   \n",
       "153   69.3   185.9        3.208           17.9             25.0    11/24/2012   \n",
       "154   69.3   186.2        3.259           17.9             25.0     6/25/2011   \n",
       "155   71.5   185.7        3.601           18.5             23.0     4/26/2011   \n",
       "156   72.1   189.8        3.600           21.1             24.0    11/14/2011   \n",
       "\n",
       "     Power_perf_factor  \n",
       "0            58.280150  \n",
       "1            91.370778  \n",
       "2                  NaN  \n",
       "3            91.389779  \n",
       "4            62.777639  \n",
       "..                 ...  \n",
       "152          66.498812  \n",
       "153          70.654495  \n",
       "154          71.155978  \n",
       "155         101.623357  \n",
       "156          85.735655  \n",
       "\n",
       "[157 rows x 16 columns]"
      ]
     },
     "execution_count": 426,
     "metadata": {},
     "output_type": "execute_result"
    }
   ],
   "source": [
    "'''This data set is collected from car sales which includes data such as The Make, Model, \n",
    "how many sales in thousands that car has made throughout the year, Engine size, and other factors \n",
    "relating to the car. From this data set, I wanted to see how these factors relate to how many sales the car \n",
    "has made throughout the year. The benefit of looking for this is to understand the reasoning \n",
    "behind why customers buy these cars.'''\n",
    "\n",
    "from plotly.offline import init_notebook_mode, iplot, plot\n",
    "import plotly as py\n",
    "import plotly.graph_objs as go\n",
    "import seaborn as sns\n",
    "import matplotlib.pyplot as plt\n",
    "import plotly.express as px\n",
    "import pandas as pd \n",
    "import numpy as np\n",
    "import sklearn\n",
    "from sklearn.tree import DecisionTreeRegressor\n",
    "from sklearn.metrics import mean_squared_error\n",
    "from sklearn.model_selection import train_test_split\n",
    "import statsmodels.api as sm\n",
    "\n",
    "\n",
    "df = pd.read_csv(\"Car_sales.csv\")\n",
    "data = df.copy()\n",
    "df"
   ]
  },
  {
   "cell_type": "code",
   "execution_count": 427,
   "id": "7b35f773",
   "metadata": {},
   "outputs": [],
   "source": [
    "#Create a dataframe for all of the informaiton regarding money allong with vehicle type\n",
    "df1 = pd.DataFrame(data, columns = ['Manufacturer','Vehicle_type', 'Sales_in_thousands', 'Price_in_thousands'])\n"
   ]
  },
  {
   "cell_type": "code",
   "execution_count": 428,
   "id": "dd834b94",
   "metadata": {},
   "outputs": [],
   "source": [
    "#Create a dataframe for all of the informaiton regarding money\n",
    "df2 = pd.DataFrame(data, columns = ['Model', 'Sales_in_thousands', 'Price_in_thousands'])\n"
   ]
  },
  {
   "cell_type": "code",
   "execution_count": 429,
   "id": "d6109f7a",
   "metadata": {},
   "outputs": [],
   "source": [
    "#Create a dataframe for all of the informaiton regarding performance\n",
    "df3 = pd.DataFrame(data, columns = ['Manufacturer', 'Model', 'Horsepower', 'Fuel_efficiency', 'Power_perf_factor'])\n",
    " "
   ]
  },
  {
   "cell_type": "code",
   "execution_count": 430,
   "id": "ce867e52",
   "metadata": {},
   "outputs": [],
   "source": [
    "#Outer Merge dataframes 2 and 3 in order to merge with the manufacturer later \n",
    "df4 = pd.merge(df2,df3, on = 'Model', how = \"outer\")\n"
   ]
  },
  {
   "cell_type": "code",
   "execution_count": 431,
   "id": "7e4e6d84",
   "metadata": {},
   "outputs": [],
   "source": [
    "#Outer Merge dataframes 1 and 4 in order to merge with manufacturer\n",
    "df5 = pd.merge(df1,df4, on = 'Manufacturer', how = \"outer\")\n"
   ]
  },
  {
   "cell_type": "code",
   "execution_count": 432,
   "id": "008f6b58",
   "metadata": {},
   "outputs": [],
   "source": [
    "# Here we are grouping the mean price of each manufacturer by getting the mean of each model \n",
    "# It takes the price_in_thousands for each model of car under that manufacturer and gets the mean, \n",
    "# grouping it by manufacturer\n",
    "mpm = df1[['Manufacturer', 'Price_in_thousands']].groupby('Manufacturer',\n",
    "as_index = False).mean()\n"
   ]
  },
  {
   "cell_type": "code",
   "execution_count": 433,
   "id": "ba994976",
   "metadata": {
    "scrolled": false
   },
   "outputs": [
    {
     "data": {
      "image/png": "[encoded data removed]",
      "text/plain": [
       "<Figure size 1440x432 with 1 Axes>"
      ]
     },
     "metadata": {
      "needs_background": "light"
     },
     "output_type": "display_data"
    }
   ],
   "source": [
    "#Mean Price per each Manufacturer\n",
    "plt.figure(figsize = (20, 6)) #make the bar plot a decent size\n",
    "sns.barplot(x = mpm['Manufacturer'], y = mpm['Price_in_thousands']) #set the x and y variables \n",
    "plt.title('Mean Sales Price for each Manufacturer') #create a title\n",
    "plt.ylabel('Mean Price', fontsize = 12) # set the x lable\n",
    "plt.xlabel('Manufacturer', fontsize = 12) #set the y leble\n",
    "plt.show()"
   ]
  },
  {
   "cell_type": "code",
   "execution_count": 434,
   "id": "8088d303",
   "metadata": {
    "scrolled": true
   },
   "outputs": [
    {
     "data": {
      "application/vnd.plotly.v1+json": {
       "config": {
        "plotlyServerURL": "https://plot.ly"
       },
       "data": [
        {
         "domain": {
          "x": [
           0,
           1
          ],
          "y": [
           0,
           1
          ]
         },
         "hovertemplate": "Manufacturer=%{label}<br>Sales_in_thousands=%{value}<extra></extra>",
         "labels": [
          "Acura",
          "Acura",
          "Acura",
          "Acura",
          "Audi",
          "Audi",
          "Audi",
          "BMW",
          "BMW",
          "BMW",
          "Buick",
          "Buick",
          "Buick",
          "Buick",
          "Cadillac",
          "Cadillac",
          "Cadillac",
          "Cadillac",
          "Cadillac",
          "Chevrolet",
          "Chevrolet",
          "Chevrolet",
          "Chevrolet",
          "Chevrolet",
          "Chevrolet",
          "Chevrolet",
          "Chevrolet",
          "Chevrolet",
          "Chrysler",
          "Chrysler",
          "Chrysler",
          "Chrysler",
          "Chrysler",
          "Chrysler",
          "Chrysler",
          "Dodge",
          "Plymouth",
          "Dodge",
          "Plymouth",
          "Dodge",
          "Dodge",
          "Dodge",
          "Dodge",
          "Dodge",
          "Dodge",
          "Dodge",
          "Dodge",
          "Dodge",
          "Dodge",
          "Ford",
          "Ford",
          "Ford",
          "Ford",
          "Ford",
          "Ford",
          "Ford",
          "Ford",
          "Ford",
          "Ford",
          "Ford",
          "Honda",
          "Honda",
          "Honda",
          "Honda",
          "Honda",
          "Hyundai",
          "Hyundai",
          "Hyundai",
          "Infiniti",
          "Jaguar",
          "Jeep",
          "Jeep",
          "Jeep",
          "Lexus",
          "Lexus",
          "Lexus",
          "Lexus",
          "Lexus",
          "Lexus",
          "Lincoln",
          "Lincoln",
          "Lincoln",
          "Mitsubishi",
          "Mitsubishi",
          "Mitsubishi",
          "Mitsubishi",
          "Mitsubishi",
          "Mitsubishi",
          "Mitsubishi",
          "Mercury",
          "Mercury",
          "Mercury",
          "Mercury",
          "Mercury",
          "Mercury",
          "Mercedes-B",
          "Mercedes-B",
          "Mercedes-B",
          "Mercedes-B",
          "Mercedes-B",
          "Mercedes-B",
          "Mercedes-B",
          "Mercedes-B",
          "Mercedes-B",
          "Nissan",
          "Nissan",
          "Nissan",
          "Nissan",
          "Nissan",
          "Nissan",
          "Nissan",
          "Oldsmobile",
          "Oldsmobile",
          "Oldsmobile",
          "Oldsmobile",
          "Oldsmobile",
          "Oldsmobile",
          "Plymouth",
          "Plymouth",
          "Plymouth",
          "Pontiac",
          "Pontiac",
          "Pontiac",
          "Pontiac",
          "Pontiac",
          "Pontiac",
          "Porsche",
          "Porsche",
          "Porsche",
          "Saab",
          "Saab",
          "Saturn",
          "Saturn",
          "Saturn",
          "Saturn",
          "Saturn",
          "Subaru",
          "Subaru",
          "Toyota",
          "Toyota",
          "Toyota",
          "Toyota",
          "Toyota",
          "Toyota",
          "Toyota",
          "Toyota",
          "Toyota",
          "Volkswagen",
          "Volkswagen",
          "Volkswagen",
          "Volkswagen",
          "Volkswagen",
          "Volkswagen",
          "Volvo",
          "Volvo",
          "Volvo",
          "Volvo",
          "Volvo",
          "Volvo"
         ],
         "legendgroup": "",
         "name": "",
         "showlegend": true,
         "textinfo": "percent+label",
         "textposition": "inside",
         "type": "pie",
         "values": [
          16.919,
          39.384,
          14.114,
          8.588,
          20.397,
          18.78,
          1.38,
          19.747,
          9.231,
          17.527,
          91.561,
          39.35,
          27.851,
          83.257,
          63.729,
          15.943,
          6.536,
          11.185,
          14.785,
          145.519,
          135.126,
          24.629,
          42.593,
          26.402,
          17.947,
          32.299,
          21.855,
          107.995,
          7.854,
          32.775,
          31.148,
          32.306,
          13.462,
          53.48,
          30.696,
          76.034,
          76.034,
          32.734,
          32.734,
          4.734,
          71.186,
          88.028,
          0.916,
          227.061,
          16.767,
          31.038,
          111.313,
          101.323,
          181.749,
          70.227,
          113.369,
          35.068,
          245.815,
          175.67,
          63.403,
          276.747,
          155.787,
          125.338,
          220.65,
          540.561,
          199.685,
          230.902,
          73.203,
          12.855,
          76.029,
          41.184,
          66.692,
          29.45,
          23.713,
          15.467,
          55.557,
          80.556,
          157.04,
          24.072,
          12.698,
          3.334,
          6.375,
          9.126,
          51.238,
          13.798,
          48.911,
          22.925,
          26.232,
          42.541,
          55.616,
          5.711,
          0.11,
          11.337,
          39.348,
          14.351,
          26.529,
          67.956,
          81.174,
          27.609,
          20.38,
          18.392,
          27.602,
          16.774,
          3.311,
          7.998,
          1.526,
          11.592,
          0.954,
          28.976,
          42.643,
          88.094,
          79.853,
          27.308,
          42.574,
          54.158,
          65.005,
          1.112,
          38.554,
          80.255,
          14.69,
          20.017,
          24.361,
          5.24,
          24.155,
          1.872,
          51.645,
          131.097,
          19.911,
          92.364,
          35.945,
          39.572,
          8.982,
          1.28,
          1.866,
          9.191,
          12.115,
          80.62,
          24.546,
          5.223,
          8.472,
          49.989,
          47.107,
          33.028,
          142.535,
          247.994,
          63.849,
          33.269,
          84.087,
          65.119,
          25.106,
          68.411,
          9.835,
          9.761,
          83.721,
          51.102,
          9.569,
          5.596,
          49.463,
          16.957,
          3.545,
          15.245,
          17.531,
          3.493,
          18.969
         ]
        }
       ],
       "layout": {
        "legend": {
         "tracegroupgap": 0
        },
        "template": {
         "data": {
          "bar": [
           {
            "error_x": {
             "color": "#2a3f5f"
            },
            "error_y": {
             "color": "#2a3f5f"
            },
            "marker": {
             "line": {
              "color": "#E5ECF6",
              "width": 0.5
             },
             "pattern": {
              "fillmode": "overlay",
              "size": 10,
              "solidity": 0.2
             }
            },
            "type": "bar"
           }
          ],
          "barpolar": [
           {
            "marker": {
             "line": {
              "color": "#E5ECF6",
              "width": 0.5
             },
             "pattern": {
              "fillmode": "overlay",
              "size": 10,
              "solidity": 0.2
             }
            },
            "type": "barpolar"
           }
          ],
          "carpet": [
           {
            "aaxis": {
             "endlinecolor": "#2a3f5f",
             "gridcolor": "white",
             "linecolor": "white",
             "minorgridcolor": "white",
             "startlinecolor": "#2a3f5f"
            },
            "baxis": {
             "endlinecolor": "#2a3f5f",
             "gridcolor": "white",
             "linecolor": "white",
             "minorgridcolor": "white",
             "startlinecolor": "#2a3f5f"
            },
            "type": "carpet"
           }
          ],
          "choropleth": [
           {
            "colorbar": {
             "outlinewidth": 0,
             "ticks": ""
            },
            "type": "choropleth"
           }
          ],
          "contour": [
           {
            "colorbar": {
             "outlinewidth": 0,
             "ticks": ""
            },
            "colorscale": [
             [
              0,
              "#0d0887"
             ],
             [
              0.1111111111111111,
              "#46039f"
             ],
             [
              0.2222222222222222,
              "#7201a8"
             ],
             [
              0.3333333333333333,
              "#9c179e"
             ],
             [
              0.4444444444444444,
              "#bd3786"
             ],
             [
              0.5555555555555556,
              "#d8576b"
             ],
             [
              0.6666666666666666,
              "#ed7953"
             ],
             [
              0.7777777777777778,
              "#fb9f3a"
             ],
             [
              0.8888888888888888,
              "#fdca26"
             ],
             [
              1,
              "#f0f921"
             ]
            ],
            "type": "contour"
           }
          ],
          "contourcarpet": [
           {
            "colorbar": {
             "outlinewidth": 0,
             "ticks": ""
            },
            "type": "contourcarpet"
           }
          ],
          "heatmap": [
           {
            "colorbar": {
             "outlinewidth": 0,
             "ticks": ""
            },
            "colorscale": [
             [
              0,
              "#0d0887"
             ],
             [
              0.1111111111111111,
              "#46039f"
             ],
             [
              0.2222222222222222,
              "#7201a8"
             ],
             [
              0.3333333333333333,
              "#9c179e"
             ],
             [
              0.4444444444444444,
              "#bd3786"
             ],
             [
              0.5555555555555556,
              "#d8576b"
             ],
             [
              0.6666666666666666,
              "#ed7953"
             ],
             [
              0.7777777777777778,
              "#fb9f3a"
             ],
             [
              0.8888888888888888,
              "#fdca26"
             ],
             [
              1,
              "#f0f921"
             ]
            ],
            "type": "heatmap"
           }
          ],
          "heatmapgl": [
           {
            "colorbar": {
             "outlinewidth": 0,
             "ticks": ""
            },
            "colorscale": [
             [
              0,
              "#0d0887"
             ],
             [
              0.1111111111111111,
              "#46039f"
             ],
             [
              0.2222222222222222,
              "#7201a8"
             ],
             [
              0.3333333333333333,
              "#9c179e"
             ],
             [
              0.4444444444444444,
              "#bd3786"
             ],
             [
              0.5555555555555556,
              "#d8576b"
             ],
             [
              0.6666666666666666,
              "#ed7953"
             ],
             [
              0.7777777777777778,
              "#fb9f3a"
             ],
             [
              0.8888888888888888,
              "#fdca26"
             ],
             [
              1,
              "#f0f921"
             ]
            ],
            "type": "heatmapgl"
           }
          ],
          "histogram": [
           {
            "marker": {
             "pattern": {
              "fillmode": "overlay",
              "size": 10,
              "solidity": 0.2
             }
            },
            "type": "histogram"
           }
          ],
          "histogram2d": [
           {
            "colorbar": {
             "outlinewidth": 0,
             "ticks": ""
            },
            "colorscale": [
             [
              0,
              "#0d0887"
             ],
             [
              0.1111111111111111,
              "#46039f"
             ],
             [
              0.2222222222222222,
              "#7201a8"
             ],
             [
              0.3333333333333333,
              "#9c179e"
             ],
             [
              0.4444444444444444,
              "#bd3786"
             ],
             [
              0.5555555555555556,
              "#d8576b"
             ],
             [
              0.6666666666666666,
              "#ed7953"
             ],
             [
              0.7777777777777778,
              "#fb9f3a"
             ],
             [
              0.8888888888888888,
              "#fdca26"
             ],
             [
              1,
              "#f0f921"
             ]
            ],
            "type": "histogram2d"
           }
          ],
          "histogram2dcontour": [
           {
            "colorbar": {
             "outlinewidth": 0,
             "ticks": ""
            },
            "colorscale": [
             [
              0,
              "#0d0887"
             ],
             [
              0.1111111111111111,
              "#46039f"
             ],
             [
              0.2222222222222222,
              "#7201a8"
             ],
             [
              0.3333333333333333,
              "#9c179e"
             ],
             [
              0.4444444444444444,
              "#bd3786"
             ],
             [
              0.5555555555555556,
              "#d8576b"
             ],
             [
              0.6666666666666666,
              "#ed7953"
             ],
             [
              0.7777777777777778,
              "#fb9f3a"
             ],
             [
              0.8888888888888888,
              "#fdca26"
             ],
             [
              1,
              "#f0f921"
             ]
            ],
            "type": "histogram2dcontour"
           }
          ],
          "mesh3d": [
           {
            "colorbar": {
             "outlinewidth": 0,
             "ticks": ""
            },
            "type": "mesh3d"
           }
          ],
          "parcoords": [
           {
            "line": {
             "colorbar": {
              "outlinewidth": 0,
              "ticks": ""
             }
            },
            "type": "parcoords"
           }
          ],
          "pie": [
           {
            "automargin": true,
            "type": "pie"
           }
          ],
          "scatter": [
           {
            "marker": {
             "colorbar": {
              "outlinewidth": 0,
              "ticks": ""
             }
            },
            "type": "scatter"
           }
          ],
          "scatter3d": [
           {
            "line": {
             "colorbar": {
              "outlinewidth": 0,
              "ticks": ""
             }
            },
            "marker": {
             "colorbar": {
              "outlinewidth": 0,
              "ticks": ""
             }
            },
            "type": "scatter3d"
           }
          ],
          "scattercarpet": [
           {
            "marker": {
             "colorbar": {
              "outlinewidth": 0,
              "ticks": ""
             }
            },
            "type": "scattercarpet"
           }
          ],
          "scattergeo": [
           {
            "marker": {
             "colorbar": {
              "outlinewidth": 0,
              "ticks": ""
             }
            },
            "type": "scattergeo"
           }
          ],
          "scattergl": [
           {
            "marker": {
             "colorbar": {
              "outlinewidth": 0,
              "ticks": ""
             }
            },
            "type": "scattergl"
           }
          ],
          "scattermapbox": [
           {
            "marker": {
             "colorbar": {
              "outlinewidth": 0,
              "ticks": ""
             }
            },
            "type": "scattermapbox"
           }
          ],
          "scatterpolar": [
           {
            "marker": {
             "colorbar": {
              "outlinewidth": 0,
              "ticks": ""
             }
            },
            "type": "scatterpolar"
           }
          ],
          "scatterpolargl": [
           {
            "marker": {
             "colorbar": {
              "outlinewidth": 0,
              "ticks": ""
             }
            },
            "type": "scatterpolargl"
           }
          ],
          "scatterternary": [
           {
            "marker": {
             "colorbar": {
              "outlinewidth": 0,
              "ticks": ""
             }
            },
            "type": "scatterternary"
           }
          ],
          "surface": [
           {
            "colorbar": {
             "outlinewidth": 0,
             "ticks": ""
            },
            "colorscale": [
             [
              0,
              "#0d0887"
             ],
             [
              0.1111111111111111,
              "#46039f"
             ],
             [
              0.2222222222222222,
              "#7201a8"
             ],
             [
              0.3333333333333333,
              "#9c179e"
             ],
             [
              0.4444444444444444,
              "#bd3786"
             ],
             [
              0.5555555555555556,
              "#d8576b"
             ],
             [
              0.6666666666666666,
              "#ed7953"
             ],
             [
              0.7777777777777778,
              "#fb9f3a"
             ],
             [
              0.8888888888888888,
              "#fdca26"
             ],
             [
              1,
              "#f0f921"
             ]
            ],
            "type": "surface"
           }
          ],
          "table": [
           {
            "cells": {
             "fill": {
              "color": "#EBF0F8"
             },
             "line": {
              "color": "white"
             }
            },
            "header": {
             "fill": {
              "color": "#C8D4E3"
             },
             "line": {
              "color": "white"
             }
            },
            "type": "table"
           }
          ]
         },
         "layout": {
          "annotationdefaults": {
           "arrowcolor": "#2a3f5f",
           "arrowhead": 0,
           "arrowwidth": 1
          },
          "autotypenumbers": "strict",
          "coloraxis": {
           "colorbar": {
            "outlinewidth": 0,
            "ticks": ""
           }
          },
          "colorscale": {
           "diverging": [
            [
             0,
             "#8e0152"
            ],
            [
             0.1,
             "#c51b7d"
            ],
            [
             0.2,
             "#de77ae"
            ],
            [
             0.3,
             "#f1b6da"
            ],
            [
             0.4,
             "#fde0ef"
            ],
            [
             0.5,
             "#f7f7f7"
            ],
            [
             0.6,
             "#e6f5d0"
            ],
            [
             0.7,
             "#b8e186"
            ],
            [
             0.8,
             "#7fbc41"
            ],
            [
             0.9,
             "#4d9221"
            ],
            [
             1,
             "#276419"
            ]
           ],
           "sequential": [
            [
             0,
             "#0d0887"
            ],
            [
             0.1111111111111111,
             "#46039f"
            ],
            [
             0.2222222222222222,
             "#7201a8"
            ],
            [
             0.3333333333333333,
             "#9c179e"
            ],
            [
             0.4444444444444444,
             "#bd3786"
            ],
            [
             0.5555555555555556,
             "#d8576b"
            ],
            [
             0.6666666666666666,
             "#ed7953"
            ],
            [
             0.7777777777777778,
             "#fb9f3a"
            ],
            [
             0.8888888888888888,
             "#fdca26"
            ],
            [
             1,
             "#f0f921"
            ]
           ],
           "sequentialminus": [
            [
             0,
             "#0d0887"
            ],
            [
             0.1111111111111111,
             "#46039f"
            ],
            [
             0.2222222222222222,
             "#7201a8"
            ],
            [
             0.3333333333333333,
             "#9c179e"
            ],
            [
             0.4444444444444444,
             "#bd3786"
            ],
            [
             0.5555555555555556,
             "#d8576b"
            ],
            [
             0.6666666666666666,
             "#ed7953"
            ],
            [
             0.7777777777777778,
             "#fb9f3a"
            ],
            [
             0.8888888888888888,
             "#fdca26"
            ],
            [
             1,
             "#f0f921"
            ]
           ]
          },
          "colorway": [
           "#636efa",
           "#EF553B",
           "#00cc96",
           "#ab63fa",
           "#FFA15A",
           "#19d3f3",
           "#FF6692",
           "#B6E880",
           "#FF97FF",
           "#FECB52"
          ],
          "font": {
           "color": "#2a3f5f"
          },
          "geo": {
           "bgcolor": "white",
           "lakecolor": "white",
           "landcolor": "#E5ECF6",
           "showlakes": true,
           "showland": true,
           "subunitcolor": "white"
          },
          "hoverlabel": {
           "align": "left"
          },
          "hovermode": "closest",
          "mapbox": {
           "style": "light"
          },
          "paper_bgcolor": "white",
          "plot_bgcolor": "#E5ECF6",
          "polar": {
           "angularaxis": {
            "gridcolor": "white",
            "linecolor": "white",
            "ticks": ""
           },
           "bgcolor": "#E5ECF6",
           "radialaxis": {
            "gridcolor": "white",
            "linecolor": "white",
            "ticks": ""
           }
          },
          "scene": {
           "xaxis": {
            "backgroundcolor": "#E5ECF6",
            "gridcolor": "white",
            "gridwidth": 2,
            "linecolor": "white",
            "showbackground": true,
            "ticks": "",
            "zerolinecolor": "white"
           },
           "yaxis": {
            "backgroundcolor": "#E5ECF6",
            "gridcolor": "white",
            "gridwidth": 2,
            "linecolor": "white",
            "showbackground": true,
            "ticks": "",
            "zerolinecolor": "white"
           },
           "zaxis": {
            "backgroundcolor": "#E5ECF6",
            "gridcolor": "white",
            "gridwidth": 2,
            "linecolor": "white",
            "showbackground": true,
            "ticks": "",
            "zerolinecolor": "white"
           }
          },
          "shapedefaults": {
           "line": {
            "color": "#2a3f5f"
           }
          },
          "ternary": {
           "aaxis": {
            "gridcolor": "white",
            "linecolor": "white",
            "ticks": ""
           },
           "baxis": {
            "gridcolor": "white",
            "linecolor": "white",
            "ticks": ""
           },
           "bgcolor": "#E5ECF6",
           "caxis": {
            "gridcolor": "white",
            "linecolor": "white",
            "ticks": ""
           }
          },
          "title": {
           "x": 0.05
          },
          "xaxis": {
           "automargin": true,
           "gridcolor": "white",
           "linecolor": "white",
           "ticks": "",
           "title": {
            "standoff": 15
           },
           "zerolinecolor": "white",
           "zerolinewidth": 2
          },
          "yaxis": {
           "automargin": true,
           "gridcolor": "white",
           "linecolor": "white",
           "ticks": "",
           "title": {
            "standoff": 15
           },
           "zerolinecolor": "white",
           "zerolinewidth": 2
          }
         }
        },
        "title": {
         "text": "Sales Percentage by Manufacturer",
         "x": 0.5,
         "xanchor": "center",
         "y": 0.9,
         "yanchor": "top"
        }
       }
      },
      "text/html": [
       "<div>                            <div id=\"a33b2019-fa15-4029-86c4-d112e44d5ad8\" class=\"plotly-graph-div\" style=\"height:525px; width:100%;\"></div>            <script type=\"text/javascript\">                require([\"plotly\"], function(Plotly) {                    window.PLOTLYENV=window.PLOTLYENV || {};                                    if (document.getElementById(\"a33b2019-fa15-4029-86c4-d112e44d5ad8\")) {                    Plotly.newPlot(                        \"a33b2019-fa15-4029-86c4-d112e44d5ad8\",                        [{\"domain\":{\"x\":[0.0,1.0],\"y\":[0.0,1.0]},\"hovertemplate\":\"Manufacturer=%{label}<br>Sales_in_thousands=%{value}<extra></extra>\",\"labels\":[\"Acura\",\"Acura\",\"Acura\",\"Acura\",\"Audi\",\"Audi\",\"Audi\",\"BMW\",\"BMW\",\"BMW\",\"Buick\",\"Buick\",\"Buick\",\"Buick\",\"Cadillac\",\"Cadillac\",\"Cadillac\",\"Cadillac\",\"Cadillac\",\"Chevrolet\",\"Chevrolet\",\"Chevrolet\",\"Chevrolet\",\"Chevrolet\",\"Chevrolet\",\"Chevrolet\",\"Chevrolet\",\"Chevrolet\",\"Chrysler\",\"Chrysler\",\"Chrysler\",\"Chrysler\",\"Chrysler\",\"Chrysler\",\"Chrysler\",\"Dodge\",\"Plymouth\",\"Dodge\",\"Plymouth\",\"Dodge\",\"Dodge\",\"Dodge\",\"Dodge\",\"Dodge\",\"Dodge\",\"Dodge\",\"Dodge\",\"Dodge\",\"Dodge\",\"Ford\",\"Ford\",\"Ford\",\"Ford\",\"Ford\",\"Ford\",\"Ford\",\"Ford\",\"Ford\",\"Ford\",\"Ford\",\"Honda\",\"Honda\",\"Honda\",\"Honda\",\"Honda\",\"Hyundai\",\"Hyundai\",\"Hyundai\",\"Infiniti\",\"Jaguar\",\"Jeep\",\"Jeep\",\"Jeep\",\"Lexus\",\"Lexus\",\"Lexus\",\"Lexus\",\"Lexus\",\"Lexus\",\"Lincoln\",\"Lincoln\",\"Lincoln\",\"Mitsubishi\",\"Mitsubishi\",\"Mitsubishi\",\"Mitsubishi\",\"Mitsubishi\",\"Mitsubishi\",\"Mitsubishi\",\"Mercury\",\"Mercury\",\"Mercury\",\"Mercury\",\"Mercury\",\"Mercury\",\"Mercedes-B\",\"Mercedes-B\",\"Mercedes-B\",\"Mercedes-B\",\"Mercedes-B\",\"Mercedes-B\",\"Mercedes-B\",\"Mercedes-B\",\"Mercedes-B\",\"Nissan\",\"Nissan\",\"Nissan\",\"Nissan\",\"Nissan\",\"Nissan\",\"Nissan\",\"Oldsmobile\",\"Oldsmobile\",\"Oldsmobile\",\"Oldsmobile\",\"Oldsmobile\",\"Oldsmobile\",\"Plymouth\",\"Plymouth\",\"Plymouth\",\"Pontiac\",\"Pontiac\",\"Pontiac\",\"Pontiac\",\"Pontiac\",\"Pontiac\",\"Porsche\",\"Porsche\",\"Porsche\",\"Saab\",\"Saab\",\"Saturn\",\"Saturn\",\"Saturn\",\"Saturn\",\"Saturn\",\"Subaru\",\"Subaru\",\"Toyota\",\"Toyota\",\"Toyota\",\"Toyota\",\"Toyota\",\"Toyota\",\"Toyota\",\"Toyota\",\"Toyota\",\"Volkswagen\",\"Volkswagen\",\"Volkswagen\",\"Volkswagen\",\"Volkswagen\",\"Volkswagen\",\"Volvo\",\"Volvo\",\"Volvo\",\"Volvo\",\"Volvo\",\"Volvo\"],\"legendgroup\":\"\",\"name\":\"\",\"showlegend\":true,\"values\":[16.919,39.384,14.114,8.588,20.397,18.78,1.38,19.747,9.231,17.527,91.561,39.35,27.851,83.257,63.729,15.943,6.536,11.185,14.785,145.519,135.126,24.629,42.593,26.402,17.947,32.299,21.855,107.995,7.854,32.775,31.148,32.306,13.462,53.48,30.696,76.034,76.034,32.734,32.734,4.734,71.186,88.028,0.916,227.061,16.767,31.038,111.313,101.323,181.749,70.227,113.369,35.068,245.815,175.67,63.403,276.747,155.787,125.338,220.65,540.561,199.685,230.902,73.203,12.855,76.029,41.184,66.692,29.45,23.713,15.467,55.557,80.556,157.04,24.072,12.698,3.334,6.375,9.126,51.238,13.798,48.911,22.925,26.232,42.541,55.616,5.711,0.11,11.337,39.348,14.351,26.529,67.956,81.174,27.609,20.38,18.392,27.602,16.774,3.311,7.998,1.526,11.592,0.954,28.976,42.643,88.094,79.853,27.308,42.574,54.158,65.005,1.112,38.554,80.255,14.69,20.017,24.361,5.24,24.155,1.872,51.645,131.097,19.911,92.364,35.945,39.572,8.982,1.28,1.866,9.191,12.115,80.62,24.546,5.223,8.472,49.989,47.107,33.028,142.535,247.994,63.849,33.269,84.087,65.119,25.106,68.411,9.835,9.761,83.721,51.102,9.569,5.596,49.463,16.957,3.545,15.245,17.531,3.493,18.969],\"type\":\"pie\",\"textinfo\":\"percent+label\",\"textposition\":\"inside\"}],                        {\"template\":{\"data\":{\"bar\":[{\"error_x\":{\"color\":\"#2a3f5f\"},\"error_y\":{\"color\":\"#2a3f5f\"},\"marker\":{\"line\":{\"color\":\"#E5ECF6\",\"width\":0.5},\"pattern\":{\"fillmode\":\"overlay\",\"size\":10,\"solidity\":0.2}},\"type\":\"bar\"}],\"barpolar\":[{\"marker\":{\"line\":{\"color\":\"#E5ECF6\",\"width\":0.5},\"pattern\":{\"fillmode\":\"overlay\",\"size\":10,\"solidity\":0.2}},\"type\":\"barpolar\"}],\"carpet\":[{\"aaxis\":{\"endlinecolor\":\"#2a3f5f\",\"gridcolor\":\"white\",\"linecolor\":\"white\",\"minorgridcolor\":\"white\",\"startlinecolor\":\"#2a3f5f\"},\"baxis\":{\"endlinecolor\":\"#2a3f5f\",\"gridcolor\":\"white\",\"linecolor\":\"white\",\"minorgridcolor\":\"white\",\"startlinecolor\":\"#2a3f5f\"},\"type\":\"carpet\"}],\"choropleth\":[{\"colorbar\":{\"outlinewidth\":0,\"ticks\":\"\"},\"type\":\"choropleth\"}],\"contour\":[{\"colorbar\":{\"outlinewidth\":0,\"ticks\":\"\"},\"colorscale\":[[0.0,\"#0d0887\"],[0.1111111111111111,\"#46039f\"],[0.2222222222222222,\"#7201a8\"],[0.3333333333333333,\"#9c179e\"],[0.4444444444444444,\"#bd3786\"],[0.5555555555555556,\"#d8576b\"],[0.6666666666666666,\"#ed7953\"],[0.7777777777777778,\"#fb9f3a\"],[0.8888888888888888,\"#fdca26\"],[1.0,\"#f0f921\"]],\"type\":\"contour\"}],\"contourcarpet\":[{\"colorbar\":{\"outlinewidth\":0,\"ticks\":\"\"},\"type\":\"contourcarpet\"}],\"heatmap\":[{\"colorbar\":{\"outlinewidth\":0,\"ticks\":\"\"},\"colorscale\":[[0.0,\"#0d0887\"],[0.1111111111111111,\"#46039f\"],[0.2222222222222222,\"#7201a8\"],[0.3333333333333333,\"#9c179e\"],[0.4444444444444444,\"#bd3786\"],[0.5555555555555556,\"#d8576b\"],[0.6666666666666666,\"#ed7953\"],[0.7777777777777778,\"#fb9f3a\"],[0.8888888888888888,\"#fdca26\"],[1.0,\"#f0f921\"]],\"type\":\"heatmap\"}],\"heatmapgl\":[{\"colorbar\":{\"outlinewidth\":0,\"ticks\":\"\"},\"colorscale\":[[0.0,\"#0d0887\"],[0.1111111111111111,\"#46039f\"],[0.2222222222222222,\"#7201a8\"],[0.3333333333333333,\"#9c179e\"],[0.4444444444444444,\"#bd3786\"],[0.5555555555555556,\"#d8576b\"],[0.6666666666666666,\"#ed7953\"],[0.7777777777777778,\"#fb9f3a\"],[0.8888888888888888,\"#fdca26\"],[1.0,\"#f0f921\"]],\"type\":\"heatmapgl\"}],\"histogram\":[{\"marker\":{\"pattern\":{\"fillmode\":\"overlay\",\"size\":10,\"solidity\":0.2}},\"type\":\"histogram\"}],\"histogram2d\":[{\"colorbar\":{\"outlinewidth\":0,\"ticks\":\"\"},\"colorscale\":[[0.0,\"#0d0887\"],[0.1111111111111111,\"#46039f\"],[0.2222222222222222,\"#7201a8\"],[0.3333333333333333,\"#9c179e\"],[0.4444444444444444,\"#bd3786\"],[0.5555555555555556,\"#d8576b\"],[0.6666666666666666,\"#ed7953\"],[0.7777777777777778,\"#fb9f3a\"],[0.8888888888888888,\"#fdca26\"],[1.0,\"#f0f921\"]],\"type\":\"histogram2d\"}],\"histogram2dcontour\":[{\"colorbar\":{\"outlinewidth\":0,\"ticks\":\"\"},\"colorscale\":[[0.0,\"#0d0887\"],[0.1111111111111111,\"#46039f\"],[0.2222222222222222,\"#7201a8\"],[0.3333333333333333,\"#9c179e\"],[0.4444444444444444,\"#bd3786\"],[0.5555555555555556,\"#d8576b\"],[0.6666666666666666,\"#ed7953\"],[0.7777777777777778,\"#fb9f3a\"],[0.8888888888888888,\"#fdca26\"],[1.0,\"#f0f921\"]],\"type\":\"histogram2dcontour\"}],\"mesh3d\":[{\"colorbar\":{\"outlinewidth\":0,\"ticks\":\"\"},\"type\":\"mesh3d\"}],\"parcoords\":[{\"line\":{\"colorbar\":{\"outlinewidth\":0,\"ticks\":\"\"}},\"type\":\"parcoords\"}],\"pie\":[{\"automargin\":true,\"type\":\"pie\"}],\"scatter\":[{\"marker\":{\"colorbar\":{\"outlinewidth\":0,\"ticks\":\"\"}},\"type\":\"scatter\"}],\"scatter3d\":[{\"line\":{\"colorbar\":{\"outlinewidth\":0,\"ticks\":\"\"}},\"marker\":{\"colorbar\":{\"outlinewidth\":0,\"ticks\":\"\"}},\"type\":\"scatter3d\"}],\"scattercarpet\":[{\"marker\":{\"colorbar\":{\"outlinewidth\":0,\"ticks\":\"\"}},\"type\":\"scattercarpet\"}],\"scattergeo\":[{\"marker\":{\"colorbar\":{\"outlinewidth\":0,\"ticks\":\"\"}},\"type\":\"scattergeo\"}],\"scattergl\":[{\"marker\":{\"colorbar\":{\"outlinewidth\":0,\"ticks\":\"\"}},\"type\":\"scattergl\"}],\"scattermapbox\":[{\"marker\":{\"colorbar\":{\"outlinewidth\":0,\"ticks\":\"\"}},\"type\":\"scattermapbox\"}],\"scatterpolar\":[{\"marker\":{\"colorbar\":{\"outlinewidth\":0,\"ticks\":\"\"}},\"type\":\"scatterpolar\"}],\"scatterpolargl\":[{\"marker\":{\"colorbar\":{\"outlinewidth\":0,\"ticks\":\"\"}},\"type\":\"scatterpolargl\"}],\"scatterternary\":[{\"marker\":{\"colorbar\":{\"outlinewidth\":0,\"ticks\":\"\"}},\"type\":\"scatterternary\"}],\"surface\":[{\"colorbar\":{\"outlinewidth\":0,\"ticks\":\"\"},\"colorscale\":[[0.0,\"#0d0887\"],[0.1111111111111111,\"#46039f\"],[0.2222222222222222,\"#7201a8\"],[0.3333333333333333,\"#9c179e\"],[0.4444444444444444,\"#bd3786\"],[0.5555555555555556,\"#d8576b\"],[0.6666666666666666,\"#ed7953\"],[0.7777777777777778,\"#fb9f3a\"],[0.8888888888888888,\"#fdca26\"],[1.0,\"#f0f921\"]],\"type\":\"surface\"}],\"table\":[{\"cells\":{\"fill\":{\"color\":\"#EBF0F8\"},\"line\":{\"color\":\"white\"}},\"header\":{\"fill\":{\"color\":\"#C8D4E3\"},\"line\":{\"color\":\"white\"}},\"type\":\"table\"}]},\"layout\":{\"annotationdefaults\":{\"arrowcolor\":\"#2a3f5f\",\"arrowhead\":0,\"arrowwidth\":1},\"autotypenumbers\":\"strict\",\"coloraxis\":{\"colorbar\":{\"outlinewidth\":0,\"ticks\":\"\"}},\"colorscale\":{\"diverging\":[[0,\"#8e0152\"],[0.1,\"#c51b7d\"],[0.2,\"#de77ae\"],[0.3,\"#f1b6da\"],[0.4,\"#fde0ef\"],[0.5,\"#f7f7f7\"],[0.6,\"#e6f5d0\"],[0.7,\"#b8e186\"],[0.8,\"#7fbc41\"],[0.9,\"#4d9221\"],[1,\"#276419\"]],\"sequential\":[[0.0,\"#0d0887\"],[0.1111111111111111,\"#46039f\"],[0.2222222222222222,\"#7201a8\"],[0.3333333333333333,\"#9c179e\"],[0.4444444444444444,\"#bd3786\"],[0.5555555555555556,\"#d8576b\"],[0.6666666666666666,\"#ed7953\"],[0.7777777777777778,\"#fb9f3a\"],[0.8888888888888888,\"#fdca26\"],[1.0,\"#f0f921\"]],\"sequentialminus\":[[0.0,\"#0d0887\"],[0.1111111111111111,\"#46039f\"],[0.2222222222222222,\"#7201a8\"],[0.3333333333333333,\"#9c179e\"],[0.4444444444444444,\"#bd3786\"],[0.5555555555555556,\"#d8576b\"],[0.6666666666666666,\"#ed7953\"],[0.7777777777777778,\"#fb9f3a\"],[0.8888888888888888,\"#fdca26\"],[1.0,\"#f0f921\"]]},\"colorway\":[\"#636efa\",\"#EF553B\",\"#00cc96\",\"#ab63fa\",\"#FFA15A\",\"#19d3f3\",\"#FF6692\",\"#B6E880\",\"#FF97FF\",\"#FECB52\"],\"font\":{\"color\":\"#2a3f5f\"},\"geo\":{\"bgcolor\":\"white\",\"lakecolor\":\"white\",\"landcolor\":\"#E5ECF6\",\"showlakes\":true,\"showland\":true,\"subunitcolor\":\"white\"},\"hoverlabel\":{\"align\":\"left\"},\"hovermode\":\"closest\",\"mapbox\":{\"style\":\"light\"},\"paper_bgcolor\":\"white\",\"plot_bgcolor\":\"#E5ECF6\",\"polar\":{\"angularaxis\":{\"gridcolor\":\"white\",\"linecolor\":\"white\",\"ticks\":\"\"},\"bgcolor\":\"#E5ECF6\",\"radialaxis\":{\"gridcolor\":\"white\",\"linecolor\":\"white\",\"ticks\":\"\"}},\"scene\":{\"xaxis\":{\"backgroundcolor\":\"#E5ECF6\",\"gridcolor\":\"white\",\"gridwidth\":2,\"linecolor\":\"white\",\"showbackground\":true,\"ticks\":\"\",\"zerolinecolor\":\"white\"},\"yaxis\":{\"backgroundcolor\":\"#E5ECF6\",\"gridcolor\":\"white\",\"gridwidth\":2,\"linecolor\":\"white\",\"showbackground\":true,\"ticks\":\"\",\"zerolinecolor\":\"white\"},\"zaxis\":{\"backgroundcolor\":\"#E5ECF6\",\"gridcolor\":\"white\",\"gridwidth\":2,\"linecolor\":\"white\",\"showbackground\":true,\"ticks\":\"\",\"zerolinecolor\":\"white\"}},\"shapedefaults\":{\"line\":{\"color\":\"#2a3f5f\"}},\"ternary\":{\"aaxis\":{\"gridcolor\":\"white\",\"linecolor\":\"white\",\"ticks\":\"\"},\"baxis\":{\"gridcolor\":\"white\",\"linecolor\":\"white\",\"ticks\":\"\"},\"bgcolor\":\"#E5ECF6\",\"caxis\":{\"gridcolor\":\"white\",\"linecolor\":\"white\",\"ticks\":\"\"}},\"title\":{\"x\":0.05},\"xaxis\":{\"automargin\":true,\"gridcolor\":\"white\",\"linecolor\":\"white\",\"ticks\":\"\",\"title\":{\"standoff\":15},\"zerolinecolor\":\"white\",\"zerolinewidth\":2},\"yaxis\":{\"automargin\":true,\"gridcolor\":\"white\",\"linecolor\":\"white\",\"ticks\":\"\",\"title\":{\"standoff\":15},\"zerolinecolor\":\"white\",\"zerolinewidth\":2}}},\"legend\":{\"tracegroupgap\":0},\"title\":{\"text\":\"Sales Percentage by Manufacturer\",\"y\":0.9,\"x\":0.5,\"xanchor\":\"center\",\"yanchor\":\"top\"}},                        {\"responsive\": true}                    ).then(function(){\n",
       "                            \n",
       "var gd = document.getElementById('a33b2019-fa15-4029-86c4-d112e44d5ad8');\n",
       "var x = new MutationObserver(function (mutations, observer) {{\n",
       "        var display = window.getComputedStyle(gd).display;\n",
       "        if (!display || display === 'none') {{\n",
       "            console.log([gd, 'removed!']);\n",
       "            Plotly.purge(gd);\n",
       "            observer.disconnect();\n",
       "        }}\n",
       "}});\n",
       "\n",
       "// Listen for the removal of the full notebook cells\n",
       "var notebookContainer = gd.closest('#notebook-container');\n",
       "if (notebookContainer) {{\n",
       "    x.observe(notebookContainer, {childList: true});\n",
       "}}\n",
       "\n",
       "// Listen for the clearing of the current output cell\n",
       "var outputEl = gd.closest('.output');\n",
       "if (outputEl) {{\n",
       "    x.observe(outputEl, {childList: true});\n",
       "}}\n",
       "\n",
       "                        })                };                });            </script>        </div>"
      ]
     },
     "metadata": {},
     "output_type": "display_data"
    }
   ],
   "source": [
    "'''During my research, I found that Porsche had the highest mean sales price, but the lowest \n",
    "percentage of cars sold, While Ford was the number one leader in car sales with 24% followed \n",
    "by dodge, Toyota then Honda.'''\n",
    "\n",
    "#This pie chart shows the percentage of sales each Manufacturer has amongst each other\n",
    "\n",
    "#Takes in the values from Sales in thousands, sets the lables as names and adds the percentage of sales to the lables\n",
    "fig = px.pie(df4, values='Sales_in_thousands', names='Manufacturer', title = 'Sales Percentage by Manufacturer')\n",
    "fig.update_traces(textposition='inside', textinfo='percent+label') #text position is set to inside rather than outside\n",
    "\n",
    "#positions the title \n",
    "fig.update_layout(\n",
    "    title={'y':0.9,'x':0.5,'xanchor': 'center','yanchor': 'top'})\n",
    "fig.show()"
   ]
  },
  {
   "cell_type": "code",
   "execution_count": 435,
   "id": "17918283",
   "metadata": {},
   "outputs": [
    {
     "data": {
      "application/vnd.plotly.v1+json": {
       "config": {
        "plotlyServerURL": "https://plot.ly"
       },
       "data": [
        {
         "hovertemplate": "Model=Integra<br>Horsepower=%{x}<br>Sales_in_thousands=%{y}<extra></extra>",
         "legendgroup": "Integra",
         "marker": {
          "color": "#636efa",
          "size": 5,
          "symbol": "circle"
         },
         "mode": "markers",
         "name": "Integra",
         "orientation": "v",
         "showlegend": true,
         "type": "scatter",
         "x": [
          140
         ],
         "xaxis": "x",
         "y": [
          16.919
         ],
         "yaxis": "y"
        },
        {
         "hovertemplate": "Model=TL<br>Horsepower=%{x}<br>Sales_in_thousands=%{y}<extra></extra>",
         "legendgroup": "TL",
         "marker": {
          "color": "#EF553B",
          "size": 5,
          "symbol": "circle"
         },
         "mode": "markers",
         "name": "TL",
         "orientation": "v",
         "showlegend": true,
         "type": "scatter",
         "x": [
          225
         ],
         "xaxis": "x",
         "y": [
          39.384
         ],
         "yaxis": "y"
        },
        {
         "hovertemplate": "Model=CL<br>Horsepower=%{x}<br>Sales_in_thousands=%{y}<extra></extra>",
         "legendgroup": "CL",
         "marker": {
          "color": "#00cc96",
          "size": 5,
          "symbol": "circle"
         },
         "mode": "markers",
         "name": "CL",
         "orientation": "v",
         "showlegend": true,
         "type": "scatter",
         "x": [
          225
         ],
         "xaxis": "x",
         "y": [
          14.114
         ],
         "yaxis": "y"
        },
        {
         "hovertemplate": "Model=RL<br>Horsepower=%{x}<br>Sales_in_thousands=%{y}<extra></extra>",
         "legendgroup": "RL",
         "marker": {
          "color": "#ab63fa",
          "size": 5,
          "symbol": "circle"
         },
         "mode": "markers",
         "name": "RL",
         "orientation": "v",
         "showlegend": true,
         "type": "scatter",
         "x": [
          210
         ],
         "xaxis": "x",
         "y": [
          8.588
         ],
         "yaxis": "y"
        },
        {
         "hovertemplate": "Model=A4<br>Horsepower=%{x}<br>Sales_in_thousands=%{y}<extra></extra>",
         "legendgroup": "A4",
         "marker": {
          "color": "#FFA15A",
          "size": 5,
          "symbol": "circle"
         },
         "mode": "markers",
         "name": "A4",
         "orientation": "v",
         "showlegend": true,
         "type": "scatter",
         "x": [
          150
         ],
         "xaxis": "x",
         "y": [
          20.397
         ],
         "yaxis": "y"
        },
        {
         "hovertemplate": "Model=A6<br>Horsepower=%{x}<br>Sales_in_thousands=%{y}<extra></extra>",
         "legendgroup": "A6",
         "marker": {
          "color": "#19d3f3",
          "size": 5,
          "symbol": "circle"
         },
         "mode": "markers",
         "name": "A6",
         "orientation": "v",
         "showlegend": true,
         "type": "scatter",
         "x": [
          200
         ],
         "xaxis": "x",
         "y": [
          18.78
         ],
         "yaxis": "y"
        },
        {
         "hovertemplate": "Model=A8<br>Horsepower=%{x}<br>Sales_in_thousands=%{y}<extra></extra>",
         "legendgroup": "A8",
         "marker": {
          "color": "#FF6692",
          "size": 5,
          "symbol": "circle"
         },
         "mode": "markers",
         "name": "A8",
         "orientation": "v",
         "showlegend": true,
         "type": "scatter",
         "x": [
          310
         ],
         "xaxis": "x",
         "y": [
          1.38
         ],
         "yaxis": "y"
        },
        {
         "hovertemplate": "Model=323i<br>Horsepower=%{x}<br>Sales_in_thousands=%{y}<extra></extra>",
         "legendgroup": "323i",
         "marker": {
          "color": "#B6E880",
          "size": 5,
          "symbol": "circle"
         },
         "mode": "markers",
         "name": "323i",
         "orientation": "v",
         "showlegend": true,
         "type": "scatter",
         "x": [
          170
         ],
         "xaxis": "x",
         "y": [
          19.747
         ],
         "yaxis": "y"
        },
        {
         "hovertemplate": "Model=328i<br>Horsepower=%{x}<br>Sales_in_thousands=%{y}<extra></extra>",
         "legendgroup": "328i",
         "marker": {
          "color": "#FF97FF",
          "size": 5,
          "symbol": "circle"
         },
         "mode": "markers",
         "name": "328i",
         "orientation": "v",
         "showlegend": true,
         "type": "scatter",
         "x": [
          193
         ],
         "xaxis": "x",
         "y": [
          9.231
         ],
         "yaxis": "y"
        },
        {
         "hovertemplate": "Model=528i<br>Horsepower=%{x}<br>Sales_in_thousands=%{y}<extra></extra>",
         "legendgroup": "528i",
         "marker": {
          "color": "#FECB52",
          "size": 5,
          "symbol": "circle"
         },
         "mode": "markers",
         "name": "528i",
         "orientation": "v",
         "showlegend": true,
         "type": "scatter",
         "x": [
          193
         ],
         "xaxis": "x",
         "y": [
          17.527
         ],
         "yaxis": "y"
        },
        {
         "hovertemplate": "Model=Century<br>Horsepower=%{x}<br>Sales_in_thousands=%{y}<extra></extra>",
         "legendgroup": "Century",
         "marker": {
          "color": "#636efa",
          "size": 5,
          "symbol": "circle"
         },
         "mode": "markers",
         "name": "Century",
         "orientation": "v",
         "showlegend": true,
         "type": "scatter",
         "x": [
          175
         ],
         "xaxis": "x",
         "y": [
          91.561
         ],
         "yaxis": "y"
        },
        {
         "hovertemplate": "Model=Regal<br>Horsepower=%{x}<br>Sales_in_thousands=%{y}<extra></extra>",
         "legendgroup": "Regal",
         "marker": {
          "color": "#EF553B",
          "size": 5,
          "symbol": "circle"
         },
         "mode": "markers",
         "name": "Regal",
         "orientation": "v",
         "showlegend": true,
         "type": "scatter",
         "x": [
          240
         ],
         "xaxis": "x",
         "y": [
          39.35
         ],
         "yaxis": "y"
        },
        {
         "hovertemplate": "Model=Park Avenue<br>Horsepower=%{x}<br>Sales_in_thousands=%{y}<extra></extra>",
         "legendgroup": "Park Avenue",
         "marker": {
          "color": "#00cc96",
          "size": 5,
          "symbol": "circle"
         },
         "mode": "markers",
         "name": "Park Avenue",
         "orientation": "v",
         "showlegend": true,
         "type": "scatter",
         "x": [
          205
         ],
         "xaxis": "x",
         "y": [
          27.851
         ],
         "yaxis": "y"
        },
        {
         "hovertemplate": "Model=LeSabre<br>Horsepower=%{x}<br>Sales_in_thousands=%{y}<extra></extra>",
         "legendgroup": "LeSabre",
         "marker": {
          "color": "#ab63fa",
          "size": 5,
          "symbol": "circle"
         },
         "mode": "markers",
         "name": "LeSabre",
         "orientation": "v",
         "showlegend": true,
         "type": "scatter",
         "x": [
          205
         ],
         "xaxis": "x",
         "y": [
          83.257
         ],
         "yaxis": "y"
        },
        {
         "hovertemplate": "Model=DeVille<br>Horsepower=%{x}<br>Sales_in_thousands=%{y}<extra></extra>",
         "legendgroup": "DeVille",
         "marker": {
          "color": "#FFA15A",
          "size": 5,
          "symbol": "circle"
         },
         "mode": "markers",
         "name": "DeVille",
         "orientation": "v",
         "showlegend": true,
         "type": "scatter",
         "x": [
          275
         ],
         "xaxis": "x",
         "y": [
          63.729
         ],
         "yaxis": "y"
        },
        {
         "hovertemplate": "Model=Seville<br>Horsepower=%{x}<br>Sales_in_thousands=%{y}<extra></extra>",
         "legendgroup": "Seville",
         "marker": {
          "color": "#19d3f3",
          "size": 5,
          "symbol": "circle"
         },
         "mode": "markers",
         "name": "Seville",
         "orientation": "v",
         "showlegend": true,
         "type": "scatter",
         "x": [
          275
         ],
         "xaxis": "x",
         "y": [
          15.943
         ],
         "yaxis": "y"
        },
        {
         "hovertemplate": "Model=Eldorado<br>Horsepower=%{x}<br>Sales_in_thousands=%{y}<extra></extra>",
         "legendgroup": "Eldorado",
         "marker": {
          "color": "#FF6692",
          "size": 5,
          "symbol": "circle"
         },
         "mode": "markers",
         "name": "Eldorado",
         "orientation": "v",
         "showlegend": true,
         "type": "scatter",
         "x": [
          275
         ],
         "xaxis": "x",
         "y": [
          6.536
         ],
         "yaxis": "y"
        },
        {
         "hovertemplate": "Model=Catera<br>Horsepower=%{x}<br>Sales_in_thousands=%{y}<extra></extra>",
         "legendgroup": "Catera",
         "marker": {
          "color": "#B6E880",
          "size": 5,
          "symbol": "circle"
         },
         "mode": "markers",
         "name": "Catera",
         "orientation": "v",
         "showlegend": true,
         "type": "scatter",
         "x": [
          200
         ],
         "xaxis": "x",
         "y": [
          11.185
         ],
         "yaxis": "y"
        },
        {
         "hovertemplate": "Model=Escalade<br>Horsepower=%{x}<br>Sales_in_thousands=%{y}<extra></extra>",
         "legendgroup": "Escalade",
         "marker": {
          "color": "#FF97FF",
          "size": 5,
          "symbol": "circle"
         },
         "mode": "markers",
         "name": "Escalade",
         "orientation": "v",
         "showlegend": true,
         "type": "scatter",
         "x": [
          255
         ],
         "xaxis": "x",
         "y": [
          14.785
         ],
         "yaxis": "y"
        },
        {
         "hovertemplate": "Model=Cavalier<br>Horsepower=%{x}<br>Sales_in_thousands=%{y}<extra></extra>",
         "legendgroup": "Cavalier",
         "marker": {
          "color": "#FECB52",
          "size": 5,
          "symbol": "circle"
         },
         "mode": "markers",
         "name": "Cavalier",
         "orientation": "v",
         "showlegend": true,
         "type": "scatter",
         "x": [
          115
         ],
         "xaxis": "x",
         "y": [
          145.519
         ],
         "yaxis": "y"
        },
        {
         "hovertemplate": "Model=Malibu<br>Horsepower=%{x}<br>Sales_in_thousands=%{y}<extra></extra>",
         "legendgroup": "Malibu",
         "marker": {
          "color": "#636efa",
          "size": 5,
          "symbol": "circle"
         },
         "mode": "markers",
         "name": "Malibu",
         "orientation": "v",
         "showlegend": true,
         "type": "scatter",
         "x": [
          170
         ],
         "xaxis": "x",
         "y": [
          135.126
         ],
         "yaxis": "y"
        },
        {
         "hovertemplate": "Model=Lumina<br>Horsepower=%{x}<br>Sales_in_thousands=%{y}<extra></extra>",
         "legendgroup": "Lumina",
         "marker": {
          "color": "#EF553B",
          "size": 5,
          "symbol": "circle"
         },
         "mode": "markers",
         "name": "Lumina",
         "orientation": "v",
         "showlegend": true,
         "type": "scatter",
         "x": [
          175
         ],
         "xaxis": "x",
         "y": [
          24.629
         ],
         "yaxis": "y"
        },
        {
         "hovertemplate": "Model=Monte Carlo<br>Horsepower=%{x}<br>Sales_in_thousands=%{y}<extra></extra>",
         "legendgroup": "Monte Carlo",
         "marker": {
          "color": "#00cc96",
          "size": 5,
          "symbol": "circle"
         },
         "mode": "markers",
         "name": "Monte Carlo",
         "orientation": "v",
         "showlegend": true,
         "type": "scatter",
         "x": [
          180
         ],
         "xaxis": "x",
         "y": [
          42.593
         ],
         "yaxis": "y"
        },
        {
         "hovertemplate": "Model=Camaro<br>Horsepower=%{x}<br>Sales_in_thousands=%{y}<extra></extra>",
         "legendgroup": "Camaro",
         "marker": {
          "color": "#ab63fa",
          "size": 5,
          "symbol": "circle"
         },
         "mode": "markers",
         "name": "Camaro",
         "orientation": "v",
         "showlegend": true,
         "type": "scatter",
         "x": [
          200
         ],
         "xaxis": "x",
         "y": [
          26.402
         ],
         "yaxis": "y"
        },
        {
         "hovertemplate": "Model=Corvette<br>Horsepower=%{x}<br>Sales_in_thousands=%{y}<extra></extra>",
         "legendgroup": "Corvette",
         "marker": {
          "color": "#FFA15A",
          "size": 5,
          "symbol": "circle"
         },
         "mode": "markers",
         "name": "Corvette",
         "orientation": "v",
         "showlegend": true,
         "type": "scatter",
         "x": [
          345
         ],
         "xaxis": "x",
         "y": [
          17.947
         ],
         "yaxis": "y"
        },
        {
         "hovertemplate": "Model=Prizm<br>Horsepower=%{x}<br>Sales_in_thousands=%{y}<extra></extra>",
         "legendgroup": "Prizm",
         "marker": {
          "color": "#19d3f3",
          "size": 5,
          "symbol": "circle"
         },
         "mode": "markers",
         "name": "Prizm",
         "orientation": "v",
         "showlegend": true,
         "type": "scatter",
         "x": [
          120
         ],
         "xaxis": "x",
         "y": [
          32.299
         ],
         "yaxis": "y"
        },
        {
         "hovertemplate": "Model=Metro<br>Horsepower=%{x}<br>Sales_in_thousands=%{y}<extra></extra>",
         "legendgroup": "Metro",
         "marker": {
          "color": "#FF6692",
          "size": 5,
          "symbol": "circle"
         },
         "mode": "markers",
         "name": "Metro",
         "orientation": "v",
         "showlegend": true,
         "type": "scatter",
         "x": [
          55
         ],
         "xaxis": "x",
         "y": [
          21.855
         ],
         "yaxis": "y"
        },
        {
         "hovertemplate": "Model=Impala<br>Horsepower=%{x}<br>Sales_in_thousands=%{y}<extra></extra>",
         "legendgroup": "Impala",
         "marker": {
          "color": "#B6E880",
          "size": 5,
          "symbol": "circle"
         },
         "mode": "markers",
         "name": "Impala",
         "orientation": "v",
         "showlegend": true,
         "type": "scatter",
         "x": [
          180
         ],
         "xaxis": "x",
         "y": [
          107.995
         ],
         "yaxis": "y"
        },
        {
         "hovertemplate": "Model=Sebring Coupe<br>Horsepower=%{x}<br>Sales_in_thousands=%{y}<extra></extra>",
         "legendgroup": "Sebring Coupe",
         "marker": {
          "color": "#FF97FF",
          "size": 5,
          "symbol": "circle"
         },
         "mode": "markers",
         "name": "Sebring Coupe",
         "orientation": "v",
         "showlegend": true,
         "type": "scatter",
         "x": [
          163
         ],
         "xaxis": "x",
         "y": [
          7.854
         ],
         "yaxis": "y"
        },
        {
         "hovertemplate": "Model=Sebring Conv.<br>Horsepower=%{x}<br>Sales_in_thousands=%{y}<extra></extra>",
         "legendgroup": "Sebring Conv.",
         "marker": {
          "color": "#FECB52",
          "size": 5,
          "symbol": "circle"
         },
         "mode": "markers",
         "name": "Sebring Conv.",
         "orientation": "v",
         "showlegend": true,
         "type": "scatter",
         "x": [
          168
         ],
         "xaxis": "x",
         "y": [
          32.775
         ],
         "yaxis": "y"
        },
        {
         "hovertemplate": "Model=Concorde<br>Horsepower=%{x}<br>Sales_in_thousands=%{y}<extra></extra>",
         "legendgroup": "Concorde",
         "marker": {
          "color": "#636efa",
          "size": 5,
          "symbol": "circle"
         },
         "mode": "markers",
         "name": "Concorde",
         "orientation": "v",
         "showlegend": true,
         "type": "scatter",
         "x": [
          200
         ],
         "xaxis": "x",
         "y": [
          31.148
         ],
         "yaxis": "y"
        },
        {
         "hovertemplate": "Model=Cirrus<br>Horsepower=%{x}<br>Sales_in_thousands=%{y}<extra></extra>",
         "legendgroup": "Cirrus",
         "marker": {
          "color": "#EF553B",
          "size": 5,
          "symbol": "circle"
         },
         "mode": "markers",
         "name": "Cirrus",
         "orientation": "v",
         "showlegend": true,
         "type": "scatter",
         "x": [
          132
         ],
         "xaxis": "x",
         "y": [
          32.306
         ],
         "yaxis": "y"
        },
        {
         "hovertemplate": "Model=LHS<br>Horsepower=%{x}<br>Sales_in_thousands=%{y}<extra></extra>",
         "legendgroup": "LHS",
         "marker": {
          "color": "#00cc96",
          "size": 5,
          "symbol": "circle"
         },
         "mode": "markers",
         "name": "LHS",
         "orientation": "v",
         "showlegend": true,
         "type": "scatter",
         "x": [
          253
         ],
         "xaxis": "x",
         "y": [
          13.462
         ],
         "yaxis": "y"
        },
        {
         "hovertemplate": "Model=Town & Country<br>Horsepower=%{x}<br>Sales_in_thousands=%{y}<extra></extra>",
         "legendgroup": "Town & Country",
         "marker": {
          "color": "#ab63fa",
          "size": 5,
          "symbol": "circle"
         },
         "mode": "markers",
         "name": "Town & Country",
         "orientation": "v",
         "showlegend": true,
         "type": "scatter",
         "x": [
          null
         ],
         "xaxis": "x",
         "y": [
          53.48
         ],
         "yaxis": "y"
        },
        {
         "hovertemplate": "Model=300M<br>Horsepower=%{x}<br>Sales_in_thousands=%{y}<extra></extra>",
         "legendgroup": "300M",
         "marker": {
          "color": "#FFA15A",
          "size": 5,
          "symbol": "circle"
         },
         "mode": "markers",
         "name": "300M",
         "orientation": "v",
         "showlegend": true,
         "type": "scatter",
         "x": [
          253
         ],
         "xaxis": "x",
         "y": [
          30.696
         ],
         "yaxis": "y"
        },
        {
         "hovertemplate": "Model=Neon<br>Horsepower=%{x}<br>Sales_in_thousands=%{y}<extra></extra>",
         "legendgroup": "Neon",
         "marker": {
          "color": "#19d3f3",
          "size": 5,
          "symbol": "circle"
         },
         "mode": "markers",
         "name": "Neon",
         "orientation": "v",
         "showlegend": true,
         "type": "scatter",
         "x": [
          132,
          132,
          132,
          132
         ],
         "xaxis": "x",
         "y": [
          76.034,
          76.034,
          32.734,
          32.734
         ],
         "yaxis": "y"
        },
        {
         "hovertemplate": "Model=Avenger<br>Horsepower=%{x}<br>Sales_in_thousands=%{y}<extra></extra>",
         "legendgroup": "Avenger",
         "marker": {
          "color": "#FF6692",
          "size": 5,
          "symbol": "circle"
         },
         "mode": "markers",
         "name": "Avenger",
         "orientation": "v",
         "showlegend": true,
         "type": "scatter",
         "x": [
          163
         ],
         "xaxis": "x",
         "y": [
          4.734
         ],
         "yaxis": "y"
        },
        {
         "hovertemplate": "Model=Stratus<br>Horsepower=%{x}<br>Sales_in_thousands=%{y}<extra></extra>",
         "legendgroup": "Stratus",
         "marker": {
          "color": "#B6E880",
          "size": 5,
          "symbol": "circle"
         },
         "mode": "markers",
         "name": "Stratus",
         "orientation": "v",
         "showlegend": true,
         "type": "scatter",
         "x": [
          168
         ],
         "xaxis": "x",
         "y": [
          71.186
         ],
         "yaxis": "y"
        },
        {
         "hovertemplate": "Model=Intrepid<br>Horsepower=%{x}<br>Sales_in_thousands=%{y}<extra></extra>",
         "legendgroup": "Intrepid",
         "marker": {
          "color": "#FF97FF",
          "size": 5,
          "symbol": "circle"
         },
         "mode": "markers",
         "name": "Intrepid",
         "orientation": "v",
         "showlegend": true,
         "type": "scatter",
         "x": [
          202
         ],
         "xaxis": "x",
         "y": [
          88.028
         ],
         "yaxis": "y"
        },
        {
         "hovertemplate": "Model=Viper<br>Horsepower=%{x}<br>Sales_in_thousands=%{y}<extra></extra>",
         "legendgroup": "Viper",
         "marker": {
          "color": "#FECB52",
          "size": 5,
          "symbol": "circle"
         },
         "mode": "markers",
         "name": "Viper",
         "orientation": "v",
         "showlegend": true,
         "type": "scatter",
         "x": [
          450
         ],
         "xaxis": "x",
         "y": [
          0.916
         ],
         "yaxis": "y"
        },
        {
         "hovertemplate": "Model=Ram Pickup<br>Horsepower=%{x}<br>Sales_in_thousands=%{y}<extra></extra>",
         "legendgroup": "Ram Pickup",
         "marker": {
          "color": "#636efa",
          "size": 5,
          "symbol": "circle"
         },
         "mode": "markers",
         "name": "Ram Pickup",
         "orientation": "v",
         "showlegend": true,
         "type": "scatter",
         "x": [
          230
         ],
         "xaxis": "x",
         "y": [
          227.061
         ],
         "yaxis": "y"
        },
        {
         "hovertemplate": "Model=Ram Wagon<br>Horsepower=%{x}<br>Sales_in_thousands=%{y}<extra></extra>",
         "legendgroup": "Ram Wagon",
         "marker": {
          "color": "#EF553B",
          "size": 5,
          "symbol": "circle"
         },
         "mode": "markers",
         "name": "Ram Wagon",
         "orientation": "v",
         "showlegend": true,
         "type": "scatter",
         "x": [
          175
         ],
         "xaxis": "x",
         "y": [
          16.767
         ],
         "yaxis": "y"
        },
        {
         "hovertemplate": "Model=Ram Van<br>Horsepower=%{x}<br>Sales_in_thousands=%{y}<extra></extra>",
         "legendgroup": "Ram Van",
         "marker": {
          "color": "#00cc96",
          "size": 5,
          "symbol": "circle"
         },
         "mode": "markers",
         "name": "Ram Van",
         "orientation": "v",
         "showlegend": true,
         "type": "scatter",
         "x": [
          175
         ],
         "xaxis": "x",
         "y": [
          31.038
         ],
         "yaxis": "y"
        },
        {
         "hovertemplate": "Model=Dakota<br>Horsepower=%{x}<br>Sales_in_thousands=%{y}<extra></extra>",
         "legendgroup": "Dakota",
         "marker": {
          "color": "#ab63fa",
          "size": 5,
          "symbol": "circle"
         },
         "mode": "markers",
         "name": "Dakota",
         "orientation": "v",
         "showlegend": true,
         "type": "scatter",
         "x": [
          120
         ],
         "xaxis": "x",
         "y": [
          111.313
         ],
         "yaxis": "y"
        },
        {
         "hovertemplate": "Model=Durango<br>Horsepower=%{x}<br>Sales_in_thousands=%{y}<extra></extra>",
         "legendgroup": "Durango",
         "marker": {
          "color": "#FFA15A",
          "size": 5,
          "symbol": "circle"
         },
         "mode": "markers",
         "name": "Durango",
         "orientation": "v",
         "showlegend": true,
         "type": "scatter",
         "x": [
          230
         ],
         "xaxis": "x",
         "y": [
          101.323
         ],
         "yaxis": "y"
        },
        {
         "hovertemplate": "Model=Caravan<br>Horsepower=%{x}<br>Sales_in_thousands=%{y}<extra></extra>",
         "legendgroup": "Caravan",
         "marker": {
          "color": "#19d3f3",
          "size": 5,
          "symbol": "circle"
         },
         "mode": "markers",
         "name": "Caravan",
         "orientation": "v",
         "showlegend": true,
         "type": "scatter",
         "x": [
          150
         ],
         "xaxis": "x",
         "y": [
          181.749
         ],
         "yaxis": "y"
        },
        {
         "hovertemplate": "Model=Escort<br>Horsepower=%{x}<br>Sales_in_thousands=%{y}<extra></extra>",
         "legendgroup": "Escort",
         "marker": {
          "color": "#FF6692",
          "size": 5,
          "symbol": "circle"
         },
         "mode": "markers",
         "name": "Escort",
         "orientation": "v",
         "showlegend": true,
         "type": "scatter",
         "x": [
          110
         ],
         "xaxis": "x",
         "y": [
          70.227
         ],
         "yaxis": "y"
        },
        {
         "hovertemplate": "Model=Mustang<br>Horsepower=%{x}<br>Sales_in_thousands=%{y}<extra></extra>",
         "legendgroup": "Mustang",
         "marker": {
          "color": "#B6E880",
          "size": 5,
          "symbol": "circle"
         },
         "mode": "markers",
         "name": "Mustang",
         "orientation": "v",
         "showlegend": true,
         "type": "scatter",
         "x": [
          190
         ],
         "xaxis": "x",
         "y": [
          113.369
         ],
         "yaxis": "y"
        },
        {
         "hovertemplate": "Model=Contour<br>Horsepower=%{x}<br>Sales_in_thousands=%{y}<extra></extra>",
         "legendgroup": "Contour",
         "marker": {
          "color": "#FF97FF",
          "size": 5,
          "symbol": "circle"
         },
         "mode": "markers",
         "name": "Contour",
         "orientation": "v",
         "showlegend": true,
         "type": "scatter",
         "x": [
          170
         ],
         "xaxis": "x",
         "y": [
          35.068
         ],
         "yaxis": "y"
        },
        {
         "hovertemplate": "Model=Taurus<br>Horsepower=%{x}<br>Sales_in_thousands=%{y}<extra></extra>",
         "legendgroup": "Taurus",
         "marker": {
          "color": "#FECB52",
          "size": 5,
          "symbol": "circle"
         },
         "mode": "markers",
         "name": "Taurus",
         "orientation": "v",
         "showlegend": true,
         "type": "scatter",
         "x": [
          155
         ],
         "xaxis": "x",
         "y": [
          245.815
         ],
         "yaxis": "y"
        },
        {
         "hovertemplate": "Model=Focus<br>Horsepower=%{x}<br>Sales_in_thousands=%{y}<extra></extra>",
         "legendgroup": "Focus",
         "marker": {
          "color": "#636efa",
          "size": 5,
          "symbol": "circle"
         },
         "mode": "markers",
         "name": "Focus",
         "orientation": "v",
         "showlegend": true,
         "type": "scatter",
         "x": [
          107
         ],
         "xaxis": "x",
         "y": [
          175.67
         ],
         "yaxis": "y"
        },
        {
         "hovertemplate": "Model=Crown Victoria<br>Horsepower=%{x}<br>Sales_in_thousands=%{y}<extra></extra>",
         "legendgroup": "Crown Victoria",
         "marker": {
          "color": "#EF553B",
          "size": 5,
          "symbol": "circle"
         },
         "mode": "markers",
         "name": "Crown Victoria",
         "orientation": "v",
         "showlegend": true,
         "type": "scatter",
         "x": [
          200
         ],
         "xaxis": "x",
         "y": [
          63.403
         ],
         "yaxis": "y"
        },
        {
         "hovertemplate": "Model=Explorer<br>Horsepower=%{x}<br>Sales_in_thousands=%{y}<extra></extra>",
         "legendgroup": "Explorer",
         "marker": {
          "color": "#00cc96",
          "size": 5,
          "symbol": "circle"
         },
         "mode": "markers",
         "name": "Explorer",
         "orientation": "v",
         "showlegend": true,
         "type": "scatter",
         "x": [
          210
         ],
         "xaxis": "x",
         "y": [
          276.747
         ],
         "yaxis": "y"
        },
        {
         "hovertemplate": "Model=Windstar<br>Horsepower=%{x}<br>Sales_in_thousands=%{y}<extra></extra>",
         "legendgroup": "Windstar",
         "marker": {
          "color": "#ab63fa",
          "size": 5,
          "symbol": "circle"
         },
         "mode": "markers",
         "name": "Windstar",
         "orientation": "v",
         "showlegend": true,
         "type": "scatter",
         "x": [
          150
         ],
         "xaxis": "x",
         "y": [
          155.787
         ],
         "yaxis": "y"
        },
        {
         "hovertemplate": "Model=Expedition<br>Horsepower=%{x}<br>Sales_in_thousands=%{y}<extra></extra>",
         "legendgroup": "Expedition",
         "marker": {
          "color": "#FFA15A",
          "size": 5,
          "symbol": "circle"
         },
         "mode": "markers",
         "name": "Expedition",
         "orientation": "v",
         "showlegend": true,
         "type": "scatter",
         "x": [
          240
         ],
         "xaxis": "x",
         "y": [
          125.338
         ],
         "yaxis": "y"
        },
        {
         "hovertemplate": "Model=Ranger<br>Horsepower=%{x}<br>Sales_in_thousands=%{y}<extra></extra>",
         "legendgroup": "Ranger",
         "marker": {
          "color": "#19d3f3",
          "size": 5,
          "symbol": "circle"
         },
         "mode": "markers",
         "name": "Ranger",
         "orientation": "v",
         "showlegend": true,
         "type": "scatter",
         "x": [
          119
         ],
         "xaxis": "x",
         "y": [
          220.65
         ],
         "yaxis": "y"
        },
        {
         "hovertemplate": "Model=F-Series<br>Horsepower=%{x}<br>Sales_in_thousands=%{y}<extra></extra>",
         "legendgroup": "F-Series",
         "marker": {
          "color": "#FF6692",
          "size": 5,
          "symbol": "circle"
         },
         "mode": "markers",
         "name": "F-Series",
         "orientation": "v",
         "showlegend": true,
         "type": "scatter",
         "x": [
          220
         ],
         "xaxis": "x",
         "y": [
          540.561
         ],
         "yaxis": "y"
        },
        {
         "hovertemplate": "Model=Civic<br>Horsepower=%{x}<br>Sales_in_thousands=%{y}<extra></extra>",
         "legendgroup": "Civic",
         "marker": {
          "color": "#B6E880",
          "size": 5,
          "symbol": "circle"
         },
         "mode": "markers",
         "name": "Civic",
         "orientation": "v",
         "showlegend": true,
         "type": "scatter",
         "x": [
          106
         ],
         "xaxis": "x",
         "y": [
          199.685
         ],
         "yaxis": "y"
        },
        {
         "hovertemplate": "Model=Accord<br>Horsepower=%{x}<br>Sales_in_thousands=%{y}<extra></extra>",
         "legendgroup": "Accord",
         "marker": {
          "color": "#FF97FF",
          "size": 5,
          "symbol": "circle"
         },
         "mode": "markers",
         "name": "Accord",
         "orientation": "v",
         "showlegend": true,
         "type": "scatter",
         "x": [
          135
         ],
         "xaxis": "x",
         "y": [
          230.902
         ],
         "yaxis": "y"
        },
        {
         "hovertemplate": "Model=CR-V<br>Horsepower=%{x}<br>Sales_in_thousands=%{y}<extra></extra>",
         "legendgroup": "CR-V",
         "marker": {
          "color": "#FECB52",
          "size": 5,
          "symbol": "circle"
         },
         "mode": "markers",
         "name": "CR-V",
         "orientation": "v",
         "showlegend": true,
         "type": "scatter",
         "x": [
          146
         ],
         "xaxis": "x",
         "y": [
          73.203
         ],
         "yaxis": "y"
        },
        {
         "hovertemplate": "Model=Passport<br>Horsepower=%{x}<br>Sales_in_thousands=%{y}<extra></extra>",
         "legendgroup": "Passport",
         "marker": {
          "color": "#636efa",
          "size": 5,
          "symbol": "circle"
         },
         "mode": "markers",
         "name": "Passport",
         "orientation": "v",
         "showlegend": true,
         "type": "scatter",
         "x": [
          205
         ],
         "xaxis": "x",
         "y": [
          12.855
         ],
         "yaxis": "y"
        },
        {
         "hovertemplate": "Model=Odyssey<br>Horsepower=%{x}<br>Sales_in_thousands=%{y}<extra></extra>",
         "legendgroup": "Odyssey",
         "marker": {
          "color": "#EF553B",
          "size": 5,
          "symbol": "circle"
         },
         "mode": "markers",
         "name": "Odyssey",
         "orientation": "v",
         "showlegend": true,
         "type": "scatter",
         "x": [
          210
         ],
         "xaxis": "x",
         "y": [
          76.029
         ],
         "yaxis": "y"
        },
        {
         "hovertemplate": "Model=Accent<br>Horsepower=%{x}<br>Sales_in_thousands=%{y}<extra></extra>",
         "legendgroup": "Accent",
         "marker": {
          "color": "#00cc96",
          "size": 5,
          "symbol": "circle"
         },
         "mode": "markers",
         "name": "Accent",
         "orientation": "v",
         "showlegend": true,
         "type": "scatter",
         "x": [
          92
         ],
         "xaxis": "x",
         "y": [
          41.184
         ],
         "yaxis": "y"
        },
        {
         "hovertemplate": "Model=Elantra<br>Horsepower=%{x}<br>Sales_in_thousands=%{y}<extra></extra>",
         "legendgroup": "Elantra",
         "marker": {
          "color": "#ab63fa",
          "size": 5,
          "symbol": "circle"
         },
         "mode": "markers",
         "name": "Elantra",
         "orientation": "v",
         "showlegend": true,
         "type": "scatter",
         "x": [
          140
         ],
         "xaxis": "x",
         "y": [
          66.692
         ],
         "yaxis": "y"
        },
        {
         "hovertemplate": "Model=Sonata<br>Horsepower=%{x}<br>Sales_in_thousands=%{y}<extra></extra>",
         "legendgroup": "Sonata",
         "marker": {
          "color": "#FFA15A",
          "size": 5,
          "symbol": "circle"
         },
         "mode": "markers",
         "name": "Sonata",
         "orientation": "v",
         "showlegend": true,
         "type": "scatter",
         "x": [
          148
         ],
         "xaxis": "x",
         "y": [
          29.45
         ],
         "yaxis": "y"
        },
        {
         "hovertemplate": "Model=I30<br>Horsepower=%{x}<br>Sales_in_thousands=%{y}<extra></extra>",
         "legendgroup": "I30",
         "marker": {
          "color": "#19d3f3",
          "size": 5,
          "symbol": "circle"
         },
         "mode": "markers",
         "name": "I30",
         "orientation": "v",
         "showlegend": true,
         "type": "scatter",
         "x": [
          227
         ],
         "xaxis": "x",
         "y": [
          23.713
         ],
         "yaxis": "y"
        },
        {
         "hovertemplate": "Model=S-Type<br>Horsepower=%{x}<br>Sales_in_thousands=%{y}<extra></extra>",
         "legendgroup": "S-Type",
         "marker": {
          "color": "#FF6692",
          "size": 5,
          "symbol": "circle"
         },
         "mode": "markers",
         "name": "S-Type",
         "orientation": "v",
         "showlegend": true,
         "type": "scatter",
         "x": [
          240
         ],
         "xaxis": "x",
         "y": [
          15.467
         ],
         "yaxis": "y"
        },
        {
         "hovertemplate": "Model=Wrangler<br>Horsepower=%{x}<br>Sales_in_thousands=%{y}<extra></extra>",
         "legendgroup": "Wrangler",
         "marker": {
          "color": "#B6E880",
          "size": 5,
          "symbol": "circle"
         },
         "mode": "markers",
         "name": "Wrangler",
         "orientation": "v",
         "showlegend": true,
         "type": "scatter",
         "x": [
          120
         ],
         "xaxis": "x",
         "y": [
          55.557
         ],
         "yaxis": "y"
        },
        {
         "hovertemplate": "Model=Cherokee<br>Horsepower=%{x}<br>Sales_in_thousands=%{y}<extra></extra>",
         "legendgroup": "Cherokee",
         "marker": {
          "color": "#FF97FF",
          "size": 5,
          "symbol": "circle"
         },
         "mode": "markers",
         "name": "Cherokee",
         "orientation": "v",
         "showlegend": true,
         "type": "scatter",
         "x": [
          190
         ],
         "xaxis": "x",
         "y": [
          80.556
         ],
         "yaxis": "y"
        },
        {
         "hovertemplate": "Model=Grand Cherokee<br>Horsepower=%{x}<br>Sales_in_thousands=%{y}<extra></extra>",
         "legendgroup": "Grand Cherokee",
         "marker": {
          "color": "#FECB52",
          "size": 5,
          "symbol": "circle"
         },
         "mode": "markers",
         "name": "Grand Cherokee",
         "orientation": "v",
         "showlegend": true,
         "type": "scatter",
         "x": [
          195
         ],
         "xaxis": "x",
         "y": [
          157.04
         ],
         "yaxis": "y"
        },
        {
         "hovertemplate": "Model=ES300<br>Horsepower=%{x}<br>Sales_in_thousands=%{y}<extra></extra>",
         "legendgroup": "ES300",
         "marker": {
          "color": "#636efa",
          "size": 5,
          "symbol": "circle"
         },
         "mode": "markers",
         "name": "ES300",
         "orientation": "v",
         "showlegend": true,
         "type": "scatter",
         "x": [
          210
         ],
         "xaxis": "x",
         "y": [
          24.072
         ],
         "yaxis": "y"
        },
        {
         "hovertemplate": "Model=GS300<br>Horsepower=%{x}<br>Sales_in_thousands=%{y}<extra></extra>",
         "legendgroup": "GS300",
         "marker": {
          "color": "#EF553B",
          "size": 5,
          "symbol": "circle"
         },
         "mode": "markers",
         "name": "GS300",
         "orientation": "v",
         "showlegend": true,
         "type": "scatter",
         "x": [
          225
         ],
         "xaxis": "x",
         "y": [
          12.698
         ],
         "yaxis": "y"
        },
        {
         "hovertemplate": "Model=GS400<br>Horsepower=%{x}<br>Sales_in_thousands=%{y}<extra></extra>",
         "legendgroup": "GS400",
         "marker": {
          "color": "#00cc96",
          "size": 5,
          "symbol": "circle"
         },
         "mode": "markers",
         "name": "GS400",
         "orientation": "v",
         "showlegend": true,
         "type": "scatter",
         "x": [
          300
         ],
         "xaxis": "x",
         "y": [
          3.334
         ],
         "yaxis": "y"
        },
        {
         "hovertemplate": "Model=LS400<br>Horsepower=%{x}<br>Sales_in_thousands=%{y}<extra></extra>",
         "legendgroup": "LS400",
         "marker": {
          "color": "#ab63fa",
          "size": 5,
          "symbol": "circle"
         },
         "mode": "markers",
         "name": "LS400",
         "orientation": "v",
         "showlegend": true,
         "type": "scatter",
         "x": [
          290
         ],
         "xaxis": "x",
         "y": [
          6.375
         ],
         "yaxis": "y"
        },
        {
         "hovertemplate": "Model=LX470<br>Horsepower=%{x}<br>Sales_in_thousands=%{y}<extra></extra>",
         "legendgroup": "LX470",
         "marker": {
          "color": "#FFA15A",
          "size": 5,
          "symbol": "circle"
         },
         "mode": "markers",
         "name": "LX470",
         "orientation": "v",
         "showlegend": true,
         "type": "scatter",
         "x": [
          230
         ],
         "xaxis": "x",
         "y": [
          9.126
         ],
         "yaxis": "y"
        },
        {
         "hovertemplate": "Model=RX300<br>Horsepower=%{x}<br>Sales_in_thousands=%{y}<extra></extra>",
         "legendgroup": "RX300",
         "marker": {
          "color": "#19d3f3",
          "size": 5,
          "symbol": "circle"
         },
         "mode": "markers",
         "name": "RX300",
         "orientation": "v",
         "showlegend": true,
         "type": "scatter",
         "x": [
          220
         ],
         "xaxis": "x",
         "y": [
          51.238
         ],
         "yaxis": "y"
        },
        {
         "hovertemplate": "Model=Continental<br>Horsepower=%{x}<br>Sales_in_thousands=%{y}<extra></extra>",
         "legendgroup": "Continental",
         "marker": {
          "color": "#FF6692",
          "size": 5,
          "symbol": "circle"
         },
         "mode": "markers",
         "name": "Continental",
         "orientation": "v",
         "showlegend": true,
         "type": "scatter",
         "x": [
          275
         ],
         "xaxis": "x",
         "y": [
          13.798
         ],
         "yaxis": "y"
        },
        {
         "hovertemplate": "Model=Town car<br>Horsepower=%{x}<br>Sales_in_thousands=%{y}<extra></extra>",
         "legendgroup": "Town car",
         "marker": {
          "color": "#B6E880",
          "size": 5,
          "symbol": "circle"
         },
         "mode": "markers",
         "name": "Town car",
         "orientation": "v",
         "showlegend": true,
         "type": "scatter",
         "x": [
          215
         ],
         "xaxis": "x",
         "y": [
          48.911
         ],
         "yaxis": "y"
        },
        {
         "hovertemplate": "Model=Navigator<br>Horsepower=%{x}<br>Sales_in_thousands=%{y}<extra></extra>",
         "legendgroup": "Navigator",
         "marker": {
          "color": "#FF97FF",
          "size": 5,
          "symbol": "circle"
         },
         "mode": "markers",
         "name": "Navigator",
         "orientation": "v",
         "showlegend": true,
         "type": "scatter",
         "x": [
          300
         ],
         "xaxis": "x",
         "y": [
          22.925
         ],
         "yaxis": "y"
        },
        {
         "hovertemplate": "Model=Mirage<br>Horsepower=%{x}<br>Sales_in_thousands=%{y}<extra></extra>",
         "legendgroup": "Mirage",
         "marker": {
          "color": "#FECB52",
          "size": 5,
          "symbol": "circle"
         },
         "mode": "markers",
         "name": "Mirage",
         "orientation": "v",
         "showlegend": true,
         "type": "scatter",
         "x": [
          113
         ],
         "xaxis": "x",
         "y": [
          26.232
         ],
         "yaxis": "y"
        },
        {
         "hovertemplate": "Model=Eclipse<br>Horsepower=%{x}<br>Sales_in_thousands=%{y}<extra></extra>",
         "legendgroup": "Eclipse",
         "marker": {
          "color": "#636efa",
          "size": 5,
          "symbol": "circle"
         },
         "mode": "markers",
         "name": "Eclipse",
         "orientation": "v",
         "showlegend": true,
         "type": "scatter",
         "x": [
          154
         ],
         "xaxis": "x",
         "y": [
          42.541
         ],
         "yaxis": "y"
        },
        {
         "hovertemplate": "Model=Galant<br>Horsepower=%{x}<br>Sales_in_thousands=%{y}<extra></extra>",
         "legendgroup": "Galant",
         "marker": {
          "color": "#EF553B",
          "size": 5,
          "symbol": "circle"
         },
         "mode": "markers",
         "name": "Galant",
         "orientation": "v",
         "showlegend": true,
         "type": "scatter",
         "x": [
          145
         ],
         "xaxis": "x",
         "y": [
          55.616
         ],
         "yaxis": "y"
        },
        {
         "hovertemplate": "Model=Diamante<br>Horsepower=%{x}<br>Sales_in_thousands=%{y}<extra></extra>",
         "legendgroup": "Diamante",
         "marker": {
          "color": "#00cc96",
          "size": 5,
          "symbol": "circle"
         },
         "mode": "markers",
         "name": "Diamante",
         "orientation": "v",
         "showlegend": true,
         "type": "scatter",
         "x": [
          210
         ],
         "xaxis": "x",
         "y": [
          5.711
         ],
         "yaxis": "y"
        },
        {
         "hovertemplate": "Model=3000GT<br>Horsepower=%{x}<br>Sales_in_thousands=%{y}<extra></extra>",
         "legendgroup": "3000GT",
         "marker": {
          "color": "#ab63fa",
          "size": 5,
          "symbol": "circle"
         },
         "mode": "markers",
         "name": "3000GT",
         "orientation": "v",
         "showlegend": true,
         "type": "scatter",
         "x": [
          161
         ],
         "xaxis": "x",
         "y": [
          0.11
         ],
         "yaxis": "y"
        },
        {
         "hovertemplate": "Model=Montero<br>Horsepower=%{x}<br>Sales_in_thousands=%{y}<extra></extra>",
         "legendgroup": "Montero",
         "marker": {
          "color": "#FFA15A",
          "size": 5,
          "symbol": "circle"
         },
         "mode": "markers",
         "name": "Montero",
         "orientation": "v",
         "showlegend": true,
         "type": "scatter",
         "x": [
          200
         ],
         "xaxis": "x",
         "y": [
          11.337
         ],
         "yaxis": "y"
        },
        {
         "hovertemplate": "Model=Montero Sport<br>Horsepower=%{x}<br>Sales_in_thousands=%{y}<extra></extra>",
         "legendgroup": "Montero Sport",
         "marker": {
          "color": "#19d3f3",
          "size": 5,
          "symbol": "circle"
         },
         "mode": "markers",
         "name": "Montero Sport",
         "orientation": "v",
         "showlegend": true,
         "type": "scatter",
         "x": [
          173
         ],
         "xaxis": "x",
         "y": [
          39.348
         ],
         "yaxis": "y"
        },
        {
         "hovertemplate": "Model=Mystique<br>Horsepower=%{x}<br>Sales_in_thousands=%{y}<extra></extra>",
         "legendgroup": "Mystique",
         "marker": {
          "color": "#FF6692",
          "size": 5,
          "symbol": "circle"
         },
         "mode": "markers",
         "name": "Mystique",
         "orientation": "v",
         "showlegend": true,
         "type": "scatter",
         "x": [
          125
         ],
         "xaxis": "x",
         "y": [
          14.351
         ],
         "yaxis": "y"
        },
        {
         "hovertemplate": "Model=Cougar<br>Horsepower=%{x}<br>Sales_in_thousands=%{y}<extra></extra>",
         "legendgroup": "Cougar",
         "marker": {
          "color": "#B6E880",
          "size": 5,
          "symbol": "circle"
         },
         "mode": "markers",
         "name": "Cougar",
         "orientation": "v",
         "showlegend": true,
         "type": "scatter",
         "x": [
          125
         ],
         "xaxis": "x",
         "y": [
          26.529
         ],
         "yaxis": "y"
        },
        {
         "hovertemplate": "Model=Sable<br>Horsepower=%{x}<br>Sales_in_thousands=%{y}<extra></extra>",
         "legendgroup": "Sable",
         "marker": {
          "color": "#FF97FF",
          "size": 5,
          "symbol": "circle"
         },
         "mode": "markers",
         "name": "Sable",
         "orientation": "v",
         "showlegend": true,
         "type": "scatter",
         "x": [
          153
         ],
         "xaxis": "x",
         "y": [
          67.956
         ],
         "yaxis": "y"
        },
        {
         "hovertemplate": "Model=Grand Marquis<br>Horsepower=%{x}<br>Sales_in_thousands=%{y}<extra></extra>",
         "legendgroup": "Grand Marquis",
         "marker": {
          "color": "#FECB52",
          "size": 5,
          "symbol": "circle"
         },
         "mode": "markers",
         "name": "Grand Marquis",
         "orientation": "v",
         "showlegend": true,
         "type": "scatter",
         "x": [
          200
         ],
         "xaxis": "x",
         "y": [
          81.174
         ],
         "yaxis": "y"
        },
        {
         "hovertemplate": "Model=Mountaineer<br>Horsepower=%{x}<br>Sales_in_thousands=%{y}<extra></extra>",
         "legendgroup": "Mountaineer",
         "marker": {
          "color": "#636efa",
          "size": 5,
          "symbol": "circle"
         },
         "mode": "markers",
         "name": "Mountaineer",
         "orientation": "v",
         "showlegend": true,
         "type": "scatter",
         "x": [
          210
         ],
         "xaxis": "x",
         "y": [
          27.609
         ],
         "yaxis": "y"
        },
        {
         "hovertemplate": "Model=Villager<br>Horsepower=%{x}<br>Sales_in_thousands=%{y}<extra></extra>",
         "legendgroup": "Villager",
         "marker": {
          "color": "#EF553B",
          "size": 5,
          "symbol": "circle"
         },
         "mode": "markers",
         "name": "Villager",
         "orientation": "v",
         "showlegend": true,
         "type": "scatter",
         "x": [
          170
         ],
         "xaxis": "x",
         "y": [
          20.38
         ],
         "yaxis": "y"
        },
        {
         "hovertemplate": "Model=C-Class<br>Horsepower=%{x}<br>Sales_in_thousands=%{y}<extra></extra>",
         "legendgroup": "C-Class",
         "marker": {
          "color": "#00cc96",
          "size": 5,
          "symbol": "circle"
         },
         "mode": "markers",
         "name": "C-Class",
         "orientation": "v",
         "showlegend": true,
         "type": "scatter",
         "x": [
          185
         ],
         "xaxis": "x",
         "y": [
          18.392
         ],
         "yaxis": "y"
        },
        {
         "hovertemplate": "Model=E-Class<br>Horsepower=%{x}<br>Sales_in_thousands=%{y}<extra></extra>",
         "legendgroup": "E-Class",
         "marker": {
          "color": "#ab63fa",
          "size": 5,
          "symbol": "circle"
         },
         "mode": "markers",
         "name": "E-Class",
         "orientation": "v",
         "showlegend": true,
         "type": "scatter",
         "x": [
          221
         ],
         "xaxis": "x",
         "y": [
          27.602
         ],
         "yaxis": "y"
        },
        {
         "hovertemplate": "Model=S-Class<br>Horsepower=%{x}<br>Sales_in_thousands=%{y}<extra></extra>",
         "legendgroup": "S-Class",
         "marker": {
          "color": "#FFA15A",
          "size": 5,
          "symbol": "circle"
         },
         "mode": "markers",
         "name": "S-Class",
         "orientation": "v",
         "showlegend": true,
         "type": "scatter",
         "x": [
          275
         ],
         "xaxis": "x",
         "y": [
          16.774
         ],
         "yaxis": "y"
        },
        {
         "hovertemplate": "Model=SL-Class<br>Horsepower=%{x}<br>Sales_in_thousands=%{y}<extra></extra>",
         "legendgroup": "SL-Class",
         "marker": {
          "color": "#19d3f3",
          "size": 5,
          "symbol": "circle"
         },
         "mode": "markers",
         "name": "SL-Class",
         "orientation": "v",
         "showlegend": true,
         "type": "scatter",
         "x": [
          302
         ],
         "xaxis": "x",
         "y": [
          3.311
         ],
         "yaxis": "y"
        },
        {
         "hovertemplate": "Model=SLK<br>Horsepower=%{x}<br>Sales_in_thousands=%{y}<extra></extra>",
         "legendgroup": "SLK",
         "marker": {
          "color": "#FF6692",
          "size": 5,
          "symbol": "circle"
         },
         "mode": "markers",
         "name": "SLK",
         "orientation": "v",
         "showlegend": true,
         "type": "scatter",
         "x": [
          190
         ],
         "xaxis": "x",
         "y": [
          7.998
         ],
         "yaxis": "y"
        },
        {
         "hovertemplate": "Model=SLK230<br>Horsepower=%{x}<br>Sales_in_thousands=%{y}<extra></extra>",
         "legendgroup": "SLK230",
         "marker": {
          "color": "#B6E880",
          "size": 5,
          "symbol": "circle"
         },
         "mode": "markers",
         "name": "SLK230",
         "orientation": "v",
         "showlegend": true,
         "type": "scatter",
         "x": [
          185
         ],
         "xaxis": "x",
         "y": [
          1.526
         ],
         "yaxis": "y"
        },
        {
         "hovertemplate": "Model=CLK Coupe<br>Horsepower=%{x}<br>Sales_in_thousands=%{y}<extra></extra>",
         "legendgroup": "CLK Coupe",
         "marker": {
          "color": "#FF97FF",
          "size": 5,
          "symbol": "circle"
         },
         "mode": "markers",
         "name": "CLK Coupe",
         "orientation": "v",
         "showlegend": true,
         "type": "scatter",
         "x": [
          215
         ],
         "xaxis": "x",
         "y": [
          11.592
         ],
         "yaxis": "y"
        },
        {
         "hovertemplate": "Model=CL500<br>Horsepower=%{x}<br>Sales_in_thousands=%{y}<extra></extra>",
         "legendgroup": "CL500",
         "marker": {
          "color": "#FECB52",
          "size": 5,
          "symbol": "circle"
         },
         "mode": "markers",
         "name": "CL500",
         "orientation": "v",
         "showlegend": true,
         "type": "scatter",
         "x": [
          302
         ],
         "xaxis": "x",
         "y": [
          0.954
         ],
         "yaxis": "y"
        },
        {
         "hovertemplate": "Model=M-Class<br>Horsepower=%{x}<br>Sales_in_thousands=%{y}<extra></extra>",
         "legendgroup": "M-Class",
         "marker": {
          "color": "#636efa",
          "size": 5,
          "symbol": "circle"
         },
         "mode": "markers",
         "name": "M-Class",
         "orientation": "v",
         "showlegend": true,
         "type": "scatter",
         "x": [
          215
         ],
         "xaxis": "x",
         "y": [
          28.976
         ],
         "yaxis": "y"
        },
        {
         "hovertemplate": "Model=Sentra<br>Horsepower=%{x}<br>Sales_in_thousands=%{y}<extra></extra>",
         "legendgroup": "Sentra",
         "marker": {
          "color": "#EF553B",
          "size": 5,
          "symbol": "circle"
         },
         "mode": "markers",
         "name": "Sentra",
         "orientation": "v",
         "showlegend": true,
         "type": "scatter",
         "x": [
          126
         ],
         "xaxis": "x",
         "y": [
          42.643
         ],
         "yaxis": "y"
        },
        {
         "hovertemplate": "Model=Altima<br>Horsepower=%{x}<br>Sales_in_thousands=%{y}<extra></extra>",
         "legendgroup": "Altima",
         "marker": {
          "color": "#00cc96",
          "size": 5,
          "symbol": "circle"
         },
         "mode": "markers",
         "name": "Altima",
         "orientation": "v",
         "showlegend": true,
         "type": "scatter",
         "x": [
          155
         ],
         "xaxis": "x",
         "y": [
          88.094
         ],
         "yaxis": "y"
        },
        {
         "hovertemplate": "Model=Maxima<br>Horsepower=%{x}<br>Sales_in_thousands=%{y}<extra></extra>",
         "legendgroup": "Maxima",
         "marker": {
          "color": "#ab63fa",
          "size": 5,
          "symbol": "circle"
         },
         "mode": "markers",
         "name": "Maxima",
         "orientation": "v",
         "showlegend": true,
         "type": "scatter",
         "x": [
          222
         ],
         "xaxis": "x",
         "y": [
          79.853
         ],
         "yaxis": "y"
        },
        {
         "hovertemplate": "Model=Quest<br>Horsepower=%{x}<br>Sales_in_thousands=%{y}<extra></extra>",
         "legendgroup": "Quest",
         "marker": {
          "color": "#FFA15A",
          "size": 5,
          "symbol": "circle"
         },
         "mode": "markers",
         "name": "Quest",
         "orientation": "v",
         "showlegend": true,
         "type": "scatter",
         "x": [
          170
         ],
         "xaxis": "x",
         "y": [
          27.308
         ],
         "yaxis": "y"
        },
        {
         "hovertemplate": "Model=Pathfinder<br>Horsepower=%{x}<br>Sales_in_thousands=%{y}<extra></extra>",
         "legendgroup": "Pathfinder",
         "marker": {
          "color": "#19d3f3",
          "size": 5,
          "symbol": "circle"
         },
         "mode": "markers",
         "name": "Pathfinder",
         "orientation": "v",
         "showlegend": true,
         "type": "scatter",
         "x": [
          170
         ],
         "xaxis": "x",
         "y": [
          42.574
         ],
         "yaxis": "y"
        },
        {
         "hovertemplate": "Model=Xterra<br>Horsepower=%{x}<br>Sales_in_thousands=%{y}<extra></extra>",
         "legendgroup": "Xterra",
         "marker": {
          "color": "#FF6692",
          "size": 5,
          "symbol": "circle"
         },
         "mode": "markers",
         "name": "Xterra",
         "orientation": "v",
         "showlegend": true,
         "type": "scatter",
         "x": [
          170
         ],
         "xaxis": "x",
         "y": [
          54.158
         ],
         "yaxis": "y"
        },
        {
         "hovertemplate": "Model=Frontier<br>Horsepower=%{x}<br>Sales_in_thousands=%{y}<extra></extra>",
         "legendgroup": "Frontier",
         "marker": {
          "color": "#B6E880",
          "size": 5,
          "symbol": "circle"
         },
         "mode": "markers",
         "name": "Frontier",
         "orientation": "v",
         "showlegend": true,
         "type": "scatter",
         "x": [
          170
         ],
         "xaxis": "x",
         "y": [
          65.005
         ],
         "yaxis": "y"
        },
        {
         "hovertemplate": "Model=Cutlass<br>Horsepower=%{x}<br>Sales_in_thousands=%{y}<extra></extra>",
         "legendgroup": "Cutlass",
         "marker": {
          "color": "#FF97FF",
          "size": 5,
          "symbol": "circle"
         },
         "mode": "markers",
         "name": "Cutlass",
         "orientation": "v",
         "showlegend": true,
         "type": "scatter",
         "x": [
          150
         ],
         "xaxis": "x",
         "y": [
          1.112
         ],
         "yaxis": "y"
        },
        {
         "hovertemplate": "Model=Intrigue<br>Horsepower=%{x}<br>Sales_in_thousands=%{y}<extra></extra>",
         "legendgroup": "Intrigue",
         "marker": {
          "color": "#FECB52",
          "size": 5,
          "symbol": "circle"
         },
         "mode": "markers",
         "name": "Intrigue",
         "orientation": "v",
         "showlegend": true,
         "type": "scatter",
         "x": [
          215
         ],
         "xaxis": "x",
         "y": [
          38.554
         ],
         "yaxis": "y"
        },
        {
         "hovertemplate": "Model=Alero<br>Horsepower=%{x}<br>Sales_in_thousands=%{y}<extra></extra>",
         "legendgroup": "Alero",
         "marker": {
          "color": "#636efa",
          "size": 5,
          "symbol": "circle"
         },
         "mode": "markers",
         "name": "Alero",
         "orientation": "v",
         "showlegend": true,
         "type": "scatter",
         "x": [
          150
         ],
         "xaxis": "x",
         "y": [
          80.255
         ],
         "yaxis": "y"
        },
        {
         "hovertemplate": "Model=Aurora<br>Horsepower=%{x}<br>Sales_in_thousands=%{y}<extra></extra>",
         "legendgroup": "Aurora",
         "marker": {
          "color": "#EF553B",
          "size": 5,
          "symbol": "circle"
         },
         "mode": "markers",
         "name": "Aurora",
         "orientation": "v",
         "showlegend": true,
         "type": "scatter",
         "x": [
          250
         ],
         "xaxis": "x",
         "y": [
          14.69
         ],
         "yaxis": "y"
        },
        {
         "hovertemplate": "Model=Bravada<br>Horsepower=%{x}<br>Sales_in_thousands=%{y}<extra></extra>",
         "legendgroup": "Bravada",
         "marker": {
          "color": "#00cc96",
          "size": 5,
          "symbol": "circle"
         },
         "mode": "markers",
         "name": "Bravada",
         "orientation": "v",
         "showlegend": true,
         "type": "scatter",
         "x": [
          190
         ],
         "xaxis": "x",
         "y": [
          20.017
         ],
         "yaxis": "y"
        },
        {
         "hovertemplate": "Model=Silhouette<br>Horsepower=%{x}<br>Sales_in_thousands=%{y}<extra></extra>",
         "legendgroup": "Silhouette",
         "marker": {
          "color": "#ab63fa",
          "size": 5,
          "symbol": "circle"
         },
         "mode": "markers",
         "name": "Silhouette",
         "orientation": "v",
         "showlegend": true,
         "type": "scatter",
         "x": [
          185
         ],
         "xaxis": "x",
         "y": [
          24.361
         ],
         "yaxis": "y"
        },
        {
         "hovertemplate": "Model=Breeze<br>Horsepower=%{x}<br>Sales_in_thousands=%{y}<extra></extra>",
         "legendgroup": "Breeze",
         "marker": {
          "color": "#FFA15A",
          "size": 5,
          "symbol": "circle"
         },
         "mode": "markers",
         "name": "Breeze",
         "orientation": "v",
         "showlegend": true,
         "type": "scatter",
         "x": [
          132
         ],
         "xaxis": "x",
         "y": [
          5.24
         ],
         "yaxis": "y"
        },
        {
         "hovertemplate": "Model=Voyager<br>Horsepower=%{x}<br>Sales_in_thousands=%{y}<extra></extra>",
         "legendgroup": "Voyager",
         "marker": {
          "color": "#19d3f3",
          "size": 5,
          "symbol": "circle"
         },
         "mode": "markers",
         "name": "Voyager",
         "orientation": "v",
         "showlegend": true,
         "type": "scatter",
         "x": [
          150
         ],
         "xaxis": "x",
         "y": [
          24.155
         ],
         "yaxis": "y"
        },
        {
         "hovertemplate": "Model=Prowler<br>Horsepower=%{x}<br>Sales_in_thousands=%{y}<extra></extra>",
         "legendgroup": "Prowler",
         "marker": {
          "color": "#FF6692",
          "size": 5,
          "symbol": "circle"
         },
         "mode": "markers",
         "name": "Prowler",
         "orientation": "v",
         "showlegend": true,
         "type": "scatter",
         "x": [
          253
         ],
         "xaxis": "x",
         "y": [
          1.872
         ],
         "yaxis": "y"
        },
        {
         "hovertemplate": "Model=Sunfire<br>Horsepower=%{x}<br>Sales_in_thousands=%{y}<extra></extra>",
         "legendgroup": "Sunfire",
         "marker": {
          "color": "#B6E880",
          "size": 5,
          "symbol": "circle"
         },
         "mode": "markers",
         "name": "Sunfire",
         "orientation": "v",
         "showlegend": true,
         "type": "scatter",
         "x": [
          150
         ],
         "xaxis": "x",
         "y": [
          51.645
         ],
         "yaxis": "y"
        },
        {
         "hovertemplate": "Model=Grand Am<br>Horsepower=%{x}<br>Sales_in_thousands=%{y}<extra></extra>",
         "legendgroup": "Grand Am",
         "marker": {
          "color": "#FF97FF",
          "size": 5,
          "symbol": "circle"
         },
         "mode": "markers",
         "name": "Grand Am",
         "orientation": "v",
         "showlegend": true,
         "type": "scatter",
         "x": [
          175
         ],
         "xaxis": "x",
         "y": [
          131.097
         ],
         "yaxis": "y"
        },
        {
         "hovertemplate": "Model=Firebird<br>Horsepower=%{x}<br>Sales_in_thousands=%{y}<extra></extra>",
         "legendgroup": "Firebird",
         "marker": {
          "color": "#FECB52",
          "size": 5,
          "symbol": "circle"
         },
         "mode": "markers",
         "name": "Firebird",
         "orientation": "v",
         "showlegend": true,
         "type": "scatter",
         "x": [
          200
         ],
         "xaxis": "x",
         "y": [
          19.911
         ],
         "yaxis": "y"
        },
        {
         "hovertemplate": "Model=Grand Prix<br>Horsepower=%{x}<br>Sales_in_thousands=%{y}<extra></extra>",
         "legendgroup": "Grand Prix",
         "marker": {
          "color": "#636efa",
          "size": 5,
          "symbol": "circle"
         },
         "mode": "markers",
         "name": "Grand Prix",
         "orientation": "v",
         "showlegend": true,
         "type": "scatter",
         "x": [
          195
         ],
         "xaxis": "x",
         "y": [
          92.364
         ],
         "yaxis": "y"
        },
        {
         "hovertemplate": "Model=Bonneville<br>Horsepower=%{x}<br>Sales_in_thousands=%{y}<extra></extra>",
         "legendgroup": "Bonneville",
         "marker": {
          "color": "#EF553B",
          "size": 5,
          "symbol": "circle"
         },
         "mode": "markers",
         "name": "Bonneville",
         "orientation": "v",
         "showlegend": true,
         "type": "scatter",
         "x": [
          205
         ],
         "xaxis": "x",
         "y": [
          35.945
         ],
         "yaxis": "y"
        },
        {
         "hovertemplate": "Model=Montana<br>Horsepower=%{x}<br>Sales_in_thousands=%{y}<extra></extra>",
         "legendgroup": "Montana",
         "marker": {
          "color": "#00cc96",
          "size": 5,
          "symbol": "circle"
         },
         "mode": "markers",
         "name": "Montana",
         "orientation": "v",
         "showlegend": true,
         "type": "scatter",
         "x": [
          185
         ],
         "xaxis": "x",
         "y": [
          39.572
         ],
         "yaxis": "y"
        },
        {
         "hovertemplate": "Model=Boxter<br>Horsepower=%{x}<br>Sales_in_thousands=%{y}<extra></extra>",
         "legendgroup": "Boxter",
         "marker": {
          "color": "#ab63fa",
          "size": 5,
          "symbol": "circle"
         },
         "mode": "markers",
         "name": "Boxter",
         "orientation": "v",
         "showlegend": true,
         "type": "scatter",
         "x": [
          217
         ],
         "xaxis": "x",
         "y": [
          8.982
         ],
         "yaxis": "y"
        },
        {
         "hovertemplate": "Model=Carrera Coupe<br>Horsepower=%{x}<br>Sales_in_thousands=%{y}<extra></extra>",
         "legendgroup": "Carrera Coupe",
         "marker": {
          "color": "#FFA15A",
          "size": 5,
          "symbol": "circle"
         },
         "mode": "markers",
         "name": "Carrera Coupe",
         "orientation": "v",
         "showlegend": true,
         "type": "scatter",
         "x": [
          300
         ],
         "xaxis": "x",
         "y": [
          1.28
         ],
         "yaxis": "y"
        },
        {
         "hovertemplate": "Model=Carrera Cabrio<br>Horsepower=%{x}<br>Sales_in_thousands=%{y}<extra></extra>",
         "legendgroup": "Carrera Cabrio",
         "marker": {
          "color": "#19d3f3",
          "size": 5,
          "symbol": "circle"
         },
         "mode": "markers",
         "name": "Carrera Cabrio",
         "orientation": "v",
         "showlegend": true,
         "type": "scatter",
         "x": [
          300
         ],
         "xaxis": "x",
         "y": [
          1.866
         ],
         "yaxis": "y"
        },
        {
         "hovertemplate": "Model=5-Sep<br>Horsepower=%{x}<br>Sales_in_thousands=%{y}<extra></extra>",
         "legendgroup": "5-Sep",
         "marker": {
          "color": "#FF6692",
          "size": 5,
          "symbol": "circle"
         },
         "mode": "markers",
         "name": "5-Sep",
         "orientation": "v",
         "showlegend": true,
         "type": "scatter",
         "x": [
          170
         ],
         "xaxis": "x",
         "y": [
          9.191
         ],
         "yaxis": "y"
        },
        {
         "hovertemplate": "Model=3-Sep<br>Horsepower=%{x}<br>Sales_in_thousands=%{y}<extra></extra>",
         "legendgroup": "3-Sep",
         "marker": {
          "color": "#B6E880",
          "size": 5,
          "symbol": "circle"
         },
         "mode": "markers",
         "name": "3-Sep",
         "orientation": "v",
         "showlegend": true,
         "type": "scatter",
         "x": [
          185
         ],
         "xaxis": "x",
         "y": [
          12.115
         ],
         "yaxis": "y"
        },
        {
         "hovertemplate": "Model=SL<br>Horsepower=%{x}<br>Sales_in_thousands=%{y}<extra></extra>",
         "legendgroup": "SL",
         "marker": {
          "color": "#FF97FF",
          "size": 5,
          "symbol": "circle"
         },
         "mode": "markers",
         "name": "SL",
         "orientation": "v",
         "showlegend": true,
         "type": "scatter",
         "x": [
          100
         ],
         "xaxis": "x",
         "y": [
          80.62
         ],
         "yaxis": "y"
        },
        {
         "hovertemplate": "Model=SC<br>Horsepower=%{x}<br>Sales_in_thousands=%{y}<extra></extra>",
         "legendgroup": "SC",
         "marker": {
          "color": "#FECB52",
          "size": 5,
          "symbol": "circle"
         },
         "mode": "markers",
         "name": "SC",
         "orientation": "v",
         "showlegend": true,
         "type": "scatter",
         "x": [
          100
         ],
         "xaxis": "x",
         "y": [
          24.546
         ],
         "yaxis": "y"
        },
        {
         "hovertemplate": "Model=SW<br>Horsepower=%{x}<br>Sales_in_thousands=%{y}<extra></extra>",
         "legendgroup": "SW",
         "marker": {
          "color": "#636efa",
          "size": 5,
          "symbol": "circle"
         },
         "mode": "markers",
         "name": "SW",
         "orientation": "v",
         "showlegend": true,
         "type": "scatter",
         "x": [
          124
         ],
         "xaxis": "x",
         "y": [
          5.223
         ],
         "yaxis": "y"
        },
        {
         "hovertemplate": "Model=LW<br>Horsepower=%{x}<br>Sales_in_thousands=%{y}<extra></extra>",
         "legendgroup": "LW",
         "marker": {
          "color": "#EF553B",
          "size": 5,
          "symbol": "circle"
         },
         "mode": "markers",
         "name": "LW",
         "orientation": "v",
         "showlegend": true,
         "type": "scatter",
         "x": [
          137
         ],
         "xaxis": "x",
         "y": [
          8.472
         ],
         "yaxis": "y"
        },
        {
         "hovertemplate": "Model=LS<br>Horsepower=%{x}<br>Sales_in_thousands=%{y}<extra></extra>",
         "legendgroup": "LS",
         "marker": {
          "color": "#00cc96",
          "size": 5,
          "symbol": "circle"
         },
         "mode": "markers",
         "name": "LS",
         "orientation": "v",
         "showlegend": true,
         "type": "scatter",
         "x": [
          137
         ],
         "xaxis": "x",
         "y": [
          49.989
         ],
         "yaxis": "y"
        },
        {
         "hovertemplate": "Model=Outback<br>Horsepower=%{x}<br>Sales_in_thousands=%{y}<extra></extra>",
         "legendgroup": "Outback",
         "marker": {
          "color": "#ab63fa",
          "size": 5,
          "symbol": "circle"
         },
         "mode": "markers",
         "name": "Outback",
         "orientation": "v",
         "showlegend": true,
         "type": "scatter",
         "x": [
          165
         ],
         "xaxis": "x",
         "y": [
          47.107
         ],
         "yaxis": "y"
        },
        {
         "hovertemplate": "Model=Forester<br>Horsepower=%{x}<br>Sales_in_thousands=%{y}<extra></extra>",
         "legendgroup": "Forester",
         "marker": {
          "color": "#FFA15A",
          "size": 5,
          "symbol": "circle"
         },
         "mode": "markers",
         "name": "Forester",
         "orientation": "v",
         "showlegend": true,
         "type": "scatter",
         "x": [
          165
         ],
         "xaxis": "x",
         "y": [
          33.028
         ],
         "yaxis": "y"
        },
        {
         "hovertemplate": "Model=Corolla<br>Horsepower=%{x}<br>Sales_in_thousands=%{y}<extra></extra>",
         "legendgroup": "Corolla",
         "marker": {
          "color": "#19d3f3",
          "size": 5,
          "symbol": "circle"
         },
         "mode": "markers",
         "name": "Corolla",
         "orientation": "v",
         "showlegend": true,
         "type": "scatter",
         "x": [
          120
         ],
         "xaxis": "x",
         "y": [
          142.535
         ],
         "yaxis": "y"
        },
        {
         "hovertemplate": "Model=Camry<br>Horsepower=%{x}<br>Sales_in_thousands=%{y}<extra></extra>",
         "legendgroup": "Camry",
         "marker": {
          "color": "#FF6692",
          "size": 5,
          "symbol": "circle"
         },
         "mode": "markers",
         "name": "Camry",
         "orientation": "v",
         "showlegend": true,
         "type": "scatter",
         "x": [
          133
         ],
         "xaxis": "x",
         "y": [
          247.994
         ],
         "yaxis": "y"
        },
        {
         "hovertemplate": "Model=Avalon<br>Horsepower=%{x}<br>Sales_in_thousands=%{y}<extra></extra>",
         "legendgroup": "Avalon",
         "marker": {
          "color": "#B6E880",
          "size": 5,
          "symbol": "circle"
         },
         "mode": "markers",
         "name": "Avalon",
         "orientation": "v",
         "showlegend": true,
         "type": "scatter",
         "x": [
          210
         ],
         "xaxis": "x",
         "y": [
          63.849
         ],
         "yaxis": "y"
        },
        {
         "hovertemplate": "Model=Celica<br>Horsepower=%{x}<br>Sales_in_thousands=%{y}<extra></extra>",
         "legendgroup": "Celica",
         "marker": {
          "color": "#FF97FF",
          "size": 5,
          "symbol": "circle"
         },
         "mode": "markers",
         "name": "Celica",
         "orientation": "v",
         "showlegend": true,
         "type": "scatter",
         "x": [
          140
         ],
         "xaxis": "x",
         "y": [
          33.269
         ],
         "yaxis": "y"
        },
        {
         "hovertemplate": "Model=Tacoma<br>Horsepower=%{x}<br>Sales_in_thousands=%{y}<extra></extra>",
         "legendgroup": "Tacoma",
         "marker": {
          "color": "#FECB52",
          "size": 5,
          "symbol": "circle"
         },
         "mode": "markers",
         "name": "Tacoma",
         "orientation": "v",
         "showlegend": true,
         "type": "scatter",
         "x": [
          142
         ],
         "xaxis": "x",
         "y": [
          84.087
         ],
         "yaxis": "y"
        },
        {
         "hovertemplate": "Model=Sienna<br>Horsepower=%{x}<br>Sales_in_thousands=%{y}<extra></extra>",
         "legendgroup": "Sienna",
         "marker": {
          "color": "#636efa",
          "size": 5,
          "symbol": "circle"
         },
         "mode": "markers",
         "name": "Sienna",
         "orientation": "v",
         "showlegend": true,
         "type": "scatter",
         "x": [
          194
         ],
         "xaxis": "x",
         "y": [
          65.119
         ],
         "yaxis": "y"
        },
        {
         "hovertemplate": "Model=RAV4<br>Horsepower=%{x}<br>Sales_in_thousands=%{y}<extra></extra>",
         "legendgroup": "RAV4",
         "marker": {
          "color": "#EF553B",
          "size": 5,
          "symbol": "circle"
         },
         "mode": "markers",
         "name": "RAV4",
         "orientation": "v",
         "showlegend": true,
         "type": "scatter",
         "x": [
          127
         ],
         "xaxis": "x",
         "y": [
          25.106
         ],
         "yaxis": "y"
        },
        {
         "hovertemplate": "Model=4Runner<br>Horsepower=%{x}<br>Sales_in_thousands=%{y}<extra></extra>",
         "legendgroup": "4Runner",
         "marker": {
          "color": "#00cc96",
          "size": 5,
          "symbol": "circle"
         },
         "mode": "markers",
         "name": "4Runner",
         "orientation": "v",
         "showlegend": true,
         "type": "scatter",
         "x": [
          150
         ],
         "xaxis": "x",
         "y": [
          68.411
         ],
         "yaxis": "y"
        },
        {
         "hovertemplate": "Model=Land Cruiser<br>Horsepower=%{x}<br>Sales_in_thousands=%{y}<extra></extra>",
         "legendgroup": "Land Cruiser",
         "marker": {
          "color": "#ab63fa",
          "size": 5,
          "symbol": "circle"
         },
         "mode": "markers",
         "name": "Land Cruiser",
         "orientation": "v",
         "showlegend": true,
         "type": "scatter",
         "x": [
          230
         ],
         "xaxis": "x",
         "y": [
          9.835
         ],
         "yaxis": "y"
        },
        {
         "hovertemplate": "Model=Golf<br>Horsepower=%{x}<br>Sales_in_thousands=%{y}<extra></extra>",
         "legendgroup": "Golf",
         "marker": {
          "color": "#FFA15A",
          "size": 5,
          "symbol": "circle"
         },
         "mode": "markers",
         "name": "Golf",
         "orientation": "v",
         "showlegend": true,
         "type": "scatter",
         "x": [
          115
         ],
         "xaxis": "x",
         "y": [
          9.761
         ],
         "yaxis": "y"
        },
        {
         "hovertemplate": "Model=Jetta<br>Horsepower=%{x}<br>Sales_in_thousands=%{y}<extra></extra>",
         "legendgroup": "Jetta",
         "marker": {
          "color": "#19d3f3",
          "size": 5,
          "symbol": "circle"
         },
         "mode": "markers",
         "name": "Jetta",
         "orientation": "v",
         "showlegend": true,
         "type": "scatter",
         "x": [
          115
         ],
         "xaxis": "x",
         "y": [
          83.721
         ],
         "yaxis": "y"
        },
        {
         "hovertemplate": "Model=Passat<br>Horsepower=%{x}<br>Sales_in_thousands=%{y}<extra></extra>",
         "legendgroup": "Passat",
         "marker": {
          "color": "#FF6692",
          "size": 5,
          "symbol": "circle"
         },
         "mode": "markers",
         "name": "Passat",
         "orientation": "v",
         "showlegend": true,
         "type": "scatter",
         "x": [
          150
         ],
         "xaxis": "x",
         "y": [
          51.102
         ],
         "yaxis": "y"
        },
        {
         "hovertemplate": "Model=Cabrio<br>Horsepower=%{x}<br>Sales_in_thousands=%{y}<extra></extra>",
         "legendgroup": "Cabrio",
         "marker": {
          "color": "#B6E880",
          "size": 5,
          "symbol": "circle"
         },
         "mode": "markers",
         "name": "Cabrio",
         "orientation": "v",
         "showlegend": true,
         "type": "scatter",
         "x": [
          115
         ],
         "xaxis": "x",
         "y": [
          9.569
         ],
         "yaxis": "y"
        },
        {
         "hovertemplate": "Model=GTI<br>Horsepower=%{x}<br>Sales_in_thousands=%{y}<extra></extra>",
         "legendgroup": "GTI",
         "marker": {
          "color": "#FF97FF",
          "size": 5,
          "symbol": "circle"
         },
         "mode": "markers",
         "name": "GTI",
         "orientation": "v",
         "showlegend": true,
         "type": "scatter",
         "x": [
          115
         ],
         "xaxis": "x",
         "y": [
          5.596
         ],
         "yaxis": "y"
        },
        {
         "hovertemplate": "Model=Beetle<br>Horsepower=%{x}<br>Sales_in_thousands=%{y}<extra></extra>",
         "legendgroup": "Beetle",
         "marker": {
          "color": "#FECB52",
          "size": 5,
          "symbol": "circle"
         },
         "mode": "markers",
         "name": "Beetle",
         "orientation": "v",
         "showlegend": true,
         "type": "scatter",
         "x": [
          115
         ],
         "xaxis": "x",
         "y": [
          49.463
         ],
         "yaxis": "y"
        },
        {
         "hovertemplate": "Model=S40<br>Horsepower=%{x}<br>Sales_in_thousands=%{y}<extra></extra>",
         "legendgroup": "S40",
         "marker": {
          "color": "#636efa",
          "size": 5,
          "symbol": "circle"
         },
         "mode": "markers",
         "name": "S40",
         "orientation": "v",
         "showlegend": true,
         "type": "scatter",
         "x": [
          160
         ],
         "xaxis": "x",
         "y": [
          16.957
         ],
         "yaxis": "y"
        },
        {
         "hovertemplate": "Model=V40<br>Horsepower=%{x}<br>Sales_in_thousands=%{y}<extra></extra>",
         "legendgroup": "V40",
         "marker": {
          "color": "#EF553B",
          "size": 5,
          "symbol": "circle"
         },
         "mode": "markers",
         "name": "V40",
         "orientation": "v",
         "showlegend": true,
         "type": "scatter",
         "x": [
          160
         ],
         "xaxis": "x",
         "y": [
          3.545
         ],
         "yaxis": "y"
        },
        {
         "hovertemplate": "Model=S70<br>Horsepower=%{x}<br>Sales_in_thousands=%{y}<extra></extra>",
         "legendgroup": "S70",
         "marker": {
          "color": "#00cc96",
          "size": 5,
          "symbol": "circle"
         },
         "mode": "markers",
         "name": "S70",
         "orientation": "v",
         "showlegend": true,
         "type": "scatter",
         "x": [
          168
         ],
         "xaxis": "x",
         "y": [
          15.245
         ],
         "yaxis": "y"
        },
        {
         "hovertemplate": "Model=V70<br>Horsepower=%{x}<br>Sales_in_thousands=%{y}<extra></extra>",
         "legendgroup": "V70",
         "marker": {
          "color": "#ab63fa",
          "size": 5,
          "symbol": "circle"
         },
         "mode": "markers",
         "name": "V70",
         "orientation": "v",
         "showlegend": true,
         "type": "scatter",
         "x": [
          168
         ],
         "xaxis": "x",
         "y": [
          17.531
         ],
         "yaxis": "y"
        },
        {
         "hovertemplate": "Model=C70<br>Horsepower=%{x}<br>Sales_in_thousands=%{y}<extra></extra>",
         "legendgroup": "C70",
         "marker": {
          "color": "#FFA15A",
          "size": 5,
          "symbol": "circle"
         },
         "mode": "markers",
         "name": "C70",
         "orientation": "v",
         "showlegend": true,
         "type": "scatter",
         "x": [
          236
         ],
         "xaxis": "x",
         "y": [
          3.493
         ],
         "yaxis": "y"
        },
        {
         "hovertemplate": "Model=S80<br>Horsepower=%{x}<br>Sales_in_thousands=%{y}<extra></extra>",
         "legendgroup": "S80",
         "marker": {
          "color": "#19d3f3",
          "size": 5,
          "symbol": "circle"
         },
         "mode": "markers",
         "name": "S80",
         "orientation": "v",
         "showlegend": true,
         "type": "scatter",
         "x": [
          201
         ],
         "xaxis": "x",
         "y": [
          18.969
         ],
         "yaxis": "y"
        }
       ],
       "layout": {
        "legend": {
         "title": {
          "text": "Model"
         },
         "tracegroupgap": 0
        },
        "template": {
         "data": {
          "bar": [
           {
            "error_x": {
             "color": "#2a3f5f"
            },
            "error_y": {
             "color": "#2a3f5f"
            },
            "marker": {
             "line": {
              "color": "#E5ECF6",
              "width": 0.5
             },
             "pattern": {
              "fillmode": "overlay",
              "size": 10,
              "solidity": 0.2
             }
            },
            "type": "bar"
           }
          ],
          "barpolar": [
           {
            "marker": {
             "line": {
              "color": "#E5ECF6",
              "width": 0.5
             },
             "pattern": {
              "fillmode": "overlay",
              "size": 10,
              "solidity": 0.2
             }
            },
            "type": "barpolar"
           }
          ],
          "carpet": [
           {
            "aaxis": {
             "endlinecolor": "#2a3f5f",
             "gridcolor": "white",
             "linecolor": "white",
             "minorgridcolor": "white",
             "startlinecolor": "#2a3f5f"
            },
            "baxis": {
             "endlinecolor": "#2a3f5f",
             "gridcolor": "white",
             "linecolor": "white",
             "minorgridcolor": "white",
             "startlinecolor": "#2a3f5f"
            },
            "type": "carpet"
           }
          ],
          "choropleth": [
           {
            "colorbar": {
             "outlinewidth": 0,
             "ticks": ""
            },
            "type": "choropleth"
           }
          ],
          "contour": [
           {
            "colorbar": {
             "outlinewidth": 0,
             "ticks": ""
            },
            "colorscale": [
             [
              0,
              "#0d0887"
             ],
             [
              0.1111111111111111,
              "#46039f"
             ],
             [
              0.2222222222222222,
              "#7201a8"
             ],
             [
              0.3333333333333333,
              "#9c179e"
             ],
             [
              0.4444444444444444,
              "#bd3786"
             ],
             [
              0.5555555555555556,
              "#d8576b"
             ],
             [
              0.6666666666666666,
              "#ed7953"
             ],
             [
              0.7777777777777778,
              "#fb9f3a"
             ],
             [
              0.8888888888888888,
              "#fdca26"
             ],
             [
              1,
              "#f0f921"
             ]
            ],
            "type": "contour"
           }
          ],
          "contourcarpet": [
           {
            "colorbar": {
             "outlinewidth": 0,
             "ticks": ""
            },
            "type": "contourcarpet"
           }
          ],
          "heatmap": [
           {
            "colorbar": {
             "outlinewidth": 0,
             "ticks": ""
            },
            "colorscale": [
             [
              0,
              "#0d0887"
             ],
             [
              0.1111111111111111,
              "#46039f"
             ],
             [
              0.2222222222222222,
              "#7201a8"
             ],
             [
              0.3333333333333333,
              "#9c179e"
             ],
             [
              0.4444444444444444,
              "#bd3786"
             ],
             [
              0.5555555555555556,
              "#d8576b"
             ],
             [
              0.6666666666666666,
              "#ed7953"
             ],
             [
              0.7777777777777778,
              "#fb9f3a"
             ],
             [
              0.8888888888888888,
              "#fdca26"
             ],
             [
              1,
              "#f0f921"
             ]
            ],
            "type": "heatmap"
           }
          ],
          "heatmapgl": [
           {
            "colorbar": {
             "outlinewidth": 0,
             "ticks": ""
            },
            "colorscale": [
             [
              0,
              "#0d0887"
             ],
             [
              0.1111111111111111,
              "#46039f"
             ],
             [
              0.2222222222222222,
              "#7201a8"
             ],
             [
              0.3333333333333333,
              "#9c179e"
             ],
             [
              0.4444444444444444,
              "#bd3786"
             ],
             [
              0.5555555555555556,
              "#d8576b"
             ],
             [
              0.6666666666666666,
              "#ed7953"
             ],
             [
              0.7777777777777778,
              "#fb9f3a"
             ],
             [
              0.8888888888888888,
              "#fdca26"
             ],
             [
              1,
              "#f0f921"
             ]
            ],
            "type": "heatmapgl"
           }
          ],
          "histogram": [
           {
            "marker": {
             "pattern": {
              "fillmode": "overlay",
              "size": 10,
              "solidity": 0.2
             }
            },
            "type": "histogram"
           }
          ],
          "histogram2d": [
           {
            "colorbar": {
             "outlinewidth": 0,
             "ticks": ""
            },
            "colorscale": [
             [
              0,
              "#0d0887"
             ],
             [
              0.1111111111111111,
              "#46039f"
             ],
             [
              0.2222222222222222,
              "#7201a8"
             ],
             [
              0.3333333333333333,
              "#9c179e"
             ],
             [
              0.4444444444444444,
              "#bd3786"
             ],
             [
              0.5555555555555556,
              "#d8576b"
             ],
             [
              0.6666666666666666,
              "#ed7953"
             ],
             [
              0.7777777777777778,
              "#fb9f3a"
             ],
             [
              0.8888888888888888,
              "#fdca26"
             ],
             [
              1,
              "#f0f921"
             ]
            ],
            "type": "histogram2d"
           }
          ],
          "histogram2dcontour": [
           {
            "colorbar": {
             "outlinewidth": 0,
             "ticks": ""
            },
            "colorscale": [
             [
              0,
              "#0d0887"
             ],
             [
              0.1111111111111111,
              "#46039f"
             ],
             [
              0.2222222222222222,
              "#7201a8"
             ],
             [
              0.3333333333333333,
              "#9c179e"
             ],
             [
              0.4444444444444444,
              "#bd3786"
             ],
             [
              0.5555555555555556,
              "#d8576b"
             ],
             [
              0.6666666666666666,
              "#ed7953"
             ],
             [
              0.7777777777777778,
              "#fb9f3a"
             ],
             [
              0.8888888888888888,
              "#fdca26"
             ],
             [
              1,
              "#f0f921"
             ]
            ],
            "type": "histogram2dcontour"
           }
          ],
          "mesh3d": [
           {
            "colorbar": {
             "outlinewidth": 0,
             "ticks": ""
            },
            "type": "mesh3d"
           }
          ],
          "parcoords": [
           {
            "line": {
             "colorbar": {
              "outlinewidth": 0,
              "ticks": ""
             }
            },
            "type": "parcoords"
           }
          ],
          "pie": [
           {
            "automargin": true,
            "type": "pie"
           }
          ],
          "scatter": [
           {
            "marker": {
             "colorbar": {
              "outlinewidth": 0,
              "ticks": ""
             }
            },
            "type": "scatter"
           }
          ],
          "scatter3d": [
           {
            "line": {
             "colorbar": {
              "outlinewidth": 0,
              "ticks": ""
             }
            },
            "marker": {
             "colorbar": {
              "outlinewidth": 0,
              "ticks": ""
             }
            },
            "type": "scatter3d"
           }
          ],
          "scattercarpet": [
           {
            "marker": {
             "colorbar": {
              "outlinewidth": 0,
              "ticks": ""
             }
            },
            "type": "scattercarpet"
           }
          ],
          "scattergeo": [
           {
            "marker": {
             "colorbar": {
              "outlinewidth": 0,
              "ticks": ""
             }
            },
            "type": "scattergeo"
           }
          ],
          "scattergl": [
           {
            "marker": {
             "colorbar": {
              "outlinewidth": 0,
              "ticks": ""
             }
            },
            "type": "scattergl"
           }
          ],
          "scattermapbox": [
           {
            "marker": {
             "colorbar": {
              "outlinewidth": 0,
              "ticks": ""
             }
            },
            "type": "scattermapbox"
           }
          ],
          "scatterpolar": [
           {
            "marker": {
             "colorbar": {
              "outlinewidth": 0,
              "ticks": ""
             }
            },
            "type": "scatterpolar"
           }
          ],
          "scatterpolargl": [
           {
            "marker": {
             "colorbar": {
              "outlinewidth": 0,
              "ticks": ""
             }
            },
            "type": "scatterpolargl"
           }
          ],
          "scatterternary": [
           {
            "marker": {
             "colorbar": {
              "outlinewidth": 0,
              "ticks": ""
             }
            },
            "type": "scatterternary"
           }
          ],
          "surface": [
           {
            "colorbar": {
             "outlinewidth": 0,
             "ticks": ""
            },
            "colorscale": [
             [
              0,
              "#0d0887"
             ],
             [
              0.1111111111111111,
              "#46039f"
             ],
             [
              0.2222222222222222,
              "#7201a8"
             ],
             [
              0.3333333333333333,
              "#9c179e"
             ],
             [
              0.4444444444444444,
              "#bd3786"
             ],
             [
              0.5555555555555556,
              "#d8576b"
             ],
             [
              0.6666666666666666,
              "#ed7953"
             ],
             [
              0.7777777777777778,
              "#fb9f3a"
             ],
             [
              0.8888888888888888,
              "#fdca26"
             ],
             [
              1,
              "#f0f921"
             ]
            ],
            "type": "surface"
           }
          ],
          "table": [
           {
            "cells": {
             "fill": {
              "color": "#EBF0F8"
             },
             "line": {
              "color": "white"
             }
            },
            "header": {
             "fill": {
              "color": "#C8D4E3"
             },
             "line": {
              "color": "white"
             }
            },
            "type": "table"
           }
          ]
         },
         "layout": {
          "annotationdefaults": {
           "arrowcolor": "#2a3f5f",
           "arrowhead": 0,
           "arrowwidth": 1
          },
          "autotypenumbers": "strict",
          "coloraxis": {
           "colorbar": {
            "outlinewidth": 0,
            "ticks": ""
           }
          },
          "colorscale": {
           "diverging": [
            [
             0,
             "#8e0152"
            ],
            [
             0.1,
             "#c51b7d"
            ],
            [
             0.2,
             "#de77ae"
            ],
            [
             0.3,
             "#f1b6da"
            ],
            [
             0.4,
             "#fde0ef"
            ],
            [
             0.5,
             "#f7f7f7"
            ],
            [
             0.6,
             "#e6f5d0"
            ],
            [
             0.7,
             "#b8e186"
            ],
            [
             0.8,
             "#7fbc41"
            ],
            [
             0.9,
             "#4d9221"
            ],
            [
             1,
             "#276419"
            ]
           ],
           "sequential": [
            [
             0,
             "#0d0887"
            ],
            [
             0.1111111111111111,
             "#46039f"
            ],
            [
             0.2222222222222222,
             "#7201a8"
            ],
            [
             0.3333333333333333,
             "#9c179e"
            ],
            [
             0.4444444444444444,
             "#bd3786"
            ],
            [
             0.5555555555555556,
             "#d8576b"
            ],
            [
             0.6666666666666666,
             "#ed7953"
            ],
            [
             0.7777777777777778,
             "#fb9f3a"
            ],
            [
             0.8888888888888888,
             "#fdca26"
            ],
            [
             1,
             "#f0f921"
            ]
           ],
           "sequentialminus": [
            [
             0,
             "#0d0887"
            ],
            [
             0.1111111111111111,
             "#46039f"
            ],
            [
             0.2222222222222222,
             "#7201a8"
            ],
            [
             0.3333333333333333,
             "#9c179e"
            ],
            [
             0.4444444444444444,
             "#bd3786"
            ],
            [
             0.5555555555555556,
             "#d8576b"
            ],
            [
             0.6666666666666666,
             "#ed7953"
            ],
            [
             0.7777777777777778,
             "#fb9f3a"
            ],
            [
             0.8888888888888888,
             "#fdca26"
            ],
            [
             1,
             "#f0f921"
            ]
           ]
          },
          "colorway": [
           "#636efa",
           "#EF553B",
           "#00cc96",
           "#ab63fa",
           "#FFA15A",
           "#19d3f3",
           "#FF6692",
           "#B6E880",
           "#FF97FF",
           "#FECB52"
          ],
          "font": {
           "color": "#2a3f5f"
          },
          "geo": {
           "bgcolor": "white",
           "lakecolor": "white",
           "landcolor": "#E5ECF6",
           "showlakes": true,
           "showland": true,
           "subunitcolor": "white"
          },
          "hoverlabel": {
           "align": "left"
          },
          "hovermode": "closest",
          "mapbox": {
           "style": "light"
          },
          "paper_bgcolor": "white",
          "plot_bgcolor": "#E5ECF6",
          "polar": {
           "angularaxis": {
            "gridcolor": "white",
            "linecolor": "white",
            "ticks": ""
           },
           "bgcolor": "#E5ECF6",
           "radialaxis": {
            "gridcolor": "white",
            "linecolor": "white",
            "ticks": ""
           }
          },
          "scene": {
           "xaxis": {
            "backgroundcolor": "#E5ECF6",
            "gridcolor": "white",
            "gridwidth": 2,
            "linecolor": "white",
            "showbackground": true,
            "ticks": "",
            "zerolinecolor": "white"
           },
           "yaxis": {
            "backgroundcolor": "#E5ECF6",
            "gridcolor": "white",
            "gridwidth": 2,
            "linecolor": "white",
            "showbackground": true,
            "ticks": "",
            "zerolinecolor": "white"
           },
           "zaxis": {
            "backgroundcolor": "#E5ECF6",
            "gridcolor": "white",
            "gridwidth": 2,
            "linecolor": "white",
            "showbackground": true,
            "ticks": "",
            "zerolinecolor": "white"
           }
          },
          "shapedefaults": {
           "line": {
            "color": "#2a3f5f"
           }
          },
          "ternary": {
           "aaxis": {
            "gridcolor": "white",
            "linecolor": "white",
            "ticks": ""
           },
           "baxis": {
            "gridcolor": "white",
            "linecolor": "white",
            "ticks": ""
           },
           "bgcolor": "#E5ECF6",
           "caxis": {
            "gridcolor": "white",
            "linecolor": "white",
            "ticks": ""
           }
          },
          "title": {
           "x": 0.05
          },
          "xaxis": {
           "automargin": true,
           "gridcolor": "white",
           "linecolor": "white",
           "ticks": "",
           "title": {
            "standoff": 15
           },
           "zerolinecolor": "white",
           "zerolinewidth": 2
          },
          "yaxis": {
           "automargin": true,
           "gridcolor": "white",
           "linecolor": "white",
           "ticks": "",
           "title": {
            "standoff": 15
           },
           "zerolinecolor": "white",
           "zerolinewidth": 2
          }
         }
        },
        "title": {
         "text": "HorsePower vs. Sales in Thousands",
         "x": 0.5,
         "xanchor": "center",
         "y": 0.9,
         "yanchor": "top"
        },
        "xaxis": {
         "anchor": "y",
         "domain": [
          0,
          1
         ],
         "title": {
          "text": "Horsepower"
         }
        },
        "yaxis": {
         "anchor": "x",
         "domain": [
          0,
          1
         ],
         "title": {
          "text": "Sales_in_thousands"
         }
        }
       }
      },
      "text/html": [
       "<div>                            <div id=\"4f4d8644-b396-4ec1-a720-a77f9cc33e35\" class=\"plotly-graph-div\" style=\"height:525px; width:100%;\"></div>            <script type=\"text/javascript\">                require([\"plotly\"], function(Plotly) {                    window.PLOTLYENV=window.PLOTLYENV || {};                                    if (document.getElementById(\"4f4d8644-b396-4ec1-a720-a77f9cc33e35\")) {                    Plotly.newPlot(                        \"4f4d8644-b396-4ec1-a720-a77f9cc33e35\",                        [{\"hovertemplate\":\"Model=Integra<br>Horsepower=%{x}<br>Sales_in_thousands=%{y}<extra></extra>\",\"legendgroup\":\"Integra\",\"marker\":{\"color\":\"#636efa\",\"symbol\":\"circle\",\"size\":5},\"mode\":\"markers\",\"name\":\"Integra\",\"orientation\":\"v\",\"showlegend\":true,\"x\":[140.0],\"xaxis\":\"x\",\"y\":[16.919],\"yaxis\":\"y\",\"type\":\"scatter\"},{\"hovertemplate\":\"Model=TL<br>Horsepower=%{x}<br>Sales_in_thousands=%{y}<extra></extra>\",\"legendgroup\":\"TL\",\"marker\":{\"color\":\"#EF553B\",\"symbol\":\"circle\",\"size\":5},\"mode\":\"markers\",\"name\":\"TL\",\"orientation\":\"v\",\"showlegend\":true,\"x\":[225.0],\"xaxis\":\"x\",\"y\":[39.384],\"yaxis\":\"y\",\"type\":\"scatter\"},{\"hovertemplate\":\"Model=CL<br>Horsepower=%{x}<br>Sales_in_thousands=%{y}<extra></extra>\",\"legendgroup\":\"CL\",\"marker\":{\"color\":\"#00cc96\",\"symbol\":\"circle\",\"size\":5},\"mode\":\"markers\",\"name\":\"CL\",\"orientation\":\"v\",\"showlegend\":true,\"x\":[225.0],\"xaxis\":\"x\",\"y\":[14.114],\"yaxis\":\"y\",\"type\":\"scatter\"},{\"hovertemplate\":\"Model=RL<br>Horsepower=%{x}<br>Sales_in_thousands=%{y}<extra></extra>\",\"legendgroup\":\"RL\",\"marker\":{\"color\":\"#ab63fa\",\"symbol\":\"circle\",\"size\":5},\"mode\":\"markers\",\"name\":\"RL\",\"orientation\":\"v\",\"showlegend\":true,\"x\":[210.0],\"xaxis\":\"x\",\"y\":[8.588],\"yaxis\":\"y\",\"type\":\"scatter\"},{\"hovertemplate\":\"Model=A4<br>Horsepower=%{x}<br>Sales_in_thousands=%{y}<extra></extra>\",\"legendgroup\":\"A4\",\"marker\":{\"color\":\"#FFA15A\",\"symbol\":\"circle\",\"size\":5},\"mode\":\"markers\",\"name\":\"A4\",\"orientation\":\"v\",\"showlegend\":true,\"x\":[150.0],\"xaxis\":\"x\",\"y\":[20.397],\"yaxis\":\"y\",\"type\":\"scatter\"},{\"hovertemplate\":\"Model=A6<br>Horsepower=%{x}<br>Sales_in_thousands=%{y}<extra></extra>\",\"legendgroup\":\"A6\",\"marker\":{\"color\":\"#19d3f3\",\"symbol\":\"circle\",\"size\":5},\"mode\":\"markers\",\"name\":\"A6\",\"orientation\":\"v\",\"showlegend\":true,\"x\":[200.0],\"xaxis\":\"x\",\"y\":[18.78],\"yaxis\":\"y\",\"type\":\"scatter\"},{\"hovertemplate\":\"Model=A8<br>Horsepower=%{x}<br>Sales_in_thousands=%{y}<extra></extra>\",\"legendgroup\":\"A8\",\"marker\":{\"color\":\"#FF6692\",\"symbol\":\"circle\",\"size\":5},\"mode\":\"markers\",\"name\":\"A8\",\"orientation\":\"v\",\"showlegend\":true,\"x\":[310.0],\"xaxis\":\"x\",\"y\":[1.38],\"yaxis\":\"y\",\"type\":\"scatter\"},{\"hovertemplate\":\"Model=323i<br>Horsepower=%{x}<br>Sales_in_thousands=%{y}<extra></extra>\",\"legendgroup\":\"323i\",\"marker\":{\"color\":\"#B6E880\",\"symbol\":\"circle\",\"size\":5},\"mode\":\"markers\",\"name\":\"323i\",\"orientation\":\"v\",\"showlegend\":true,\"x\":[170.0],\"xaxis\":\"x\",\"y\":[19.747],\"yaxis\":\"y\",\"type\":\"scatter\"},{\"hovertemplate\":\"Model=328i<br>Horsepower=%{x}<br>Sales_in_thousands=%{y}<extra></extra>\",\"legendgroup\":\"328i\",\"marker\":{\"color\":\"#FF97FF\",\"symbol\":\"circle\",\"size\":5},\"mode\":\"markers\",\"name\":\"328i\",\"orientation\":\"v\",\"showlegend\":true,\"x\":[193.0],\"xaxis\":\"x\",\"y\":[9.231],\"yaxis\":\"y\",\"type\":\"scatter\"},{\"hovertemplate\":\"Model=528i<br>Horsepower=%{x}<br>Sales_in_thousands=%{y}<extra></extra>\",\"legendgroup\":\"528i\",\"marker\":{\"color\":\"#FECB52\",\"symbol\":\"circle\",\"size\":5},\"mode\":\"markers\",\"name\":\"528i\",\"orientation\":\"v\",\"showlegend\":true,\"x\":[193.0],\"xaxis\":\"x\",\"y\":[17.527],\"yaxis\":\"y\",\"type\":\"scatter\"},{\"hovertemplate\":\"Model=Century<br>Horsepower=%{x}<br>Sales_in_thousands=%{y}<extra></extra>\",\"legendgroup\":\"Century\",\"marker\":{\"color\":\"#636efa\",\"symbol\":\"circle\",\"size\":5},\"mode\":\"markers\",\"name\":\"Century\",\"orientation\":\"v\",\"showlegend\":true,\"x\":[175.0],\"xaxis\":\"x\",\"y\":[91.561],\"yaxis\":\"y\",\"type\":\"scatter\"},{\"hovertemplate\":\"Model=Regal<br>Horsepower=%{x}<br>Sales_in_thousands=%{y}<extra></extra>\",\"legendgroup\":\"Regal\",\"marker\":{\"color\":\"#EF553B\",\"symbol\":\"circle\",\"size\":5},\"mode\":\"markers\",\"name\":\"Regal\",\"orientation\":\"v\",\"showlegend\":true,\"x\":[240.0],\"xaxis\":\"x\",\"y\":[39.35],\"yaxis\":\"y\",\"type\":\"scatter\"},{\"hovertemplate\":\"Model=Park Avenue<br>Horsepower=%{x}<br>Sales_in_thousands=%{y}<extra></extra>\",\"legendgroup\":\"Park Avenue\",\"marker\":{\"color\":\"#00cc96\",\"symbol\":\"circle\",\"size\":5},\"mode\":\"markers\",\"name\":\"Park Avenue\",\"orientation\":\"v\",\"showlegend\":true,\"x\":[205.0],\"xaxis\":\"x\",\"y\":[27.851],\"yaxis\":\"y\",\"type\":\"scatter\"},{\"hovertemplate\":\"Model=LeSabre<br>Horsepower=%{x}<br>Sales_in_thousands=%{y}<extra></extra>\",\"legendgroup\":\"LeSabre\",\"marker\":{\"color\":\"#ab63fa\",\"symbol\":\"circle\",\"size\":5},\"mode\":\"markers\",\"name\":\"LeSabre\",\"orientation\":\"v\",\"showlegend\":true,\"x\":[205.0],\"xaxis\":\"x\",\"y\":[83.257],\"yaxis\":\"y\",\"type\":\"scatter\"},{\"hovertemplate\":\"Model=DeVille<br>Horsepower=%{x}<br>Sales_in_thousands=%{y}<extra></extra>\",\"legendgroup\":\"DeVille\",\"marker\":{\"color\":\"#FFA15A\",\"symbol\":\"circle\",\"size\":5},\"mode\":\"markers\",\"name\":\"DeVille\",\"orientation\":\"v\",\"showlegend\":true,\"x\":[275.0],\"xaxis\":\"x\",\"y\":[63.729],\"yaxis\":\"y\",\"type\":\"scatter\"},{\"hovertemplate\":\"Model=Seville<br>Horsepower=%{x}<br>Sales_in_thousands=%{y}<extra></extra>\",\"legendgroup\":\"Seville\",\"marker\":{\"color\":\"#19d3f3\",\"symbol\":\"circle\",\"size\":5},\"mode\":\"markers\",\"name\":\"Seville\",\"orientation\":\"v\",\"showlegend\":true,\"x\":[275.0],\"xaxis\":\"x\",\"y\":[15.943],\"yaxis\":\"y\",\"type\":\"scatter\"},{\"hovertemplate\":\"Model=Eldorado<br>Horsepower=%{x}<br>Sales_in_thousands=%{y}<extra></extra>\",\"legendgroup\":\"Eldorado\",\"marker\":{\"color\":\"#FF6692\",\"symbol\":\"circle\",\"size\":5},\"mode\":\"markers\",\"name\":\"Eldorado\",\"orientation\":\"v\",\"showlegend\":true,\"x\":[275.0],\"xaxis\":\"x\",\"y\":[6.536],\"yaxis\":\"y\",\"type\":\"scatter\"},{\"hovertemplate\":\"Model=Catera<br>Horsepower=%{x}<br>Sales_in_thousands=%{y}<extra></extra>\",\"legendgroup\":\"Catera\",\"marker\":{\"color\":\"#B6E880\",\"symbol\":\"circle\",\"size\":5},\"mode\":\"markers\",\"name\":\"Catera\",\"orientation\":\"v\",\"showlegend\":true,\"x\":[200.0],\"xaxis\":\"x\",\"y\":[11.185],\"yaxis\":\"y\",\"type\":\"scatter\"},{\"hovertemplate\":\"Model=Escalade<br>Horsepower=%{x}<br>Sales_in_thousands=%{y}<extra></extra>\",\"legendgroup\":\"Escalade\",\"marker\":{\"color\":\"#FF97FF\",\"symbol\":\"circle\",\"size\":5},\"mode\":\"markers\",\"name\":\"Escalade\",\"orientation\":\"v\",\"showlegend\":true,\"x\":[255.0],\"xaxis\":\"x\",\"y\":[14.785],\"yaxis\":\"y\",\"type\":\"scatter\"},{\"hovertemplate\":\"Model=Cavalier<br>Horsepower=%{x}<br>Sales_in_thousands=%{y}<extra></extra>\",\"legendgroup\":\"Cavalier\",\"marker\":{\"color\":\"#FECB52\",\"symbol\":\"circle\",\"size\":5},\"mode\":\"markers\",\"name\":\"Cavalier\",\"orientation\":\"v\",\"showlegend\":true,\"x\":[115.0],\"xaxis\":\"x\",\"y\":[145.519],\"yaxis\":\"y\",\"type\":\"scatter\"},{\"hovertemplate\":\"Model=Malibu<br>Horsepower=%{x}<br>Sales_in_thousands=%{y}<extra></extra>\",\"legendgroup\":\"Malibu\",\"marker\":{\"color\":\"#636efa\",\"symbol\":\"circle\",\"size\":5},\"mode\":\"markers\",\"name\":\"Malibu\",\"orientation\":\"v\",\"showlegend\":true,\"x\":[170.0],\"xaxis\":\"x\",\"y\":[135.126],\"yaxis\":\"y\",\"type\":\"scatter\"},{\"hovertemplate\":\"Model=Lumina<br>Horsepower=%{x}<br>Sales_in_thousands=%{y}<extra></extra>\",\"legendgroup\":\"Lumina\",\"marker\":{\"color\":\"#EF553B\",\"symbol\":\"circle\",\"size\":5},\"mode\":\"markers\",\"name\":\"Lumina\",\"orientation\":\"v\",\"showlegend\":true,\"x\":[175.0],\"xaxis\":\"x\",\"y\":[24.629],\"yaxis\":\"y\",\"type\":\"scatter\"},{\"hovertemplate\":\"Model=Monte Carlo<br>Horsepower=%{x}<br>Sales_in_thousands=%{y}<extra></extra>\",\"legendgroup\":\"Monte Carlo\",\"marker\":{\"color\":\"#00cc96\",\"symbol\":\"circle\",\"size\":5},\"mode\":\"markers\",\"name\":\"Monte Carlo\",\"orientation\":\"v\",\"showlegend\":true,\"x\":[180.0],\"xaxis\":\"x\",\"y\":[42.593],\"yaxis\":\"y\",\"type\":\"scatter\"},{\"hovertemplate\":\"Model=Camaro<br>Horsepower=%{x}<br>Sales_in_thousands=%{y}<extra></extra>\",\"legendgroup\":\"Camaro\",\"marker\":{\"color\":\"#ab63fa\",\"symbol\":\"circle\",\"size\":5},\"mode\":\"markers\",\"name\":\"Camaro\",\"orientation\":\"v\",\"showlegend\":true,\"x\":[200.0],\"xaxis\":\"x\",\"y\":[26.402],\"yaxis\":\"y\",\"type\":\"scatter\"},{\"hovertemplate\":\"Model=Corvette<br>Horsepower=%{x}<br>Sales_in_thousands=%{y}<extra></extra>\",\"legendgroup\":\"Corvette\",\"marker\":{\"color\":\"#FFA15A\",\"symbol\":\"circle\",\"size\":5},\"mode\":\"markers\",\"name\":\"Corvette\",\"orientation\":\"v\",\"showlegend\":true,\"x\":[345.0],\"xaxis\":\"x\",\"y\":[17.947],\"yaxis\":\"y\",\"type\":\"scatter\"},{\"hovertemplate\":\"Model=Prizm<br>Horsepower=%{x}<br>Sales_in_thousands=%{y}<extra></extra>\",\"legendgroup\":\"Prizm\",\"marker\":{\"color\":\"#19d3f3\",\"symbol\":\"circle\",\"size\":5},\"mode\":\"markers\",\"name\":\"Prizm\",\"orientation\":\"v\",\"showlegend\":true,\"x\":[120.0],\"xaxis\":\"x\",\"y\":[32.299],\"yaxis\":\"y\",\"type\":\"scatter\"},{\"hovertemplate\":\"Model=Metro<br>Horsepower=%{x}<br>Sales_in_thousands=%{y}<extra></extra>\",\"legendgroup\":\"Metro\",\"marker\":{\"color\":\"#FF6692\",\"symbol\":\"circle\",\"size\":5},\"mode\":\"markers\",\"name\":\"Metro\",\"orientation\":\"v\",\"showlegend\":true,\"x\":[55.0],\"xaxis\":\"x\",\"y\":[21.855],\"yaxis\":\"y\",\"type\":\"scatter\"},{\"hovertemplate\":\"Model=Impala<br>Horsepower=%{x}<br>Sales_in_thousands=%{y}<extra></extra>\",\"legendgroup\":\"Impala\",\"marker\":{\"color\":\"#B6E880\",\"symbol\":\"circle\",\"size\":5},\"mode\":\"markers\",\"name\":\"Impala\",\"orientation\":\"v\",\"showlegend\":true,\"x\":[180.0],\"xaxis\":\"x\",\"y\":[107.995],\"yaxis\":\"y\",\"type\":\"scatter\"},{\"hovertemplate\":\"Model=Sebring Coupe<br>Horsepower=%{x}<br>Sales_in_thousands=%{y}<extra></extra>\",\"legendgroup\":\"Sebring Coupe\",\"marker\":{\"color\":\"#FF97FF\",\"symbol\":\"circle\",\"size\":5},\"mode\":\"markers\",\"name\":\"Sebring Coupe\",\"orientation\":\"v\",\"showlegend\":true,\"x\":[163.0],\"xaxis\":\"x\",\"y\":[7.854],\"yaxis\":\"y\",\"type\":\"scatter\"},{\"hovertemplate\":\"Model=Sebring Conv.<br>Horsepower=%{x}<br>Sales_in_thousands=%{y}<extra></extra>\",\"legendgroup\":\"Sebring Conv.\",\"marker\":{\"color\":\"#FECB52\",\"symbol\":\"circle\",\"size\":5},\"mode\":\"markers\",\"name\":\"Sebring Conv.\",\"orientation\":\"v\",\"showlegend\":true,\"x\":[168.0],\"xaxis\":\"x\",\"y\":[32.775],\"yaxis\":\"y\",\"type\":\"scatter\"},{\"hovertemplate\":\"Model=Concorde<br>Horsepower=%{x}<br>Sales_in_thousands=%{y}<extra></extra>\",\"legendgroup\":\"Concorde\",\"marker\":{\"color\":\"#636efa\",\"symbol\":\"circle\",\"size\":5},\"mode\":\"markers\",\"name\":\"Concorde\",\"orientation\":\"v\",\"showlegend\":true,\"x\":[200.0],\"xaxis\":\"x\",\"y\":[31.148],\"yaxis\":\"y\",\"type\":\"scatter\"},{\"hovertemplate\":\"Model=Cirrus<br>Horsepower=%{x}<br>Sales_in_thousands=%{y}<extra></extra>\",\"legendgroup\":\"Cirrus\",\"marker\":{\"color\":\"#EF553B\",\"symbol\":\"circle\",\"size\":5},\"mode\":\"markers\",\"name\":\"Cirrus\",\"orientation\":\"v\",\"showlegend\":true,\"x\":[132.0],\"xaxis\":\"x\",\"y\":[32.306],\"yaxis\":\"y\",\"type\":\"scatter\"},{\"hovertemplate\":\"Model=LHS<br>Horsepower=%{x}<br>Sales_in_thousands=%{y}<extra></extra>\",\"legendgroup\":\"LHS\",\"marker\":{\"color\":\"#00cc96\",\"symbol\":\"circle\",\"size\":5},\"mode\":\"markers\",\"name\":\"LHS\",\"orientation\":\"v\",\"showlegend\":true,\"x\":[253.0],\"xaxis\":\"x\",\"y\":[13.462],\"yaxis\":\"y\",\"type\":\"scatter\"},{\"hovertemplate\":\"Model=Town & Country<br>Horsepower=%{x}<br>Sales_in_thousands=%{y}<extra></extra>\",\"legendgroup\":\"Town & Country\",\"marker\":{\"color\":\"#ab63fa\",\"symbol\":\"circle\",\"size\":5},\"mode\":\"markers\",\"name\":\"Town & Country\",\"orientation\":\"v\",\"showlegend\":true,\"x\":[null],\"xaxis\":\"x\",\"y\":[53.48],\"yaxis\":\"y\",\"type\":\"scatter\"},{\"hovertemplate\":\"Model=300M<br>Horsepower=%{x}<br>Sales_in_thousands=%{y}<extra></extra>\",\"legendgroup\":\"300M\",\"marker\":{\"color\":\"#FFA15A\",\"symbol\":\"circle\",\"size\":5},\"mode\":\"markers\",\"name\":\"300M\",\"orientation\":\"v\",\"showlegend\":true,\"x\":[253.0],\"xaxis\":\"x\",\"y\":[30.696],\"yaxis\":\"y\",\"type\":\"scatter\"},{\"hovertemplate\":\"Model=Neon<br>Horsepower=%{x}<br>Sales_in_thousands=%{y}<extra></extra>\",\"legendgroup\":\"Neon\",\"marker\":{\"color\":\"#19d3f3\",\"symbol\":\"circle\",\"size\":5},\"mode\":\"markers\",\"name\":\"Neon\",\"orientation\":\"v\",\"showlegend\":true,\"x\":[132.0,132.0,132.0,132.0],\"xaxis\":\"x\",\"y\":[76.034,76.034,32.734,32.734],\"yaxis\":\"y\",\"type\":\"scatter\"},{\"hovertemplate\":\"Model=Avenger<br>Horsepower=%{x}<br>Sales_in_thousands=%{y}<extra></extra>\",\"legendgroup\":\"Avenger\",\"marker\":{\"color\":\"#FF6692\",\"symbol\":\"circle\",\"size\":5},\"mode\":\"markers\",\"name\":\"Avenger\",\"orientation\":\"v\",\"showlegend\":true,\"x\":[163.0],\"xaxis\":\"x\",\"y\":[4.734],\"yaxis\":\"y\",\"type\":\"scatter\"},{\"hovertemplate\":\"Model=Stratus<br>Horsepower=%{x}<br>Sales_in_thousands=%{y}<extra></extra>\",\"legendgroup\":\"Stratus\",\"marker\":{\"color\":\"#B6E880\",\"symbol\":\"circle\",\"size\":5},\"mode\":\"markers\",\"name\":\"Stratus\",\"orientation\":\"v\",\"showlegend\":true,\"x\":[168.0],\"xaxis\":\"x\",\"y\":[71.186],\"yaxis\":\"y\",\"type\":\"scatter\"},{\"hovertemplate\":\"Model=Intrepid<br>Horsepower=%{x}<br>Sales_in_thousands=%{y}<extra></extra>\",\"legendgroup\":\"Intrepid\",\"marker\":{\"color\":\"#FF97FF\",\"symbol\":\"circle\",\"size\":5},\"mode\":\"markers\",\"name\":\"Intrepid\",\"orientation\":\"v\",\"showlegend\":true,\"x\":[202.0],\"xaxis\":\"x\",\"y\":[88.028],\"yaxis\":\"y\",\"type\":\"scatter\"},{\"hovertemplate\":\"Model=Viper<br>Horsepower=%{x}<br>Sales_in_thousands=%{y}<extra></extra>\",\"legendgroup\":\"Viper\",\"marker\":{\"color\":\"#FECB52\",\"symbol\":\"circle\",\"size\":5},\"mode\":\"markers\",\"name\":\"Viper\",\"orientation\":\"v\",\"showlegend\":true,\"x\":[450.0],\"xaxis\":\"x\",\"y\":[0.916],\"yaxis\":\"y\",\"type\":\"scatter\"},{\"hovertemplate\":\"Model=Ram Pickup<br>Horsepower=%{x}<br>Sales_in_thousands=%{y}<extra></extra>\",\"legendgroup\":\"Ram Pickup\",\"marker\":{\"color\":\"#636efa\",\"symbol\":\"circle\",\"size\":5},\"mode\":\"markers\",\"name\":\"Ram Pickup\",\"orientation\":\"v\",\"showlegend\":true,\"x\":[230.0],\"xaxis\":\"x\",\"y\":[227.061],\"yaxis\":\"y\",\"type\":\"scatter\"},{\"hovertemplate\":\"Model=Ram Wagon<br>Horsepower=%{x}<br>Sales_in_thousands=%{y}<extra></extra>\",\"legendgroup\":\"Ram Wagon\",\"marker\":{\"color\":\"#EF553B\",\"symbol\":\"circle\",\"size\":5},\"mode\":\"markers\",\"name\":\"Ram Wagon\",\"orientation\":\"v\",\"showlegend\":true,\"x\":[175.0],\"xaxis\":\"x\",\"y\":[16.767],\"yaxis\":\"y\",\"type\":\"scatter\"},{\"hovertemplate\":\"Model=Ram Van<br>Horsepower=%{x}<br>Sales_in_thousands=%{y}<extra></extra>\",\"legendgroup\":\"Ram Van\",\"marker\":{\"color\":\"#00cc96\",\"symbol\":\"circle\",\"size\":5},\"mode\":\"markers\",\"name\":\"Ram Van\",\"orientation\":\"v\",\"showlegend\":true,\"x\":[175.0],\"xaxis\":\"x\",\"y\":[31.038],\"yaxis\":\"y\",\"type\":\"scatter\"},{\"hovertemplate\":\"Model=Dakota<br>Horsepower=%{x}<br>Sales_in_thousands=%{y}<extra></extra>\",\"legendgroup\":\"Dakota\",\"marker\":{\"color\":\"#ab63fa\",\"symbol\":\"circle\",\"size\":5},\"mode\":\"markers\",\"name\":\"Dakota\",\"orientation\":\"v\",\"showlegend\":true,\"x\":[120.0],\"xaxis\":\"x\",\"y\":[111.313],\"yaxis\":\"y\",\"type\":\"scatter\"},{\"hovertemplate\":\"Model=Durango<br>Horsepower=%{x}<br>Sales_in_thousands=%{y}<extra></extra>\",\"legendgroup\":\"Durango\",\"marker\":{\"color\":\"#FFA15A\",\"symbol\":\"circle\",\"size\":5},\"mode\":\"markers\",\"name\":\"Durango\",\"orientation\":\"v\",\"showlegend\":true,\"x\":[230.0],\"xaxis\":\"x\",\"y\":[101.323],\"yaxis\":\"y\",\"type\":\"scatter\"},{\"hovertemplate\":\"Model=Caravan<br>Horsepower=%{x}<br>Sales_in_thousands=%{y}<extra></extra>\",\"legendgroup\":\"Caravan\",\"marker\":{\"color\":\"#19d3f3\",\"symbol\":\"circle\",\"size\":5},\"mode\":\"markers\",\"name\":\"Caravan\",\"orientation\":\"v\",\"showlegend\":true,\"x\":[150.0],\"xaxis\":\"x\",\"y\":[181.749],\"yaxis\":\"y\",\"type\":\"scatter\"},{\"hovertemplate\":\"Model=Escort<br>Horsepower=%{x}<br>Sales_in_thousands=%{y}<extra></extra>\",\"legendgroup\":\"Escort\",\"marker\":{\"color\":\"#FF6692\",\"symbol\":\"circle\",\"size\":5},\"mode\":\"markers\",\"name\":\"Escort\",\"orientation\":\"v\",\"showlegend\":true,\"x\":[110.0],\"xaxis\":\"x\",\"y\":[70.227],\"yaxis\":\"y\",\"type\":\"scatter\"},{\"hovertemplate\":\"Model=Mustang<br>Horsepower=%{x}<br>Sales_in_thousands=%{y}<extra></extra>\",\"legendgroup\":\"Mustang\",\"marker\":{\"color\":\"#B6E880\",\"symbol\":\"circle\",\"size\":5},\"mode\":\"markers\",\"name\":\"Mustang\",\"orientation\":\"v\",\"showlegend\":true,\"x\":[190.0],\"xaxis\":\"x\",\"y\":[113.369],\"yaxis\":\"y\",\"type\":\"scatter\"},{\"hovertemplate\":\"Model=Contour<br>Horsepower=%{x}<br>Sales_in_thousands=%{y}<extra></extra>\",\"legendgroup\":\"Contour\",\"marker\":{\"color\":\"#FF97FF\",\"symbol\":\"circle\",\"size\":5},\"mode\":\"markers\",\"name\":\"Contour\",\"orientation\":\"v\",\"showlegend\":true,\"x\":[170.0],\"xaxis\":\"x\",\"y\":[35.068],\"yaxis\":\"y\",\"type\":\"scatter\"},{\"hovertemplate\":\"Model=Taurus<br>Horsepower=%{x}<br>Sales_in_thousands=%{y}<extra></extra>\",\"legendgroup\":\"Taurus\",\"marker\":{\"color\":\"#FECB52\",\"symbol\":\"circle\",\"size\":5},\"mode\":\"markers\",\"name\":\"Taurus\",\"orientation\":\"v\",\"showlegend\":true,\"x\":[155.0],\"xaxis\":\"x\",\"y\":[245.815],\"yaxis\":\"y\",\"type\":\"scatter\"},{\"hovertemplate\":\"Model=Focus<br>Horsepower=%{x}<br>Sales_in_thousands=%{y}<extra></extra>\",\"legendgroup\":\"Focus\",\"marker\":{\"color\":\"#636efa\",\"symbol\":\"circle\",\"size\":5},\"mode\":\"markers\",\"name\":\"Focus\",\"orientation\":\"v\",\"showlegend\":true,\"x\":[107.0],\"xaxis\":\"x\",\"y\":[175.67],\"yaxis\":\"y\",\"type\":\"scatter\"},{\"hovertemplate\":\"Model=Crown Victoria<br>Horsepower=%{x}<br>Sales_in_thousands=%{y}<extra></extra>\",\"legendgroup\":\"Crown Victoria\",\"marker\":{\"color\":\"#EF553B\",\"symbol\":\"circle\",\"size\":5},\"mode\":\"markers\",\"name\":\"Crown Victoria\",\"orientation\":\"v\",\"showlegend\":true,\"x\":[200.0],\"xaxis\":\"x\",\"y\":[63.403],\"yaxis\":\"y\",\"type\":\"scatter\"},{\"hovertemplate\":\"Model=Explorer<br>Horsepower=%{x}<br>Sales_in_thousands=%{y}<extra></extra>\",\"legendgroup\":\"Explorer\",\"marker\":{\"color\":\"#00cc96\",\"symbol\":\"circle\",\"size\":5},\"mode\":\"markers\",\"name\":\"Explorer\",\"orientation\":\"v\",\"showlegend\":true,\"x\":[210.0],\"xaxis\":\"x\",\"y\":[276.747],\"yaxis\":\"y\",\"type\":\"scatter\"},{\"hovertemplate\":\"Model=Windstar<br>Horsepower=%{x}<br>Sales_in_thousands=%{y}<extra></extra>\",\"legendgroup\":\"Windstar\",\"marker\":{\"color\":\"#ab63fa\",\"symbol\":\"circle\",\"size\":5},\"mode\":\"markers\",\"name\":\"Windstar\",\"orientation\":\"v\",\"showlegend\":true,\"x\":[150.0],\"xaxis\":\"x\",\"y\":[155.787],\"yaxis\":\"y\",\"type\":\"scatter\"},{\"hovertemplate\":\"Model=Expedition<br>Horsepower=%{x}<br>Sales_in_thousands=%{y}<extra></extra>\",\"legendgroup\":\"Expedition\",\"marker\":{\"color\":\"#FFA15A\",\"symbol\":\"circle\",\"size\":5},\"mode\":\"markers\",\"name\":\"Expedition\",\"orientation\":\"v\",\"showlegend\":true,\"x\":[240.0],\"xaxis\":\"x\",\"y\":[125.338],\"yaxis\":\"y\",\"type\":\"scatter\"},{\"hovertemplate\":\"Model=Ranger<br>Horsepower=%{x}<br>Sales_in_thousands=%{y}<extra></extra>\",\"legendgroup\":\"Ranger\",\"marker\":{\"color\":\"#19d3f3\",\"symbol\":\"circle\",\"size\":5},\"mode\":\"markers\",\"name\":\"Ranger\",\"orientation\":\"v\",\"showlegend\":true,\"x\":[119.0],\"xaxis\":\"x\",\"y\":[220.65],\"yaxis\":\"y\",\"type\":\"scatter\"},{\"hovertemplate\":\"Model=F-Series<br>Horsepower=%{x}<br>Sales_in_thousands=%{y}<extra></extra>\",\"legendgroup\":\"F-Series\",\"marker\":{\"color\":\"#FF6692\",\"symbol\":\"circle\",\"size\":5},\"mode\":\"markers\",\"name\":\"F-Series\",\"orientation\":\"v\",\"showlegend\":true,\"x\":[220.0],\"xaxis\":\"x\",\"y\":[540.561],\"yaxis\":\"y\",\"type\":\"scatter\"},{\"hovertemplate\":\"Model=Civic<br>Horsepower=%{x}<br>Sales_in_thousands=%{y}<extra></extra>\",\"legendgroup\":\"Civic\",\"marker\":{\"color\":\"#B6E880\",\"symbol\":\"circle\",\"size\":5},\"mode\":\"markers\",\"name\":\"Civic\",\"orientation\":\"v\",\"showlegend\":true,\"x\":[106.0],\"xaxis\":\"x\",\"y\":[199.685],\"yaxis\":\"y\",\"type\":\"scatter\"},{\"hovertemplate\":\"Model=Accord<br>Horsepower=%{x}<br>Sales_in_thousands=%{y}<extra></extra>\",\"legendgroup\":\"Accord\",\"marker\":{\"color\":\"#FF97FF\",\"symbol\":\"circle\",\"size\":5},\"mode\":\"markers\",\"name\":\"Accord\",\"orientation\":\"v\",\"showlegend\":true,\"x\":[135.0],\"xaxis\":\"x\",\"y\":[230.902],\"yaxis\":\"y\",\"type\":\"scatter\"},{\"hovertemplate\":\"Model=CR-V<br>Horsepower=%{x}<br>Sales_in_thousands=%{y}<extra></extra>\",\"legendgroup\":\"CR-V\",\"marker\":{\"color\":\"#FECB52\",\"symbol\":\"circle\",\"size\":5},\"mode\":\"markers\",\"name\":\"CR-V\",\"orientation\":\"v\",\"showlegend\":true,\"x\":[146.0],\"xaxis\":\"x\",\"y\":[73.203],\"yaxis\":\"y\",\"type\":\"scatter\"},{\"hovertemplate\":\"Model=Passport<br>Horsepower=%{x}<br>Sales_in_thousands=%{y}<extra></extra>\",\"legendgroup\":\"Passport\",\"marker\":{\"color\":\"#636efa\",\"symbol\":\"circle\",\"size\":5},\"mode\":\"markers\",\"name\":\"Passport\",\"orientation\":\"v\",\"showlegend\":true,\"x\":[205.0],\"xaxis\":\"x\",\"y\":[12.855],\"yaxis\":\"y\",\"type\":\"scatter\"},{\"hovertemplate\":\"Model=Odyssey<br>Horsepower=%{x}<br>Sales_in_thousands=%{y}<extra></extra>\",\"legendgroup\":\"Odyssey\",\"marker\":{\"color\":\"#EF553B\",\"symbol\":\"circle\",\"size\":5},\"mode\":\"markers\",\"name\":\"Odyssey\",\"orientation\":\"v\",\"showlegend\":true,\"x\":[210.0],\"xaxis\":\"x\",\"y\":[76.029],\"yaxis\":\"y\",\"type\":\"scatter\"},{\"hovertemplate\":\"Model=Accent<br>Horsepower=%{x}<br>Sales_in_thousands=%{y}<extra></extra>\",\"legendgroup\":\"Accent\",\"marker\":{\"color\":\"#00cc96\",\"symbol\":\"circle\",\"size\":5},\"mode\":\"markers\",\"name\":\"Accent\",\"orientation\":\"v\",\"showlegend\":true,\"x\":[92.0],\"xaxis\":\"x\",\"y\":[41.184],\"yaxis\":\"y\",\"type\":\"scatter\"},{\"hovertemplate\":\"Model=Elantra<br>Horsepower=%{x}<br>Sales_in_thousands=%{y}<extra></extra>\",\"legendgroup\":\"Elantra\",\"marker\":{\"color\":\"#ab63fa\",\"symbol\":\"circle\",\"size\":5},\"mode\":\"markers\",\"name\":\"Elantra\",\"orientation\":\"v\",\"showlegend\":true,\"x\":[140.0],\"xaxis\":\"x\",\"y\":[66.692],\"yaxis\":\"y\",\"type\":\"scatter\"},{\"hovertemplate\":\"Model=Sonata<br>Horsepower=%{x}<br>Sales_in_thousands=%{y}<extra></extra>\",\"legendgroup\":\"Sonata\",\"marker\":{\"color\":\"#FFA15A\",\"symbol\":\"circle\",\"size\":5},\"mode\":\"markers\",\"name\":\"Sonata\",\"orientation\":\"v\",\"showlegend\":true,\"x\":[148.0],\"xaxis\":\"x\",\"y\":[29.45],\"yaxis\":\"y\",\"type\":\"scatter\"},{\"hovertemplate\":\"Model=I30<br>Horsepower=%{x}<br>Sales_in_thousands=%{y}<extra></extra>\",\"legendgroup\":\"I30\",\"marker\":{\"color\":\"#19d3f3\",\"symbol\":\"circle\",\"size\":5},\"mode\":\"markers\",\"name\":\"I30\",\"orientation\":\"v\",\"showlegend\":true,\"x\":[227.0],\"xaxis\":\"x\",\"y\":[23.713],\"yaxis\":\"y\",\"type\":\"scatter\"},{\"hovertemplate\":\"Model=S-Type<br>Horsepower=%{x}<br>Sales_in_thousands=%{y}<extra></extra>\",\"legendgroup\":\"S-Type\",\"marker\":{\"color\":\"#FF6692\",\"symbol\":\"circle\",\"size\":5},\"mode\":\"markers\",\"name\":\"S-Type\",\"orientation\":\"v\",\"showlegend\":true,\"x\":[240.0],\"xaxis\":\"x\",\"y\":[15.467],\"yaxis\":\"y\",\"type\":\"scatter\"},{\"hovertemplate\":\"Model=Wrangler<br>Horsepower=%{x}<br>Sales_in_thousands=%{y}<extra></extra>\",\"legendgroup\":\"Wrangler\",\"marker\":{\"color\":\"#B6E880\",\"symbol\":\"circle\",\"size\":5},\"mode\":\"markers\",\"name\":\"Wrangler\",\"orientation\":\"v\",\"showlegend\":true,\"x\":[120.0],\"xaxis\":\"x\",\"y\":[55.557],\"yaxis\":\"y\",\"type\":\"scatter\"},{\"hovertemplate\":\"Model=Cherokee<br>Horsepower=%{x}<br>Sales_in_thousands=%{y}<extra></extra>\",\"legendgroup\":\"Cherokee\",\"marker\":{\"color\":\"#FF97FF\",\"symbol\":\"circle\",\"size\":5},\"mode\":\"markers\",\"name\":\"Cherokee\",\"orientation\":\"v\",\"showlegend\":true,\"x\":[190.0],\"xaxis\":\"x\",\"y\":[80.556],\"yaxis\":\"y\",\"type\":\"scatter\"},{\"hovertemplate\":\"Model=Grand Cherokee<br>Horsepower=%{x}<br>Sales_in_thousands=%{y}<extra></extra>\",\"legendgroup\":\"Grand Cherokee\",\"marker\":{\"color\":\"#FECB52\",\"symbol\":\"circle\",\"size\":5},\"mode\":\"markers\",\"name\":\"Grand Cherokee\",\"orientation\":\"v\",\"showlegend\":true,\"x\":[195.0],\"xaxis\":\"x\",\"y\":[157.04],\"yaxis\":\"y\",\"type\":\"scatter\"},{\"hovertemplate\":\"Model=ES300<br>Horsepower=%{x}<br>Sales_in_thousands=%{y}<extra></extra>\",\"legendgroup\":\"ES300\",\"marker\":{\"color\":\"#636efa\",\"symbol\":\"circle\",\"size\":5},\"mode\":\"markers\",\"name\":\"ES300\",\"orientation\":\"v\",\"showlegend\":true,\"x\":[210.0],\"xaxis\":\"x\",\"y\":[24.072],\"yaxis\":\"y\",\"type\":\"scatter\"},{\"hovertemplate\":\"Model=GS300<br>Horsepower=%{x}<br>Sales_in_thousands=%{y}<extra></extra>\",\"legendgroup\":\"GS300\",\"marker\":{\"color\":\"#EF553B\",\"symbol\":\"circle\",\"size\":5},\"mode\":\"markers\",\"name\":\"GS300\",\"orientation\":\"v\",\"showlegend\":true,\"x\":[225.0],\"xaxis\":\"x\",\"y\":[12.698],\"yaxis\":\"y\",\"type\":\"scatter\"},{\"hovertemplate\":\"Model=GS400<br>Horsepower=%{x}<br>Sales_in_thousands=%{y}<extra></extra>\",\"legendgroup\":\"GS400\",\"marker\":{\"color\":\"#00cc96\",\"symbol\":\"circle\",\"size\":5},\"mode\":\"markers\",\"name\":\"GS400\",\"orientation\":\"v\",\"showlegend\":true,\"x\":[300.0],\"xaxis\":\"x\",\"y\":[3.334],\"yaxis\":\"y\",\"type\":\"scatter\"},{\"hovertemplate\":\"Model=LS400<br>Horsepower=%{x}<br>Sales_in_thousands=%{y}<extra></extra>\",\"legendgroup\":\"LS400\",\"marker\":{\"color\":\"#ab63fa\",\"symbol\":\"circle\",\"size\":5},\"mode\":\"markers\",\"name\":\"LS400\",\"orientation\":\"v\",\"showlegend\":true,\"x\":[290.0],\"xaxis\":\"x\",\"y\":[6.375],\"yaxis\":\"y\",\"type\":\"scatter\"},{\"hovertemplate\":\"Model=LX470<br>Horsepower=%{x}<br>Sales_in_thousands=%{y}<extra></extra>\",\"legendgroup\":\"LX470\",\"marker\":{\"color\":\"#FFA15A\",\"symbol\":\"circle\",\"size\":5},\"mode\":\"markers\",\"name\":\"LX470\",\"orientation\":\"v\",\"showlegend\":true,\"x\":[230.0],\"xaxis\":\"x\",\"y\":[9.126],\"yaxis\":\"y\",\"type\":\"scatter\"},{\"hovertemplate\":\"Model=RX300<br>Horsepower=%{x}<br>Sales_in_thousands=%{y}<extra></extra>\",\"legendgroup\":\"RX300\",\"marker\":{\"color\":\"#19d3f3\",\"symbol\":\"circle\",\"size\":5},\"mode\":\"markers\",\"name\":\"RX300\",\"orientation\":\"v\",\"showlegend\":true,\"x\":[220.0],\"xaxis\":\"x\",\"y\":[51.238],\"yaxis\":\"y\",\"type\":\"scatter\"},{\"hovertemplate\":\"Model=Continental<br>Horsepower=%{x}<br>Sales_in_thousands=%{y}<extra></extra>\",\"legendgroup\":\"Continental\",\"marker\":{\"color\":\"#FF6692\",\"symbol\":\"circle\",\"size\":5},\"mode\":\"markers\",\"name\":\"Continental\",\"orientation\":\"v\",\"showlegend\":true,\"x\":[275.0],\"xaxis\":\"x\",\"y\":[13.798],\"yaxis\":\"y\",\"type\":\"scatter\"},{\"hovertemplate\":\"Model=Town car<br>Horsepower=%{x}<br>Sales_in_thousands=%{y}<extra></extra>\",\"legendgroup\":\"Town car\",\"marker\":{\"color\":\"#B6E880\",\"symbol\":\"circle\",\"size\":5},\"mode\":\"markers\",\"name\":\"Town car\",\"orientation\":\"v\",\"showlegend\":true,\"x\":[215.0],\"xaxis\":\"x\",\"y\":[48.911],\"yaxis\":\"y\",\"type\":\"scatter\"},{\"hovertemplate\":\"Model=Navigator<br>Horsepower=%{x}<br>Sales_in_thousands=%{y}<extra></extra>\",\"legendgroup\":\"Navigator\",\"marker\":{\"color\":\"#FF97FF\",\"symbol\":\"circle\",\"size\":5},\"mode\":\"markers\",\"name\":\"Navigator\",\"orientation\":\"v\",\"showlegend\":true,\"x\":[300.0],\"xaxis\":\"x\",\"y\":[22.925],\"yaxis\":\"y\",\"type\":\"scatter\"},{\"hovertemplate\":\"Model=Mirage<br>Horsepower=%{x}<br>Sales_in_thousands=%{y}<extra></extra>\",\"legendgroup\":\"Mirage\",\"marker\":{\"color\":\"#FECB52\",\"symbol\":\"circle\",\"size\":5},\"mode\":\"markers\",\"name\":\"Mirage\",\"orientation\":\"v\",\"showlegend\":true,\"x\":[113.0],\"xaxis\":\"x\",\"y\":[26.232],\"yaxis\":\"y\",\"type\":\"scatter\"},{\"hovertemplate\":\"Model=Eclipse<br>Horsepower=%{x}<br>Sales_in_thousands=%{y}<extra></extra>\",\"legendgroup\":\"Eclipse\",\"marker\":{\"color\":\"#636efa\",\"symbol\":\"circle\",\"size\":5},\"mode\":\"markers\",\"name\":\"Eclipse\",\"orientation\":\"v\",\"showlegend\":true,\"x\":[154.0],\"xaxis\":\"x\",\"y\":[42.541],\"yaxis\":\"y\",\"type\":\"scatter\"},{\"hovertemplate\":\"Model=Galant<br>Horsepower=%{x}<br>Sales_in_thousands=%{y}<extra></extra>\",\"legendgroup\":\"Galant\",\"marker\":{\"color\":\"#EF553B\",\"symbol\":\"circle\",\"size\":5},\"mode\":\"markers\",\"name\":\"Galant\",\"orientation\":\"v\",\"showlegend\":true,\"x\":[145.0],\"xaxis\":\"x\",\"y\":[55.616],\"yaxis\":\"y\",\"type\":\"scatter\"},{\"hovertemplate\":\"Model=Diamante<br>Horsepower=%{x}<br>Sales_in_thousands=%{y}<extra></extra>\",\"legendgroup\":\"Diamante\",\"marker\":{\"color\":\"#00cc96\",\"symbol\":\"circle\",\"size\":5},\"mode\":\"markers\",\"name\":\"Diamante\",\"orientation\":\"v\",\"showlegend\":true,\"x\":[210.0],\"xaxis\":\"x\",\"y\":[5.711],\"yaxis\":\"y\",\"type\":\"scatter\"},{\"hovertemplate\":\"Model=3000GT<br>Horsepower=%{x}<br>Sales_in_thousands=%{y}<extra></extra>\",\"legendgroup\":\"3000GT\",\"marker\":{\"color\":\"#ab63fa\",\"symbol\":\"circle\",\"size\":5},\"mode\":\"markers\",\"name\":\"3000GT\",\"orientation\":\"v\",\"showlegend\":true,\"x\":[161.0],\"xaxis\":\"x\",\"y\":[0.11],\"yaxis\":\"y\",\"type\":\"scatter\"},{\"hovertemplate\":\"Model=Montero<br>Horsepower=%{x}<br>Sales_in_thousands=%{y}<extra></extra>\",\"legendgroup\":\"Montero\",\"marker\":{\"color\":\"#FFA15A\",\"symbol\":\"circle\",\"size\":5},\"mode\":\"markers\",\"name\":\"Montero\",\"orientation\":\"v\",\"showlegend\":true,\"x\":[200.0],\"xaxis\":\"x\",\"y\":[11.337],\"yaxis\":\"y\",\"type\":\"scatter\"},{\"hovertemplate\":\"Model=Montero Sport<br>Horsepower=%{x}<br>Sales_in_thousands=%{y}<extra></extra>\",\"legendgroup\":\"Montero Sport\",\"marker\":{\"color\":\"#19d3f3\",\"symbol\":\"circle\",\"size\":5},\"mode\":\"markers\",\"name\":\"Montero Sport\",\"orientation\":\"v\",\"showlegend\":true,\"x\":[173.0],\"xaxis\":\"x\",\"y\":[39.348],\"yaxis\":\"y\",\"type\":\"scatter\"},{\"hovertemplate\":\"Model=Mystique<br>Horsepower=%{x}<br>Sales_in_thousands=%{y}<extra></extra>\",\"legendgroup\":\"Mystique\",\"marker\":{\"color\":\"#FF6692\",\"symbol\":\"circle\",\"size\":5},\"mode\":\"markers\",\"name\":\"Mystique\",\"orientation\":\"v\",\"showlegend\":true,\"x\":[125.0],\"xaxis\":\"x\",\"y\":[14.351],\"yaxis\":\"y\",\"type\":\"scatter\"},{\"hovertemplate\":\"Model=Cougar<br>Horsepower=%{x}<br>Sales_in_thousands=%{y}<extra></extra>\",\"legendgroup\":\"Cougar\",\"marker\":{\"color\":\"#B6E880\",\"symbol\":\"circle\",\"size\":5},\"mode\":\"markers\",\"name\":\"Cougar\",\"orientation\":\"v\",\"showlegend\":true,\"x\":[125.0],\"xaxis\":\"x\",\"y\":[26.529],\"yaxis\":\"y\",\"type\":\"scatter\"},{\"hovertemplate\":\"Model=Sable<br>Horsepower=%{x}<br>Sales_in_thousands=%{y}<extra></extra>\",\"legendgroup\":\"Sable\",\"marker\":{\"color\":\"#FF97FF\",\"symbol\":\"circle\",\"size\":5},\"mode\":\"markers\",\"name\":\"Sable\",\"orientation\":\"v\",\"showlegend\":true,\"x\":[153.0],\"xaxis\":\"x\",\"y\":[67.956],\"yaxis\":\"y\",\"type\":\"scatter\"},{\"hovertemplate\":\"Model=Grand Marquis<br>Horsepower=%{x}<br>Sales_in_thousands=%{y}<extra></extra>\",\"legendgroup\":\"Grand Marquis\",\"marker\":{\"color\":\"#FECB52\",\"symbol\":\"circle\",\"size\":5},\"mode\":\"markers\",\"name\":\"Grand Marquis\",\"orientation\":\"v\",\"showlegend\":true,\"x\":[200.0],\"xaxis\":\"x\",\"y\":[81.174],\"yaxis\":\"y\",\"type\":\"scatter\"},{\"hovertemplate\":\"Model=Mountaineer<br>Horsepower=%{x}<br>Sales_in_thousands=%{y}<extra></extra>\",\"legendgroup\":\"Mountaineer\",\"marker\":{\"color\":\"#636efa\",\"symbol\":\"circle\",\"size\":5},\"mode\":\"markers\",\"name\":\"Mountaineer\",\"orientation\":\"v\",\"showlegend\":true,\"x\":[210.0],\"xaxis\":\"x\",\"y\":[27.609],\"yaxis\":\"y\",\"type\":\"scatter\"},{\"hovertemplate\":\"Model=Villager<br>Horsepower=%{x}<br>Sales_in_thousands=%{y}<extra></extra>\",\"legendgroup\":\"Villager\",\"marker\":{\"color\":\"#EF553B\",\"symbol\":\"circle\",\"size\":5},\"mode\":\"markers\",\"name\":\"Villager\",\"orientation\":\"v\",\"showlegend\":true,\"x\":[170.0],\"xaxis\":\"x\",\"y\":[20.38],\"yaxis\":\"y\",\"type\":\"scatter\"},{\"hovertemplate\":\"Model=C-Class<br>Horsepower=%{x}<br>Sales_in_thousands=%{y}<extra></extra>\",\"legendgroup\":\"C-Class\",\"marker\":{\"color\":\"#00cc96\",\"symbol\":\"circle\",\"size\":5},\"mode\":\"markers\",\"name\":\"C-Class\",\"orientation\":\"v\",\"showlegend\":true,\"x\":[185.0],\"xaxis\":\"x\",\"y\":[18.392],\"yaxis\":\"y\",\"type\":\"scatter\"},{\"hovertemplate\":\"Model=E-Class<br>Horsepower=%{x}<br>Sales_in_thousands=%{y}<extra></extra>\",\"legendgroup\":\"E-Class\",\"marker\":{\"color\":\"#ab63fa\",\"symbol\":\"circle\",\"size\":5},\"mode\":\"markers\",\"name\":\"E-Class\",\"orientation\":\"v\",\"showlegend\":true,\"x\":[221.0],\"xaxis\":\"x\",\"y\":[27.602],\"yaxis\":\"y\",\"type\":\"scatter\"},{\"hovertemplate\":\"Model=S-Class<br>Horsepower=%{x}<br>Sales_in_thousands=%{y}<extra></extra>\",\"legendgroup\":\"S-Class\",\"marker\":{\"color\":\"#FFA15A\",\"symbol\":\"circle\",\"size\":5},\"mode\":\"markers\",\"name\":\"S-Class\",\"orientation\":\"v\",\"showlegend\":true,\"x\":[275.0],\"xaxis\":\"x\",\"y\":[16.774],\"yaxis\":\"y\",\"type\":\"scatter\"},{\"hovertemplate\":\"Model=SL-Class<br>Horsepower=%{x}<br>Sales_in_thousands=%{y}<extra></extra>\",\"legendgroup\":\"SL-Class\",\"marker\":{\"color\":\"#19d3f3\",\"symbol\":\"circle\",\"size\":5},\"mode\":\"markers\",\"name\":\"SL-Class\",\"orientation\":\"v\",\"showlegend\":true,\"x\":[302.0],\"xaxis\":\"x\",\"y\":[3.311],\"yaxis\":\"y\",\"type\":\"scatter\"},{\"hovertemplate\":\"Model=SLK<br>Horsepower=%{x}<br>Sales_in_thousands=%{y}<extra></extra>\",\"legendgroup\":\"SLK\",\"marker\":{\"color\":\"#FF6692\",\"symbol\":\"circle\",\"size\":5},\"mode\":\"markers\",\"name\":\"SLK\",\"orientation\":\"v\",\"showlegend\":true,\"x\":[190.0],\"xaxis\":\"x\",\"y\":[7.998],\"yaxis\":\"y\",\"type\":\"scatter\"},{\"hovertemplate\":\"Model=SLK230<br>Horsepower=%{x}<br>Sales_in_thousands=%{y}<extra></extra>\",\"legendgroup\":\"SLK230\",\"marker\":{\"color\":\"#B6E880\",\"symbol\":\"circle\",\"size\":5},\"mode\":\"markers\",\"name\":\"SLK230\",\"orientation\":\"v\",\"showlegend\":true,\"x\":[185.0],\"xaxis\":\"x\",\"y\":[1.526],\"yaxis\":\"y\",\"type\":\"scatter\"},{\"hovertemplate\":\"Model=CLK Coupe<br>Horsepower=%{x}<br>Sales_in_thousands=%{y}<extra></extra>\",\"legendgroup\":\"CLK Coupe\",\"marker\":{\"color\":\"#FF97FF\",\"symbol\":\"circle\",\"size\":5},\"mode\":\"markers\",\"name\":\"CLK Coupe\",\"orientation\":\"v\",\"showlegend\":true,\"x\":[215.0],\"xaxis\":\"x\",\"y\":[11.592],\"yaxis\":\"y\",\"type\":\"scatter\"},{\"hovertemplate\":\"Model=CL500<br>Horsepower=%{x}<br>Sales_in_thousands=%{y}<extra></extra>\",\"legendgroup\":\"CL500\",\"marker\":{\"color\":\"#FECB52\",\"symbol\":\"circle\",\"size\":5},\"mode\":\"markers\",\"name\":\"CL500\",\"orientation\":\"v\",\"showlegend\":true,\"x\":[302.0],\"xaxis\":\"x\",\"y\":[0.954],\"yaxis\":\"y\",\"type\":\"scatter\"},{\"hovertemplate\":\"Model=M-Class<br>Horsepower=%{x}<br>Sales_in_thousands=%{y}<extra></extra>\",\"legendgroup\":\"M-Class\",\"marker\":{\"color\":\"#636efa\",\"symbol\":\"circle\",\"size\":5},\"mode\":\"markers\",\"name\":\"M-Class\",\"orientation\":\"v\",\"showlegend\":true,\"x\":[215.0],\"xaxis\":\"x\",\"y\":[28.976],\"yaxis\":\"y\",\"type\":\"scatter\"},{\"hovertemplate\":\"Model=Sentra<br>Horsepower=%{x}<br>Sales_in_thousands=%{y}<extra></extra>\",\"legendgroup\":\"Sentra\",\"marker\":{\"color\":\"#EF553B\",\"symbol\":\"circle\",\"size\":5},\"mode\":\"markers\",\"name\":\"Sentra\",\"orientation\":\"v\",\"showlegend\":true,\"x\":[126.0],\"xaxis\":\"x\",\"y\":[42.643],\"yaxis\":\"y\",\"type\":\"scatter\"},{\"hovertemplate\":\"Model=Altima<br>Horsepower=%{x}<br>Sales_in_thousands=%{y}<extra></extra>\",\"legendgroup\":\"Altima\",\"marker\":{\"color\":\"#00cc96\",\"symbol\":\"circle\",\"size\":5},\"mode\":\"markers\",\"name\":\"Altima\",\"orientation\":\"v\",\"showlegend\":true,\"x\":[155.0],\"xaxis\":\"x\",\"y\":[88.094],\"yaxis\":\"y\",\"type\":\"scatter\"},{\"hovertemplate\":\"Model=Maxima<br>Horsepower=%{x}<br>Sales_in_thousands=%{y}<extra></extra>\",\"legendgroup\":\"Maxima\",\"marker\":{\"color\":\"#ab63fa\",\"symbol\":\"circle\",\"size\":5},\"mode\":\"markers\",\"name\":\"Maxima\",\"orientation\":\"v\",\"showlegend\":true,\"x\":[222.0],\"xaxis\":\"x\",\"y\":[79.853],\"yaxis\":\"y\",\"type\":\"scatter\"},{\"hovertemplate\":\"Model=Quest<br>Horsepower=%{x}<br>Sales_in_thousands=%{y}<extra></extra>\",\"legendgroup\":\"Quest\",\"marker\":{\"color\":\"#FFA15A\",\"symbol\":\"circle\",\"size\":5},\"mode\":\"markers\",\"name\":\"Quest\",\"orientation\":\"v\",\"showlegend\":true,\"x\":[170.0],\"xaxis\":\"x\",\"y\":[27.308],\"yaxis\":\"y\",\"type\":\"scatter\"},{\"hovertemplate\":\"Model=Pathfinder<br>Horsepower=%{x}<br>Sales_in_thousands=%{y}<extra></extra>\",\"legendgroup\":\"Pathfinder\",\"marker\":{\"color\":\"#19d3f3\",\"symbol\":\"circle\",\"size\":5},\"mode\":\"markers\",\"name\":\"Pathfinder\",\"orientation\":\"v\",\"showlegend\":true,\"x\":[170.0],\"xaxis\":\"x\",\"y\":[42.574],\"yaxis\":\"y\",\"type\":\"scatter\"},{\"hovertemplate\":\"Model=Xterra<br>Horsepower=%{x}<br>Sales_in_thousands=%{y}<extra></extra>\",\"legendgroup\":\"Xterra\",\"marker\":{\"color\":\"#FF6692\",\"symbol\":\"circle\",\"size\":5},\"mode\":\"markers\",\"name\":\"Xterra\",\"orientation\":\"v\",\"showlegend\":true,\"x\":[170.0],\"xaxis\":\"x\",\"y\":[54.158],\"yaxis\":\"y\",\"type\":\"scatter\"},{\"hovertemplate\":\"Model=Frontier<br>Horsepower=%{x}<br>Sales_in_thousands=%{y}<extra></extra>\",\"legendgroup\":\"Frontier\",\"marker\":{\"color\":\"#B6E880\",\"symbol\":\"circle\",\"size\":5},\"mode\":\"markers\",\"name\":\"Frontier\",\"orientation\":\"v\",\"showlegend\":true,\"x\":[170.0],\"xaxis\":\"x\",\"y\":[65.005],\"yaxis\":\"y\",\"type\":\"scatter\"},{\"hovertemplate\":\"Model=Cutlass<br>Horsepower=%{x}<br>Sales_in_thousands=%{y}<extra></extra>\",\"legendgroup\":\"Cutlass\",\"marker\":{\"color\":\"#FF97FF\",\"symbol\":\"circle\",\"size\":5},\"mode\":\"markers\",\"name\":\"Cutlass\",\"orientation\":\"v\",\"showlegend\":true,\"x\":[150.0],\"xaxis\":\"x\",\"y\":[1.112],\"yaxis\":\"y\",\"type\":\"scatter\"},{\"hovertemplate\":\"Model=Intrigue<br>Horsepower=%{x}<br>Sales_in_thousands=%{y}<extra></extra>\",\"legendgroup\":\"Intrigue\",\"marker\":{\"color\":\"#FECB52\",\"symbol\":\"circle\",\"size\":5},\"mode\":\"markers\",\"name\":\"Intrigue\",\"orientation\":\"v\",\"showlegend\":true,\"x\":[215.0],\"xaxis\":\"x\",\"y\":[38.554],\"yaxis\":\"y\",\"type\":\"scatter\"},{\"hovertemplate\":\"Model=Alero<br>Horsepower=%{x}<br>Sales_in_thousands=%{y}<extra></extra>\",\"legendgroup\":\"Alero\",\"marker\":{\"color\":\"#636efa\",\"symbol\":\"circle\",\"size\":5},\"mode\":\"markers\",\"name\":\"Alero\",\"orientation\":\"v\",\"showlegend\":true,\"x\":[150.0],\"xaxis\":\"x\",\"y\":[80.255],\"yaxis\":\"y\",\"type\":\"scatter\"},{\"hovertemplate\":\"Model=Aurora<br>Horsepower=%{x}<br>Sales_in_thousands=%{y}<extra></extra>\",\"legendgroup\":\"Aurora\",\"marker\":{\"color\":\"#EF553B\",\"symbol\":\"circle\",\"size\":5},\"mode\":\"markers\",\"name\":\"Aurora\",\"orientation\":\"v\",\"showlegend\":true,\"x\":[250.0],\"xaxis\":\"x\",\"y\":[14.69],\"yaxis\":\"y\",\"type\":\"scatter\"},{\"hovertemplate\":\"Model=Bravada<br>Horsepower=%{x}<br>Sales_in_thousands=%{y}<extra></extra>\",\"legendgroup\":\"Bravada\",\"marker\":{\"color\":\"#00cc96\",\"symbol\":\"circle\",\"size\":5},\"mode\":\"markers\",\"name\":\"Bravada\",\"orientation\":\"v\",\"showlegend\":true,\"x\":[190.0],\"xaxis\":\"x\",\"y\":[20.017],\"yaxis\":\"y\",\"type\":\"scatter\"},{\"hovertemplate\":\"Model=Silhouette<br>Horsepower=%{x}<br>Sales_in_thousands=%{y}<extra></extra>\",\"legendgroup\":\"Silhouette\",\"marker\":{\"color\":\"#ab63fa\",\"symbol\":\"circle\",\"size\":5},\"mode\":\"markers\",\"name\":\"Silhouette\",\"orientation\":\"v\",\"showlegend\":true,\"x\":[185.0],\"xaxis\":\"x\",\"y\":[24.361],\"yaxis\":\"y\",\"type\":\"scatter\"},{\"hovertemplate\":\"Model=Breeze<br>Horsepower=%{x}<br>Sales_in_thousands=%{y}<extra></extra>\",\"legendgroup\":\"Breeze\",\"marker\":{\"color\":\"#FFA15A\",\"symbol\":\"circle\",\"size\":5},\"mode\":\"markers\",\"name\":\"Breeze\",\"orientation\":\"v\",\"showlegend\":true,\"x\":[132.0],\"xaxis\":\"x\",\"y\":[5.24],\"yaxis\":\"y\",\"type\":\"scatter\"},{\"hovertemplate\":\"Model=Voyager<br>Horsepower=%{x}<br>Sales_in_thousands=%{y}<extra></extra>\",\"legendgroup\":\"Voyager\",\"marker\":{\"color\":\"#19d3f3\",\"symbol\":\"circle\",\"size\":5},\"mode\":\"markers\",\"name\":\"Voyager\",\"orientation\":\"v\",\"showlegend\":true,\"x\":[150.0],\"xaxis\":\"x\",\"y\":[24.155],\"yaxis\":\"y\",\"type\":\"scatter\"},{\"hovertemplate\":\"Model=Prowler<br>Horsepower=%{x}<br>Sales_in_thousands=%{y}<extra></extra>\",\"legendgroup\":\"Prowler\",\"marker\":{\"color\":\"#FF6692\",\"symbol\":\"circle\",\"size\":5},\"mode\":\"markers\",\"name\":\"Prowler\",\"orientation\":\"v\",\"showlegend\":true,\"x\":[253.0],\"xaxis\":\"x\",\"y\":[1.872],\"yaxis\":\"y\",\"type\":\"scatter\"},{\"hovertemplate\":\"Model=Sunfire<br>Horsepower=%{x}<br>Sales_in_thousands=%{y}<extra></extra>\",\"legendgroup\":\"Sunfire\",\"marker\":{\"color\":\"#B6E880\",\"symbol\":\"circle\",\"size\":5},\"mode\":\"markers\",\"name\":\"Sunfire\",\"orientation\":\"v\",\"showlegend\":true,\"x\":[150.0],\"xaxis\":\"x\",\"y\":[51.645],\"yaxis\":\"y\",\"type\":\"scatter\"},{\"hovertemplate\":\"Model=Grand Am<br>Horsepower=%{x}<br>Sales_in_thousands=%{y}<extra></extra>\",\"legendgroup\":\"Grand Am\",\"marker\":{\"color\":\"#FF97FF\",\"symbol\":\"circle\",\"size\":5},\"mode\":\"markers\",\"name\":\"Grand Am\",\"orientation\":\"v\",\"showlegend\":true,\"x\":[175.0],\"xaxis\":\"x\",\"y\":[131.097],\"yaxis\":\"y\",\"type\":\"scatter\"},{\"hovertemplate\":\"Model=Firebird<br>Horsepower=%{x}<br>Sales_in_thousands=%{y}<extra></extra>\",\"legendgroup\":\"Firebird\",\"marker\":{\"color\":\"#FECB52\",\"symbol\":\"circle\",\"size\":5},\"mode\":\"markers\",\"name\":\"Firebird\",\"orientation\":\"v\",\"showlegend\":true,\"x\":[200.0],\"xaxis\":\"x\",\"y\":[19.911],\"yaxis\":\"y\",\"type\":\"scatter\"},{\"hovertemplate\":\"Model=Grand Prix<br>Horsepower=%{x}<br>Sales_in_thousands=%{y}<extra></extra>\",\"legendgroup\":\"Grand Prix\",\"marker\":{\"color\":\"#636efa\",\"symbol\":\"circle\",\"size\":5},\"mode\":\"markers\",\"name\":\"Grand Prix\",\"orientation\":\"v\",\"showlegend\":true,\"x\":[195.0],\"xaxis\":\"x\",\"y\":[92.364],\"yaxis\":\"y\",\"type\":\"scatter\"},{\"hovertemplate\":\"Model=Bonneville<br>Horsepower=%{x}<br>Sales_in_thousands=%{y}<extra></extra>\",\"legendgroup\":\"Bonneville\",\"marker\":{\"color\":\"#EF553B\",\"symbol\":\"circle\",\"size\":5},\"mode\":\"markers\",\"name\":\"Bonneville\",\"orientation\":\"v\",\"showlegend\":true,\"x\":[205.0],\"xaxis\":\"x\",\"y\":[35.945],\"yaxis\":\"y\",\"type\":\"scatter\"},{\"hovertemplate\":\"Model=Montana<br>Horsepower=%{x}<br>Sales_in_thousands=%{y}<extra></extra>\",\"legendgroup\":\"Montana\",\"marker\":{\"color\":\"#00cc96\",\"symbol\":\"circle\",\"size\":5},\"mode\":\"markers\",\"name\":\"Montana\",\"orientation\":\"v\",\"showlegend\":true,\"x\":[185.0],\"xaxis\":\"x\",\"y\":[39.572],\"yaxis\":\"y\",\"type\":\"scatter\"},{\"hovertemplate\":\"Model=Boxter<br>Horsepower=%{x}<br>Sales_in_thousands=%{y}<extra></extra>\",\"legendgroup\":\"Boxter\",\"marker\":{\"color\":\"#ab63fa\",\"symbol\":\"circle\",\"size\":5},\"mode\":\"markers\",\"name\":\"Boxter\",\"orientation\":\"v\",\"showlegend\":true,\"x\":[217.0],\"xaxis\":\"x\",\"y\":[8.982],\"yaxis\":\"y\",\"type\":\"scatter\"},{\"hovertemplate\":\"Model=Carrera Coupe<br>Horsepower=%{x}<br>Sales_in_thousands=%{y}<extra></extra>\",\"legendgroup\":\"Carrera Coupe\",\"marker\":{\"color\":\"#FFA15A\",\"symbol\":\"circle\",\"size\":5},\"mode\":\"markers\",\"name\":\"Carrera Coupe\",\"orientation\":\"v\",\"showlegend\":true,\"x\":[300.0],\"xaxis\":\"x\",\"y\":[1.28],\"yaxis\":\"y\",\"type\":\"scatter\"},{\"hovertemplate\":\"Model=Carrera Cabrio<br>Horsepower=%{x}<br>Sales_in_thousands=%{y}<extra></extra>\",\"legendgroup\":\"Carrera Cabrio\",\"marker\":{\"color\":\"#19d3f3\",\"symbol\":\"circle\",\"size\":5},\"mode\":\"markers\",\"name\":\"Carrera Cabrio\",\"orientation\":\"v\",\"showlegend\":true,\"x\":[300.0],\"xaxis\":\"x\",\"y\":[1.866],\"yaxis\":\"y\",\"type\":\"scatter\"},{\"hovertemplate\":\"Model=5-Sep<br>Horsepower=%{x}<br>Sales_in_thousands=%{y}<extra></extra>\",\"legendgroup\":\"5-Sep\",\"marker\":{\"color\":\"#FF6692\",\"symbol\":\"circle\",\"size\":5},\"mode\":\"markers\",\"name\":\"5-Sep\",\"orientation\":\"v\",\"showlegend\":true,\"x\":[170.0],\"xaxis\":\"x\",\"y\":[9.191],\"yaxis\":\"y\",\"type\":\"scatter\"},{\"hovertemplate\":\"Model=3-Sep<br>Horsepower=%{x}<br>Sales_in_thousands=%{y}<extra></extra>\",\"legendgroup\":\"3-Sep\",\"marker\":{\"color\":\"#B6E880\",\"symbol\":\"circle\",\"size\":5},\"mode\":\"markers\",\"name\":\"3-Sep\",\"orientation\":\"v\",\"showlegend\":true,\"x\":[185.0],\"xaxis\":\"x\",\"y\":[12.115],\"yaxis\":\"y\",\"type\":\"scatter\"},{\"hovertemplate\":\"Model=SL<br>Horsepower=%{x}<br>Sales_in_thousands=%{y}<extra></extra>\",\"legendgroup\":\"SL\",\"marker\":{\"color\":\"#FF97FF\",\"symbol\":\"circle\",\"size\":5},\"mode\":\"markers\",\"name\":\"SL\",\"orientation\":\"v\",\"showlegend\":true,\"x\":[100.0],\"xaxis\":\"x\",\"y\":[80.62],\"yaxis\":\"y\",\"type\":\"scatter\"},{\"hovertemplate\":\"Model=SC<br>Horsepower=%{x}<br>Sales_in_thousands=%{y}<extra></extra>\",\"legendgroup\":\"SC\",\"marker\":{\"color\":\"#FECB52\",\"symbol\":\"circle\",\"size\":5},\"mode\":\"markers\",\"name\":\"SC\",\"orientation\":\"v\",\"showlegend\":true,\"x\":[100.0],\"xaxis\":\"x\",\"y\":[24.546],\"yaxis\":\"y\",\"type\":\"scatter\"},{\"hovertemplate\":\"Model=SW<br>Horsepower=%{x}<br>Sales_in_thousands=%{y}<extra></extra>\",\"legendgroup\":\"SW\",\"marker\":{\"color\":\"#636efa\",\"symbol\":\"circle\",\"size\":5},\"mode\":\"markers\",\"name\":\"SW\",\"orientation\":\"v\",\"showlegend\":true,\"x\":[124.0],\"xaxis\":\"x\",\"y\":[5.223],\"yaxis\":\"y\",\"type\":\"scatter\"},{\"hovertemplate\":\"Model=LW<br>Horsepower=%{x}<br>Sales_in_thousands=%{y}<extra></extra>\",\"legendgroup\":\"LW\",\"marker\":{\"color\":\"#EF553B\",\"symbol\":\"circle\",\"size\":5},\"mode\":\"markers\",\"name\":\"LW\",\"orientation\":\"v\",\"showlegend\":true,\"x\":[137.0],\"xaxis\":\"x\",\"y\":[8.472],\"yaxis\":\"y\",\"type\":\"scatter\"},{\"hovertemplate\":\"Model=LS<br>Horsepower=%{x}<br>Sales_in_thousands=%{y}<extra></extra>\",\"legendgroup\":\"LS\",\"marker\":{\"color\":\"#00cc96\",\"symbol\":\"circle\",\"size\":5},\"mode\":\"markers\",\"name\":\"LS\",\"orientation\":\"v\",\"showlegend\":true,\"x\":[137.0],\"xaxis\":\"x\",\"y\":[49.989],\"yaxis\":\"y\",\"type\":\"scatter\"},{\"hovertemplate\":\"Model=Outback<br>Horsepower=%{x}<br>Sales_in_thousands=%{y}<extra></extra>\",\"legendgroup\":\"Outback\",\"marker\":{\"color\":\"#ab63fa\",\"symbol\":\"circle\",\"size\":5},\"mode\":\"markers\",\"name\":\"Outback\",\"orientation\":\"v\",\"showlegend\":true,\"x\":[165.0],\"xaxis\":\"x\",\"y\":[47.107],\"yaxis\":\"y\",\"type\":\"scatter\"},{\"hovertemplate\":\"Model=Forester<br>Horsepower=%{x}<br>Sales_in_thousands=%{y}<extra></extra>\",\"legendgroup\":\"Forester\",\"marker\":{\"color\":\"#FFA15A\",\"symbol\":\"circle\",\"size\":5},\"mode\":\"markers\",\"name\":\"Forester\",\"orientation\":\"v\",\"showlegend\":true,\"x\":[165.0],\"xaxis\":\"x\",\"y\":[33.028],\"yaxis\":\"y\",\"type\":\"scatter\"},{\"hovertemplate\":\"Model=Corolla<br>Horsepower=%{x}<br>Sales_in_thousands=%{y}<extra></extra>\",\"legendgroup\":\"Corolla\",\"marker\":{\"color\":\"#19d3f3\",\"symbol\":\"circle\",\"size\":5},\"mode\":\"markers\",\"name\":\"Corolla\",\"orientation\":\"v\",\"showlegend\":true,\"x\":[120.0],\"xaxis\":\"x\",\"y\":[142.535],\"yaxis\":\"y\",\"type\":\"scatter\"},{\"hovertemplate\":\"Model=Camry<br>Horsepower=%{x}<br>Sales_in_thousands=%{y}<extra></extra>\",\"legendgroup\":\"Camry\",\"marker\":{\"color\":\"#FF6692\",\"symbol\":\"circle\",\"size\":5},\"mode\":\"markers\",\"name\":\"Camry\",\"orientation\":\"v\",\"showlegend\":true,\"x\":[133.0],\"xaxis\":\"x\",\"y\":[247.994],\"yaxis\":\"y\",\"type\":\"scatter\"},{\"hovertemplate\":\"Model=Avalon<br>Horsepower=%{x}<br>Sales_in_thousands=%{y}<extra></extra>\",\"legendgroup\":\"Avalon\",\"marker\":{\"color\":\"#B6E880\",\"symbol\":\"circle\",\"size\":5},\"mode\":\"markers\",\"name\":\"Avalon\",\"orientation\":\"v\",\"showlegend\":true,\"x\":[210.0],\"xaxis\":\"x\",\"y\":[63.849],\"yaxis\":\"y\",\"type\":\"scatter\"},{\"hovertemplate\":\"Model=Celica<br>Horsepower=%{x}<br>Sales_in_thousands=%{y}<extra></extra>\",\"legendgroup\":\"Celica\",\"marker\":{\"color\":\"#FF97FF\",\"symbol\":\"circle\",\"size\":5},\"mode\":\"markers\",\"name\":\"Celica\",\"orientation\":\"v\",\"showlegend\":true,\"x\":[140.0],\"xaxis\":\"x\",\"y\":[33.269],\"yaxis\":\"y\",\"type\":\"scatter\"},{\"hovertemplate\":\"Model=Tacoma<br>Horsepower=%{x}<br>Sales_in_thousands=%{y}<extra></extra>\",\"legendgroup\":\"Tacoma\",\"marker\":{\"color\":\"#FECB52\",\"symbol\":\"circle\",\"size\":5},\"mode\":\"markers\",\"name\":\"Tacoma\",\"orientation\":\"v\",\"showlegend\":true,\"x\":[142.0],\"xaxis\":\"x\",\"y\":[84.087],\"yaxis\":\"y\",\"type\":\"scatter\"},{\"hovertemplate\":\"Model=Sienna<br>Horsepower=%{x}<br>Sales_in_thousands=%{y}<extra></extra>\",\"legendgroup\":\"Sienna\",\"marker\":{\"color\":\"#636efa\",\"symbol\":\"circle\",\"size\":5},\"mode\":\"markers\",\"name\":\"Sienna\",\"orientation\":\"v\",\"showlegend\":true,\"x\":[194.0],\"xaxis\":\"x\",\"y\":[65.119],\"yaxis\":\"y\",\"type\":\"scatter\"},{\"hovertemplate\":\"Model=RAV4<br>Horsepower=%{x}<br>Sales_in_thousands=%{y}<extra></extra>\",\"legendgroup\":\"RAV4\",\"marker\":{\"color\":\"#EF553B\",\"symbol\":\"circle\",\"size\":5},\"mode\":\"markers\",\"name\":\"RAV4\",\"orientation\":\"v\",\"showlegend\":true,\"x\":[127.0],\"xaxis\":\"x\",\"y\":[25.106],\"yaxis\":\"y\",\"type\":\"scatter\"},{\"hovertemplate\":\"Model=4Runner<br>Horsepower=%{x}<br>Sales_in_thousands=%{y}<extra></extra>\",\"legendgroup\":\"4Runner\",\"marker\":{\"color\":\"#00cc96\",\"symbol\":\"circle\",\"size\":5},\"mode\":\"markers\",\"name\":\"4Runner\",\"orientation\":\"v\",\"showlegend\":true,\"x\":[150.0],\"xaxis\":\"x\",\"y\":[68.411],\"yaxis\":\"y\",\"type\":\"scatter\"},{\"hovertemplate\":\"Model=Land Cruiser<br>Horsepower=%{x}<br>Sales_in_thousands=%{y}<extra></extra>\",\"legendgroup\":\"Land Cruiser\",\"marker\":{\"color\":\"#ab63fa\",\"symbol\":\"circle\",\"size\":5},\"mode\":\"markers\",\"name\":\"Land Cruiser\",\"orientation\":\"v\",\"showlegend\":true,\"x\":[230.0],\"xaxis\":\"x\",\"y\":[9.835],\"yaxis\":\"y\",\"type\":\"scatter\"},{\"hovertemplate\":\"Model=Golf<br>Horsepower=%{x}<br>Sales_in_thousands=%{y}<extra></extra>\",\"legendgroup\":\"Golf\",\"marker\":{\"color\":\"#FFA15A\",\"symbol\":\"circle\",\"size\":5},\"mode\":\"markers\",\"name\":\"Golf\",\"orientation\":\"v\",\"showlegend\":true,\"x\":[115.0],\"xaxis\":\"x\",\"y\":[9.761],\"yaxis\":\"y\",\"type\":\"scatter\"},{\"hovertemplate\":\"Model=Jetta<br>Horsepower=%{x}<br>Sales_in_thousands=%{y}<extra></extra>\",\"legendgroup\":\"Jetta\",\"marker\":{\"color\":\"#19d3f3\",\"symbol\":\"circle\",\"size\":5},\"mode\":\"markers\",\"name\":\"Jetta\",\"orientation\":\"v\",\"showlegend\":true,\"x\":[115.0],\"xaxis\":\"x\",\"y\":[83.721],\"yaxis\":\"y\",\"type\":\"scatter\"},{\"hovertemplate\":\"Model=Passat<br>Horsepower=%{x}<br>Sales_in_thousands=%{y}<extra></extra>\",\"legendgroup\":\"Passat\",\"marker\":{\"color\":\"#FF6692\",\"symbol\":\"circle\",\"size\":5},\"mode\":\"markers\",\"name\":\"Passat\",\"orientation\":\"v\",\"showlegend\":true,\"x\":[150.0],\"xaxis\":\"x\",\"y\":[51.102],\"yaxis\":\"y\",\"type\":\"scatter\"},{\"hovertemplate\":\"Model=Cabrio<br>Horsepower=%{x}<br>Sales_in_thousands=%{y}<extra></extra>\",\"legendgroup\":\"Cabrio\",\"marker\":{\"color\":\"#B6E880\",\"symbol\":\"circle\",\"size\":5},\"mode\":\"markers\",\"name\":\"Cabrio\",\"orientation\":\"v\",\"showlegend\":true,\"x\":[115.0],\"xaxis\":\"x\",\"y\":[9.569],\"yaxis\":\"y\",\"type\":\"scatter\"},{\"hovertemplate\":\"Model=GTI<br>Horsepower=%{x}<br>Sales_in_thousands=%{y}<extra></extra>\",\"legendgroup\":\"GTI\",\"marker\":{\"color\":\"#FF97FF\",\"symbol\":\"circle\",\"size\":5},\"mode\":\"markers\",\"name\":\"GTI\",\"orientation\":\"v\",\"showlegend\":true,\"x\":[115.0],\"xaxis\":\"x\",\"y\":[5.596],\"yaxis\":\"y\",\"type\":\"scatter\"},{\"hovertemplate\":\"Model=Beetle<br>Horsepower=%{x}<br>Sales_in_thousands=%{y}<extra></extra>\",\"legendgroup\":\"Beetle\",\"marker\":{\"color\":\"#FECB52\",\"symbol\":\"circle\",\"size\":5},\"mode\":\"markers\",\"name\":\"Beetle\",\"orientation\":\"v\",\"showlegend\":true,\"x\":[115.0],\"xaxis\":\"x\",\"y\":[49.463],\"yaxis\":\"y\",\"type\":\"scatter\"},{\"hovertemplate\":\"Model=S40<br>Horsepower=%{x}<br>Sales_in_thousands=%{y}<extra></extra>\",\"legendgroup\":\"S40\",\"marker\":{\"color\":\"#636efa\",\"symbol\":\"circle\",\"size\":5},\"mode\":\"markers\",\"name\":\"S40\",\"orientation\":\"v\",\"showlegend\":true,\"x\":[160.0],\"xaxis\":\"x\",\"y\":[16.957],\"yaxis\":\"y\",\"type\":\"scatter\"},{\"hovertemplate\":\"Model=V40<br>Horsepower=%{x}<br>Sales_in_thousands=%{y}<extra></extra>\",\"legendgroup\":\"V40\",\"marker\":{\"color\":\"#EF553B\",\"symbol\":\"circle\",\"size\":5},\"mode\":\"markers\",\"name\":\"V40\",\"orientation\":\"v\",\"showlegend\":true,\"x\":[160.0],\"xaxis\":\"x\",\"y\":[3.545],\"yaxis\":\"y\",\"type\":\"scatter\"},{\"hovertemplate\":\"Model=S70<br>Horsepower=%{x}<br>Sales_in_thousands=%{y}<extra></extra>\",\"legendgroup\":\"S70\",\"marker\":{\"color\":\"#00cc96\",\"symbol\":\"circle\",\"size\":5},\"mode\":\"markers\",\"name\":\"S70\",\"orientation\":\"v\",\"showlegend\":true,\"x\":[168.0],\"xaxis\":\"x\",\"y\":[15.245],\"yaxis\":\"y\",\"type\":\"scatter\"},{\"hovertemplate\":\"Model=V70<br>Horsepower=%{x}<br>Sales_in_thousands=%{y}<extra></extra>\",\"legendgroup\":\"V70\",\"marker\":{\"color\":\"#ab63fa\",\"symbol\":\"circle\",\"size\":5},\"mode\":\"markers\",\"name\":\"V70\",\"orientation\":\"v\",\"showlegend\":true,\"x\":[168.0],\"xaxis\":\"x\",\"y\":[17.531],\"yaxis\":\"y\",\"type\":\"scatter\"},{\"hovertemplate\":\"Model=C70<br>Horsepower=%{x}<br>Sales_in_thousands=%{y}<extra></extra>\",\"legendgroup\":\"C70\",\"marker\":{\"color\":\"#FFA15A\",\"symbol\":\"circle\",\"size\":5},\"mode\":\"markers\",\"name\":\"C70\",\"orientation\":\"v\",\"showlegend\":true,\"x\":[236.0],\"xaxis\":\"x\",\"y\":[3.493],\"yaxis\":\"y\",\"type\":\"scatter\"},{\"hovertemplate\":\"Model=S80<br>Horsepower=%{x}<br>Sales_in_thousands=%{y}<extra></extra>\",\"legendgroup\":\"S80\",\"marker\":{\"color\":\"#19d3f3\",\"symbol\":\"circle\",\"size\":5},\"mode\":\"markers\",\"name\":\"S80\",\"orientation\":\"v\",\"showlegend\":true,\"x\":[201.0],\"xaxis\":\"x\",\"y\":[18.969],\"yaxis\":\"y\",\"type\":\"scatter\"}],                        {\"template\":{\"data\":{\"bar\":[{\"error_x\":{\"color\":\"#2a3f5f\"},\"error_y\":{\"color\":\"#2a3f5f\"},\"marker\":{\"line\":{\"color\":\"#E5ECF6\",\"width\":0.5},\"pattern\":{\"fillmode\":\"overlay\",\"size\":10,\"solidity\":0.2}},\"type\":\"bar\"}],\"barpolar\":[{\"marker\":{\"line\":{\"color\":\"#E5ECF6\",\"width\":0.5},\"pattern\":{\"fillmode\":\"overlay\",\"size\":10,\"solidity\":0.2}},\"type\":\"barpolar\"}],\"carpet\":[{\"aaxis\":{\"endlinecolor\":\"#2a3f5f\",\"gridcolor\":\"white\",\"linecolor\":\"white\",\"minorgridcolor\":\"white\",\"startlinecolor\":\"#2a3f5f\"},\"baxis\":{\"endlinecolor\":\"#2a3f5f\",\"gridcolor\":\"white\",\"linecolor\":\"white\",\"minorgridcolor\":\"white\",\"startlinecolor\":\"#2a3f5f\"},\"type\":\"carpet\"}],\"choropleth\":[{\"colorbar\":{\"outlinewidth\":0,\"ticks\":\"\"},\"type\":\"choropleth\"}],\"contour\":[{\"colorbar\":{\"outlinewidth\":0,\"ticks\":\"\"},\"colorscale\":[[0.0,\"#0d0887\"],[0.1111111111111111,\"#46039f\"],[0.2222222222222222,\"#7201a8\"],[0.3333333333333333,\"#9c179e\"],[0.4444444444444444,\"#bd3786\"],[0.5555555555555556,\"#d8576b\"],[0.6666666666666666,\"#ed7953\"],[0.7777777777777778,\"#fb9f3a\"],[0.8888888888888888,\"#fdca26\"],[1.0,\"#f0f921\"]],\"type\":\"contour\"}],\"contourcarpet\":[{\"colorbar\":{\"outlinewidth\":0,\"ticks\":\"\"},\"type\":\"contourcarpet\"}],\"heatmap\":[{\"colorbar\":{\"outlinewidth\":0,\"ticks\":\"\"},\"colorscale\":[[0.0,\"#0d0887\"],[0.1111111111111111,\"#46039f\"],[0.2222222222222222,\"#7201a8\"],[0.3333333333333333,\"#9c179e\"],[0.4444444444444444,\"#bd3786\"],[0.5555555555555556,\"#d8576b\"],[0.6666666666666666,\"#ed7953\"],[0.7777777777777778,\"#fb9f3a\"],[0.8888888888888888,\"#fdca26\"],[1.0,\"#f0f921\"]],\"type\":\"heatmap\"}],\"heatmapgl\":[{\"colorbar\":{\"outlinewidth\":0,\"ticks\":\"\"},\"colorscale\":[[0.0,\"#0d0887\"],[0.1111111111111111,\"#46039f\"],[0.2222222222222222,\"#7201a8\"],[0.3333333333333333,\"#9c179e\"],[0.4444444444444444,\"#bd3786\"],[0.5555555555555556,\"#d8576b\"],[0.6666666666666666,\"#ed7953\"],[0.7777777777777778,\"#fb9f3a\"],[0.8888888888888888,\"#fdca26\"],[1.0,\"#f0f921\"]],\"type\":\"heatmapgl\"}],\"histogram\":[{\"marker\":{\"pattern\":{\"fillmode\":\"overlay\",\"size\":10,\"solidity\":0.2}},\"type\":\"histogram\"}],\"histogram2d\":[{\"colorbar\":{\"outlinewidth\":0,\"ticks\":\"\"},\"colorscale\":[[0.0,\"#0d0887\"],[0.1111111111111111,\"#46039f\"],[0.2222222222222222,\"#7201a8\"],[0.3333333333333333,\"#9c179e\"],[0.4444444444444444,\"#bd3786\"],[0.5555555555555556,\"#d8576b\"],[0.6666666666666666,\"#ed7953\"],[0.7777777777777778,\"#fb9f3a\"],[0.8888888888888888,\"#fdca26\"],[1.0,\"#f0f921\"]],\"type\":\"histogram2d\"}],\"histogram2dcontour\":[{\"colorbar\":{\"outlinewidth\":0,\"ticks\":\"\"},\"colorscale\":[[0.0,\"#0d0887\"],[0.1111111111111111,\"#46039f\"],[0.2222222222222222,\"#7201a8\"],[0.3333333333333333,\"#9c179e\"],[0.4444444444444444,\"#bd3786\"],[0.5555555555555556,\"#d8576b\"],[0.6666666666666666,\"#ed7953\"],[0.7777777777777778,\"#fb9f3a\"],[0.8888888888888888,\"#fdca26\"],[1.0,\"#f0f921\"]],\"type\":\"histogram2dcontour\"}],\"mesh3d\":[{\"colorbar\":{\"outlinewidth\":0,\"ticks\":\"\"},\"type\":\"mesh3d\"}],\"parcoords\":[{\"line\":{\"colorbar\":{\"outlinewidth\":0,\"ticks\":\"\"}},\"type\":\"parcoords\"}],\"pie\":[{\"automargin\":true,\"type\":\"pie\"}],\"scatter\":[{\"marker\":{\"colorbar\":{\"outlinewidth\":0,\"ticks\":\"\"}},\"type\":\"scatter\"}],\"scatter3d\":[{\"line\":{\"colorbar\":{\"outlinewidth\":0,\"ticks\":\"\"}},\"marker\":{\"colorbar\":{\"outlinewidth\":0,\"ticks\":\"\"}},\"type\":\"scatter3d\"}],\"scattercarpet\":[{\"marker\":{\"colorbar\":{\"outlinewidth\":0,\"ticks\":\"\"}},\"type\":\"scattercarpet\"}],\"scattergeo\":[{\"marker\":{\"colorbar\":{\"outlinewidth\":0,\"ticks\":\"\"}},\"type\":\"scattergeo\"}],\"scattergl\":[{\"marker\":{\"colorbar\":{\"outlinewidth\":0,\"ticks\":\"\"}},\"type\":\"scattergl\"}],\"scattermapbox\":[{\"marker\":{\"colorbar\":{\"outlinewidth\":0,\"ticks\":\"\"}},\"type\":\"scattermapbox\"}],\"scatterpolar\":[{\"marker\":{\"colorbar\":{\"outlinewidth\":0,\"ticks\":\"\"}},\"type\":\"scatterpolar\"}],\"scatterpolargl\":[{\"marker\":{\"colorbar\":{\"outlinewidth\":0,\"ticks\":\"\"}},\"type\":\"scatterpolargl\"}],\"scatterternary\":[{\"marker\":{\"colorbar\":{\"outlinewidth\":0,\"ticks\":\"\"}},\"type\":\"scatterternary\"}],\"surface\":[{\"colorbar\":{\"outlinewidth\":0,\"ticks\":\"\"},\"colorscale\":[[0.0,\"#0d0887\"],[0.1111111111111111,\"#46039f\"],[0.2222222222222222,\"#7201a8\"],[0.3333333333333333,\"#9c179e\"],[0.4444444444444444,\"#bd3786\"],[0.5555555555555556,\"#d8576b\"],[0.6666666666666666,\"#ed7953\"],[0.7777777777777778,\"#fb9f3a\"],[0.8888888888888888,\"#fdca26\"],[1.0,\"#f0f921\"]],\"type\":\"surface\"}],\"table\":[{\"cells\":{\"fill\":{\"color\":\"#EBF0F8\"},\"line\":{\"color\":\"white\"}},\"header\":{\"fill\":{\"color\":\"#C8D4E3\"},\"line\":{\"color\":\"white\"}},\"type\":\"table\"}]},\"layout\":{\"annotationdefaults\":{\"arrowcolor\":\"#2a3f5f\",\"arrowhead\":0,\"arrowwidth\":1},\"autotypenumbers\":\"strict\",\"coloraxis\":{\"colorbar\":{\"outlinewidth\":0,\"ticks\":\"\"}},\"colorscale\":{\"diverging\":[[0,\"#8e0152\"],[0.1,\"#c51b7d\"],[0.2,\"#de77ae\"],[0.3,\"#f1b6da\"],[0.4,\"#fde0ef\"],[0.5,\"#f7f7f7\"],[0.6,\"#e6f5d0\"],[0.7,\"#b8e186\"],[0.8,\"#7fbc41\"],[0.9,\"#4d9221\"],[1,\"#276419\"]],\"sequential\":[[0.0,\"#0d0887\"],[0.1111111111111111,\"#46039f\"],[0.2222222222222222,\"#7201a8\"],[0.3333333333333333,\"#9c179e\"],[0.4444444444444444,\"#bd3786\"],[0.5555555555555556,\"#d8576b\"],[0.6666666666666666,\"#ed7953\"],[0.7777777777777778,\"#fb9f3a\"],[0.8888888888888888,\"#fdca26\"],[1.0,\"#f0f921\"]],\"sequentialminus\":[[0.0,\"#0d0887\"],[0.1111111111111111,\"#46039f\"],[0.2222222222222222,\"#7201a8\"],[0.3333333333333333,\"#9c179e\"],[0.4444444444444444,\"#bd3786\"],[0.5555555555555556,\"#d8576b\"],[0.6666666666666666,\"#ed7953\"],[0.7777777777777778,\"#fb9f3a\"],[0.8888888888888888,\"#fdca26\"],[1.0,\"#f0f921\"]]},\"colorway\":[\"#636efa\",\"#EF553B\",\"#00cc96\",\"#ab63fa\",\"#FFA15A\",\"#19d3f3\",\"#FF6692\",\"#B6E880\",\"#FF97FF\",\"#FECB52\"],\"font\":{\"color\":\"#2a3f5f\"},\"geo\":{\"bgcolor\":\"white\",\"lakecolor\":\"white\",\"landcolor\":\"#E5ECF6\",\"showlakes\":true,\"showland\":true,\"subunitcolor\":\"white\"},\"hoverlabel\":{\"align\":\"left\"},\"hovermode\":\"closest\",\"mapbox\":{\"style\":\"light\"},\"paper_bgcolor\":\"white\",\"plot_bgcolor\":\"#E5ECF6\",\"polar\":{\"angularaxis\":{\"gridcolor\":\"white\",\"linecolor\":\"white\",\"ticks\":\"\"},\"bgcolor\":\"#E5ECF6\",\"radialaxis\":{\"gridcolor\":\"white\",\"linecolor\":\"white\",\"ticks\":\"\"}},\"scene\":{\"xaxis\":{\"backgroundcolor\":\"#E5ECF6\",\"gridcolor\":\"white\",\"gridwidth\":2,\"linecolor\":\"white\",\"showbackground\":true,\"ticks\":\"\",\"zerolinecolor\":\"white\"},\"yaxis\":{\"backgroundcolor\":\"#E5ECF6\",\"gridcolor\":\"white\",\"gridwidth\":2,\"linecolor\":\"white\",\"showbackground\":true,\"ticks\":\"\",\"zerolinecolor\":\"white\"},\"zaxis\":{\"backgroundcolor\":\"#E5ECF6\",\"gridcolor\":\"white\",\"gridwidth\":2,\"linecolor\":\"white\",\"showbackground\":true,\"ticks\":\"\",\"zerolinecolor\":\"white\"}},\"shapedefaults\":{\"line\":{\"color\":\"#2a3f5f\"}},\"ternary\":{\"aaxis\":{\"gridcolor\":\"white\",\"linecolor\":\"white\",\"ticks\":\"\"},\"baxis\":{\"gridcolor\":\"white\",\"linecolor\":\"white\",\"ticks\":\"\"},\"bgcolor\":\"#E5ECF6\",\"caxis\":{\"gridcolor\":\"white\",\"linecolor\":\"white\",\"ticks\":\"\"}},\"title\":{\"x\":0.05},\"xaxis\":{\"automargin\":true,\"gridcolor\":\"white\",\"linecolor\":\"white\",\"ticks\":\"\",\"title\":{\"standoff\":15},\"zerolinecolor\":\"white\",\"zerolinewidth\":2},\"yaxis\":{\"automargin\":true,\"gridcolor\":\"white\",\"linecolor\":\"white\",\"ticks\":\"\",\"title\":{\"standoff\":15},\"zerolinecolor\":\"white\",\"zerolinewidth\":2}}},\"xaxis\":{\"anchor\":\"y\",\"domain\":[0.0,1.0],\"title\":{\"text\":\"Horsepower\"}},\"yaxis\":{\"anchor\":\"x\",\"domain\":[0.0,1.0],\"title\":{\"text\":\"Sales_in_thousands\"}},\"legend\":{\"title\":{\"text\":\"Model\"},\"tracegroupgap\":0},\"title\":{\"text\":\"HorsePower vs. Sales in Thousands\",\"y\":0.9,\"x\":0.5,\"xanchor\":\"center\",\"yanchor\":\"top\"}},                        {\"responsive\": true}                    ).then(function(){\n",
       "                            \n",
       "var gd = document.getElementById('4f4d8644-b396-4ec1-a720-a77f9cc33e35');\n",
       "var x = new MutationObserver(function (mutations, observer) {{\n",
       "        var display = window.getComputedStyle(gd).display;\n",
       "        if (!display || display === 'none') {{\n",
       "            console.log([gd, 'removed!']);\n",
       "            Plotly.purge(gd);\n",
       "            observer.disconnect();\n",
       "        }}\n",
       "}});\n",
       "\n",
       "// Listen for the removal of the full notebook cells\n",
       "var notebookContainer = gd.closest('#notebook-container');\n",
       "if (notebookContainer) {{\n",
       "    x.observe(notebookContainer, {childList: true});\n",
       "}}\n",
       "\n",
       "// Listen for the clearing of the current output cell\n",
       "var outputEl = gd.closest('.output');\n",
       "if (outputEl) {{\n",
       "    x.observe(outputEl, {childList: true});\n",
       "}}\n",
       "\n",
       "                        })                };                });            </script>        </div>"
      ]
     },
     "metadata": {},
     "output_type": "display_data"
    }
   ],
   "source": [
    "'''I wanted to know why Porsche had such a low sales margin, so I decided to see how horsepower\n",
    "relates to the sale of all cars. I found out that the majority of cars bought ranged between\n",
    "119 and 230 horsepower. This means that the majority of people do not really care about horsepower\n",
    "when buying a car.'''\n",
    "\n",
    "#Correlation between Horsepower and Sales\n",
    "\n",
    "#Set the x and y, hover data: when mouse hovers over, it shows sales in thousands, Horsepower and Model\n",
    "fig = px.scatter(df4, x = 'Horsepower', y = 'Sales_in_thousands', color = 'Model',\n",
    "                 hover_data=['Sales_in_thousands'],title='HorsePower vs. Sales in Thousands')\n",
    "fig.update_traces(marker_size=5)\n",
    "\n",
    "#positions the title \n",
    "fig.update_layout(\n",
    "    title={'y':0.9,'x':0.5,'xanchor': 'center','yanchor': 'top'})\n",
    "fig.show()"
   ]
  },
  {
   "cell_type": "code",
   "execution_count": 436,
   "id": "e9528131",
   "metadata": {},
   "outputs": [
    {
     "data": {
      "application/vnd.plotly.v1+json": {
       "config": {
        "plotlyServerURL": "https://plot.ly"
       },
       "data": [
        {
         "hovertemplate": "Model=Integra<br>Power_perf_factor=%{x}<br>Sales_in_thousands=%{y}<extra></extra>",
         "legendgroup": "Integra",
         "marker": {
          "color": "#636efa",
          "size": 5,
          "symbol": "circle"
         },
         "mode": "markers",
         "name": "Integra",
         "orientation": "v",
         "showlegend": true,
         "type": "scatter",
         "x": [
          58.28014952
         ],
         "xaxis": "x",
         "y": [
          16.919
         ],
         "yaxis": "y"
        },
        {
         "hovertemplate": "Model=TL<br>Power_perf_factor=%{x}<br>Sales_in_thousands=%{y}<extra></extra>",
         "legendgroup": "TL",
         "marker": {
          "color": "#EF553B",
          "size": 5,
          "symbol": "circle"
         },
         "mode": "markers",
         "name": "TL",
         "orientation": "v",
         "showlegend": true,
         "type": "scatter",
         "x": [
          91.37077766
         ],
         "xaxis": "x",
         "y": [
          39.384
         ],
         "yaxis": "y"
        },
        {
         "hovertemplate": "Model=CL<br>Power_perf_factor=%{x}<br>Sales_in_thousands=%{y}<extra></extra>",
         "legendgroup": "CL",
         "marker": {
          "color": "#00cc96",
          "size": 5,
          "symbol": "circle"
         },
         "mode": "markers",
         "name": "CL",
         "orientation": "v",
         "showlegend": true,
         "type": "scatter",
         "x": [
          null
         ],
         "xaxis": "x",
         "y": [
          14.114
         ],
         "yaxis": "y"
        },
        {
         "hovertemplate": "Model=RL<br>Power_perf_factor=%{x}<br>Sales_in_thousands=%{y}<extra></extra>",
         "legendgroup": "RL",
         "marker": {
          "color": "#ab63fa",
          "size": 5,
          "symbol": "circle"
         },
         "mode": "markers",
         "name": "RL",
         "orientation": "v",
         "showlegend": true,
         "type": "scatter",
         "x": [
          91.38977933
         ],
         "xaxis": "x",
         "y": [
          8.588
         ],
         "yaxis": "y"
        },
        {
         "hovertemplate": "Model=A4<br>Power_perf_factor=%{x}<br>Sales_in_thousands=%{y}<extra></extra>",
         "legendgroup": "A4",
         "marker": {
          "color": "#FFA15A",
          "size": 5,
          "symbol": "circle"
         },
         "mode": "markers",
         "name": "A4",
         "orientation": "v",
         "showlegend": true,
         "type": "scatter",
         "x": [
          62.7776392
         ],
         "xaxis": "x",
         "y": [
          20.397
         ],
         "yaxis": "y"
        },
        {
         "hovertemplate": "Model=A6<br>Power_perf_factor=%{x}<br>Sales_in_thousands=%{y}<extra></extra>",
         "legendgroup": "A6",
         "marker": {
          "color": "#19d3f3",
          "size": 5,
          "symbol": "circle"
         },
         "mode": "markers",
         "name": "A6",
         "orientation": "v",
         "showlegend": true,
         "type": "scatter",
         "x": [
          84.56510502
         ],
         "xaxis": "x",
         "y": [
          18.78
         ],
         "yaxis": "y"
        },
        {
         "hovertemplate": "Model=A8<br>Power_perf_factor=%{x}<br>Sales_in_thousands=%{y}<extra></extra>",
         "legendgroup": "A8",
         "marker": {
          "color": "#FF6692",
          "size": 5,
          "symbol": "circle"
         },
         "mode": "markers",
         "name": "A8",
         "orientation": "v",
         "showlegend": true,
         "type": "scatter",
         "x": [
          134.6568582
         ],
         "xaxis": "x",
         "y": [
          1.38
         ],
         "yaxis": "y"
        },
        {
         "hovertemplate": "Model=323i<br>Power_perf_factor=%{x}<br>Sales_in_thousands=%{y}<extra></extra>",
         "legendgroup": "323i",
         "marker": {
          "color": "#B6E880",
          "size": 5,
          "symbol": "circle"
         },
         "mode": "markers",
         "name": "323i",
         "orientation": "v",
         "showlegend": true,
         "type": "scatter",
         "x": [
          71.19120671
         ],
         "xaxis": "x",
         "y": [
          19.747
         ],
         "yaxis": "y"
        },
        {
         "hovertemplate": "Model=328i<br>Power_perf_factor=%{x}<br>Sales_in_thousands=%{y}<extra></extra>",
         "legendgroup": "328i",
         "marker": {
          "color": "#FF97FF",
          "size": 5,
          "symbol": "circle"
         },
         "mode": "markers",
         "name": "328i",
         "orientation": "v",
         "showlegend": true,
         "type": "scatter",
         "x": [
          81.87706856
         ],
         "xaxis": "x",
         "y": [
          9.231
         ],
         "yaxis": "y"
        },
        {
         "hovertemplate": "Model=528i<br>Power_perf_factor=%{x}<br>Sales_in_thousands=%{y}<extra></extra>",
         "legendgroup": "528i",
         "marker": {
          "color": "#FECB52",
          "size": 5,
          "symbol": "circle"
         },
         "mode": "markers",
         "name": "528i",
         "orientation": "v",
         "showlegend": true,
         "type": "scatter",
         "x": [
          83.9987238
         ],
         "xaxis": "x",
         "y": [
          17.527
         ],
         "yaxis": "y"
        },
        {
         "hovertemplate": "Model=Century<br>Power_perf_factor=%{x}<br>Sales_in_thousands=%{y}<extra></extra>",
         "legendgroup": "Century",
         "marker": {
          "color": "#636efa",
          "size": 5,
          "symbol": "circle"
         },
         "mode": "markers",
         "name": "Century",
         "orientation": "v",
         "showlegend": true,
         "type": "scatter",
         "x": [
          71.18145132
         ],
         "xaxis": "x",
         "y": [
          91.561
         ],
         "yaxis": "y"
        },
        {
         "hovertemplate": "Model=Regal<br>Power_perf_factor=%{x}<br>Sales_in_thousands=%{y}<extra></extra>",
         "legendgroup": "Regal",
         "marker": {
          "color": "#EF553B",
          "size": 5,
          "symbol": "circle"
         },
         "mode": "markers",
         "name": "Regal",
         "orientation": "v",
         "showlegend": true,
         "type": "scatter",
         "x": [
          95.63670253
         ],
         "xaxis": "x",
         "y": [
          39.35
         ],
         "yaxis": "y"
        },
        {
         "hovertemplate": "Model=Park Avenue<br>Power_perf_factor=%{x}<br>Sales_in_thousands=%{y}<extra></extra>",
         "legendgroup": "Park Avenue",
         "marker": {
          "color": "#00cc96",
          "size": 5,
          "symbol": "circle"
         },
         "mode": "markers",
         "name": "Park Avenue",
         "orientation": "v",
         "showlegend": true,
         "type": "scatter",
         "x": [
          85.82840825
         ],
         "xaxis": "x",
         "y": [
          27.851
         ],
         "yaxis": "y"
        },
        {
         "hovertemplate": "Model=LeSabre<br>Power_perf_factor=%{x}<br>Sales_in_thousands=%{y}<extra></extra>",
         "legendgroup": "LeSabre",
         "marker": {
          "color": "#ab63fa",
          "size": 5,
          "symbol": "circle"
         },
         "mode": "markers",
         "name": "LeSabre",
         "orientation": "v",
         "showlegend": true,
         "type": "scatter",
         "x": [
          84.25452581
         ],
         "xaxis": "x",
         "y": [
          83.257
         ],
         "yaxis": "y"
        },
        {
         "hovertemplate": "Model=DeVille<br>Power_perf_factor=%{x}<br>Sales_in_thousands=%{y}<extra></extra>",
         "legendgroup": "DeVille",
         "marker": {
          "color": "#FFA15A",
          "size": 5,
          "symbol": "circle"
         },
         "mode": "markers",
         "name": "DeVille",
         "orientation": "v",
         "showlegend": true,
         "type": "scatter",
         "x": [
          113.8545976
         ],
         "xaxis": "x",
         "y": [
          63.729
         ],
         "yaxis": "y"
        },
        {
         "hovertemplate": "Model=Seville<br>Power_perf_factor=%{x}<br>Sales_in_thousands=%{y}<extra></extra>",
         "legendgroup": "Seville",
         "marker": {
          "color": "#19d3f3",
          "size": 5,
          "symbol": "circle"
         },
         "mode": "markers",
         "name": "Seville",
         "orientation": "v",
         "showlegend": true,
         "type": "scatter",
         "x": [
          115.6213578
         ],
         "xaxis": "x",
         "y": [
          15.943
         ],
         "yaxis": "y"
        },
        {
         "hovertemplate": "Model=Eldorado<br>Power_perf_factor=%{x}<br>Sales_in_thousands=%{y}<extra></extra>",
         "legendgroup": "Eldorado",
         "marker": {
          "color": "#FF6692",
          "size": 5,
          "symbol": "circle"
         },
         "mode": "markers",
         "name": "Eldorado",
         "orientation": "v",
         "showlegend": true,
         "type": "scatter",
         "x": [
          113.7658739
         ],
         "xaxis": "x",
         "y": [
          6.536
         ],
         "yaxis": "y"
        },
        {
         "hovertemplate": "Model=Catera<br>Power_perf_factor=%{x}<br>Sales_in_thousands=%{y}<extra></extra>",
         "legendgroup": "Catera",
         "marker": {
          "color": "#B6E880",
          "size": 5,
          "symbol": "circle"
         },
         "mode": "markers",
         "name": "Catera",
         "orientation": "v",
         "showlegend": true,
         "type": "scatter",
         "x": [
          83.48309358
         ],
         "xaxis": "x",
         "y": [
          11.185
         ],
         "yaxis": "y"
        },
        {
         "hovertemplate": "Model=Escalade<br>Power_perf_factor=%{x}<br>Sales_in_thousands=%{y}<extra></extra>",
         "legendgroup": "Escalade",
         "marker": {
          "color": "#FF97FF",
          "size": 5,
          "symbol": "circle"
         },
         "mode": "markers",
         "name": "Escalade",
         "orientation": "v",
         "showlegend": true,
         "type": "scatter",
         "x": [
          109.5091165
         ],
         "xaxis": "x",
         "y": [
          14.785
         ],
         "yaxis": "y"
        },
        {
         "hovertemplate": "Model=Cavalier<br>Power_perf_factor=%{x}<br>Sales_in_thousands=%{y}<extra></extra>",
         "legendgroup": "Cavalier",
         "marker": {
          "color": "#FECB52",
          "size": 5,
          "symbol": "circle"
         },
         "mode": "markers",
         "name": "Cavalier",
         "orientation": "v",
         "showlegend": true,
         "type": "scatter",
         "x": [
          46.36334747
         ],
         "xaxis": "x",
         "y": [
          145.519
         ],
         "yaxis": "y"
        },
        {
         "hovertemplate": "Model=Malibu<br>Power_perf_factor=%{x}<br>Sales_in_thousands=%{y}<extra></extra>",
         "legendgroup": "Malibu",
         "marker": {
          "color": "#636efa",
          "size": 5,
          "symbol": "circle"
         },
         "mode": "markers",
         "name": "Malibu",
         "orientation": "v",
         "showlegend": true,
         "type": "scatter",
         "x": [
          67.31446216
         ],
         "xaxis": "x",
         "y": [
          135.126
         ],
         "yaxis": "y"
        },
        {
         "hovertemplate": "Model=Lumina<br>Power_perf_factor=%{x}<br>Sales_in_thousands=%{y}<extra></extra>",
         "legendgroup": "Lumina",
         "marker": {
          "color": "#EF553B",
          "size": 5,
          "symbol": "circle"
         },
         "mode": "markers",
         "name": "Lumina",
         "orientation": "v",
         "showlegend": true,
         "type": "scatter",
         "x": [
          69.9913956
         ],
         "xaxis": "x",
         "y": [
          24.629
         ],
         "yaxis": "y"
        },
        {
         "hovertemplate": "Model=Monte Carlo<br>Power_perf_factor=%{x}<br>Sales_in_thousands=%{y}<extra></extra>",
         "legendgroup": "Monte Carlo",
         "marker": {
          "color": "#00cc96",
          "size": 5,
          "symbol": "circle"
         },
         "mode": "markers",
         "name": "Monte Carlo",
         "orientation": "v",
         "showlegend": true,
         "type": "scatter",
         "x": [
          72.03091719
         ],
         "xaxis": "x",
         "y": [
          42.593
         ],
         "yaxis": "y"
        },
        {
         "hovertemplate": "Model=Camaro<br>Power_perf_factor=%{x}<br>Sales_in_thousands=%{y}<extra></extra>",
         "legendgroup": "Camaro",
         "marker": {
          "color": "#ab63fa",
          "size": 5,
          "symbol": "circle"
         },
         "mode": "markers",
         "name": "Camaro",
         "orientation": "v",
         "showlegend": true,
         "type": "scatter",
         "x": [
          81.11854333
         ],
         "xaxis": "x",
         "y": [
          26.402
         ],
         "yaxis": "y"
        },
        {
         "hovertemplate": "Model=Corvette<br>Power_perf_factor=%{x}<br>Sales_in_thousands=%{y}<extra></extra>",
         "legendgroup": "Corvette",
         "marker": {
          "color": "#FFA15A",
          "size": 5,
          "symbol": "circle"
         },
         "mode": "markers",
         "name": "Corvette",
         "orientation": "v",
         "showlegend": true,
         "type": "scatter",
         "x": [
          141.14115
         ],
         "xaxis": "x",
         "y": [
          17.947
         ],
         "yaxis": "y"
        },
        {
         "hovertemplate": "Model=Prizm<br>Power_perf_factor=%{x}<br>Sales_in_thousands=%{y}<extra></extra>",
         "legendgroup": "Prizm",
         "marker": {
          "color": "#19d3f3",
          "size": 5,
          "symbol": "circle"
         },
         "mode": "markers",
         "name": "Prizm",
         "orientation": "v",
         "showlegend": true,
         "type": "scatter",
         "x": [
          48.2976361
         ],
         "xaxis": "x",
         "y": [
          32.299
         ],
         "yaxis": "y"
        },
        {
         "hovertemplate": "Model=Metro<br>Power_perf_factor=%{x}<br>Sales_in_thousands=%{y}<extra></extra>",
         "legendgroup": "Metro",
         "marker": {
          "color": "#FF6692",
          "size": 5,
          "symbol": "circle"
         },
         "mode": "markers",
         "name": "Metro",
         "orientation": "v",
         "showlegend": true,
         "type": "scatter",
         "x": [
          23.27627233
         ],
         "xaxis": "x",
         "y": [
          21.855
         ],
         "yaxis": "y"
        },
        {
         "hovertemplate": "Model=Impala<br>Power_perf_factor=%{x}<br>Sales_in_thousands=%{y}<extra></extra>",
         "legendgroup": "Impala",
         "marker": {
          "color": "#B6E880",
          "size": 5,
          "symbol": "circle"
         },
         "mode": "markers",
         "name": "Impala",
         "orientation": "v",
         "showlegend": true,
         "type": "scatter",
         "x": [
          71.83803944
         ],
         "xaxis": "x",
         "y": [
          107.995
         ],
         "yaxis": "y"
        },
        {
         "hovertemplate": "Model=Sebring Coupe<br>Power_perf_factor=%{x}<br>Sales_in_thousands=%{y}<extra></extra>",
         "legendgroup": "Sebring Coupe",
         "marker": {
          "color": "#FF97FF",
          "size": 5,
          "symbol": "circle"
         },
         "mode": "markers",
         "name": "Sebring Coupe",
         "orientation": "v",
         "showlegend": true,
         "type": "scatter",
         "x": [
          65.95718396
         ],
         "xaxis": "x",
         "y": [
          7.854
         ],
         "yaxis": "y"
        },
        {
         "hovertemplate": "Model=Sebring Conv.<br>Power_perf_factor=%{x}<br>Sales_in_thousands=%{y}<extra></extra>",
         "legendgroup": "Sebring Conv.",
         "marker": {
          "color": "#FECB52",
          "size": 5,
          "symbol": "circle"
         },
         "mode": "markers",
         "name": "Sebring Conv.",
         "orientation": "v",
         "showlegend": true,
         "type": "scatter",
         "x": [
          69.52135505
         ],
         "xaxis": "x",
         "y": [
          32.775
         ],
         "yaxis": "y"
        },
        {
         "hovertemplate": "Model=Concorde<br>Power_perf_factor=%{x}<br>Sales_in_thousands=%{y}<extra></extra>",
         "legendgroup": "Concorde",
         "marker": {
          "color": "#636efa",
          "size": 5,
          "symbol": "circle"
         },
         "mode": "markers",
         "name": "Concorde",
         "orientation": "v",
         "showlegend": true,
         "type": "scatter",
         "x": [
          80.02378204
         ],
         "xaxis": "x",
         "y": [
          31.148
         ],
         "yaxis": "y"
        },
        {
         "hovertemplate": "Model=Cirrus<br>Power_perf_factor=%{x}<br>Sales_in_thousands=%{y}<extra></extra>",
         "legendgroup": "Cirrus",
         "marker": {
          "color": "#EF553B",
          "size": 5,
          "symbol": "circle"
         },
         "mode": "markers",
         "name": "Cirrus",
         "orientation": "v",
         "showlegend": true,
         "type": "scatter",
         "x": [
          53.56619987
         ],
         "xaxis": "x",
         "y": [
          32.306
         ],
         "yaxis": "y"
        },
        {
         "hovertemplate": "Model=LHS<br>Power_perf_factor=%{x}<br>Sales_in_thousands=%{y}<extra></extra>",
         "legendgroup": "LHS",
         "marker": {
          "color": "#00cc96",
          "size": 5,
          "symbol": "circle"
         },
         "mode": "markers",
         "name": "LHS",
         "orientation": "v",
         "showlegend": true,
         "type": "scatter",
         "x": [
          101.3292807
         ],
         "xaxis": "x",
         "y": [
          13.462
         ],
         "yaxis": "y"
        },
        {
         "hovertemplate": "Model=Town & Country<br>Power_perf_factor=%{x}<br>Sales_in_thousands=%{y}<extra></extra>",
         "legendgroup": "Town & Country",
         "marker": {
          "color": "#ab63fa",
          "size": 5,
          "symbol": "circle"
         },
         "mode": "markers",
         "name": "Town & Country",
         "orientation": "v",
         "showlegend": true,
         "type": "scatter",
         "x": [
          null
         ],
         "xaxis": "x",
         "y": [
          53.48
         ],
         "yaxis": "y"
        },
        {
         "hovertemplate": "Model=300M<br>Power_perf_factor=%{x}<br>Sales_in_thousands=%{y}<extra></extra>",
         "legendgroup": "300M",
         "marker": {
          "color": "#FFA15A",
          "size": 5,
          "symbol": "circle"
         },
         "mode": "markers",
         "name": "300M",
         "orientation": "v",
         "showlegend": true,
         "type": "scatter",
         "x": [
          101.6552441
         ],
         "xaxis": "x",
         "y": [
          30.696
         ],
         "yaxis": "y"
        },
        {
         "hovertemplate": "Model=Neon<br>Power_perf_factor=%{x}<br>Sales_in_thousands=%{y}<extra></extra>",
         "legendgroup": "Neon",
         "marker": {
          "color": "#19d3f3",
          "size": 5,
          "symbol": "circle"
         },
         "mode": "markers",
         "name": "Neon",
         "orientation": "v",
         "showlegend": true,
         "type": "scatter",
         "x": [
          52.08489875,
          52.08489875,
          52.08489875,
          52.08489875
         ],
         "xaxis": "x",
         "y": [
          76.034,
          76.034,
          32.734,
          32.734
         ],
         "yaxis": "y"
        },
        {
         "hovertemplate": "Model=Avenger<br>Power_perf_factor=%{x}<br>Sales_in_thousands=%{y}<extra></extra>",
         "legendgroup": "Avenger",
         "marker": {
          "color": "#FF6692",
          "size": 5,
          "symbol": "circle"
         },
         "mode": "markers",
         "name": "Avenger",
         "orientation": "v",
         "showlegend": true,
         "type": "scatter",
         "x": [
          65.65050834
         ],
         "xaxis": "x",
         "y": [
          4.734
         ],
         "yaxis": "y"
        },
        {
         "hovertemplate": "Model=Stratus<br>Power_perf_factor=%{x}<br>Sales_in_thousands=%{y}<extra></extra>",
         "legendgroup": "Stratus",
         "marker": {
          "color": "#B6E880",
          "size": 5,
          "symbol": "circle"
         },
         "mode": "markers",
         "name": "Stratus",
         "orientation": "v",
         "showlegend": true,
         "type": "scatter",
         "x": [
          67.87610784
         ],
         "xaxis": "x",
         "y": [
          71.186
         ],
         "yaxis": "y"
        },
        {
         "hovertemplate": "Model=Intrepid<br>Power_perf_factor=%{x}<br>Sales_in_thousands=%{y}<extra></extra>",
         "legendgroup": "Intrepid",
         "marker": {
          "color": "#FF97FF",
          "size": 5,
          "symbol": "circle"
         },
         "mode": "markers",
         "name": "Intrepid",
         "orientation": "v",
         "showlegend": true,
         "type": "scatter",
         "x": [
          80.83147017
         ],
         "xaxis": "x",
         "y": [
          88.028
         ],
         "yaxis": "y"
        },
        {
         "hovertemplate": "Model=Viper<br>Power_perf_factor=%{x}<br>Sales_in_thousands=%{y}<extra></extra>",
         "legendgroup": "Viper",
         "marker": {
          "color": "#FECB52",
          "size": 5,
          "symbol": "circle"
         },
         "mode": "markers",
         "name": "Viper",
         "orientation": "v",
         "showlegend": true,
         "type": "scatter",
         "x": [
          188.144323
         ],
         "xaxis": "x",
         "y": [
          0.916
         ],
         "yaxis": "y"
        },
        {
         "hovertemplate": "Model=Ram Pickup<br>Power_perf_factor=%{x}<br>Sales_in_thousands=%{y}<extra></extra>",
         "legendgroup": "Ram Pickup",
         "marker": {
          "color": "#636efa",
          "size": 5,
          "symbol": "circle"
         },
         "mode": "markers",
         "name": "Ram Pickup",
         "orientation": "v",
         "showlegend": true,
         "type": "scatter",
         "x": [
          90.21170005
         ],
         "xaxis": "x",
         "y": [
          227.061
         ],
         "yaxis": "y"
        },
        {
         "hovertemplate": "Model=Ram Wagon<br>Power_perf_factor=%{x}<br>Sales_in_thousands=%{y}<extra></extra>",
         "legendgroup": "Ram Wagon",
         "marker": {
          "color": "#EF553B",
          "size": 5,
          "symbol": "circle"
         },
         "mode": "markers",
         "name": "Ram Wagon",
         "orientation": "v",
         "showlegend": true,
         "type": "scatter",
         "x": [
          71.13529161
         ],
         "xaxis": "x",
         "y": [
          16.767
         ],
         "yaxis": "y"
        },
        {
         "hovertemplate": "Model=Ram Van<br>Power_perf_factor=%{x}<br>Sales_in_thousands=%{y}<extra></extra>",
         "legendgroup": "Ram Van",
         "marker": {
          "color": "#00cc96",
          "size": 5,
          "symbol": "circle"
         },
         "mode": "markers",
         "name": "Ram Van",
         "orientation": "v",
         "showlegend": true,
         "type": "scatter",
         "x": [
          70.07832154
         ],
         "xaxis": "x",
         "y": [
          31.038
         ],
         "yaxis": "y"
        },
        {
         "hovertemplate": "Model=Dakota<br>Power_perf_factor=%{x}<br>Sales_in_thousands=%{y}<extra></extra>",
         "legendgroup": "Dakota",
         "marker": {
          "color": "#ab63fa",
          "size": 5,
          "symbol": "circle"
         },
         "mode": "markers",
         "name": "Dakota",
         "orientation": "v",
         "showlegend": true,
         "type": "scatter",
         "x": [
          49.64500177
         ],
         "xaxis": "x",
         "y": [
          111.313
         ],
         "yaxis": "y"
        },
        {
         "hovertemplate": "Model=Durango<br>Power_perf_factor=%{x}<br>Sales_in_thousands=%{y}<extra></extra>",
         "legendgroup": "Durango",
         "marker": {
          "color": "#FFA15A",
          "size": 5,
          "symbol": "circle"
         },
         "mode": "markers",
         "name": "Durango",
         "orientation": "v",
         "showlegend": true,
         "type": "scatter",
         "x": [
          92.85412522
         ],
         "xaxis": "x",
         "y": [
          101.323
         ],
         "yaxis": "y"
        },
        {
         "hovertemplate": "Model=Caravan<br>Power_perf_factor=%{x}<br>Sales_in_thousands=%{y}<extra></extra>",
         "legendgroup": "Caravan",
         "marker": {
          "color": "#19d3f3",
          "size": 5,
          "symbol": "circle"
         },
         "mode": "markers",
         "name": "Caravan",
         "orientation": "v",
         "showlegend": true,
         "type": "scatter",
         "x": [
          61.22700031
         ],
         "xaxis": "x",
         "y": [
          181.749
         ],
         "yaxis": "y"
        },
        {
         "hovertemplate": "Model=Escort<br>Power_perf_factor=%{x}<br>Sales_in_thousands=%{y}<extra></extra>",
         "legendgroup": "Escort",
         "marker": {
          "color": "#FF6692",
          "size": 5,
          "symbol": "circle"
         },
         "mode": "markers",
         "name": "Escort",
         "orientation": "v",
         "showlegend": true,
         "type": "scatter",
         "x": [
          44.08370946
         ],
         "xaxis": "x",
         "y": [
          70.227
         ],
         "yaxis": "y"
        },
        {
         "hovertemplate": "Model=Mustang<br>Power_perf_factor=%{x}<br>Sales_in_thousands=%{y}<extra></extra>",
         "legendgroup": "Mustang",
         "marker": {
          "color": "#B6E880",
          "size": 5,
          "symbol": "circle"
         },
         "mode": "markers",
         "name": "Mustang",
         "orientation": "v",
         "showlegend": true,
         "type": "scatter",
         "x": [
          76.50918456
         ],
         "xaxis": "x",
         "y": [
          113.369
         ],
         "yaxis": "y"
        },
        {
         "hovertemplate": "Model=Contour<br>Power_perf_factor=%{x}<br>Sales_in_thousands=%{y}<extra></extra>",
         "legendgroup": "Contour",
         "marker": {
          "color": "#FF97FF",
          "size": 5,
          "symbol": "circle"
         },
         "mode": "markers",
         "name": "Contour",
         "orientation": "v",
         "showlegend": true,
         "type": "scatter",
         "x": [
          67.35101072
         ],
         "xaxis": "x",
         "y": [
          35.068
         ],
         "yaxis": "y"
        },
        {
         "hovertemplate": "Model=Taurus<br>Power_perf_factor=%{x}<br>Sales_in_thousands=%{y}<extra></extra>",
         "legendgroup": "Taurus",
         "marker": {
          "color": "#FECB52",
          "size": 5,
          "symbol": "circle"
         },
         "mode": "markers",
         "name": "Taurus",
         "orientation": "v",
         "showlegend": true,
         "type": "scatter",
         "x": [
          62.5037395
         ],
         "xaxis": "x",
         "y": [
          245.815
         ],
         "yaxis": "y"
        },
        {
         "hovertemplate": "Model=Focus<br>Power_perf_factor=%{x}<br>Sales_in_thousands=%{y}<extra></extra>",
         "legendgroup": "Focus",
         "marker": {
          "color": "#636efa",
          "size": 5,
          "symbol": "circle"
         },
         "mode": "markers",
         "name": "Focus",
         "orientation": "v",
         "showlegend": true,
         "type": "scatter",
         "x": [
          43.11713201
         ],
         "xaxis": "x",
         "y": [
          175.67
         ],
         "yaxis": "y"
        },
        {
         "hovertemplate": "Model=Crown Victoria<br>Power_perf_factor=%{x}<br>Sales_in_thousands=%{y}<extra></extra>",
         "legendgroup": "Crown Victoria",
         "marker": {
          "color": "#EF553B",
          "size": 5,
          "symbol": "circle"
         },
         "mode": "markers",
         "name": "Crown Victoria",
         "orientation": "v",
         "showlegend": true,
         "type": "scatter",
         "x": [
          80.49953671
         ],
         "xaxis": "x",
         "y": [
          63.403
         ],
         "yaxis": "y"
        },
        {
         "hovertemplate": "Model=Explorer<br>Power_perf_factor=%{x}<br>Sales_in_thousands=%{y}<extra></extra>",
         "legendgroup": "Explorer",
         "marker": {
          "color": "#00cc96",
          "size": 5,
          "symbol": "circle"
         },
         "mode": "markers",
         "name": "Explorer",
         "orientation": "v",
         "showlegend": true,
         "type": "scatter",
         "x": [
          87.63549578
         ],
         "xaxis": "x",
         "y": [
          276.747
         ],
         "yaxis": "y"
        },
        {
         "hovertemplate": "Model=Windstar<br>Power_perf_factor=%{x}<br>Sales_in_thousands=%{y}<extra></extra>",
         "legendgroup": "Windstar",
         "marker": {
          "color": "#ab63fa",
          "size": 5,
          "symbol": "circle"
         },
         "mode": "markers",
         "name": "Windstar",
         "orientation": "v",
         "showlegend": true,
         "type": "scatter",
         "x": [
          62.09504839
         ],
         "xaxis": "x",
         "y": [
          155.787
         ],
         "yaxis": "y"
        },
        {
         "hovertemplate": "Model=Expedition<br>Power_perf_factor=%{x}<br>Sales_in_thousands=%{y}<extra></extra>",
         "legendgroup": "Expedition",
         "marker": {
          "color": "#FFA15A",
          "size": 5,
          "symbol": "circle"
         },
         "mode": "markers",
         "name": "Expedition",
         "orientation": "v",
         "showlegend": true,
         "type": "scatter",
         "x": [
          100.0248023
         ],
         "xaxis": "x",
         "y": [
          125.338
         ],
         "yaxis": "y"
        },
        {
         "hovertemplate": "Model=Ranger<br>Power_perf_factor=%{x}<br>Sales_in_thousands=%{y}<extra></extra>",
         "legendgroup": "Ranger",
         "marker": {
          "color": "#19d3f3",
          "size": 5,
          "symbol": "circle"
         },
         "mode": "markers",
         "name": "Ranger",
         "orientation": "v",
         "showlegend": true,
         "type": "scatter",
         "x": [
          47.38953131
         ],
         "xaxis": "x",
         "y": [
          220.65
         ],
         "yaxis": "y"
        },
        {
         "hovertemplate": "Model=F-Series<br>Power_perf_factor=%{x}<br>Sales_in_thousands=%{y}<extra></extra>",
         "legendgroup": "F-Series",
         "marker": {
          "color": "#FF6692",
          "size": 5,
          "symbol": "circle"
         },
         "mode": "markers",
         "name": "F-Series",
         "orientation": "v",
         "showlegend": true,
         "type": "scatter",
         "x": [
          89.40193473
         ],
         "xaxis": "x",
         "y": [
          540.561
         ],
         "yaxis": "y"
        },
        {
         "hovertemplate": "Model=Civic<br>Power_perf_factor=%{x}<br>Sales_in_thousands=%{y}<extra></extra>",
         "legendgroup": "Civic",
         "marker": {
          "color": "#B6E880",
          "size": 5,
          "symbol": "circle"
         },
         "mode": "markers",
         "name": "Civic",
         "orientation": "v",
         "showlegend": true,
         "type": "scatter",
         "x": [
          42.87909734
         ],
         "xaxis": "x",
         "y": [
          199.685
         ],
         "yaxis": "y"
        },
        {
         "hovertemplate": "Model=Accord<br>Power_perf_factor=%{x}<br>Sales_in_thousands=%{y}<extra></extra>",
         "legendgroup": "Accord",
         "marker": {
          "color": "#FF97FF",
          "size": 5,
          "symbol": "circle"
         },
         "mode": "markers",
         "name": "Accord",
         "orientation": "v",
         "showlegend": true,
         "type": "scatter",
         "x": [
          54.26954829
         ],
         "xaxis": "x",
         "y": [
          230.902
         ],
         "yaxis": "y"
        },
        {
         "hovertemplate": "Model=CR-V<br>Power_perf_factor=%{x}<br>Sales_in_thousands=%{y}<extra></extra>",
         "legendgroup": "CR-V",
         "marker": {
          "color": "#FECB52",
          "size": 5,
          "symbol": "circle"
         },
         "mode": "markers",
         "name": "CR-V",
         "orientation": "v",
         "showlegend": true,
         "type": "scatter",
         "x": [
          60.08796662
         ],
         "xaxis": "x",
         "y": [
          73.203
         ],
         "yaxis": "y"
        },
        {
         "hovertemplate": "Model=Passport<br>Power_perf_factor=%{x}<br>Sales_in_thousands=%{y}<extra></extra>",
         "legendgroup": "Passport",
         "marker": {
          "color": "#636efa",
          "size": 5,
          "symbol": "circle"
         },
         "mode": "markers",
         "name": "Passport",
         "orientation": "v",
         "showlegend": true,
         "type": "scatter",
         "x": [
          83.6025008
         ],
         "xaxis": "x",
         "y": [
          12.855
         ],
         "yaxis": "y"
        },
        {
         "hovertemplate": "Model=Odyssey<br>Power_perf_factor=%{x}<br>Sales_in_thousands=%{y}<extra></extra>",
         "legendgroup": "Odyssey",
         "marker": {
          "color": "#EF553B",
          "size": 5,
          "symbol": "circle"
         },
         "mode": "markers",
         "name": "Odyssey",
         "orientation": "v",
         "showlegend": true,
         "type": "scatter",
         "x": [
          85.21769134
         ],
         "xaxis": "x",
         "y": [
          76.029
         ],
         "yaxis": "y"
        },
        {
         "hovertemplate": "Model=Accent<br>Power_perf_factor=%{x}<br>Sales_in_thousands=%{y}<extra></extra>",
         "legendgroup": "Accent",
         "marker": {
          "color": "#00cc96",
          "size": 5,
          "symbol": "circle"
         },
         "mode": "markers",
         "name": "Accent",
         "orientation": "v",
         "showlegend": true,
         "type": "scatter",
         "x": [
          36.67228358
         ],
         "xaxis": "x",
         "y": [
          41.184
         ],
         "yaxis": "y"
        },
        {
         "hovertemplate": "Model=Elantra<br>Power_perf_factor=%{x}<br>Sales_in_thousands=%{y}<extra></extra>",
         "legendgroup": "Elantra",
         "marker": {
          "color": "#ab63fa",
          "size": 5,
          "symbol": "circle"
         },
         "mode": "markers",
         "name": "Elantra",
         "orientation": "v",
         "showlegend": true,
         "type": "scatter",
         "x": [
          54.59004516
         ],
         "xaxis": "x",
         "y": [
          66.692
         ],
         "yaxis": "y"
        },
        {
         "hovertemplate": "Model=Sonata<br>Power_perf_factor=%{x}<br>Sales_in_thousands=%{y}<extra></extra>",
         "legendgroup": "Sonata",
         "marker": {
          "color": "#FFA15A",
          "size": 5,
          "symbol": "circle"
         },
         "mode": "markers",
         "name": "Sonata",
         "orientation": "v",
         "showlegend": true,
         "type": "scatter",
         "x": [
          58.758249
         ],
         "xaxis": "x",
         "y": [
          29.45
         ],
         "yaxis": "y"
        },
        {
         "hovertemplate": "Model=I30<br>Power_perf_factor=%{x}<br>Sales_in_thousands=%{y}<extra></extra>",
         "legendgroup": "I30",
         "marker": {
          "color": "#19d3f3",
          "size": 5,
          "symbol": "circle"
         },
         "mode": "markers",
         "name": "I30",
         "orientation": "v",
         "showlegend": true,
         "type": "scatter",
         "x": [
          92.43688923
         ],
         "xaxis": "x",
         "y": [
          23.713
         ],
         "yaxis": "y"
        },
        {
         "hovertemplate": "Model=S-Type<br>Power_perf_factor=%{x}<br>Sales_in_thousands=%{y}<extra></extra>",
         "legendgroup": "S-Type",
         "marker": {
          "color": "#FF6692",
          "size": 5,
          "symbol": "circle"
         },
         "mode": "markers",
         "name": "S-Type",
         "orientation": "v",
         "showlegend": true,
         "type": "scatter",
         "x": [
          102.1789848
         ],
         "xaxis": "x",
         "y": [
          15.467
         ],
         "yaxis": "y"
        },
        {
         "hovertemplate": "Model=Wrangler<br>Power_perf_factor=%{x}<br>Sales_in_thousands=%{y}<extra></extra>",
         "legendgroup": "Wrangler",
         "marker": {
          "color": "#B6E880",
          "size": 5,
          "symbol": "circle"
         },
         "mode": "markers",
         "name": "Wrangler",
         "orientation": "v",
         "showlegend": true,
         "type": "scatter",
         "x": [
          48.67289791
         ],
         "xaxis": "x",
         "y": [
          55.557
         ],
         "yaxis": "y"
        },
        {
         "hovertemplate": "Model=Cherokee<br>Power_perf_factor=%{x}<br>Sales_in_thousands=%{y}<extra></extra>",
         "legendgroup": "Cherokee",
         "marker": {
          "color": "#FF97FF",
          "size": 5,
          "symbol": "circle"
         },
         "mode": "markers",
         "name": "Cherokee",
         "orientation": "v",
         "showlegend": true,
         "type": "scatter",
         "x": [
          76.58443962
         ],
         "xaxis": "x",
         "y": [
          80.556
         ],
         "yaxis": "y"
        },
        {
         "hovertemplate": "Model=Grand Cherokee<br>Power_perf_factor=%{x}<br>Sales_in_thousands=%{y}<extra></extra>",
         "legendgroup": "Grand Cherokee",
         "marker": {
          "color": "#FECB52",
          "size": 5,
          "symbol": "circle"
         },
         "mode": "markers",
         "name": "Grand Cherokee",
         "orientation": "v",
         "showlegend": true,
         "type": "scatter",
         "x": [
          80.38777912
         ],
         "xaxis": "x",
         "y": [
          157.04
         ],
         "yaxis": "y"
        },
        {
         "hovertemplate": "Model=ES300<br>Power_perf_factor=%{x}<br>Sales_in_thousands=%{y}<extra></extra>",
         "legendgroup": "ES300",
         "marker": {
          "color": "#636efa",
          "size": 5,
          "symbol": "circle"
         },
         "mode": "markers",
         "name": "ES300",
         "orientation": "v",
         "showlegend": true,
         "type": "scatter",
         "x": [
          87.21100104
         ],
         "xaxis": "x",
         "y": [
          24.072
         ],
         "yaxis": "y"
        },
        {
         "hovertemplate": "Model=GS300<br>Power_perf_factor=%{x}<br>Sales_in_thousands=%{y}<extra></extra>",
         "legendgroup": "GS300",
         "marker": {
          "color": "#EF553B",
          "size": 5,
          "symbol": "circle"
         },
         "mode": "markers",
         "name": "GS300",
         "orientation": "v",
         "showlegend": true,
         "type": "scatter",
         "x": [
          94.9466984
         ],
         "xaxis": "x",
         "y": [
          12.698
         ],
         "yaxis": "y"
        },
        {
         "hovertemplate": "Model=GS400<br>Power_perf_factor=%{x}<br>Sales_in_thousands=%{y}<extra></extra>",
         "legendgroup": "GS400",
         "marker": {
          "color": "#00cc96",
          "size": 5,
          "symbol": "circle"
         },
         "mode": "markers",
         "name": "GS400",
         "orientation": "v",
         "showlegend": true,
         "type": "scatter",
         "x": [
          125.0133574
         ],
         "xaxis": "x",
         "y": [
          3.334
         ],
         "yaxis": "y"
        },
        {
         "hovertemplate": "Model=LS400<br>Power_perf_factor=%{x}<br>Sales_in_thousands=%{y}<extra></extra>",
         "legendgroup": "LS400",
         "marker": {
          "color": "#ab63fa",
          "size": 5,
          "symbol": "circle"
         },
         "mode": "markers",
         "name": "LS400",
         "orientation": "v",
         "showlegend": true,
         "type": "scatter",
         "x": [
          124.4467163
         ],
         "xaxis": "x",
         "y": [
          6.375
         ],
         "yaxis": "y"
        },
        {
         "hovertemplate": "Model=LX470<br>Power_perf_factor=%{x}<br>Sales_in_thousands=%{y}<extra></extra>",
         "legendgroup": "LX470",
         "marker": {
          "color": "#FFA15A",
          "size": 5,
          "symbol": "circle"
         },
         "mode": "markers",
         "name": "LX470",
         "orientation": "v",
         "showlegend": true,
         "type": "scatter",
         "x": [
          105.760458
         ],
         "xaxis": "x",
         "y": [
          9.126
         ],
         "yaxis": "y"
        },
        {
         "hovertemplate": "Model=RX300<br>Power_perf_factor=%{x}<br>Sales_in_thousands=%{y}<extra></extra>",
         "legendgroup": "RX300",
         "marker": {
          "color": "#19d3f3",
          "size": 5,
          "symbol": "circle"
         },
         "mode": "markers",
         "name": "RX300",
         "orientation": "v",
         "showlegend": true,
         "type": "scatter",
         "x": [
          91.94380156
         ],
         "xaxis": "x",
         "y": [
          51.238
         ],
         "yaxis": "y"
        },
        {
         "hovertemplate": "Model=Continental<br>Power_perf_factor=%{x}<br>Sales_in_thousands=%{y}<extra></extra>",
         "legendgroup": "Continental",
         "marker": {
          "color": "#FF6692",
          "size": 5,
          "symbol": "circle"
         },
         "mode": "markers",
         "name": "Continental",
         "orientation": "v",
         "showlegend": true,
         "type": "scatter",
         "x": [
          113.5402069
         ],
         "xaxis": "x",
         "y": [
          13.798
         ],
         "yaxis": "y"
        },
        {
         "hovertemplate": "Model=Town car<br>Power_perf_factor=%{x}<br>Sales_in_thousands=%{y}<extra></extra>",
         "legendgroup": "Town car",
         "marker": {
          "color": "#B6E880",
          "size": 5,
          "symbol": "circle"
         },
         "mode": "markers",
         "name": "Town car",
         "orientation": "v",
         "showlegend": true,
         "type": "scatter",
         "x": [
          93.9579169
         ],
         "xaxis": "x",
         "y": [
          48.911
         ],
         "yaxis": "y"
        },
        {
         "hovertemplate": "Model=Navigator<br>Power_perf_factor=%{x}<br>Sales_in_thousands=%{y}<extra></extra>",
         "legendgroup": "Navigator",
         "marker": {
          "color": "#FF97FF",
          "size": 5,
          "symbol": "circle"
         },
         "mode": "markers",
         "name": "Navigator",
         "orientation": "v",
         "showlegend": true,
         "type": "scatter",
         "x": [
          123.9720467
         ],
         "xaxis": "x",
         "y": [
          22.925
         ],
         "yaxis": "y"
        },
        {
         "hovertemplate": "Model=Mirage<br>Power_perf_factor=%{x}<br>Sales_in_thousands=%{y}<extra></extra>",
         "legendgroup": "Mirage",
         "marker": {
          "color": "#FECB52",
          "size": 5,
          "symbol": "circle"
         },
         "mode": "markers",
         "name": "Mirage",
         "orientation": "v",
         "showlegend": true,
         "type": "scatter",
         "x": [
          45.83218056
         ],
         "xaxis": "x",
         "y": [
          26.232
         ],
         "yaxis": "y"
        },
        {
         "hovertemplate": "Model=Eclipse<br>Power_perf_factor=%{x}<br>Sales_in_thousands=%{y}<extra></extra>",
         "legendgroup": "Eclipse",
         "marker": {
          "color": "#636efa",
          "size": 5,
          "symbol": "circle"
         },
         "mode": "markers",
         "name": "Eclipse",
         "orientation": "v",
         "showlegend": true,
         "type": "scatter",
         "x": [
          62.44196235
         ],
         "xaxis": "x",
         "y": [
          42.541
         ],
         "yaxis": "y"
        },
        {
         "hovertemplate": "Model=Galant<br>Power_perf_factor=%{x}<br>Sales_in_thousands=%{y}<extra></extra>",
         "legendgroup": "Galant",
         "marker": {
          "color": "#EF553B",
          "size": 5,
          "symbol": "circle"
         },
         "mode": "markers",
         "name": "Galant",
         "orientation": "v",
         "showlegend": true,
         "type": "scatter",
         "x": [
          58.60677292
         ],
         "xaxis": "x",
         "y": [
          55.616
         ],
         "yaxis": "y"
        },
        {
         "hovertemplate": "Model=Diamante<br>Power_perf_factor=%{x}<br>Sales_in_thousands=%{y}<extra></extra>",
         "legendgroup": "Diamante",
         "marker": {
          "color": "#00cc96",
          "size": 5,
          "symbol": "circle"
         },
         "mode": "markers",
         "name": "Diamante",
         "orientation": "v",
         "showlegend": true,
         "type": "scatter",
         "x": [
          84.83077858
         ],
         "xaxis": "x",
         "y": [
          5.711
         ],
         "yaxis": "y"
        },
        {
         "hovertemplate": "Model=3000GT<br>Power_perf_factor=%{x}<br>Sales_in_thousands=%{y}<extra></extra>",
         "legendgroup": "3000GT",
         "marker": {
          "color": "#ab63fa",
          "size": 5,
          "symbol": "circle"
         },
         "mode": "markers",
         "name": "3000GT",
         "orientation": "v",
         "showlegend": true,
         "type": "scatter",
         "x": [
          67.54415494
         ],
         "xaxis": "x",
         "y": [
          0.11
         ],
         "yaxis": "y"
        },
        {
         "hovertemplate": "Model=Montero<br>Power_perf_factor=%{x}<br>Sales_in_thousands=%{y}<extra></extra>",
         "legendgroup": "Montero",
         "marker": {
          "color": "#FFA15A",
          "size": 5,
          "symbol": "circle"
         },
         "mode": "markers",
         "name": "Montero",
         "orientation": "v",
         "showlegend": true,
         "type": "scatter",
         "x": [
          83.92081504
         ],
         "xaxis": "x",
         "y": [
          11.337
         ],
         "yaxis": "y"
        },
        {
         "hovertemplate": "Model=Montero Sport<br>Power_perf_factor=%{x}<br>Sales_in_thousands=%{y}<extra></extra>",
         "legendgroup": "Montero Sport",
         "marker": {
          "color": "#19d3f3",
          "size": 5,
          "symbol": "circle"
         },
         "mode": "markers",
         "name": "Montero Sport",
         "orientation": "v",
         "showlegend": true,
         "type": "scatter",
         "x": [
          70.66094179
         ],
         "xaxis": "x",
         "y": [
          39.348
         ],
         "yaxis": "y"
        },
        {
         "hovertemplate": "Model=Mystique<br>Power_perf_factor=%{x}<br>Sales_in_thousands=%{y}<extra></extra>",
         "legendgroup": "Mystique",
         "marker": {
          "color": "#FF6692",
          "size": 5,
          "symbol": "circle"
         },
         "mode": "markers",
         "name": "Mystique",
         "orientation": "v",
         "showlegend": true,
         "type": "scatter",
         "x": [
          50.99774761
         ],
         "xaxis": "x",
         "y": [
          14.351
         ],
         "yaxis": "y"
        },
        {
         "hovertemplate": "Model=Cougar<br>Power_perf_factor=%{x}<br>Sales_in_thousands=%{y}<extra></extra>",
         "legendgroup": "Cougar",
         "marker": {
          "color": "#B6E880",
          "size": 5,
          "symbol": "circle"
         },
         "mode": "markers",
         "name": "Cougar",
         "orientation": "v",
         "showlegend": true,
         "type": "scatter",
         "x": [
          51.11347426
         ],
         "xaxis": "x",
         "y": [
          26.529
         ],
         "yaxis": "y"
        },
        {
         "hovertemplate": "Model=Sable<br>Power_perf_factor=%{x}<br>Sales_in_thousands=%{y}<extra></extra>",
         "legendgroup": "Sable",
         "marker": {
          "color": "#FF97FF",
          "size": 5,
          "symbol": "circle"
         },
         "mode": "markers",
         "name": "Sable",
         "orientation": "v",
         "showlegend": true,
         "type": "scatter",
         "x": [
          62.23996663
         ],
         "xaxis": "x",
         "y": [
          67.956
         ],
         "yaxis": "y"
        },
        {
         "hovertemplate": "Model=Grand Marquis<br>Power_perf_factor=%{x}<br>Sales_in_thousands=%{y}<extra></extra>",
         "legendgroup": "Grand Marquis",
         "marker": {
          "color": "#FECB52",
          "size": 5,
          "symbol": "circle"
         },
         "mode": "markers",
         "name": "Grand Marquis",
         "orientation": "v",
         "showlegend": true,
         "type": "scatter",
         "x": [
          80.65769646
         ],
         "xaxis": "x",
         "y": [
          81.174
         ],
         "yaxis": "y"
        },
        {
         "hovertemplate": "Model=Mountaineer<br>Power_perf_factor=%{x}<br>Sales_in_thousands=%{y}<extra></extra>",
         "legendgroup": "Mountaineer",
         "marker": {
          "color": "#636efa",
          "size": 5,
          "symbol": "circle"
         },
         "mode": "markers",
         "name": "Mountaineer",
         "orientation": "v",
         "showlegend": true,
         "type": "scatter",
         "x": [
          85.94974425
         ],
         "xaxis": "x",
         "y": [
          27.609
         ],
         "yaxis": "y"
        },
        {
         "hovertemplate": "Model=Villager<br>Power_perf_factor=%{x}<br>Sales_in_thousands=%{y}<extra></extra>",
         "legendgroup": "Villager",
         "marker": {
          "color": "#EF553B",
          "size": 5,
          "symbol": "circle"
         },
         "mode": "markers",
         "name": "Villager",
         "orientation": "v",
         "showlegend": true,
         "type": "scatter",
         "x": [
          69.671461
         ],
         "xaxis": "x",
         "y": [
          20.38
         ],
         "yaxis": "y"
        },
        {
         "hovertemplate": "Model=C-Class<br>Power_perf_factor=%{x}<br>Sales_in_thousands=%{y}<extra></extra>",
         "legendgroup": "C-Class",
         "marker": {
          "color": "#00cc96",
          "size": 5,
          "symbol": "circle"
         },
         "mode": "markers",
         "name": "C-Class",
         "orientation": "v",
         "showlegend": true,
         "type": "scatter",
         "x": [
          78.28073088
         ],
         "xaxis": "x",
         "y": [
          18.392
         ],
         "yaxis": "y"
        },
        {
         "hovertemplate": "Model=E-Class<br>Power_perf_factor=%{x}<br>Sales_in_thousands=%{y}<extra></extra>",
         "legendgroup": "E-Class",
         "marker": {
          "color": "#ab63fa",
          "size": 5,
          "symbol": "circle"
         },
         "mode": "markers",
         "name": "E-Class",
         "orientation": "v",
         "showlegend": true,
         "type": "scatter",
         "x": [
          98.2497375
         ],
         "xaxis": "x",
         "y": [
          27.602
         ],
         "yaxis": "y"
        },
        {
         "hovertemplate": "Model=S-Class<br>Power_perf_factor=%{x}<br>Sales_in_thousands=%{y}<extra></extra>",
         "legendgroup": "S-Class",
         "marker": {
          "color": "#FFA15A",
          "size": 5,
          "symbol": "circle"
         },
         "mode": "markers",
         "name": "S-Class",
         "orientation": "v",
         "showlegend": true,
         "type": "scatter",
         "x": [
          125.2738757
         ],
         "xaxis": "x",
         "y": [
          16.774
         ],
         "yaxis": "y"
        },
        {
         "hovertemplate": "Model=SL-Class<br>Power_perf_factor=%{x}<br>Sales_in_thousands=%{y}<extra></extra>",
         "legendgroup": "SL-Class",
         "marker": {
          "color": "#19d3f3",
          "size": 5,
          "symbol": "circle"
         },
         "mode": "markers",
         "name": "SL-Class",
         "orientation": "v",
         "showlegend": true,
         "type": "scatter",
         "x": [
          139.9822936
         ],
         "xaxis": "x",
         "y": [
          3.311
         ],
         "yaxis": "y"
        },
        {
         "hovertemplate": "Model=SLK<br>Power_perf_factor=%{x}<br>Sales_in_thousands=%{y}<extra></extra>",
         "legendgroup": "SLK",
         "marker": {
          "color": "#FF6692",
          "size": 5,
          "symbol": "circle"
         },
         "mode": "markers",
         "name": "SLK",
         "orientation": "v",
         "showlegend": true,
         "type": "scatter",
         "x": [
          82.80736193
         ],
         "xaxis": "x",
         "y": [
          7.998
         ],
         "yaxis": "y"
        },
        {
         "hovertemplate": "Model=SLK230<br>Power_perf_factor=%{x}<br>Sales_in_thousands=%{y}<extra></extra>",
         "legendgroup": "SLK230",
         "marker": {
          "color": "#B6E880",
          "size": 5,
          "symbol": "circle"
         },
         "mode": "markers",
         "name": "SLK230",
         "orientation": "v",
         "showlegend": true,
         "type": "scatter",
         "x": [
          81.84896924
         ],
         "xaxis": "x",
         "y": [
          1.526
         ],
         "yaxis": "y"
        },
        {
         "hovertemplate": "Model=CLK Coupe<br>Power_perf_factor=%{x}<br>Sales_in_thousands=%{y}<extra></extra>",
         "legendgroup": "CLK Coupe",
         "marker": {
          "color": "#FF97FF",
          "size": 5,
          "symbol": "circle"
         },
         "mode": "markers",
         "name": "CLK Coupe",
         "orientation": "v",
         "showlegend": true,
         "type": "scatter",
         "x": [
          92.92579177
         ],
         "xaxis": "x",
         "y": [
          11.592
         ],
         "yaxis": "y"
        },
        {
         "hovertemplate": "Model=CL500<br>Power_perf_factor=%{x}<br>Sales_in_thousands=%{y}<extra></extra>",
         "legendgroup": "CL500",
         "marker": {
          "color": "#FECB52",
          "size": 5,
          "symbol": "circle"
         },
         "mode": "markers",
         "name": "CL500",
         "orientation": "v",
         "showlegend": true,
         "type": "scatter",
         "x": [
          141.1009845
         ],
         "xaxis": "x",
         "y": [
          0.954
         ],
         "yaxis": "y"
        },
        {
         "hovertemplate": "Model=M-Class<br>Power_perf_factor=%{x}<br>Sales_in_thousands=%{y}<extra></extra>",
         "legendgroup": "M-Class",
         "marker": {
          "color": "#636efa",
          "size": 5,
          "symbol": "circle"
         },
         "mode": "markers",
         "name": "M-Class",
         "orientation": "v",
         "showlegend": true,
         "type": "scatter",
         "x": [
          90.49553213
         ],
         "xaxis": "x",
         "y": [
          28.976
         ],
         "yaxis": "y"
        },
        {
         "hovertemplate": "Model=Sentra<br>Power_perf_factor=%{x}<br>Sales_in_thousands=%{y}<extra></extra>",
         "legendgroup": "Sentra",
         "marker": {
          "color": "#EF553B",
          "size": 5,
          "symbol": "circle"
         },
         "mode": "markers",
         "name": "Sentra",
         "orientation": "v",
         "showlegend": true,
         "type": "scatter",
         "x": [
          50.24197791
         ],
         "xaxis": "x",
         "y": [
          42.643
         ],
         "yaxis": "y"
        },
        {
         "hovertemplate": "Model=Altima<br>Power_perf_factor=%{x}<br>Sales_in_thousands=%{y}<extra></extra>",
         "legendgroup": "Altima",
         "marker": {
          "color": "#00cc96",
          "size": 5,
          "symbol": "circle"
         },
         "mode": "markers",
         "name": "Altima",
         "orientation": "v",
         "showlegend": true,
         "type": "scatter",
         "x": [
          63.31372783
         ],
         "xaxis": "x",
         "y": [
          88.094
         ],
         "yaxis": "y"
        },
        {
         "hovertemplate": "Model=Maxima<br>Power_perf_factor=%{x}<br>Sales_in_thousands=%{y}<extra></extra>",
         "legendgroup": "Maxima",
         "marker": {
          "color": "#ab63fa",
          "size": 5,
          "symbol": "circle"
         },
         "mode": "markers",
         "name": "Maxima",
         "orientation": "v",
         "showlegend": true,
         "type": "scatter",
         "x": [
          89.42782031
         ],
         "xaxis": "x",
         "y": [
          79.853
         ],
         "yaxis": "y"
        },
        {
         "hovertemplate": "Model=Quest<br>Power_perf_factor=%{x}<br>Sales_in_thousands=%{y}<extra></extra>",
         "legendgroup": "Quest",
         "marker": {
          "color": "#FFA15A",
          "size": 5,
          "symbol": "circle"
         },
         "mode": "markers",
         "name": "Quest",
         "orientation": "v",
         "showlegend": true,
         "type": "scatter",
         "x": [
          71.17166413
         ],
         "xaxis": "x",
         "y": [
          27.308
         ],
         "yaxis": "y"
        },
        {
         "hovertemplate": "Model=Pathfinder<br>Power_perf_factor=%{x}<br>Sales_in_thousands=%{y}<extra></extra>",
         "legendgroup": "Pathfinder",
         "marker": {
          "color": "#19d3f3",
          "size": 5,
          "symbol": "circle"
         },
         "mode": "markers",
         "name": "Pathfinder",
         "orientation": "v",
         "showlegend": true,
         "type": "scatter",
         "x": [
          72.29035508
         ],
         "xaxis": "x",
         "y": [
          42.574
         ],
         "yaxis": "y"
        },
        {
         "hovertemplate": "Model=Xterra<br>Power_perf_factor=%{x}<br>Sales_in_thousands=%{y}<extra></extra>",
         "legendgroup": "Xterra",
         "marker": {
          "color": "#FF6692",
          "size": 5,
          "symbol": "circle"
         },
         "mode": "markers",
         "name": "Xterra",
         "orientation": "v",
         "showlegend": true,
         "type": "scatter",
         "x": [
          69.78294434
         ],
         "xaxis": "x",
         "y": [
          54.158
         ],
         "yaxis": "y"
        },
        {
         "hovertemplate": "Model=Frontier<br>Power_perf_factor=%{x}<br>Sales_in_thousands=%{y}<extra></extra>",
         "legendgroup": "Frontier",
         "marker": {
          "color": "#B6E880",
          "size": 5,
          "symbol": "circle"
         },
         "mode": "markers",
         "name": "Frontier",
         "orientation": "v",
         "showlegend": true,
         "type": "scatter",
         "x": [
          67.88927059
         ],
         "xaxis": "x",
         "y": [
          65.005
         ],
         "yaxis": "y"
        },
        {
         "hovertemplate": "Model=Cutlass<br>Power_perf_factor=%{x}<br>Sales_in_thousands=%{y}<extra></extra>",
         "legendgroup": "Cutlass",
         "marker": {
          "color": "#FF97FF",
          "size": 5,
          "symbol": "circle"
         },
         "mode": "markers",
         "name": "Cutlass",
         "orientation": "v",
         "showlegend": true,
         "type": "scatter",
         "x": [
          60.86161155
         ],
         "xaxis": "x",
         "y": [
          1.112
         ],
         "yaxis": "y"
        },
        {
         "hovertemplate": "Model=Intrigue<br>Power_perf_factor=%{x}<br>Sales_in_thousands=%{y}<extra></extra>",
         "legendgroup": "Intrigue",
         "marker": {
          "color": "#FECB52",
          "size": 5,
          "symbol": "circle"
         },
         "mode": "markers",
         "name": "Intrigue",
         "orientation": "v",
         "showlegend": true,
         "type": "scatter",
         "x": [
          86.27252291
         ],
         "xaxis": "x",
         "y": [
          38.554
         ],
         "yaxis": "y"
        },
        {
         "hovertemplate": "Model=Alero<br>Power_perf_factor=%{x}<br>Sales_in_thousands=%{y}<extra></extra>",
         "legendgroup": "Alero",
         "marker": {
          "color": "#636efa",
          "size": 5,
          "symbol": "circle"
         },
         "mode": "markers",
         "name": "Alero",
         "orientation": "v",
         "showlegend": true,
         "type": "scatter",
         "x": [
          60.72744693
         ],
         "xaxis": "x",
         "y": [
          80.255
         ],
         "yaxis": "y"
        },
        {
         "hovertemplate": "Model=Aurora<br>Power_perf_factor=%{x}<br>Sales_in_thousands=%{y}<extra></extra>",
         "legendgroup": "Aurora",
         "marker": {
          "color": "#EF553B",
          "size": 5,
          "symbol": "circle"
         },
         "mode": "markers",
         "name": "Aurora",
         "orientation": "v",
         "showlegend": true,
         "type": "scatter",
         "x": [
          103.4416926
         ],
         "xaxis": "x",
         "y": [
          14.69
         ],
         "yaxis": "y"
        },
        {
         "hovertemplate": "Model=Bravada<br>Power_perf_factor=%{x}<br>Sales_in_thousands=%{y}<extra></extra>",
         "legendgroup": "Bravada",
         "marker": {
          "color": "#00cc96",
          "size": 5,
          "symbol": "circle"
         },
         "mode": "markers",
         "name": "Bravada",
         "orientation": "v",
         "showlegend": true,
         "type": "scatter",
         "x": [
          80.51167259
         ],
         "xaxis": "x",
         "y": [
          20.017
         ],
         "yaxis": "y"
        },
        {
         "hovertemplate": "Model=Silhouette<br>Power_perf_factor=%{x}<br>Sales_in_thousands=%{y}<extra></extra>",
         "legendgroup": "Silhouette",
         "marker": {
          "color": "#ab63fa",
          "size": 5,
          "symbol": "circle"
         },
         "mode": "markers",
         "name": "Silhouette",
         "orientation": "v",
         "showlegend": true,
         "type": "scatter",
         "x": [
          76.09657042
         ],
         "xaxis": "x",
         "y": [
          24.361
         ],
         "yaxis": "y"
        },
        {
         "hovertemplate": "Model=Breeze<br>Power_perf_factor=%{x}<br>Sales_in_thousands=%{y}<extra></extra>",
         "legendgroup": "Breeze",
         "marker": {
          "color": "#FFA15A",
          "size": 5,
          "symbol": "circle"
         },
         "mode": "markers",
         "name": "Breeze",
         "orientation": "v",
         "showlegend": true,
         "type": "scatter",
         "x": [
          53.41189767
         ],
         "xaxis": "x",
         "y": [
          5.24
         ],
         "yaxis": "y"
        },
        {
         "hovertemplate": "Model=Voyager<br>Power_perf_factor=%{x}<br>Sales_in_thousands=%{y}<extra></extra>",
         "legendgroup": "Voyager",
         "marker": {
          "color": "#19d3f3",
          "size": 5,
          "symbol": "circle"
         },
         "mode": "markers",
         "name": "Voyager",
         "orientation": "v",
         "showlegend": true,
         "type": "scatter",
         "x": [
          60.95118512
         ],
         "xaxis": "x",
         "y": [
          24.155
         ],
         "yaxis": "y"
        },
        {
         "hovertemplate": "Model=Prowler<br>Power_perf_factor=%{x}<br>Sales_in_thousands=%{y}<extra></extra>",
         "legendgroup": "Prowler",
         "marker": {
          "color": "#FF6692",
          "size": 5,
          "symbol": "circle"
         },
         "mode": "markers",
         "name": "Prowler",
         "orientation": "v",
         "showlegend": true,
         "type": "scatter",
         "x": [
          106.9844563
         ],
         "xaxis": "x",
         "y": [
          1.872
         ],
         "yaxis": "y"
        },
        {
         "hovertemplate": "Model=Sunfire<br>Power_perf_factor=%{x}<br>Sales_in_thousands=%{y}<extra></extra>",
         "legendgroup": "Sunfire",
         "marker": {
          "color": "#B6E880",
          "size": 5,
          "symbol": "circle"
         },
         "mode": "markers",
         "name": "Sunfire",
         "orientation": "v",
         "showlegend": true,
         "type": "scatter",
         "x": [
          62.0158703
         ],
         "xaxis": "x",
         "y": [
          51.645
         ],
         "yaxis": "y"
        },
        {
         "hovertemplate": "Model=Grand Am<br>Power_perf_factor=%{x}<br>Sales_in_thousands=%{y}<extra></extra>",
         "legendgroup": "Grand Am",
         "marker": {
          "color": "#FF97FF",
          "size": 5,
          "symbol": "circle"
         },
         "mode": "markers",
         "name": "Grand Am",
         "orientation": "v",
         "showlegend": true,
         "type": "scatter",
         "x": [
          70.38973726
         ],
         "xaxis": "x",
         "y": [
          131.097
         ],
         "yaxis": "y"
        },
        {
         "hovertemplate": "Model=Firebird<br>Power_perf_factor=%{x}<br>Sales_in_thousands=%{y}<extra></extra>",
         "legendgroup": "Firebird",
         "marker": {
          "color": "#FECB52",
          "size": 5,
          "symbol": "circle"
         },
         "mode": "markers",
         "name": "Firebird",
         "orientation": "v",
         "showlegend": true,
         "type": "scatter",
         "x": [
          81.49272616
         ],
         "xaxis": "x",
         "y": [
          19.911
         ],
         "yaxis": "y"
        },
        {
         "hovertemplate": "Model=Grand Prix<br>Power_perf_factor=%{x}<br>Sales_in_thousands=%{y}<extra></extra>",
         "legendgroup": "Grand Prix",
         "marker": {
          "color": "#636efa",
          "size": 5,
          "symbol": "circle"
         },
         "mode": "markers",
         "name": "Grand Prix",
         "orientation": "v",
         "showlegend": true,
         "type": "scatter",
         "x": [
          78.31816813
         ],
         "xaxis": "x",
         "y": [
          92.364
         ],
         "yaxis": "y"
        },
        {
         "hovertemplate": "Model=Bonneville<br>Power_perf_factor=%{x}<br>Sales_in_thousands=%{y}<extra></extra>",
         "legendgroup": "Bonneville",
         "marker": {
          "color": "#EF553B",
          "size": 5,
          "symbol": "circle"
         },
         "mode": "markers",
         "name": "Bonneville",
         "orientation": "v",
         "showlegend": true,
         "type": "scatter",
         "x": [
          82.6613556
         ],
         "xaxis": "x",
         "y": [
          35.945
         ],
         "yaxis": "y"
        },
        {
         "hovertemplate": "Model=Montana<br>Power_perf_factor=%{x}<br>Sales_in_thousands=%{y}<extra></extra>",
         "legendgroup": "Montana",
         "marker": {
          "color": "#00cc96",
          "size": 5,
          "symbol": "circle"
         },
         "mode": "markers",
         "name": "Montana",
         "orientation": "v",
         "showlegend": true,
         "type": "scatter",
         "x": [
          76.20843952
         ],
         "xaxis": "x",
         "y": [
          39.572
         ],
         "yaxis": "y"
        },
        {
         "hovertemplate": "Model=Boxter<br>Power_perf_factor=%{x}<br>Sales_in_thousands=%{y}<extra></extra>",
         "legendgroup": "Boxter",
         "marker": {
          "color": "#ab63fa",
          "size": 5,
          "symbol": "circle"
         },
         "mode": "markers",
         "name": "Boxter",
         "orientation": "v",
         "showlegend": true,
         "type": "scatter",
         "x": [
          93.4373307
         ],
         "xaxis": "x",
         "y": [
          8.982
         ],
         "yaxis": "y"
        },
        {
         "hovertemplate": "Model=Carrera Coupe<br>Power_perf_factor=%{x}<br>Sales_in_thousands=%{y}<extra></extra>",
         "legendgroup": "Carrera Coupe",
         "marker": {
          "color": "#FFA15A",
          "size": 5,
          "symbol": "circle"
         },
         "mode": "markers",
         "name": "Carrera Coupe",
         "orientation": "v",
         "showlegend": true,
         "type": "scatter",
         "x": [
          134.3909754
         ],
         "xaxis": "x",
         "y": [
          1.28
         ],
         "yaxis": "y"
        },
        {
         "hovertemplate": "Model=Carrera Cabrio<br>Power_perf_factor=%{x}<br>Sales_in_thousands=%{y}<extra></extra>",
         "legendgroup": "Carrera Cabrio",
         "marker": {
          "color": "#19d3f3",
          "size": 5,
          "symbol": "circle"
         },
         "mode": "markers",
         "name": "Carrera Cabrio",
         "orientation": "v",
         "showlegend": true,
         "type": "scatter",
         "x": [
          135.9147096
         ],
         "xaxis": "x",
         "y": [
          1.866
         ],
         "yaxis": "y"
        },
        {
         "hovertemplate": "Model=5-Sep<br>Power_perf_factor=%{x}<br>Sales_in_thousands=%{y}<extra></extra>",
         "legendgroup": "5-Sep",
         "marker": {
          "color": "#FF6692",
          "size": 5,
          "symbol": "circle"
         },
         "mode": "markers",
         "name": "5-Sep",
         "orientation": "v",
         "showlegend": true,
         "type": "scatter",
         "x": [
          73.50377819
         ],
         "xaxis": "x",
         "y": [
          9.191
         ],
         "yaxis": "y"
        },
        {
         "hovertemplate": "Model=3-Sep<br>Power_perf_factor=%{x}<br>Sales_in_thousands=%{y}<extra></extra>",
         "legendgroup": "3-Sep",
         "marker": {
          "color": "#B6E880",
          "size": 5,
          "symbol": "circle"
         },
         "mode": "markers",
         "name": "3-Sep",
         "orientation": "v",
         "showlegend": true,
         "type": "scatter",
         "x": [
          76.02304771
         ],
         "xaxis": "x",
         "y": [
          12.115
         ],
         "yaxis": "y"
        },
        {
         "hovertemplate": "Model=SL<br>Power_perf_factor=%{x}<br>Sales_in_thousands=%{y}<extra></extra>",
         "legendgroup": "SL",
         "marker": {
          "color": "#FF97FF",
          "size": 5,
          "symbol": "circle"
         },
         "mode": "markers",
         "name": "SL",
         "orientation": "v",
         "showlegend": true,
         "type": "scatter",
         "x": [
          39.98642475
         ],
         "xaxis": "x",
         "y": [
          80.62
         ],
         "yaxis": "y"
        },
        {
         "hovertemplate": "Model=SC<br>Power_perf_factor=%{x}<br>Sales_in_thousands=%{y}<extra></extra>",
         "legendgroup": "SC",
         "marker": {
          "color": "#FECB52",
          "size": 5,
          "symbol": "circle"
         },
         "mode": "markers",
         "name": "SC",
         "orientation": "v",
         "showlegend": true,
         "type": "scatter",
         "x": [
          40.70007242
         ],
         "xaxis": "x",
         "y": [
          24.546
         ],
         "yaxis": "y"
        },
        {
         "hovertemplate": "Model=SW<br>Power_perf_factor=%{x}<br>Sales_in_thousands=%{y}<extra></extra>",
         "legendgroup": "SW",
         "marker": {
          "color": "#636efa",
          "size": 5,
          "symbol": "circle"
         },
         "mode": "markers",
         "name": "SW",
         "orientation": "v",
         "showlegend": true,
         "type": "scatter",
         "x": [
          49.86577367
         ],
         "xaxis": "x",
         "y": [
          5.223
         ],
         "yaxis": "y"
        },
        {
         "hovertemplate": "Model=LW<br>Power_perf_factor=%{x}<br>Sales_in_thousands=%{y}<extra></extra>",
         "legendgroup": "LW",
         "marker": {
          "color": "#EF553B",
          "size": 5,
          "symbol": "circle"
         },
         "mode": "markers",
         "name": "LW",
         "orientation": "v",
         "showlegend": true,
         "type": "scatter",
         "x": [
          56.29524304
         ],
         "xaxis": "x",
         "y": [
          8.472
         ],
         "yaxis": "y"
        },
        {
         "hovertemplate": "Model=LS<br>Power_perf_factor=%{x}<br>Sales_in_thousands=%{y}<extra></extra>",
         "legendgroup": "LS",
         "marker": {
          "color": "#00cc96",
          "size": 5,
          "symbol": "circle"
         },
         "mode": "markers",
         "name": "LS",
         "orientation": "v",
         "showlegend": true,
         "type": "scatter",
         "x": [
          54.81972825
         ],
         "xaxis": "x",
         "y": [
          49.989
         ],
         "yaxis": "y"
        },
        {
         "hovertemplate": "Model=Outback<br>Power_perf_factor=%{x}<br>Sales_in_thousands=%{y}<extra></extra>",
         "legendgroup": "Outback",
         "marker": {
          "color": "#ab63fa",
          "size": 5,
          "symbol": "circle"
         },
         "mode": "markers",
         "name": "Outback",
         "orientation": "v",
         "showlegend": true,
         "type": "scatter",
         "x": [
          67.7659076
         ],
         "xaxis": "x",
         "y": [
          47.107
         ],
         "yaxis": "y"
        },
        {
         "hovertemplate": "Model=Forester<br>Power_perf_factor=%{x}<br>Sales_in_thousands=%{y}<extra></extra>",
         "legendgroup": "Forester",
         "marker": {
          "color": "#FFA15A",
          "size": 5,
          "symbol": "circle"
         },
         "mode": "markers",
         "name": "Forester",
         "orientation": "v",
         "showlegend": true,
         "type": "scatter",
         "x": [
          66.76294331
         ],
         "xaxis": "x",
         "y": [
          33.028
         ],
         "yaxis": "y"
        },
        {
         "hovertemplate": "Model=Corolla<br>Power_perf_factor=%{x}<br>Sales_in_thousands=%{y}<extra></extra>",
         "legendgroup": "Corolla",
         "marker": {
          "color": "#19d3f3",
          "size": 5,
          "symbol": "circle"
         },
         "mode": "markers",
         "name": "Corolla",
         "orientation": "v",
         "showlegend": true,
         "type": "scatter",
         "x": [
          47.96897242
         ],
         "xaxis": "x",
         "y": [
          142.535
         ],
         "yaxis": "y"
        },
        {
         "hovertemplate": "Model=Camry<br>Power_perf_factor=%{x}<br>Sales_in_thousands=%{y}<extra></extra>",
         "legendgroup": "Camry",
         "marker": {
          "color": "#FF6692",
          "size": 5,
          "symbol": "circle"
         },
         "mode": "markers",
         "name": "Camry",
         "orientation": "v",
         "showlegend": true,
         "type": "scatter",
         "x": [
          54.37241965
         ],
         "xaxis": "x",
         "y": [
          247.994
         ],
         "yaxis": "y"
        },
        {
         "hovertemplate": "Model=Avalon<br>Power_perf_factor=%{x}<br>Sales_in_thousands=%{y}<extra></extra>",
         "legendgroup": "Avalon",
         "marker": {
          "color": "#B6E880",
          "size": 5,
          "symbol": "circle"
         },
         "mode": "markers",
         "name": "Avalon",
         "orientation": "v",
         "showlegend": true,
         "type": "scatter",
         "x": [
          84.91189826
         ],
         "xaxis": "x",
         "y": [
          63.849
         ],
         "yaxis": "y"
        },
        {
         "hovertemplate": "Model=Celica<br>Power_perf_factor=%{x}<br>Sales_in_thousands=%{y}<extra></extra>",
         "legendgroup": "Celica",
         "marker": {
          "color": "#FF97FF",
          "size": 5,
          "symbol": "circle"
         },
         "mode": "markers",
         "name": "Celica",
         "orientation": "v",
         "showlegend": true,
         "type": "scatter",
         "x": [
          56.49603034
         ],
         "xaxis": "x",
         "y": [
          33.269
         ],
         "yaxis": "y"
        },
        {
         "hovertemplate": "Model=Tacoma<br>Power_perf_factor=%{x}<br>Sales_in_thousands=%{y}<extra></extra>",
         "legendgroup": "Tacoma",
         "marker": {
          "color": "#FECB52",
          "size": 5,
          "symbol": "circle"
         },
         "mode": "markers",
         "name": "Tacoma",
         "orientation": "v",
         "showlegend": true,
         "type": "scatter",
         "x": [
          55.29711658
         ],
         "xaxis": "x",
         "y": [
          84.087
         ],
         "yaxis": "y"
        },
        {
         "hovertemplate": "Model=Sienna<br>Power_perf_factor=%{x}<br>Sales_in_thousands=%{y}<extra></extra>",
         "legendgroup": "Sienna",
         "marker": {
          "color": "#636efa",
          "size": 5,
          "symbol": "circle"
         },
         "mode": "markers",
         "name": "Sienna",
         "orientation": "v",
         "showlegend": true,
         "type": "scatter",
         "x": [
          78.02721947
         ],
         "xaxis": "x",
         "y": [
          65.119
         ],
         "yaxis": "y"
        },
        {
         "hovertemplate": "Model=RAV4<br>Power_perf_factor=%{x}<br>Sales_in_thousands=%{y}<extra></extra>",
         "legendgroup": "RAV4",
         "marker": {
          "color": "#EF553B",
          "size": 5,
          "symbol": "circle"
         },
         "mode": "markers",
         "name": "RAV4",
         "orientation": "v",
         "showlegend": true,
         "type": "scatter",
         "x": [
          51.95510887
         ],
         "xaxis": "x",
         "y": [
          25.106
         ],
         "yaxis": "y"
        },
        {
         "hovertemplate": "Model=4Runner<br>Power_perf_factor=%{x}<br>Sales_in_thousands=%{y}<extra></extra>",
         "legendgroup": "4Runner",
         "marker": {
          "color": "#00cc96",
          "size": 5,
          "symbol": "circle"
         },
         "mode": "markers",
         "name": "4Runner",
         "orientation": "v",
         "showlegend": true,
         "type": "scatter",
         "x": [
          62.35557713
         ],
         "xaxis": "x",
         "y": [
          68.411
         ],
         "yaxis": "y"
        },
        {
         "hovertemplate": "Model=Land Cruiser<br>Power_perf_factor=%{x}<br>Sales_in_thousands=%{y}<extra></extra>",
         "legendgroup": "Land Cruiser",
         "marker": {
          "color": "#ab63fa",
          "size": 5,
          "symbol": "circle"
         },
         "mode": "markers",
         "name": "Land Cruiser",
         "orientation": "v",
         "showlegend": true,
         "type": "scatter",
         "x": [
          102.5289842
         ],
         "xaxis": "x",
         "y": [
          9.835
         ],
         "yaxis": "y"
        },
        {
         "hovertemplate": "Model=Golf<br>Power_perf_factor=%{x}<br>Sales_in_thousands=%{y}<extra></extra>",
         "legendgroup": "Golf",
         "marker": {
          "color": "#FFA15A",
          "size": 5,
          "symbol": "circle"
         },
         "mode": "markers",
         "name": "Golf",
         "orientation": "v",
         "showlegend": true,
         "type": "scatter",
         "x": [
          46.94387676
         ],
         "xaxis": "x",
         "y": [
          9.761
         ],
         "yaxis": "y"
        },
        {
         "hovertemplate": "Model=Jetta<br>Power_perf_factor=%{x}<br>Sales_in_thousands=%{y}<extra></extra>",
         "legendgroup": "Jetta",
         "marker": {
          "color": "#19d3f3",
          "size": 5,
          "symbol": "circle"
         },
         "mode": "markers",
         "name": "Jetta",
         "orientation": "v",
         "showlegend": true,
         "type": "scatter",
         "x": [
          47.63823666
         ],
         "xaxis": "x",
         "y": [
          83.721
         ],
         "yaxis": "y"
        },
        {
         "hovertemplate": "Model=Passat<br>Power_perf_factor=%{x}<br>Sales_in_thousands=%{y}<extra></extra>",
         "legendgroup": "Passat",
         "marker": {
          "color": "#FF6692",
          "size": 5,
          "symbol": "circle"
         },
         "mode": "markers",
         "name": "Passat",
         "orientation": "v",
         "showlegend": true,
         "type": "scatter",
         "x": [
          61.70138136
         ],
         "xaxis": "x",
         "y": [
          51.102
         ],
         "yaxis": "y"
        },
        {
         "hovertemplate": "Model=Cabrio<br>Power_perf_factor=%{x}<br>Sales_in_thousands=%{y}<extra></extra>",
         "legendgroup": "Cabrio",
         "marker": {
          "color": "#B6E880",
          "size": 5,
          "symbol": "circle"
         },
         "mode": "markers",
         "name": "Cabrio",
         "orientation": "v",
         "showlegend": true,
         "type": "scatter",
         "x": [
          48.90737225
         ],
         "xaxis": "x",
         "y": [
          9.569
         ],
         "yaxis": "y"
        },
        {
         "hovertemplate": "Model=GTI<br>Power_perf_factor=%{x}<br>Sales_in_thousands=%{y}<extra></extra>",
         "legendgroup": "GTI",
         "marker": {
          "color": "#FF97FF",
          "size": 5,
          "symbol": "circle"
         },
         "mode": "markers",
         "name": "GTI",
         "orientation": "v",
         "showlegend": true,
         "type": "scatter",
         "x": [
          47.94684106
         ],
         "xaxis": "x",
         "y": [
          5.596
         ],
         "yaxis": "y"
        },
        {
         "hovertemplate": "Model=Beetle<br>Power_perf_factor=%{x}<br>Sales_in_thousands=%{y}<extra></extra>",
         "legendgroup": "Beetle",
         "marker": {
          "color": "#FECB52",
          "size": 5,
          "symbol": "circle"
         },
         "mode": "markers",
         "name": "Beetle",
         "orientation": "v",
         "showlegend": true,
         "type": "scatter",
         "x": [
          47.32963226
         ],
         "xaxis": "x",
         "y": [
          49.463
         ],
         "yaxis": "y"
        },
        {
         "hovertemplate": "Model=S40<br>Power_perf_factor=%{x}<br>Sales_in_thousands=%{y}<extra></extra>",
         "legendgroup": "S40",
         "marker": {
          "color": "#636efa",
          "size": 5,
          "symbol": "circle"
         },
         "mode": "markers",
         "name": "S40",
         "orientation": "v",
         "showlegend": true,
         "type": "scatter",
         "x": [
          66.1130568
         ],
         "xaxis": "x",
         "y": [
          16.957
         ],
         "yaxis": "y"
        },
        {
         "hovertemplate": "Model=V40<br>Power_perf_factor=%{x}<br>Sales_in_thousands=%{y}<extra></extra>",
         "legendgroup": "V40",
         "marker": {
          "color": "#EF553B",
          "size": 5,
          "symbol": "circle"
         },
         "mode": "markers",
         "name": "V40",
         "orientation": "v",
         "showlegend": true,
         "type": "scatter",
         "x": [
          66.4988123
         ],
         "xaxis": "x",
         "y": [
          3.545
         ],
         "yaxis": "y"
        },
        {
         "hovertemplate": "Model=S70<br>Power_perf_factor=%{x}<br>Sales_in_thousands=%{y}<extra></extra>",
         "legendgroup": "S70",
         "marker": {
          "color": "#00cc96",
          "size": 5,
          "symbol": "circle"
         },
         "mode": "markers",
         "name": "S70",
         "orientation": "v",
         "showlegend": true,
         "type": "scatter",
         "x": [
          70.65449545
         ],
         "xaxis": "x",
         "y": [
          15.245
         ],
         "yaxis": "y"
        },
        {
         "hovertemplate": "Model=V70<br>Power_perf_factor=%{x}<br>Sales_in_thousands=%{y}<extra></extra>",
         "legendgroup": "V70",
         "marker": {
          "color": "#ab63fa",
          "size": 5,
          "symbol": "circle"
         },
         "mode": "markers",
         "name": "V70",
         "orientation": "v",
         "showlegend": true,
         "type": "scatter",
         "x": [
          71.1559776
         ],
         "xaxis": "x",
         "y": [
          17.531
         ],
         "yaxis": "y"
        },
        {
         "hovertemplate": "Model=C70<br>Power_perf_factor=%{x}<br>Sales_in_thousands=%{y}<extra></extra>",
         "legendgroup": "C70",
         "marker": {
          "color": "#FFA15A",
          "size": 5,
          "symbol": "circle"
         },
         "mode": "markers",
         "name": "C70",
         "orientation": "v",
         "showlegend": true,
         "type": "scatter",
         "x": [
          101.6233572
         ],
         "xaxis": "x",
         "y": [
          3.493
         ],
         "yaxis": "y"
        },
        {
         "hovertemplate": "Model=S80<br>Power_perf_factor=%{x}<br>Sales_in_thousands=%{y}<extra></extra>",
         "legendgroup": "S80",
         "marker": {
          "color": "#19d3f3",
          "size": 5,
          "symbol": "circle"
         },
         "mode": "markers",
         "name": "S80",
         "orientation": "v",
         "showlegend": true,
         "type": "scatter",
         "x": [
          85.73565451
         ],
         "xaxis": "x",
         "y": [
          18.969
         ],
         "yaxis": "y"
        }
       ],
       "layout": {
        "legend": {
         "title": {
          "text": "Model"
         },
         "tracegroupgap": 0
        },
        "template": {
         "data": {
          "bar": [
           {
            "error_x": {
             "color": "#2a3f5f"
            },
            "error_y": {
             "color": "#2a3f5f"
            },
            "marker": {
             "line": {
              "color": "#E5ECF6",
              "width": 0.5
             },
             "pattern": {
              "fillmode": "overlay",
              "size": 10,
              "solidity": 0.2
             }
            },
            "type": "bar"
           }
          ],
          "barpolar": [
           {
            "marker": {
             "line": {
              "color": "#E5ECF6",
              "width": 0.5
             },
             "pattern": {
              "fillmode": "overlay",
              "size": 10,
              "solidity": 0.2
             }
            },
            "type": "barpolar"
           }
          ],
          "carpet": [
           {
            "aaxis": {
             "endlinecolor": "#2a3f5f",
             "gridcolor": "white",
             "linecolor": "white",
             "minorgridcolor": "white",
             "startlinecolor": "#2a3f5f"
            },
            "baxis": {
             "endlinecolor": "#2a3f5f",
             "gridcolor": "white",
             "linecolor": "white",
             "minorgridcolor": "white",
             "startlinecolor": "#2a3f5f"
            },
            "type": "carpet"
           }
          ],
          "choropleth": [
           {
            "colorbar": {
             "outlinewidth": 0,
             "ticks": ""
            },
            "type": "choropleth"
           }
          ],
          "contour": [
           {
            "colorbar": {
             "outlinewidth": 0,
             "ticks": ""
            },
            "colorscale": [
             [
              0,
              "#0d0887"
             ],
             [
              0.1111111111111111,
              "#46039f"
             ],
             [
              0.2222222222222222,
              "#7201a8"
             ],
             [
              0.3333333333333333,
              "#9c179e"
             ],
             [
              0.4444444444444444,
              "#bd3786"
             ],
             [
              0.5555555555555556,
              "#d8576b"
             ],
             [
              0.6666666666666666,
              "#ed7953"
             ],
             [
              0.7777777777777778,
              "#fb9f3a"
             ],
             [
              0.8888888888888888,
              "#fdca26"
             ],
             [
              1,
              "#f0f921"
             ]
            ],
            "type": "contour"
           }
          ],
          "contourcarpet": [
           {
            "colorbar": {
             "outlinewidth": 0,
             "ticks": ""
            },
            "type": "contourcarpet"
           }
          ],
          "heatmap": [
           {
            "colorbar": {
             "outlinewidth": 0,
             "ticks": ""
            },
            "colorscale": [
             [
              0,
              "#0d0887"
             ],
             [
              0.1111111111111111,
              "#46039f"
             ],
             [
              0.2222222222222222,
              "#7201a8"
             ],
             [
              0.3333333333333333,
              "#9c179e"
             ],
             [
              0.4444444444444444,
              "#bd3786"
             ],
             [
              0.5555555555555556,
              "#d8576b"
             ],
             [
              0.6666666666666666,
              "#ed7953"
             ],
             [
              0.7777777777777778,
              "#fb9f3a"
             ],
             [
              0.8888888888888888,
              "#fdca26"
             ],
             [
              1,
              "#f0f921"
             ]
            ],
            "type": "heatmap"
           }
          ],
          "heatmapgl": [
           {
            "colorbar": {
             "outlinewidth": 0,
             "ticks": ""
            },
            "colorscale": [
             [
              0,
              "#0d0887"
             ],
             [
              0.1111111111111111,
              "#46039f"
             ],
             [
              0.2222222222222222,
              "#7201a8"
             ],
             [
              0.3333333333333333,
              "#9c179e"
             ],
             [
              0.4444444444444444,
              "#bd3786"
             ],
             [
              0.5555555555555556,
              "#d8576b"
             ],
             [
              0.6666666666666666,
              "#ed7953"
             ],
             [
              0.7777777777777778,
              "#fb9f3a"
             ],
             [
              0.8888888888888888,
              "#fdca26"
             ],
             [
              1,
              "#f0f921"
             ]
            ],
            "type": "heatmapgl"
           }
          ],
          "histogram": [
           {
            "marker": {
             "pattern": {
              "fillmode": "overlay",
              "size": 10,
              "solidity": 0.2
             }
            },
            "type": "histogram"
           }
          ],
          "histogram2d": [
           {
            "colorbar": {
             "outlinewidth": 0,
             "ticks": ""
            },
            "colorscale": [
             [
              0,
              "#0d0887"
             ],
             [
              0.1111111111111111,
              "#46039f"
             ],
             [
              0.2222222222222222,
              "#7201a8"
             ],
             [
              0.3333333333333333,
              "#9c179e"
             ],
             [
              0.4444444444444444,
              "#bd3786"
             ],
             [
              0.5555555555555556,
              "#d8576b"
             ],
             [
              0.6666666666666666,
              "#ed7953"
             ],
             [
              0.7777777777777778,
              "#fb9f3a"
             ],
             [
              0.8888888888888888,
              "#fdca26"
             ],
             [
              1,
              "#f0f921"
             ]
            ],
            "type": "histogram2d"
           }
          ],
          "histogram2dcontour": [
           {
            "colorbar": {
             "outlinewidth": 0,
             "ticks": ""
            },
            "colorscale": [
             [
              0,
              "#0d0887"
             ],
             [
              0.1111111111111111,
              "#46039f"
             ],
             [
              0.2222222222222222,
              "#7201a8"
             ],
             [
              0.3333333333333333,
              "#9c179e"
             ],
             [
              0.4444444444444444,
              "#bd3786"
             ],
             [
              0.5555555555555556,
              "#d8576b"
             ],
             [
              0.6666666666666666,
              "#ed7953"
             ],
             [
              0.7777777777777778,
              "#fb9f3a"
             ],
             [
              0.8888888888888888,
              "#fdca26"
             ],
             [
              1,
              "#f0f921"
             ]
            ],
            "type": "histogram2dcontour"
           }
          ],
          "mesh3d": [
           {
            "colorbar": {
             "outlinewidth": 0,
             "ticks": ""
            },
            "type": "mesh3d"
           }
          ],
          "parcoords": [
           {
            "line": {
             "colorbar": {
              "outlinewidth": 0,
              "ticks": ""
             }
            },
            "type": "parcoords"
           }
          ],
          "pie": [
           {
            "automargin": true,
            "type": "pie"
           }
          ],
          "scatter": [
           {
            "marker": {
             "colorbar": {
              "outlinewidth": 0,
              "ticks": ""
             }
            },
            "type": "scatter"
           }
          ],
          "scatter3d": [
           {
            "line": {
             "colorbar": {
              "outlinewidth": 0,
              "ticks": ""
             }
            },
            "marker": {
             "colorbar": {
              "outlinewidth": 0,
              "ticks": ""
             }
            },
            "type": "scatter3d"
           }
          ],
          "scattercarpet": [
           {
            "marker": {
             "colorbar": {
              "outlinewidth": 0,
              "ticks": ""
             }
            },
            "type": "scattercarpet"
           }
          ],
          "scattergeo": [
           {
            "marker": {
             "colorbar": {
              "outlinewidth": 0,
              "ticks": ""
             }
            },
            "type": "scattergeo"
           }
          ],
          "scattergl": [
           {
            "marker": {
             "colorbar": {
              "outlinewidth": 0,
              "ticks": ""
             }
            },
            "type": "scattergl"
           }
          ],
          "scattermapbox": [
           {
            "marker": {
             "colorbar": {
              "outlinewidth": 0,
              "ticks": ""
             }
            },
            "type": "scattermapbox"
           }
          ],
          "scatterpolar": [
           {
            "marker": {
             "colorbar": {
              "outlinewidth": 0,
              "ticks": ""
             }
            },
            "type": "scatterpolar"
           }
          ],
          "scatterpolargl": [
           {
            "marker": {
             "colorbar": {
              "outlinewidth": 0,
              "ticks": ""
             }
            },
            "type": "scatterpolargl"
           }
          ],
          "scatterternary": [
           {
            "marker": {
             "colorbar": {
              "outlinewidth": 0,
              "ticks": ""
             }
            },
            "type": "scatterternary"
           }
          ],
          "surface": [
           {
            "colorbar": {
             "outlinewidth": 0,
             "ticks": ""
            },
            "colorscale": [
             [
              0,
              "#0d0887"
             ],
             [
              0.1111111111111111,
              "#46039f"
             ],
             [
              0.2222222222222222,
              "#7201a8"
             ],
             [
              0.3333333333333333,
              "#9c179e"
             ],
             [
              0.4444444444444444,
              "#bd3786"
             ],
             [
              0.5555555555555556,
              "#d8576b"
             ],
             [
              0.6666666666666666,
              "#ed7953"
             ],
             [
              0.7777777777777778,
              "#fb9f3a"
             ],
             [
              0.8888888888888888,
              "#fdca26"
             ],
             [
              1,
              "#f0f921"
             ]
            ],
            "type": "surface"
           }
          ],
          "table": [
           {
            "cells": {
             "fill": {
              "color": "#EBF0F8"
             },
             "line": {
              "color": "white"
             }
            },
            "header": {
             "fill": {
              "color": "#C8D4E3"
             },
             "line": {
              "color": "white"
             }
            },
            "type": "table"
           }
          ]
         },
         "layout": {
          "annotationdefaults": {
           "arrowcolor": "#2a3f5f",
           "arrowhead": 0,
           "arrowwidth": 1
          },
          "autotypenumbers": "strict",
          "coloraxis": {
           "colorbar": {
            "outlinewidth": 0,
            "ticks": ""
           }
          },
          "colorscale": {
           "diverging": [
            [
             0,
             "#8e0152"
            ],
            [
             0.1,
             "#c51b7d"
            ],
            [
             0.2,
             "#de77ae"
            ],
            [
             0.3,
             "#f1b6da"
            ],
            [
             0.4,
             "#fde0ef"
            ],
            [
             0.5,
             "#f7f7f7"
            ],
            [
             0.6,
             "#e6f5d0"
            ],
            [
             0.7,
             "#b8e186"
            ],
            [
             0.8,
             "#7fbc41"
            ],
            [
             0.9,
             "#4d9221"
            ],
            [
             1,
             "#276419"
            ]
           ],
           "sequential": [
            [
             0,
             "#0d0887"
            ],
            [
             0.1111111111111111,
             "#46039f"
            ],
            [
             0.2222222222222222,
             "#7201a8"
            ],
            [
             0.3333333333333333,
             "#9c179e"
            ],
            [
             0.4444444444444444,
             "#bd3786"
            ],
            [
             0.5555555555555556,
             "#d8576b"
            ],
            [
             0.6666666666666666,
             "#ed7953"
            ],
            [
             0.7777777777777778,
             "#fb9f3a"
            ],
            [
             0.8888888888888888,
             "#fdca26"
            ],
            [
             1,
             "#f0f921"
            ]
           ],
           "sequentialminus": [
            [
             0,
             "#0d0887"
            ],
            [
             0.1111111111111111,
             "#46039f"
            ],
            [
             0.2222222222222222,
             "#7201a8"
            ],
            [
             0.3333333333333333,
             "#9c179e"
            ],
            [
             0.4444444444444444,
             "#bd3786"
            ],
            [
             0.5555555555555556,
             "#d8576b"
            ],
            [
             0.6666666666666666,
             "#ed7953"
            ],
            [
             0.7777777777777778,
             "#fb9f3a"
            ],
            [
             0.8888888888888888,
             "#fdca26"
            ],
            [
             1,
             "#f0f921"
            ]
           ]
          },
          "colorway": [
           "#636efa",
           "#EF553B",
           "#00cc96",
           "#ab63fa",
           "#FFA15A",
           "#19d3f3",
           "#FF6692",
           "#B6E880",
           "#FF97FF",
           "#FECB52"
          ],
          "font": {
           "color": "#2a3f5f"
          },
          "geo": {
           "bgcolor": "white",
           "lakecolor": "white",
           "landcolor": "#E5ECF6",
           "showlakes": true,
           "showland": true,
           "subunitcolor": "white"
          },
          "hoverlabel": {
           "align": "left"
          },
          "hovermode": "closest",
          "mapbox": {
           "style": "light"
          },
          "paper_bgcolor": "white",
          "plot_bgcolor": "#E5ECF6",
          "polar": {
           "angularaxis": {
            "gridcolor": "white",
            "linecolor": "white",
            "ticks": ""
           },
           "bgcolor": "#E5ECF6",
           "radialaxis": {
            "gridcolor": "white",
            "linecolor": "white",
            "ticks": ""
           }
          },
          "scene": {
           "xaxis": {
            "backgroundcolor": "#E5ECF6",
            "gridcolor": "white",
            "gridwidth": 2,
            "linecolor": "white",
            "showbackground": true,
            "ticks": "",
            "zerolinecolor": "white"
           },
           "yaxis": {
            "backgroundcolor": "#E5ECF6",
            "gridcolor": "white",
            "gridwidth": 2,
            "linecolor": "white",
            "showbackground": true,
            "ticks": "",
            "zerolinecolor": "white"
           },
           "zaxis": {
            "backgroundcolor": "#E5ECF6",
            "gridcolor": "white",
            "gridwidth": 2,
            "linecolor": "white",
            "showbackground": true,
            "ticks": "",
            "zerolinecolor": "white"
           }
          },
          "shapedefaults": {
           "line": {
            "color": "#2a3f5f"
           }
          },
          "ternary": {
           "aaxis": {
            "gridcolor": "white",
            "linecolor": "white",
            "ticks": ""
           },
           "baxis": {
            "gridcolor": "white",
            "linecolor": "white",
            "ticks": ""
           },
           "bgcolor": "#E5ECF6",
           "caxis": {
            "gridcolor": "white",
            "linecolor": "white",
            "ticks": ""
           }
          },
          "title": {
           "x": 0.05
          },
          "xaxis": {
           "automargin": true,
           "gridcolor": "white",
           "linecolor": "white",
           "ticks": "",
           "title": {
            "standoff": 15
           },
           "zerolinecolor": "white",
           "zerolinewidth": 2
          },
          "yaxis": {
           "automargin": true,
           "gridcolor": "white",
           "linecolor": "white",
           "ticks": "",
           "title": {
            "standoff": 15
           },
           "zerolinecolor": "white",
           "zerolinewidth": 2
          }
         }
        },
        "title": {
         "text": "Power Performance vs. Sales in Thousands",
         "x": 0.5,
         "xanchor": "center",
         "y": 0.9,
         "yanchor": "top"
        },
        "xaxis": {
         "anchor": "y",
         "domain": [
          0,
          1
         ],
         "title": {
          "text": "Power_perf_factor"
         }
        },
        "yaxis": {
         "anchor": "x",
         "domain": [
          0,
          1
         ],
         "title": {
          "text": "Sales_in_thousands"
         }
        }
       }
      },
      "text/html": [
       "<div>                            <div id=\"06fc2a92-666e-45c4-89e2-95d5cef3e3c7\" class=\"plotly-graph-div\" style=\"height:525px; width:100%;\"></div>            <script type=\"text/javascript\">                require([\"plotly\"], function(Plotly) {                    window.PLOTLYENV=window.PLOTLYENV || {};                                    if (document.getElementById(\"06fc2a92-666e-45c4-89e2-95d5cef3e3c7\")) {                    Plotly.newPlot(                        \"06fc2a92-666e-45c4-89e2-95d5cef3e3c7\",                        [{\"hovertemplate\":\"Model=Integra<br>Power_perf_factor=%{x}<br>Sales_in_thousands=%{y}<extra></extra>\",\"legendgroup\":\"Integra\",\"marker\":{\"color\":\"#636efa\",\"symbol\":\"circle\",\"size\":5},\"mode\":\"markers\",\"name\":\"Integra\",\"orientation\":\"v\",\"showlegend\":true,\"x\":[58.28014952],\"xaxis\":\"x\",\"y\":[16.919],\"yaxis\":\"y\",\"type\":\"scatter\"},{\"hovertemplate\":\"Model=TL<br>Power_perf_factor=%{x}<br>Sales_in_thousands=%{y}<extra></extra>\",\"legendgroup\":\"TL\",\"marker\":{\"color\":\"#EF553B\",\"symbol\":\"circle\",\"size\":5},\"mode\":\"markers\",\"name\":\"TL\",\"orientation\":\"v\",\"showlegend\":true,\"x\":[91.37077766],\"xaxis\":\"x\",\"y\":[39.384],\"yaxis\":\"y\",\"type\":\"scatter\"},{\"hovertemplate\":\"Model=CL<br>Power_perf_factor=%{x}<br>Sales_in_thousands=%{y}<extra></extra>\",\"legendgroup\":\"CL\",\"marker\":{\"color\":\"#00cc96\",\"symbol\":\"circle\",\"size\":5},\"mode\":\"markers\",\"name\":\"CL\",\"orientation\":\"v\",\"showlegend\":true,\"x\":[null],\"xaxis\":\"x\",\"y\":[14.114],\"yaxis\":\"y\",\"type\":\"scatter\"},{\"hovertemplate\":\"Model=RL<br>Power_perf_factor=%{x}<br>Sales_in_thousands=%{y}<extra></extra>\",\"legendgroup\":\"RL\",\"marker\":{\"color\":\"#ab63fa\",\"symbol\":\"circle\",\"size\":5},\"mode\":\"markers\",\"name\":\"RL\",\"orientation\":\"v\",\"showlegend\":true,\"x\":[91.38977933],\"xaxis\":\"x\",\"y\":[8.588],\"yaxis\":\"y\",\"type\":\"scatter\"},{\"hovertemplate\":\"Model=A4<br>Power_perf_factor=%{x}<br>Sales_in_thousands=%{y}<extra></extra>\",\"legendgroup\":\"A4\",\"marker\":{\"color\":\"#FFA15A\",\"symbol\":\"circle\",\"size\":5},\"mode\":\"markers\",\"name\":\"A4\",\"orientation\":\"v\",\"showlegend\":true,\"x\":[62.7776392],\"xaxis\":\"x\",\"y\":[20.397],\"yaxis\":\"y\",\"type\":\"scatter\"},{\"hovertemplate\":\"Model=A6<br>Power_perf_factor=%{x}<br>Sales_in_thousands=%{y}<extra></extra>\",\"legendgroup\":\"A6\",\"marker\":{\"color\":\"#19d3f3\",\"symbol\":\"circle\",\"size\":5},\"mode\":\"markers\",\"name\":\"A6\",\"orientation\":\"v\",\"showlegend\":true,\"x\":[84.56510502],\"xaxis\":\"x\",\"y\":[18.78],\"yaxis\":\"y\",\"type\":\"scatter\"},{\"hovertemplate\":\"Model=A8<br>Power_perf_factor=%{x}<br>Sales_in_thousands=%{y}<extra></extra>\",\"legendgroup\":\"A8\",\"marker\":{\"color\":\"#FF6692\",\"symbol\":\"circle\",\"size\":5},\"mode\":\"markers\",\"name\":\"A8\",\"orientation\":\"v\",\"showlegend\":true,\"x\":[134.6568582],\"xaxis\":\"x\",\"y\":[1.38],\"yaxis\":\"y\",\"type\":\"scatter\"},{\"hovertemplate\":\"Model=323i<br>Power_perf_factor=%{x}<br>Sales_in_thousands=%{y}<extra></extra>\",\"legendgroup\":\"323i\",\"marker\":{\"color\":\"#B6E880\",\"symbol\":\"circle\",\"size\":5},\"mode\":\"markers\",\"name\":\"323i\",\"orientation\":\"v\",\"showlegend\":true,\"x\":[71.19120671],\"xaxis\":\"x\",\"y\":[19.747],\"yaxis\":\"y\",\"type\":\"scatter\"},{\"hovertemplate\":\"Model=328i<br>Power_perf_factor=%{x}<br>Sales_in_thousands=%{y}<extra></extra>\",\"legendgroup\":\"328i\",\"marker\":{\"color\":\"#FF97FF\",\"symbol\":\"circle\",\"size\":5},\"mode\":\"markers\",\"name\":\"328i\",\"orientation\":\"v\",\"showlegend\":true,\"x\":[81.87706856],\"xaxis\":\"x\",\"y\":[9.231],\"yaxis\":\"y\",\"type\":\"scatter\"},{\"hovertemplate\":\"Model=528i<br>Power_perf_factor=%{x}<br>Sales_in_thousands=%{y}<extra></extra>\",\"legendgroup\":\"528i\",\"marker\":{\"color\":\"#FECB52\",\"symbol\":\"circle\",\"size\":5},\"mode\":\"markers\",\"name\":\"528i\",\"orientation\":\"v\",\"showlegend\":true,\"x\":[83.9987238],\"xaxis\":\"x\",\"y\":[17.527],\"yaxis\":\"y\",\"type\":\"scatter\"},{\"hovertemplate\":\"Model=Century<br>Power_perf_factor=%{x}<br>Sales_in_thousands=%{y}<extra></extra>\",\"legendgroup\":\"Century\",\"marker\":{\"color\":\"#636efa\",\"symbol\":\"circle\",\"size\":5},\"mode\":\"markers\",\"name\":\"Century\",\"orientation\":\"v\",\"showlegend\":true,\"x\":[71.18145132],\"xaxis\":\"x\",\"y\":[91.561],\"yaxis\":\"y\",\"type\":\"scatter\"},{\"hovertemplate\":\"Model=Regal<br>Power_perf_factor=%{x}<br>Sales_in_thousands=%{y}<extra></extra>\",\"legendgroup\":\"Regal\",\"marker\":{\"color\":\"#EF553B\",\"symbol\":\"circle\",\"size\":5},\"mode\":\"markers\",\"name\":\"Regal\",\"orientation\":\"v\",\"showlegend\":true,\"x\":[95.63670253],\"xaxis\":\"x\",\"y\":[39.35],\"yaxis\":\"y\",\"type\":\"scatter\"},{\"hovertemplate\":\"Model=Park Avenue<br>Power_perf_factor=%{x}<br>Sales_in_thousands=%{y}<extra></extra>\",\"legendgroup\":\"Park Avenue\",\"marker\":{\"color\":\"#00cc96\",\"symbol\":\"circle\",\"size\":5},\"mode\":\"markers\",\"name\":\"Park Avenue\",\"orientation\":\"v\",\"showlegend\":true,\"x\":[85.82840825],\"xaxis\":\"x\",\"y\":[27.851],\"yaxis\":\"y\",\"type\":\"scatter\"},{\"hovertemplate\":\"Model=LeSabre<br>Power_perf_factor=%{x}<br>Sales_in_thousands=%{y}<extra></extra>\",\"legendgroup\":\"LeSabre\",\"marker\":{\"color\":\"#ab63fa\",\"symbol\":\"circle\",\"size\":5},\"mode\":\"markers\",\"name\":\"LeSabre\",\"orientation\":\"v\",\"showlegend\":true,\"x\":[84.25452581],\"xaxis\":\"x\",\"y\":[83.257],\"yaxis\":\"y\",\"type\":\"scatter\"},{\"hovertemplate\":\"Model=DeVille<br>Power_perf_factor=%{x}<br>Sales_in_thousands=%{y}<extra></extra>\",\"legendgroup\":\"DeVille\",\"marker\":{\"color\":\"#FFA15A\",\"symbol\":\"circle\",\"size\":5},\"mode\":\"markers\",\"name\":\"DeVille\",\"orientation\":\"v\",\"showlegend\":true,\"x\":[113.8545976],\"xaxis\":\"x\",\"y\":[63.729],\"yaxis\":\"y\",\"type\":\"scatter\"},{\"hovertemplate\":\"Model=Seville<br>Power_perf_factor=%{x}<br>Sales_in_thousands=%{y}<extra></extra>\",\"legendgroup\":\"Seville\",\"marker\":{\"color\":\"#19d3f3\",\"symbol\":\"circle\",\"size\":5},\"mode\":\"markers\",\"name\":\"Seville\",\"orientation\":\"v\",\"showlegend\":true,\"x\":[115.6213578],\"xaxis\":\"x\",\"y\":[15.943],\"yaxis\":\"y\",\"type\":\"scatter\"},{\"hovertemplate\":\"Model=Eldorado<br>Power_perf_factor=%{x}<br>Sales_in_thousands=%{y}<extra></extra>\",\"legendgroup\":\"Eldorado\",\"marker\":{\"color\":\"#FF6692\",\"symbol\":\"circle\",\"size\":5},\"mode\":\"markers\",\"name\":\"Eldorado\",\"orientation\":\"v\",\"showlegend\":true,\"x\":[113.7658739],\"xaxis\":\"x\",\"y\":[6.536],\"yaxis\":\"y\",\"type\":\"scatter\"},{\"hovertemplate\":\"Model=Catera<br>Power_perf_factor=%{x}<br>Sales_in_thousands=%{y}<extra></extra>\",\"legendgroup\":\"Catera\",\"marker\":{\"color\":\"#B6E880\",\"symbol\":\"circle\",\"size\":5},\"mode\":\"markers\",\"name\":\"Catera\",\"orientation\":\"v\",\"showlegend\":true,\"x\":[83.48309358],\"xaxis\":\"x\",\"y\":[11.185],\"yaxis\":\"y\",\"type\":\"scatter\"},{\"hovertemplate\":\"Model=Escalade<br>Power_perf_factor=%{x}<br>Sales_in_thousands=%{y}<extra></extra>\",\"legendgroup\":\"Escalade\",\"marker\":{\"color\":\"#FF97FF\",\"symbol\":\"circle\",\"size\":5},\"mode\":\"markers\",\"name\":\"Escalade\",\"orientation\":\"v\",\"showlegend\":true,\"x\":[109.5091165],\"xaxis\":\"x\",\"y\":[14.785],\"yaxis\":\"y\",\"type\":\"scatter\"},{\"hovertemplate\":\"Model=Cavalier<br>Power_perf_factor=%{x}<br>Sales_in_thousands=%{y}<extra></extra>\",\"legendgroup\":\"Cavalier\",\"marker\":{\"color\":\"#FECB52\",\"symbol\":\"circle\",\"size\":5},\"mode\":\"markers\",\"name\":\"Cavalier\",\"orientation\":\"v\",\"showlegend\":true,\"x\":[46.36334747],\"xaxis\":\"x\",\"y\":[145.519],\"yaxis\":\"y\",\"type\":\"scatter\"},{\"hovertemplate\":\"Model=Malibu<br>Power_perf_factor=%{x}<br>Sales_in_thousands=%{y}<extra></extra>\",\"legendgroup\":\"Malibu\",\"marker\":{\"color\":\"#636efa\",\"symbol\":\"circle\",\"size\":5},\"mode\":\"markers\",\"name\":\"Malibu\",\"orientation\":\"v\",\"showlegend\":true,\"x\":[67.31446216],\"xaxis\":\"x\",\"y\":[135.126],\"yaxis\":\"y\",\"type\":\"scatter\"},{\"hovertemplate\":\"Model=Lumina<br>Power_perf_factor=%{x}<br>Sales_in_thousands=%{y}<extra></extra>\",\"legendgroup\":\"Lumina\",\"marker\":{\"color\":\"#EF553B\",\"symbol\":\"circle\",\"size\":5},\"mode\":\"markers\",\"name\":\"Lumina\",\"orientation\":\"v\",\"showlegend\":true,\"x\":[69.9913956],\"xaxis\":\"x\",\"y\":[24.629],\"yaxis\":\"y\",\"type\":\"scatter\"},{\"hovertemplate\":\"Model=Monte Carlo<br>Power_perf_factor=%{x}<br>Sales_in_thousands=%{y}<extra></extra>\",\"legendgroup\":\"Monte Carlo\",\"marker\":{\"color\":\"#00cc96\",\"symbol\":\"circle\",\"size\":5},\"mode\":\"markers\",\"name\":\"Monte Carlo\",\"orientation\":\"v\",\"showlegend\":true,\"x\":[72.03091719],\"xaxis\":\"x\",\"y\":[42.593],\"yaxis\":\"y\",\"type\":\"scatter\"},{\"hovertemplate\":\"Model=Camaro<br>Power_perf_factor=%{x}<br>Sales_in_thousands=%{y}<extra></extra>\",\"legendgroup\":\"Camaro\",\"marker\":{\"color\":\"#ab63fa\",\"symbol\":\"circle\",\"size\":5},\"mode\":\"markers\",\"name\":\"Camaro\",\"orientation\":\"v\",\"showlegend\":true,\"x\":[81.11854333],\"xaxis\":\"x\",\"y\":[26.402],\"yaxis\":\"y\",\"type\":\"scatter\"},{\"hovertemplate\":\"Model=Corvette<br>Power_perf_factor=%{x}<br>Sales_in_thousands=%{y}<extra></extra>\",\"legendgroup\":\"Corvette\",\"marker\":{\"color\":\"#FFA15A\",\"symbol\":\"circle\",\"size\":5},\"mode\":\"markers\",\"name\":\"Corvette\",\"orientation\":\"v\",\"showlegend\":true,\"x\":[141.14115],\"xaxis\":\"x\",\"y\":[17.947],\"yaxis\":\"y\",\"type\":\"scatter\"},{\"hovertemplate\":\"Model=Prizm<br>Power_perf_factor=%{x}<br>Sales_in_thousands=%{y}<extra></extra>\",\"legendgroup\":\"Prizm\",\"marker\":{\"color\":\"#19d3f3\",\"symbol\":\"circle\",\"size\":5},\"mode\":\"markers\",\"name\":\"Prizm\",\"orientation\":\"v\",\"showlegend\":true,\"x\":[48.2976361],\"xaxis\":\"x\",\"y\":[32.299],\"yaxis\":\"y\",\"type\":\"scatter\"},{\"hovertemplate\":\"Model=Metro<br>Power_perf_factor=%{x}<br>Sales_in_thousands=%{y}<extra></extra>\",\"legendgroup\":\"Metro\",\"marker\":{\"color\":\"#FF6692\",\"symbol\":\"circle\",\"size\":5},\"mode\":\"markers\",\"name\":\"Metro\",\"orientation\":\"v\",\"showlegend\":true,\"x\":[23.27627233],\"xaxis\":\"x\",\"y\":[21.855],\"yaxis\":\"y\",\"type\":\"scatter\"},{\"hovertemplate\":\"Model=Impala<br>Power_perf_factor=%{x}<br>Sales_in_thousands=%{y}<extra></extra>\",\"legendgroup\":\"Impala\",\"marker\":{\"color\":\"#B6E880\",\"symbol\":\"circle\",\"size\":5},\"mode\":\"markers\",\"name\":\"Impala\",\"orientation\":\"v\",\"showlegend\":true,\"x\":[71.83803944],\"xaxis\":\"x\",\"y\":[107.995],\"yaxis\":\"y\",\"type\":\"scatter\"},{\"hovertemplate\":\"Model=Sebring Coupe<br>Power_perf_factor=%{x}<br>Sales_in_thousands=%{y}<extra></extra>\",\"legendgroup\":\"Sebring Coupe\",\"marker\":{\"color\":\"#FF97FF\",\"symbol\":\"circle\",\"size\":5},\"mode\":\"markers\",\"name\":\"Sebring Coupe\",\"orientation\":\"v\",\"showlegend\":true,\"x\":[65.95718396],\"xaxis\":\"x\",\"y\":[7.854],\"yaxis\":\"y\",\"type\":\"scatter\"},{\"hovertemplate\":\"Model=Sebring Conv.<br>Power_perf_factor=%{x}<br>Sales_in_thousands=%{y}<extra></extra>\",\"legendgroup\":\"Sebring Conv.\",\"marker\":{\"color\":\"#FECB52\",\"symbol\":\"circle\",\"size\":5},\"mode\":\"markers\",\"name\":\"Sebring Conv.\",\"orientation\":\"v\",\"showlegend\":true,\"x\":[69.52135505],\"xaxis\":\"x\",\"y\":[32.775],\"yaxis\":\"y\",\"type\":\"scatter\"},{\"hovertemplate\":\"Model=Concorde<br>Power_perf_factor=%{x}<br>Sales_in_thousands=%{y}<extra></extra>\",\"legendgroup\":\"Concorde\",\"marker\":{\"color\":\"#636efa\",\"symbol\":\"circle\",\"size\":5},\"mode\":\"markers\",\"name\":\"Concorde\",\"orientation\":\"v\",\"showlegend\":true,\"x\":[80.02378204],\"xaxis\":\"x\",\"y\":[31.148],\"yaxis\":\"y\",\"type\":\"scatter\"},{\"hovertemplate\":\"Model=Cirrus<br>Power_perf_factor=%{x}<br>Sales_in_thousands=%{y}<extra></extra>\",\"legendgroup\":\"Cirrus\",\"marker\":{\"color\":\"#EF553B\",\"symbol\":\"circle\",\"size\":5},\"mode\":\"markers\",\"name\":\"Cirrus\",\"orientation\":\"v\",\"showlegend\":true,\"x\":[53.56619987],\"xaxis\":\"x\",\"y\":[32.306],\"yaxis\":\"y\",\"type\":\"scatter\"},{\"hovertemplate\":\"Model=LHS<br>Power_perf_factor=%{x}<br>Sales_in_thousands=%{y}<extra></extra>\",\"legendgroup\":\"LHS\",\"marker\":{\"color\":\"#00cc96\",\"symbol\":\"circle\",\"size\":5},\"mode\":\"markers\",\"name\":\"LHS\",\"orientation\":\"v\",\"showlegend\":true,\"x\":[101.3292807],\"xaxis\":\"x\",\"y\":[13.462],\"yaxis\":\"y\",\"type\":\"scatter\"},{\"hovertemplate\":\"Model=Town & Country<br>Power_perf_factor=%{x}<br>Sales_in_thousands=%{y}<extra></extra>\",\"legendgroup\":\"Town & Country\",\"marker\":{\"color\":\"#ab63fa\",\"symbol\":\"circle\",\"size\":5},\"mode\":\"markers\",\"name\":\"Town & Country\",\"orientation\":\"v\",\"showlegend\":true,\"x\":[null],\"xaxis\":\"x\",\"y\":[53.48],\"yaxis\":\"y\",\"type\":\"scatter\"},{\"hovertemplate\":\"Model=300M<br>Power_perf_factor=%{x}<br>Sales_in_thousands=%{y}<extra></extra>\",\"legendgroup\":\"300M\",\"marker\":{\"color\":\"#FFA15A\",\"symbol\":\"circle\",\"size\":5},\"mode\":\"markers\",\"name\":\"300M\",\"orientation\":\"v\",\"showlegend\":true,\"x\":[101.6552441],\"xaxis\":\"x\",\"y\":[30.696],\"yaxis\":\"y\",\"type\":\"scatter\"},{\"hovertemplate\":\"Model=Neon<br>Power_perf_factor=%{x}<br>Sales_in_thousands=%{y}<extra></extra>\",\"legendgroup\":\"Neon\",\"marker\":{\"color\":\"#19d3f3\",\"symbol\":\"circle\",\"size\":5},\"mode\":\"markers\",\"name\":\"Neon\",\"orientation\":\"v\",\"showlegend\":true,\"x\":[52.08489875,52.08489875,52.08489875,52.08489875],\"xaxis\":\"x\",\"y\":[76.034,76.034,32.734,32.734],\"yaxis\":\"y\",\"type\":\"scatter\"},{\"hovertemplate\":\"Model=Avenger<br>Power_perf_factor=%{x}<br>Sales_in_thousands=%{y}<extra></extra>\",\"legendgroup\":\"Avenger\",\"marker\":{\"color\":\"#FF6692\",\"symbol\":\"circle\",\"size\":5},\"mode\":\"markers\",\"name\":\"Avenger\",\"orientation\":\"v\",\"showlegend\":true,\"x\":[65.65050834],\"xaxis\":\"x\",\"y\":[4.734],\"yaxis\":\"y\",\"type\":\"scatter\"},{\"hovertemplate\":\"Model=Stratus<br>Power_perf_factor=%{x}<br>Sales_in_thousands=%{y}<extra></extra>\",\"legendgroup\":\"Stratus\",\"marker\":{\"color\":\"#B6E880\",\"symbol\":\"circle\",\"size\":5},\"mode\":\"markers\",\"name\":\"Stratus\",\"orientation\":\"v\",\"showlegend\":true,\"x\":[67.87610784],\"xaxis\":\"x\",\"y\":[71.186],\"yaxis\":\"y\",\"type\":\"scatter\"},{\"hovertemplate\":\"Model=Intrepid<br>Power_perf_factor=%{x}<br>Sales_in_thousands=%{y}<extra></extra>\",\"legendgroup\":\"Intrepid\",\"marker\":{\"color\":\"#FF97FF\",\"symbol\":\"circle\",\"size\":5},\"mode\":\"markers\",\"name\":\"Intrepid\",\"orientation\":\"v\",\"showlegend\":true,\"x\":[80.83147017],\"xaxis\":\"x\",\"y\":[88.028],\"yaxis\":\"y\",\"type\":\"scatter\"},{\"hovertemplate\":\"Model=Viper<br>Power_perf_factor=%{x}<br>Sales_in_thousands=%{y}<extra></extra>\",\"legendgroup\":\"Viper\",\"marker\":{\"color\":\"#FECB52\",\"symbol\":\"circle\",\"size\":5},\"mode\":\"markers\",\"name\":\"Viper\",\"orientation\":\"v\",\"showlegend\":true,\"x\":[188.144323],\"xaxis\":\"x\",\"y\":[0.916],\"yaxis\":\"y\",\"type\":\"scatter\"},{\"hovertemplate\":\"Model=Ram Pickup<br>Power_perf_factor=%{x}<br>Sales_in_thousands=%{y}<extra></extra>\",\"legendgroup\":\"Ram Pickup\",\"marker\":{\"color\":\"#636efa\",\"symbol\":\"circle\",\"size\":5},\"mode\":\"markers\",\"name\":\"Ram Pickup\",\"orientation\":\"v\",\"showlegend\":true,\"x\":[90.21170005],\"xaxis\":\"x\",\"y\":[227.061],\"yaxis\":\"y\",\"type\":\"scatter\"},{\"hovertemplate\":\"Model=Ram Wagon<br>Power_perf_factor=%{x}<br>Sales_in_thousands=%{y}<extra></extra>\",\"legendgroup\":\"Ram Wagon\",\"marker\":{\"color\":\"#EF553B\",\"symbol\":\"circle\",\"size\":5},\"mode\":\"markers\",\"name\":\"Ram Wagon\",\"orientation\":\"v\",\"showlegend\":true,\"x\":[71.13529161],\"xaxis\":\"x\",\"y\":[16.767],\"yaxis\":\"y\",\"type\":\"scatter\"},{\"hovertemplate\":\"Model=Ram Van<br>Power_perf_factor=%{x}<br>Sales_in_thousands=%{y}<extra></extra>\",\"legendgroup\":\"Ram Van\",\"marker\":{\"color\":\"#00cc96\",\"symbol\":\"circle\",\"size\":5},\"mode\":\"markers\",\"name\":\"Ram Van\",\"orientation\":\"v\",\"showlegend\":true,\"x\":[70.07832154],\"xaxis\":\"x\",\"y\":[31.038],\"yaxis\":\"y\",\"type\":\"scatter\"},{\"hovertemplate\":\"Model=Dakota<br>Power_perf_factor=%{x}<br>Sales_in_thousands=%{y}<extra></extra>\",\"legendgroup\":\"Dakota\",\"marker\":{\"color\":\"#ab63fa\",\"symbol\":\"circle\",\"size\":5},\"mode\":\"markers\",\"name\":\"Dakota\",\"orientation\":\"v\",\"showlegend\":true,\"x\":[49.64500177],\"xaxis\":\"x\",\"y\":[111.313],\"yaxis\":\"y\",\"type\":\"scatter\"},{\"hovertemplate\":\"Model=Durango<br>Power_perf_factor=%{x}<br>Sales_in_thousands=%{y}<extra></extra>\",\"legendgroup\":\"Durango\",\"marker\":{\"color\":\"#FFA15A\",\"symbol\":\"circle\",\"size\":5},\"mode\":\"markers\",\"name\":\"Durango\",\"orientation\":\"v\",\"showlegend\":true,\"x\":[92.85412522],\"xaxis\":\"x\",\"y\":[101.323],\"yaxis\":\"y\",\"type\":\"scatter\"},{\"hovertemplate\":\"Model=Caravan<br>Power_perf_factor=%{x}<br>Sales_in_thousands=%{y}<extra></extra>\",\"legendgroup\":\"Caravan\",\"marker\":{\"color\":\"#19d3f3\",\"symbol\":\"circle\",\"size\":5},\"mode\":\"markers\",\"name\":\"Caravan\",\"orientation\":\"v\",\"showlegend\":true,\"x\":[61.22700031],\"xaxis\":\"x\",\"y\":[181.749],\"yaxis\":\"y\",\"type\":\"scatter\"},{\"hovertemplate\":\"Model=Escort<br>Power_perf_factor=%{x}<br>Sales_in_thousands=%{y}<extra></extra>\",\"legendgroup\":\"Escort\",\"marker\":{\"color\":\"#FF6692\",\"symbol\":\"circle\",\"size\":5},\"mode\":\"markers\",\"name\":\"Escort\",\"orientation\":\"v\",\"showlegend\":true,\"x\":[44.08370946],\"xaxis\":\"x\",\"y\":[70.227],\"yaxis\":\"y\",\"type\":\"scatter\"},{\"hovertemplate\":\"Model=Mustang<br>Power_perf_factor=%{x}<br>Sales_in_thousands=%{y}<extra></extra>\",\"legendgroup\":\"Mustang\",\"marker\":{\"color\":\"#B6E880\",\"symbol\":\"circle\",\"size\":5},\"mode\":\"markers\",\"name\":\"Mustang\",\"orientation\":\"v\",\"showlegend\":true,\"x\":[76.50918456],\"xaxis\":\"x\",\"y\":[113.369],\"yaxis\":\"y\",\"type\":\"scatter\"},{\"hovertemplate\":\"Model=Contour<br>Power_perf_factor=%{x}<br>Sales_in_thousands=%{y}<extra></extra>\",\"legendgroup\":\"Contour\",\"marker\":{\"color\":\"#FF97FF\",\"symbol\":\"circle\",\"size\":5},\"mode\":\"markers\",\"name\":\"Contour\",\"orientation\":\"v\",\"showlegend\":true,\"x\":[67.35101072],\"xaxis\":\"x\",\"y\":[35.068],\"yaxis\":\"y\",\"type\":\"scatter\"},{\"hovertemplate\":\"Model=Taurus<br>Power_perf_factor=%{x}<br>Sales_in_thousands=%{y}<extra></extra>\",\"legendgroup\":\"Taurus\",\"marker\":{\"color\":\"#FECB52\",\"symbol\":\"circle\",\"size\":5},\"mode\":\"markers\",\"name\":\"Taurus\",\"orientation\":\"v\",\"showlegend\":true,\"x\":[62.5037395],\"xaxis\":\"x\",\"y\":[245.815],\"yaxis\":\"y\",\"type\":\"scatter\"},{\"hovertemplate\":\"Model=Focus<br>Power_perf_factor=%{x}<br>Sales_in_thousands=%{y}<extra></extra>\",\"legendgroup\":\"Focus\",\"marker\":{\"color\":\"#636efa\",\"symbol\":\"circle\",\"size\":5},\"mode\":\"markers\",\"name\":\"Focus\",\"orientation\":\"v\",\"showlegend\":true,\"x\":[43.11713201],\"xaxis\":\"x\",\"y\":[175.67],\"yaxis\":\"y\",\"type\":\"scatter\"},{\"hovertemplate\":\"Model=Crown Victoria<br>Power_perf_factor=%{x}<br>Sales_in_thousands=%{y}<extra></extra>\",\"legendgroup\":\"Crown Victoria\",\"marker\":{\"color\":\"#EF553B\",\"symbol\":\"circle\",\"size\":5},\"mode\":\"markers\",\"name\":\"Crown Victoria\",\"orientation\":\"v\",\"showlegend\":true,\"x\":[80.49953671],\"xaxis\":\"x\",\"y\":[63.403],\"yaxis\":\"y\",\"type\":\"scatter\"},{\"hovertemplate\":\"Model=Explorer<br>Power_perf_factor=%{x}<br>Sales_in_thousands=%{y}<extra></extra>\",\"legendgroup\":\"Explorer\",\"marker\":{\"color\":\"#00cc96\",\"symbol\":\"circle\",\"size\":5},\"mode\":\"markers\",\"name\":\"Explorer\",\"orientation\":\"v\",\"showlegend\":true,\"x\":[87.63549578],\"xaxis\":\"x\",\"y\":[276.747],\"yaxis\":\"y\",\"type\":\"scatter\"},{\"hovertemplate\":\"Model=Windstar<br>Power_perf_factor=%{x}<br>Sales_in_thousands=%{y}<extra></extra>\",\"legendgroup\":\"Windstar\",\"marker\":{\"color\":\"#ab63fa\",\"symbol\":\"circle\",\"size\":5},\"mode\":\"markers\",\"name\":\"Windstar\",\"orientation\":\"v\",\"showlegend\":true,\"x\":[62.09504839],\"xaxis\":\"x\",\"y\":[155.787],\"yaxis\":\"y\",\"type\":\"scatter\"},{\"hovertemplate\":\"Model=Expedition<br>Power_perf_factor=%{x}<br>Sales_in_thousands=%{y}<extra></extra>\",\"legendgroup\":\"Expedition\",\"marker\":{\"color\":\"#FFA15A\",\"symbol\":\"circle\",\"size\":5},\"mode\":\"markers\",\"name\":\"Expedition\",\"orientation\":\"v\",\"showlegend\":true,\"x\":[100.0248023],\"xaxis\":\"x\",\"y\":[125.338],\"yaxis\":\"y\",\"type\":\"scatter\"},{\"hovertemplate\":\"Model=Ranger<br>Power_perf_factor=%{x}<br>Sales_in_thousands=%{y}<extra></extra>\",\"legendgroup\":\"Ranger\",\"marker\":{\"color\":\"#19d3f3\",\"symbol\":\"circle\",\"size\":5},\"mode\":\"markers\",\"name\":\"Ranger\",\"orientation\":\"v\",\"showlegend\":true,\"x\":[47.38953131],\"xaxis\":\"x\",\"y\":[220.65],\"yaxis\":\"y\",\"type\":\"scatter\"},{\"hovertemplate\":\"Model=F-Series<br>Power_perf_factor=%{x}<br>Sales_in_thousands=%{y}<extra></extra>\",\"legendgroup\":\"F-Series\",\"marker\":{\"color\":\"#FF6692\",\"symbol\":\"circle\",\"size\":5},\"mode\":\"markers\",\"name\":\"F-Series\",\"orientation\":\"v\",\"showlegend\":true,\"x\":[89.40193473],\"xaxis\":\"x\",\"y\":[540.561],\"yaxis\":\"y\",\"type\":\"scatter\"},{\"hovertemplate\":\"Model=Civic<br>Power_perf_factor=%{x}<br>Sales_in_thousands=%{y}<extra></extra>\",\"legendgroup\":\"Civic\",\"marker\":{\"color\":\"#B6E880\",\"symbol\":\"circle\",\"size\":5},\"mode\":\"markers\",\"name\":\"Civic\",\"orientation\":\"v\",\"showlegend\":true,\"x\":[42.87909734],\"xaxis\":\"x\",\"y\":[199.685],\"yaxis\":\"y\",\"type\":\"scatter\"},{\"hovertemplate\":\"Model=Accord<br>Power_perf_factor=%{x}<br>Sales_in_thousands=%{y}<extra></extra>\",\"legendgroup\":\"Accord\",\"marker\":{\"color\":\"#FF97FF\",\"symbol\":\"circle\",\"size\":5},\"mode\":\"markers\",\"name\":\"Accord\",\"orientation\":\"v\",\"showlegend\":true,\"x\":[54.26954829],\"xaxis\":\"x\",\"y\":[230.902],\"yaxis\":\"y\",\"type\":\"scatter\"},{\"hovertemplate\":\"Model=CR-V<br>Power_perf_factor=%{x}<br>Sales_in_thousands=%{y}<extra></extra>\",\"legendgroup\":\"CR-V\",\"marker\":{\"color\":\"#FECB52\",\"symbol\":\"circle\",\"size\":5},\"mode\":\"markers\",\"name\":\"CR-V\",\"orientation\":\"v\",\"showlegend\":true,\"x\":[60.08796662],\"xaxis\":\"x\",\"y\":[73.203],\"yaxis\":\"y\",\"type\":\"scatter\"},{\"hovertemplate\":\"Model=Passport<br>Power_perf_factor=%{x}<br>Sales_in_thousands=%{y}<extra></extra>\",\"legendgroup\":\"Passport\",\"marker\":{\"color\":\"#636efa\",\"symbol\":\"circle\",\"size\":5},\"mode\":\"markers\",\"name\":\"Passport\",\"orientation\":\"v\",\"showlegend\":true,\"x\":[83.6025008],\"xaxis\":\"x\",\"y\":[12.855],\"yaxis\":\"y\",\"type\":\"scatter\"},{\"hovertemplate\":\"Model=Odyssey<br>Power_perf_factor=%{x}<br>Sales_in_thousands=%{y}<extra></extra>\",\"legendgroup\":\"Odyssey\",\"marker\":{\"color\":\"#EF553B\",\"symbol\":\"circle\",\"size\":5},\"mode\":\"markers\",\"name\":\"Odyssey\",\"orientation\":\"v\",\"showlegend\":true,\"x\":[85.21769134],\"xaxis\":\"x\",\"y\":[76.029],\"yaxis\":\"y\",\"type\":\"scatter\"},{\"hovertemplate\":\"Model=Accent<br>Power_perf_factor=%{x}<br>Sales_in_thousands=%{y}<extra></extra>\",\"legendgroup\":\"Accent\",\"marker\":{\"color\":\"#00cc96\",\"symbol\":\"circle\",\"size\":5},\"mode\":\"markers\",\"name\":\"Accent\",\"orientation\":\"v\",\"showlegend\":true,\"x\":[36.67228358],\"xaxis\":\"x\",\"y\":[41.184],\"yaxis\":\"y\",\"type\":\"scatter\"},{\"hovertemplate\":\"Model=Elantra<br>Power_perf_factor=%{x}<br>Sales_in_thousands=%{y}<extra></extra>\",\"legendgroup\":\"Elantra\",\"marker\":{\"color\":\"#ab63fa\",\"symbol\":\"circle\",\"size\":5},\"mode\":\"markers\",\"name\":\"Elantra\",\"orientation\":\"v\",\"showlegend\":true,\"x\":[54.59004516],\"xaxis\":\"x\",\"y\":[66.692],\"yaxis\":\"y\",\"type\":\"scatter\"},{\"hovertemplate\":\"Model=Sonata<br>Power_perf_factor=%{x}<br>Sales_in_thousands=%{y}<extra></extra>\",\"legendgroup\":\"Sonata\",\"marker\":{\"color\":\"#FFA15A\",\"symbol\":\"circle\",\"size\":5},\"mode\":\"markers\",\"name\":\"Sonata\",\"orientation\":\"v\",\"showlegend\":true,\"x\":[58.758249],\"xaxis\":\"x\",\"y\":[29.45],\"yaxis\":\"y\",\"type\":\"scatter\"},{\"hovertemplate\":\"Model=I30<br>Power_perf_factor=%{x}<br>Sales_in_thousands=%{y}<extra></extra>\",\"legendgroup\":\"I30\",\"marker\":{\"color\":\"#19d3f3\",\"symbol\":\"circle\",\"size\":5},\"mode\":\"markers\",\"name\":\"I30\",\"orientation\":\"v\",\"showlegend\":true,\"x\":[92.43688923],\"xaxis\":\"x\",\"y\":[23.713],\"yaxis\":\"y\",\"type\":\"scatter\"},{\"hovertemplate\":\"Model=S-Type<br>Power_perf_factor=%{x}<br>Sales_in_thousands=%{y}<extra></extra>\",\"legendgroup\":\"S-Type\",\"marker\":{\"color\":\"#FF6692\",\"symbol\":\"circle\",\"size\":5},\"mode\":\"markers\",\"name\":\"S-Type\",\"orientation\":\"v\",\"showlegend\":true,\"x\":[102.1789848],\"xaxis\":\"x\",\"y\":[15.467],\"yaxis\":\"y\",\"type\":\"scatter\"},{\"hovertemplate\":\"Model=Wrangler<br>Power_perf_factor=%{x}<br>Sales_in_thousands=%{y}<extra></extra>\",\"legendgroup\":\"Wrangler\",\"marker\":{\"color\":\"#B6E880\",\"symbol\":\"circle\",\"size\":5},\"mode\":\"markers\",\"name\":\"Wrangler\",\"orientation\":\"v\",\"showlegend\":true,\"x\":[48.67289791],\"xaxis\":\"x\",\"y\":[55.557],\"yaxis\":\"y\",\"type\":\"scatter\"},{\"hovertemplate\":\"Model=Cherokee<br>Power_perf_factor=%{x}<br>Sales_in_thousands=%{y}<extra></extra>\",\"legendgroup\":\"Cherokee\",\"marker\":{\"color\":\"#FF97FF\",\"symbol\":\"circle\",\"size\":5},\"mode\":\"markers\",\"name\":\"Cherokee\",\"orientation\":\"v\",\"showlegend\":true,\"x\":[76.58443962],\"xaxis\":\"x\",\"y\":[80.556],\"yaxis\":\"y\",\"type\":\"scatter\"},{\"hovertemplate\":\"Model=Grand Cherokee<br>Power_perf_factor=%{x}<br>Sales_in_thousands=%{y}<extra></extra>\",\"legendgroup\":\"Grand Cherokee\",\"marker\":{\"color\":\"#FECB52\",\"symbol\":\"circle\",\"size\":5},\"mode\":\"markers\",\"name\":\"Grand Cherokee\",\"orientation\":\"v\",\"showlegend\":true,\"x\":[80.38777912],\"xaxis\":\"x\",\"y\":[157.04],\"yaxis\":\"y\",\"type\":\"scatter\"},{\"hovertemplate\":\"Model=ES300<br>Power_perf_factor=%{x}<br>Sales_in_thousands=%{y}<extra></extra>\",\"legendgroup\":\"ES300\",\"marker\":{\"color\":\"#636efa\",\"symbol\":\"circle\",\"size\":5},\"mode\":\"markers\",\"name\":\"ES300\",\"orientation\":\"v\",\"showlegend\":true,\"x\":[87.21100104],\"xaxis\":\"x\",\"y\":[24.072],\"yaxis\":\"y\",\"type\":\"scatter\"},{\"hovertemplate\":\"Model=GS300<br>Power_perf_factor=%{x}<br>Sales_in_thousands=%{y}<extra></extra>\",\"legendgroup\":\"GS300\",\"marker\":{\"color\":\"#EF553B\",\"symbol\":\"circle\",\"size\":5},\"mode\":\"markers\",\"name\":\"GS300\",\"orientation\":\"v\",\"showlegend\":true,\"x\":[94.9466984],\"xaxis\":\"x\",\"y\":[12.698],\"yaxis\":\"y\",\"type\":\"scatter\"},{\"hovertemplate\":\"Model=GS400<br>Power_perf_factor=%{x}<br>Sales_in_thousands=%{y}<extra></extra>\",\"legendgroup\":\"GS400\",\"marker\":{\"color\":\"#00cc96\",\"symbol\":\"circle\",\"size\":5},\"mode\":\"markers\",\"name\":\"GS400\",\"orientation\":\"v\",\"showlegend\":true,\"x\":[125.0133574],\"xaxis\":\"x\",\"y\":[3.334],\"yaxis\":\"y\",\"type\":\"scatter\"},{\"hovertemplate\":\"Model=LS400<br>Power_perf_factor=%{x}<br>Sales_in_thousands=%{y}<extra></extra>\",\"legendgroup\":\"LS400\",\"marker\":{\"color\":\"#ab63fa\",\"symbol\":\"circle\",\"size\":5},\"mode\":\"markers\",\"name\":\"LS400\",\"orientation\":\"v\",\"showlegend\":true,\"x\":[124.4467163],\"xaxis\":\"x\",\"y\":[6.375],\"yaxis\":\"y\",\"type\":\"scatter\"},{\"hovertemplate\":\"Model=LX470<br>Power_perf_factor=%{x}<br>Sales_in_thousands=%{y}<extra></extra>\",\"legendgroup\":\"LX470\",\"marker\":{\"color\":\"#FFA15A\",\"symbol\":\"circle\",\"size\":5},\"mode\":\"markers\",\"name\":\"LX470\",\"orientation\":\"v\",\"showlegend\":true,\"x\":[105.760458],\"xaxis\":\"x\",\"y\":[9.126],\"yaxis\":\"y\",\"type\":\"scatter\"},{\"hovertemplate\":\"Model=RX300<br>Power_perf_factor=%{x}<br>Sales_in_thousands=%{y}<extra></extra>\",\"legendgroup\":\"RX300\",\"marker\":{\"color\":\"#19d3f3\",\"symbol\":\"circle\",\"size\":5},\"mode\":\"markers\",\"name\":\"RX300\",\"orientation\":\"v\",\"showlegend\":true,\"x\":[91.94380156],\"xaxis\":\"x\",\"y\":[51.238],\"yaxis\":\"y\",\"type\":\"scatter\"},{\"hovertemplate\":\"Model=Continental<br>Power_perf_factor=%{x}<br>Sales_in_thousands=%{y}<extra></extra>\",\"legendgroup\":\"Continental\",\"marker\":{\"color\":\"#FF6692\",\"symbol\":\"circle\",\"size\":5},\"mode\":\"markers\",\"name\":\"Continental\",\"orientation\":\"v\",\"showlegend\":true,\"x\":[113.5402069],\"xaxis\":\"x\",\"y\":[13.798],\"yaxis\":\"y\",\"type\":\"scatter\"},{\"hovertemplate\":\"Model=Town car<br>Power_perf_factor=%{x}<br>Sales_in_thousands=%{y}<extra></extra>\",\"legendgroup\":\"Town car\",\"marker\":{\"color\":\"#B6E880\",\"symbol\":\"circle\",\"size\":5},\"mode\":\"markers\",\"name\":\"Town car\",\"orientation\":\"v\",\"showlegend\":true,\"x\":[93.9579169],\"xaxis\":\"x\",\"y\":[48.911],\"yaxis\":\"y\",\"type\":\"scatter\"},{\"hovertemplate\":\"Model=Navigator<br>Power_perf_factor=%{x}<br>Sales_in_thousands=%{y}<extra></extra>\",\"legendgroup\":\"Navigator\",\"marker\":{\"color\":\"#FF97FF\",\"symbol\":\"circle\",\"size\":5},\"mode\":\"markers\",\"name\":\"Navigator\",\"orientation\":\"v\",\"showlegend\":true,\"x\":[123.9720467],\"xaxis\":\"x\",\"y\":[22.925],\"yaxis\":\"y\",\"type\":\"scatter\"},{\"hovertemplate\":\"Model=Mirage<br>Power_perf_factor=%{x}<br>Sales_in_thousands=%{y}<extra></extra>\",\"legendgroup\":\"Mirage\",\"marker\":{\"color\":\"#FECB52\",\"symbol\":\"circle\",\"size\":5},\"mode\":\"markers\",\"name\":\"Mirage\",\"orientation\":\"v\",\"showlegend\":true,\"x\":[45.83218056],\"xaxis\":\"x\",\"y\":[26.232],\"yaxis\":\"y\",\"type\":\"scatter\"},{\"hovertemplate\":\"Model=Eclipse<br>Power_perf_factor=%{x}<br>Sales_in_thousands=%{y}<extra></extra>\",\"legendgroup\":\"Eclipse\",\"marker\":{\"color\":\"#636efa\",\"symbol\":\"circle\",\"size\":5},\"mode\":\"markers\",\"name\":\"Eclipse\",\"orientation\":\"v\",\"showlegend\":true,\"x\":[62.44196235],\"xaxis\":\"x\",\"y\":[42.541],\"yaxis\":\"y\",\"type\":\"scatter\"},{\"hovertemplate\":\"Model=Galant<br>Power_perf_factor=%{x}<br>Sales_in_thousands=%{y}<extra></extra>\",\"legendgroup\":\"Galant\",\"marker\":{\"color\":\"#EF553B\",\"symbol\":\"circle\",\"size\":5},\"mode\":\"markers\",\"name\":\"Galant\",\"orientation\":\"v\",\"showlegend\":true,\"x\":[58.60677292],\"xaxis\":\"x\",\"y\":[55.616],\"yaxis\":\"y\",\"type\":\"scatter\"},{\"hovertemplate\":\"Model=Diamante<br>Power_perf_factor=%{x}<br>Sales_in_thousands=%{y}<extra></extra>\",\"legendgroup\":\"Diamante\",\"marker\":{\"color\":\"#00cc96\",\"symbol\":\"circle\",\"size\":5},\"mode\":\"markers\",\"name\":\"Diamante\",\"orientation\":\"v\",\"showlegend\":true,\"x\":[84.83077858],\"xaxis\":\"x\",\"y\":[5.711],\"yaxis\":\"y\",\"type\":\"scatter\"},{\"hovertemplate\":\"Model=3000GT<br>Power_perf_factor=%{x}<br>Sales_in_thousands=%{y}<extra></extra>\",\"legendgroup\":\"3000GT\",\"marker\":{\"color\":\"#ab63fa\",\"symbol\":\"circle\",\"size\":5},\"mode\":\"markers\",\"name\":\"3000GT\",\"orientation\":\"v\",\"showlegend\":true,\"x\":[67.54415494],\"xaxis\":\"x\",\"y\":[0.11],\"yaxis\":\"y\",\"type\":\"scatter\"},{\"hovertemplate\":\"Model=Montero<br>Power_perf_factor=%{x}<br>Sales_in_thousands=%{y}<extra></extra>\",\"legendgroup\":\"Montero\",\"marker\":{\"color\":\"#FFA15A\",\"symbol\":\"circle\",\"size\":5},\"mode\":\"markers\",\"name\":\"Montero\",\"orientation\":\"v\",\"showlegend\":true,\"x\":[83.92081504],\"xaxis\":\"x\",\"y\":[11.337],\"yaxis\":\"y\",\"type\":\"scatter\"},{\"hovertemplate\":\"Model=Montero Sport<br>Power_perf_factor=%{x}<br>Sales_in_thousands=%{y}<extra></extra>\",\"legendgroup\":\"Montero Sport\",\"marker\":{\"color\":\"#19d3f3\",\"symbol\":\"circle\",\"size\":5},\"mode\":\"markers\",\"name\":\"Montero Sport\",\"orientation\":\"v\",\"showlegend\":true,\"x\":[70.66094179],\"xaxis\":\"x\",\"y\":[39.348],\"yaxis\":\"y\",\"type\":\"scatter\"},{\"hovertemplate\":\"Model=Mystique<br>Power_perf_factor=%{x}<br>Sales_in_thousands=%{y}<extra></extra>\",\"legendgroup\":\"Mystique\",\"marker\":{\"color\":\"#FF6692\",\"symbol\":\"circle\",\"size\":5},\"mode\":\"markers\",\"name\":\"Mystique\",\"orientation\":\"v\",\"showlegend\":true,\"x\":[50.99774761],\"xaxis\":\"x\",\"y\":[14.351],\"yaxis\":\"y\",\"type\":\"scatter\"},{\"hovertemplate\":\"Model=Cougar<br>Power_perf_factor=%{x}<br>Sales_in_thousands=%{y}<extra></extra>\",\"legendgroup\":\"Cougar\",\"marker\":{\"color\":\"#B6E880\",\"symbol\":\"circle\",\"size\":5},\"mode\":\"markers\",\"name\":\"Cougar\",\"orientation\":\"v\",\"showlegend\":true,\"x\":[51.11347426],\"xaxis\":\"x\",\"y\":[26.529],\"yaxis\":\"y\",\"type\":\"scatter\"},{\"hovertemplate\":\"Model=Sable<br>Power_perf_factor=%{x}<br>Sales_in_thousands=%{y}<extra></extra>\",\"legendgroup\":\"Sable\",\"marker\":{\"color\":\"#FF97FF\",\"symbol\":\"circle\",\"size\":5},\"mode\":\"markers\",\"name\":\"Sable\",\"orientation\":\"v\",\"showlegend\":true,\"x\":[62.23996663],\"xaxis\":\"x\",\"y\":[67.956],\"yaxis\":\"y\",\"type\":\"scatter\"},{\"hovertemplate\":\"Model=Grand Marquis<br>Power_perf_factor=%{x}<br>Sales_in_thousands=%{y}<extra></extra>\",\"legendgroup\":\"Grand Marquis\",\"marker\":{\"color\":\"#FECB52\",\"symbol\":\"circle\",\"size\":5},\"mode\":\"markers\",\"name\":\"Grand Marquis\",\"orientation\":\"v\",\"showlegend\":true,\"x\":[80.65769646],\"xaxis\":\"x\",\"y\":[81.174],\"yaxis\":\"y\",\"type\":\"scatter\"},{\"hovertemplate\":\"Model=Mountaineer<br>Power_perf_factor=%{x}<br>Sales_in_thousands=%{y}<extra></extra>\",\"legendgroup\":\"Mountaineer\",\"marker\":{\"color\":\"#636efa\",\"symbol\":\"circle\",\"size\":5},\"mode\":\"markers\",\"name\":\"Mountaineer\",\"orientation\":\"v\",\"showlegend\":true,\"x\":[85.94974425],\"xaxis\":\"x\",\"y\":[27.609],\"yaxis\":\"y\",\"type\":\"scatter\"},{\"hovertemplate\":\"Model=Villager<br>Power_perf_factor=%{x}<br>Sales_in_thousands=%{y}<extra></extra>\",\"legendgroup\":\"Villager\",\"marker\":{\"color\":\"#EF553B\",\"symbol\":\"circle\",\"size\":5},\"mode\":\"markers\",\"name\":\"Villager\",\"orientation\":\"v\",\"showlegend\":true,\"x\":[69.671461],\"xaxis\":\"x\",\"y\":[20.38],\"yaxis\":\"y\",\"type\":\"scatter\"},{\"hovertemplate\":\"Model=C-Class<br>Power_perf_factor=%{x}<br>Sales_in_thousands=%{y}<extra></extra>\",\"legendgroup\":\"C-Class\",\"marker\":{\"color\":\"#00cc96\",\"symbol\":\"circle\",\"size\":5},\"mode\":\"markers\",\"name\":\"C-Class\",\"orientation\":\"v\",\"showlegend\":true,\"x\":[78.28073088],\"xaxis\":\"x\",\"y\":[18.392],\"yaxis\":\"y\",\"type\":\"scatter\"},{\"hovertemplate\":\"Model=E-Class<br>Power_perf_factor=%{x}<br>Sales_in_thousands=%{y}<extra></extra>\",\"legendgroup\":\"E-Class\",\"marker\":{\"color\":\"#ab63fa\",\"symbol\":\"circle\",\"size\":5},\"mode\":\"markers\",\"name\":\"E-Class\",\"orientation\":\"v\",\"showlegend\":true,\"x\":[98.2497375],\"xaxis\":\"x\",\"y\":[27.602],\"yaxis\":\"y\",\"type\":\"scatter\"},{\"hovertemplate\":\"Model=S-Class<br>Power_perf_factor=%{x}<br>Sales_in_thousands=%{y}<extra></extra>\",\"legendgroup\":\"S-Class\",\"marker\":{\"color\":\"#FFA15A\",\"symbol\":\"circle\",\"size\":5},\"mode\":\"markers\",\"name\":\"S-Class\",\"orientation\":\"v\",\"showlegend\":true,\"x\":[125.2738757],\"xaxis\":\"x\",\"y\":[16.774],\"yaxis\":\"y\",\"type\":\"scatter\"},{\"hovertemplate\":\"Model=SL-Class<br>Power_perf_factor=%{x}<br>Sales_in_thousands=%{y}<extra></extra>\",\"legendgroup\":\"SL-Class\",\"marker\":{\"color\":\"#19d3f3\",\"symbol\":\"circle\",\"size\":5},\"mode\":\"markers\",\"name\":\"SL-Class\",\"orientation\":\"v\",\"showlegend\":true,\"x\":[139.9822936],\"xaxis\":\"x\",\"y\":[3.311],\"yaxis\":\"y\",\"type\":\"scatter\"},{\"hovertemplate\":\"Model=SLK<br>Power_perf_factor=%{x}<br>Sales_in_thousands=%{y}<extra></extra>\",\"legendgroup\":\"SLK\",\"marker\":{\"color\":\"#FF6692\",\"symbol\":\"circle\",\"size\":5},\"mode\":\"markers\",\"name\":\"SLK\",\"orientation\":\"v\",\"showlegend\":true,\"x\":[82.80736193],\"xaxis\":\"x\",\"y\":[7.998],\"yaxis\":\"y\",\"type\":\"scatter\"},{\"hovertemplate\":\"Model=SLK230<br>Power_perf_factor=%{x}<br>Sales_in_thousands=%{y}<extra></extra>\",\"legendgroup\":\"SLK230\",\"marker\":{\"color\":\"#B6E880\",\"symbol\":\"circle\",\"size\":5},\"mode\":\"markers\",\"name\":\"SLK230\",\"orientation\":\"v\",\"showlegend\":true,\"x\":[81.84896924],\"xaxis\":\"x\",\"y\":[1.526],\"yaxis\":\"y\",\"type\":\"scatter\"},{\"hovertemplate\":\"Model=CLK Coupe<br>Power_perf_factor=%{x}<br>Sales_in_thousands=%{y}<extra></extra>\",\"legendgroup\":\"CLK Coupe\",\"marker\":{\"color\":\"#FF97FF\",\"symbol\":\"circle\",\"size\":5},\"mode\":\"markers\",\"name\":\"CLK Coupe\",\"orientation\":\"v\",\"showlegend\":true,\"x\":[92.92579177],\"xaxis\":\"x\",\"y\":[11.592],\"yaxis\":\"y\",\"type\":\"scatter\"},{\"hovertemplate\":\"Model=CL500<br>Power_perf_factor=%{x}<br>Sales_in_thousands=%{y}<extra></extra>\",\"legendgroup\":\"CL500\",\"marker\":{\"color\":\"#FECB52\",\"symbol\":\"circle\",\"size\":5},\"mode\":\"markers\",\"name\":\"CL500\",\"orientation\":\"v\",\"showlegend\":true,\"x\":[141.1009845],\"xaxis\":\"x\",\"y\":[0.954],\"yaxis\":\"y\",\"type\":\"scatter\"},{\"hovertemplate\":\"Model=M-Class<br>Power_perf_factor=%{x}<br>Sales_in_thousands=%{y}<extra></extra>\",\"legendgroup\":\"M-Class\",\"marker\":{\"color\":\"#636efa\",\"symbol\":\"circle\",\"size\":5},\"mode\":\"markers\",\"name\":\"M-Class\",\"orientation\":\"v\",\"showlegend\":true,\"x\":[90.49553213],\"xaxis\":\"x\",\"y\":[28.976],\"yaxis\":\"y\",\"type\":\"scatter\"},{\"hovertemplate\":\"Model=Sentra<br>Power_perf_factor=%{x}<br>Sales_in_thousands=%{y}<extra></extra>\",\"legendgroup\":\"Sentra\",\"marker\":{\"color\":\"#EF553B\",\"symbol\":\"circle\",\"size\":5},\"mode\":\"markers\",\"name\":\"Sentra\",\"orientation\":\"v\",\"showlegend\":true,\"x\":[50.24197791],\"xaxis\":\"x\",\"y\":[42.643],\"yaxis\":\"y\",\"type\":\"scatter\"},{\"hovertemplate\":\"Model=Altima<br>Power_perf_factor=%{x}<br>Sales_in_thousands=%{y}<extra></extra>\",\"legendgroup\":\"Altima\",\"marker\":{\"color\":\"#00cc96\",\"symbol\":\"circle\",\"size\":5},\"mode\":\"markers\",\"name\":\"Altima\",\"orientation\":\"v\",\"showlegend\":true,\"x\":[63.31372783],\"xaxis\":\"x\",\"y\":[88.094],\"yaxis\":\"y\",\"type\":\"scatter\"},{\"hovertemplate\":\"Model=Maxima<br>Power_perf_factor=%{x}<br>Sales_in_thousands=%{y}<extra></extra>\",\"legendgroup\":\"Maxima\",\"marker\":{\"color\":\"#ab63fa\",\"symbol\":\"circle\",\"size\":5},\"mode\":\"markers\",\"name\":\"Maxima\",\"orientation\":\"v\",\"showlegend\":true,\"x\":[89.42782031],\"xaxis\":\"x\",\"y\":[79.853],\"yaxis\":\"y\",\"type\":\"scatter\"},{\"hovertemplate\":\"Model=Quest<br>Power_perf_factor=%{x}<br>Sales_in_thousands=%{y}<extra></extra>\",\"legendgroup\":\"Quest\",\"marker\":{\"color\":\"#FFA15A\",\"symbol\":\"circle\",\"size\":5},\"mode\":\"markers\",\"name\":\"Quest\",\"orientation\":\"v\",\"showlegend\":true,\"x\":[71.17166413],\"xaxis\":\"x\",\"y\":[27.308],\"yaxis\":\"y\",\"type\":\"scatter\"},{\"hovertemplate\":\"Model=Pathfinder<br>Power_perf_factor=%{x}<br>Sales_in_thousands=%{y}<extra></extra>\",\"legendgroup\":\"Pathfinder\",\"marker\":{\"color\":\"#19d3f3\",\"symbol\":\"circle\",\"size\":5},\"mode\":\"markers\",\"name\":\"Pathfinder\",\"orientation\":\"v\",\"showlegend\":true,\"x\":[72.29035508],\"xaxis\":\"x\",\"y\":[42.574],\"yaxis\":\"y\",\"type\":\"scatter\"},{\"hovertemplate\":\"Model=Xterra<br>Power_perf_factor=%{x}<br>Sales_in_thousands=%{y}<extra></extra>\",\"legendgroup\":\"Xterra\",\"marker\":{\"color\":\"#FF6692\",\"symbol\":\"circle\",\"size\":5},\"mode\":\"markers\",\"name\":\"Xterra\",\"orientation\":\"v\",\"showlegend\":true,\"x\":[69.78294434],\"xaxis\":\"x\",\"y\":[54.158],\"yaxis\":\"y\",\"type\":\"scatter\"},{\"hovertemplate\":\"Model=Frontier<br>Power_perf_factor=%{x}<br>Sales_in_thousands=%{y}<extra></extra>\",\"legendgroup\":\"Frontier\",\"marker\":{\"color\":\"#B6E880\",\"symbol\":\"circle\",\"size\":5},\"mode\":\"markers\",\"name\":\"Frontier\",\"orientation\":\"v\",\"showlegend\":true,\"x\":[67.88927059],\"xaxis\":\"x\",\"y\":[65.005],\"yaxis\":\"y\",\"type\":\"scatter\"},{\"hovertemplate\":\"Model=Cutlass<br>Power_perf_factor=%{x}<br>Sales_in_thousands=%{y}<extra></extra>\",\"legendgroup\":\"Cutlass\",\"marker\":{\"color\":\"#FF97FF\",\"symbol\":\"circle\",\"size\":5},\"mode\":\"markers\",\"name\":\"Cutlass\",\"orientation\":\"v\",\"showlegend\":true,\"x\":[60.86161155],\"xaxis\":\"x\",\"y\":[1.112],\"yaxis\":\"y\",\"type\":\"scatter\"},{\"hovertemplate\":\"Model=Intrigue<br>Power_perf_factor=%{x}<br>Sales_in_thousands=%{y}<extra></extra>\",\"legendgroup\":\"Intrigue\",\"marker\":{\"color\":\"#FECB52\",\"symbol\":\"circle\",\"size\":5},\"mode\":\"markers\",\"name\":\"Intrigue\",\"orientation\":\"v\",\"showlegend\":true,\"x\":[86.27252291],\"xaxis\":\"x\",\"y\":[38.554],\"yaxis\":\"y\",\"type\":\"scatter\"},{\"hovertemplate\":\"Model=Alero<br>Power_perf_factor=%{x}<br>Sales_in_thousands=%{y}<extra></extra>\",\"legendgroup\":\"Alero\",\"marker\":{\"color\":\"#636efa\",\"symbol\":\"circle\",\"size\":5},\"mode\":\"markers\",\"name\":\"Alero\",\"orientation\":\"v\",\"showlegend\":true,\"x\":[60.72744693],\"xaxis\":\"x\",\"y\":[80.255],\"yaxis\":\"y\",\"type\":\"scatter\"},{\"hovertemplate\":\"Model=Aurora<br>Power_perf_factor=%{x}<br>Sales_in_thousands=%{y}<extra></extra>\",\"legendgroup\":\"Aurora\",\"marker\":{\"color\":\"#EF553B\",\"symbol\":\"circle\",\"size\":5},\"mode\":\"markers\",\"name\":\"Aurora\",\"orientation\":\"v\",\"showlegend\":true,\"x\":[103.4416926],\"xaxis\":\"x\",\"y\":[14.69],\"yaxis\":\"y\",\"type\":\"scatter\"},{\"hovertemplate\":\"Model=Bravada<br>Power_perf_factor=%{x}<br>Sales_in_thousands=%{y}<extra></extra>\",\"legendgroup\":\"Bravada\",\"marker\":{\"color\":\"#00cc96\",\"symbol\":\"circle\",\"size\":5},\"mode\":\"markers\",\"name\":\"Bravada\",\"orientation\":\"v\",\"showlegend\":true,\"x\":[80.51167259],\"xaxis\":\"x\",\"y\":[20.017],\"yaxis\":\"y\",\"type\":\"scatter\"},{\"hovertemplate\":\"Model=Silhouette<br>Power_perf_factor=%{x}<br>Sales_in_thousands=%{y}<extra></extra>\",\"legendgroup\":\"Silhouette\",\"marker\":{\"color\":\"#ab63fa\",\"symbol\":\"circle\",\"size\":5},\"mode\":\"markers\",\"name\":\"Silhouette\",\"orientation\":\"v\",\"showlegend\":true,\"x\":[76.09657042],\"xaxis\":\"x\",\"y\":[24.361],\"yaxis\":\"y\",\"type\":\"scatter\"},{\"hovertemplate\":\"Model=Breeze<br>Power_perf_factor=%{x}<br>Sales_in_thousands=%{y}<extra></extra>\",\"legendgroup\":\"Breeze\",\"marker\":{\"color\":\"#FFA15A\",\"symbol\":\"circle\",\"size\":5},\"mode\":\"markers\",\"name\":\"Breeze\",\"orientation\":\"v\",\"showlegend\":true,\"x\":[53.41189767],\"xaxis\":\"x\",\"y\":[5.24],\"yaxis\":\"y\",\"type\":\"scatter\"},{\"hovertemplate\":\"Model=Voyager<br>Power_perf_factor=%{x}<br>Sales_in_thousands=%{y}<extra></extra>\",\"legendgroup\":\"Voyager\",\"marker\":{\"color\":\"#19d3f3\",\"symbol\":\"circle\",\"size\":5},\"mode\":\"markers\",\"name\":\"Voyager\",\"orientation\":\"v\",\"showlegend\":true,\"x\":[60.95118512],\"xaxis\":\"x\",\"y\":[24.155],\"yaxis\":\"y\",\"type\":\"scatter\"},{\"hovertemplate\":\"Model=Prowler<br>Power_perf_factor=%{x}<br>Sales_in_thousands=%{y}<extra></extra>\",\"legendgroup\":\"Prowler\",\"marker\":{\"color\":\"#FF6692\",\"symbol\":\"circle\",\"size\":5},\"mode\":\"markers\",\"name\":\"Prowler\",\"orientation\":\"v\",\"showlegend\":true,\"x\":[106.9844563],\"xaxis\":\"x\",\"y\":[1.872],\"yaxis\":\"y\",\"type\":\"scatter\"},{\"hovertemplate\":\"Model=Sunfire<br>Power_perf_factor=%{x}<br>Sales_in_thousands=%{y}<extra></extra>\",\"legendgroup\":\"Sunfire\",\"marker\":{\"color\":\"#B6E880\",\"symbol\":\"circle\",\"size\":5},\"mode\":\"markers\",\"name\":\"Sunfire\",\"orientation\":\"v\",\"showlegend\":true,\"x\":[62.0158703],\"xaxis\":\"x\",\"y\":[51.645],\"yaxis\":\"y\",\"type\":\"scatter\"},{\"hovertemplate\":\"Model=Grand Am<br>Power_perf_factor=%{x}<br>Sales_in_thousands=%{y}<extra></extra>\",\"legendgroup\":\"Grand Am\",\"marker\":{\"color\":\"#FF97FF\",\"symbol\":\"circle\",\"size\":5},\"mode\":\"markers\",\"name\":\"Grand Am\",\"orientation\":\"v\",\"showlegend\":true,\"x\":[70.38973726],\"xaxis\":\"x\",\"y\":[131.097],\"yaxis\":\"y\",\"type\":\"scatter\"},{\"hovertemplate\":\"Model=Firebird<br>Power_perf_factor=%{x}<br>Sales_in_thousands=%{y}<extra></extra>\",\"legendgroup\":\"Firebird\",\"marker\":{\"color\":\"#FECB52\",\"symbol\":\"circle\",\"size\":5},\"mode\":\"markers\",\"name\":\"Firebird\",\"orientation\":\"v\",\"showlegend\":true,\"x\":[81.49272616],\"xaxis\":\"x\",\"y\":[19.911],\"yaxis\":\"y\",\"type\":\"scatter\"},{\"hovertemplate\":\"Model=Grand Prix<br>Power_perf_factor=%{x}<br>Sales_in_thousands=%{y}<extra></extra>\",\"legendgroup\":\"Grand Prix\",\"marker\":{\"color\":\"#636efa\",\"symbol\":\"circle\",\"size\":5},\"mode\":\"markers\",\"name\":\"Grand Prix\",\"orientation\":\"v\",\"showlegend\":true,\"x\":[78.31816813],\"xaxis\":\"x\",\"y\":[92.364],\"yaxis\":\"y\",\"type\":\"scatter\"},{\"hovertemplate\":\"Model=Bonneville<br>Power_perf_factor=%{x}<br>Sales_in_thousands=%{y}<extra></extra>\",\"legendgroup\":\"Bonneville\",\"marker\":{\"color\":\"#EF553B\",\"symbol\":\"circle\",\"size\":5},\"mode\":\"markers\",\"name\":\"Bonneville\",\"orientation\":\"v\",\"showlegend\":true,\"x\":[82.6613556],\"xaxis\":\"x\",\"y\":[35.945],\"yaxis\":\"y\",\"type\":\"scatter\"},{\"hovertemplate\":\"Model=Montana<br>Power_perf_factor=%{x}<br>Sales_in_thousands=%{y}<extra></extra>\",\"legendgroup\":\"Montana\",\"marker\":{\"color\":\"#00cc96\",\"symbol\":\"circle\",\"size\":5},\"mode\":\"markers\",\"name\":\"Montana\",\"orientation\":\"v\",\"showlegend\":true,\"x\":[76.20843952],\"xaxis\":\"x\",\"y\":[39.572],\"yaxis\":\"y\",\"type\":\"scatter\"},{\"hovertemplate\":\"Model=Boxter<br>Power_perf_factor=%{x}<br>Sales_in_thousands=%{y}<extra></extra>\",\"legendgroup\":\"Boxter\",\"marker\":{\"color\":\"#ab63fa\",\"symbol\":\"circle\",\"size\":5},\"mode\":\"markers\",\"name\":\"Boxter\",\"orientation\":\"v\",\"showlegend\":true,\"x\":[93.4373307],\"xaxis\":\"x\",\"y\":[8.982],\"yaxis\":\"y\",\"type\":\"scatter\"},{\"hovertemplate\":\"Model=Carrera Coupe<br>Power_perf_factor=%{x}<br>Sales_in_thousands=%{y}<extra></extra>\",\"legendgroup\":\"Carrera Coupe\",\"marker\":{\"color\":\"#FFA15A\",\"symbol\":\"circle\",\"size\":5},\"mode\":\"markers\",\"name\":\"Carrera Coupe\",\"orientation\":\"v\",\"showlegend\":true,\"x\":[134.3909754],\"xaxis\":\"x\",\"y\":[1.28],\"yaxis\":\"y\",\"type\":\"scatter\"},{\"hovertemplate\":\"Model=Carrera Cabrio<br>Power_perf_factor=%{x}<br>Sales_in_thousands=%{y}<extra></extra>\",\"legendgroup\":\"Carrera Cabrio\",\"marker\":{\"color\":\"#19d3f3\",\"symbol\":\"circle\",\"size\":5},\"mode\":\"markers\",\"name\":\"Carrera Cabrio\",\"orientation\":\"v\",\"showlegend\":true,\"x\":[135.9147096],\"xaxis\":\"x\",\"y\":[1.866],\"yaxis\":\"y\",\"type\":\"scatter\"},{\"hovertemplate\":\"Model=5-Sep<br>Power_perf_factor=%{x}<br>Sales_in_thousands=%{y}<extra></extra>\",\"legendgroup\":\"5-Sep\",\"marker\":{\"color\":\"#FF6692\",\"symbol\":\"circle\",\"size\":5},\"mode\":\"markers\",\"name\":\"5-Sep\",\"orientation\":\"v\",\"showlegend\":true,\"x\":[73.50377819],\"xaxis\":\"x\",\"y\":[9.191],\"yaxis\":\"y\",\"type\":\"scatter\"},{\"hovertemplate\":\"Model=3-Sep<br>Power_perf_factor=%{x}<br>Sales_in_thousands=%{y}<extra></extra>\",\"legendgroup\":\"3-Sep\",\"marker\":{\"color\":\"#B6E880\",\"symbol\":\"circle\",\"size\":5},\"mode\":\"markers\",\"name\":\"3-Sep\",\"orientation\":\"v\",\"showlegend\":true,\"x\":[76.02304771],\"xaxis\":\"x\",\"y\":[12.115],\"yaxis\":\"y\",\"type\":\"scatter\"},{\"hovertemplate\":\"Model=SL<br>Power_perf_factor=%{x}<br>Sales_in_thousands=%{y}<extra></extra>\",\"legendgroup\":\"SL\",\"marker\":{\"color\":\"#FF97FF\",\"symbol\":\"circle\",\"size\":5},\"mode\":\"markers\",\"name\":\"SL\",\"orientation\":\"v\",\"showlegend\":true,\"x\":[39.98642475],\"xaxis\":\"x\",\"y\":[80.62],\"yaxis\":\"y\",\"type\":\"scatter\"},{\"hovertemplate\":\"Model=SC<br>Power_perf_factor=%{x}<br>Sales_in_thousands=%{y}<extra></extra>\",\"legendgroup\":\"SC\",\"marker\":{\"color\":\"#FECB52\",\"symbol\":\"circle\",\"size\":5},\"mode\":\"markers\",\"name\":\"SC\",\"orientation\":\"v\",\"showlegend\":true,\"x\":[40.70007242],\"xaxis\":\"x\",\"y\":[24.546],\"yaxis\":\"y\",\"type\":\"scatter\"},{\"hovertemplate\":\"Model=SW<br>Power_perf_factor=%{x}<br>Sales_in_thousands=%{y}<extra></extra>\",\"legendgroup\":\"SW\",\"marker\":{\"color\":\"#636efa\",\"symbol\":\"circle\",\"size\":5},\"mode\":\"markers\",\"name\":\"SW\",\"orientation\":\"v\",\"showlegend\":true,\"x\":[49.86577367],\"xaxis\":\"x\",\"y\":[5.223],\"yaxis\":\"y\",\"type\":\"scatter\"},{\"hovertemplate\":\"Model=LW<br>Power_perf_factor=%{x}<br>Sales_in_thousands=%{y}<extra></extra>\",\"legendgroup\":\"LW\",\"marker\":{\"color\":\"#EF553B\",\"symbol\":\"circle\",\"size\":5},\"mode\":\"markers\",\"name\":\"LW\",\"orientation\":\"v\",\"showlegend\":true,\"x\":[56.29524304],\"xaxis\":\"x\",\"y\":[8.472],\"yaxis\":\"y\",\"type\":\"scatter\"},{\"hovertemplate\":\"Model=LS<br>Power_perf_factor=%{x}<br>Sales_in_thousands=%{y}<extra></extra>\",\"legendgroup\":\"LS\",\"marker\":{\"color\":\"#00cc96\",\"symbol\":\"circle\",\"size\":5},\"mode\":\"markers\",\"name\":\"LS\",\"orientation\":\"v\",\"showlegend\":true,\"x\":[54.81972825],\"xaxis\":\"x\",\"y\":[49.989],\"yaxis\":\"y\",\"type\":\"scatter\"},{\"hovertemplate\":\"Model=Outback<br>Power_perf_factor=%{x}<br>Sales_in_thousands=%{y}<extra></extra>\",\"legendgroup\":\"Outback\",\"marker\":{\"color\":\"#ab63fa\",\"symbol\":\"circle\",\"size\":5},\"mode\":\"markers\",\"name\":\"Outback\",\"orientation\":\"v\",\"showlegend\":true,\"x\":[67.7659076],\"xaxis\":\"x\",\"y\":[47.107],\"yaxis\":\"y\",\"type\":\"scatter\"},{\"hovertemplate\":\"Model=Forester<br>Power_perf_factor=%{x}<br>Sales_in_thousands=%{y}<extra></extra>\",\"legendgroup\":\"Forester\",\"marker\":{\"color\":\"#FFA15A\",\"symbol\":\"circle\",\"size\":5},\"mode\":\"markers\",\"name\":\"Forester\",\"orientation\":\"v\",\"showlegend\":true,\"x\":[66.76294331],\"xaxis\":\"x\",\"y\":[33.028],\"yaxis\":\"y\",\"type\":\"scatter\"},{\"hovertemplate\":\"Model=Corolla<br>Power_perf_factor=%{x}<br>Sales_in_thousands=%{y}<extra></extra>\",\"legendgroup\":\"Corolla\",\"marker\":{\"color\":\"#19d3f3\",\"symbol\":\"circle\",\"size\":5},\"mode\":\"markers\",\"name\":\"Corolla\",\"orientation\":\"v\",\"showlegend\":true,\"x\":[47.96897242],\"xaxis\":\"x\",\"y\":[142.535],\"yaxis\":\"y\",\"type\":\"scatter\"},{\"hovertemplate\":\"Model=Camry<br>Power_perf_factor=%{x}<br>Sales_in_thousands=%{y}<extra></extra>\",\"legendgroup\":\"Camry\",\"marker\":{\"color\":\"#FF6692\",\"symbol\":\"circle\",\"size\":5},\"mode\":\"markers\",\"name\":\"Camry\",\"orientation\":\"v\",\"showlegend\":true,\"x\":[54.37241965],\"xaxis\":\"x\",\"y\":[247.994],\"yaxis\":\"y\",\"type\":\"scatter\"},{\"hovertemplate\":\"Model=Avalon<br>Power_perf_factor=%{x}<br>Sales_in_thousands=%{y}<extra></extra>\",\"legendgroup\":\"Avalon\",\"marker\":{\"color\":\"#B6E880\",\"symbol\":\"circle\",\"size\":5},\"mode\":\"markers\",\"name\":\"Avalon\",\"orientation\":\"v\",\"showlegend\":true,\"x\":[84.91189826],\"xaxis\":\"x\",\"y\":[63.849],\"yaxis\":\"y\",\"type\":\"scatter\"},{\"hovertemplate\":\"Model=Celica<br>Power_perf_factor=%{x}<br>Sales_in_thousands=%{y}<extra></extra>\",\"legendgroup\":\"Celica\",\"marker\":{\"color\":\"#FF97FF\",\"symbol\":\"circle\",\"size\":5},\"mode\":\"markers\",\"name\":\"Celica\",\"orientation\":\"v\",\"showlegend\":true,\"x\":[56.49603034],\"xaxis\":\"x\",\"y\":[33.269],\"yaxis\":\"y\",\"type\":\"scatter\"},{\"hovertemplate\":\"Model=Tacoma<br>Power_perf_factor=%{x}<br>Sales_in_thousands=%{y}<extra></extra>\",\"legendgroup\":\"Tacoma\",\"marker\":{\"color\":\"#FECB52\",\"symbol\":\"circle\",\"size\":5},\"mode\":\"markers\",\"name\":\"Tacoma\",\"orientation\":\"v\",\"showlegend\":true,\"x\":[55.29711658],\"xaxis\":\"x\",\"y\":[84.087],\"yaxis\":\"y\",\"type\":\"scatter\"},{\"hovertemplate\":\"Model=Sienna<br>Power_perf_factor=%{x}<br>Sales_in_thousands=%{y}<extra></extra>\",\"legendgroup\":\"Sienna\",\"marker\":{\"color\":\"#636efa\",\"symbol\":\"circle\",\"size\":5},\"mode\":\"markers\",\"name\":\"Sienna\",\"orientation\":\"v\",\"showlegend\":true,\"x\":[78.02721947],\"xaxis\":\"x\",\"y\":[65.119],\"yaxis\":\"y\",\"type\":\"scatter\"},{\"hovertemplate\":\"Model=RAV4<br>Power_perf_factor=%{x}<br>Sales_in_thousands=%{y}<extra></extra>\",\"legendgroup\":\"RAV4\",\"marker\":{\"color\":\"#EF553B\",\"symbol\":\"circle\",\"size\":5},\"mode\":\"markers\",\"name\":\"RAV4\",\"orientation\":\"v\",\"showlegend\":true,\"x\":[51.95510887],\"xaxis\":\"x\",\"y\":[25.106],\"yaxis\":\"y\",\"type\":\"scatter\"},{\"hovertemplate\":\"Model=4Runner<br>Power_perf_factor=%{x}<br>Sales_in_thousands=%{y}<extra></extra>\",\"legendgroup\":\"4Runner\",\"marker\":{\"color\":\"#00cc96\",\"symbol\":\"circle\",\"size\":5},\"mode\":\"markers\",\"name\":\"4Runner\",\"orientation\":\"v\",\"showlegend\":true,\"x\":[62.35557713],\"xaxis\":\"x\",\"y\":[68.411],\"yaxis\":\"y\",\"type\":\"scatter\"},{\"hovertemplate\":\"Model=Land Cruiser<br>Power_perf_factor=%{x}<br>Sales_in_thousands=%{y}<extra></extra>\",\"legendgroup\":\"Land Cruiser\",\"marker\":{\"color\":\"#ab63fa\",\"symbol\":\"circle\",\"size\":5},\"mode\":\"markers\",\"name\":\"Land Cruiser\",\"orientation\":\"v\",\"showlegend\":true,\"x\":[102.5289842],\"xaxis\":\"x\",\"y\":[9.835],\"yaxis\":\"y\",\"type\":\"scatter\"},{\"hovertemplate\":\"Model=Golf<br>Power_perf_factor=%{x}<br>Sales_in_thousands=%{y}<extra></extra>\",\"legendgroup\":\"Golf\",\"marker\":{\"color\":\"#FFA15A\",\"symbol\":\"circle\",\"size\":5},\"mode\":\"markers\",\"name\":\"Golf\",\"orientation\":\"v\",\"showlegend\":true,\"x\":[46.94387676],\"xaxis\":\"x\",\"y\":[9.761],\"yaxis\":\"y\",\"type\":\"scatter\"},{\"hovertemplate\":\"Model=Jetta<br>Power_perf_factor=%{x}<br>Sales_in_thousands=%{y}<extra></extra>\",\"legendgroup\":\"Jetta\",\"marker\":{\"color\":\"#19d3f3\",\"symbol\":\"circle\",\"size\":5},\"mode\":\"markers\",\"name\":\"Jetta\",\"orientation\":\"v\",\"showlegend\":true,\"x\":[47.63823666],\"xaxis\":\"x\",\"y\":[83.721],\"yaxis\":\"y\",\"type\":\"scatter\"},{\"hovertemplate\":\"Model=Passat<br>Power_perf_factor=%{x}<br>Sales_in_thousands=%{y}<extra></extra>\",\"legendgroup\":\"Passat\",\"marker\":{\"color\":\"#FF6692\",\"symbol\":\"circle\",\"size\":5},\"mode\":\"markers\",\"name\":\"Passat\",\"orientation\":\"v\",\"showlegend\":true,\"x\":[61.70138136],\"xaxis\":\"x\",\"y\":[51.102],\"yaxis\":\"y\",\"type\":\"scatter\"},{\"hovertemplate\":\"Model=Cabrio<br>Power_perf_factor=%{x}<br>Sales_in_thousands=%{y}<extra></extra>\",\"legendgroup\":\"Cabrio\",\"marker\":{\"color\":\"#B6E880\",\"symbol\":\"circle\",\"size\":5},\"mode\":\"markers\",\"name\":\"Cabrio\",\"orientation\":\"v\",\"showlegend\":true,\"x\":[48.90737225],\"xaxis\":\"x\",\"y\":[9.569],\"yaxis\":\"y\",\"type\":\"scatter\"},{\"hovertemplate\":\"Model=GTI<br>Power_perf_factor=%{x}<br>Sales_in_thousands=%{y}<extra></extra>\",\"legendgroup\":\"GTI\",\"marker\":{\"color\":\"#FF97FF\",\"symbol\":\"circle\",\"size\":5},\"mode\":\"markers\",\"name\":\"GTI\",\"orientation\":\"v\",\"showlegend\":true,\"x\":[47.94684106],\"xaxis\":\"x\",\"y\":[5.596],\"yaxis\":\"y\",\"type\":\"scatter\"},{\"hovertemplate\":\"Model=Beetle<br>Power_perf_factor=%{x}<br>Sales_in_thousands=%{y}<extra></extra>\",\"legendgroup\":\"Beetle\",\"marker\":{\"color\":\"#FECB52\",\"symbol\":\"circle\",\"size\":5},\"mode\":\"markers\",\"name\":\"Beetle\",\"orientation\":\"v\",\"showlegend\":true,\"x\":[47.32963226],\"xaxis\":\"x\",\"y\":[49.463],\"yaxis\":\"y\",\"type\":\"scatter\"},{\"hovertemplate\":\"Model=S40<br>Power_perf_factor=%{x}<br>Sales_in_thousands=%{y}<extra></extra>\",\"legendgroup\":\"S40\",\"marker\":{\"color\":\"#636efa\",\"symbol\":\"circle\",\"size\":5},\"mode\":\"markers\",\"name\":\"S40\",\"orientation\":\"v\",\"showlegend\":true,\"x\":[66.1130568],\"xaxis\":\"x\",\"y\":[16.957],\"yaxis\":\"y\",\"type\":\"scatter\"},{\"hovertemplate\":\"Model=V40<br>Power_perf_factor=%{x}<br>Sales_in_thousands=%{y}<extra></extra>\",\"legendgroup\":\"V40\",\"marker\":{\"color\":\"#EF553B\",\"symbol\":\"circle\",\"size\":5},\"mode\":\"markers\",\"name\":\"V40\",\"orientation\":\"v\",\"showlegend\":true,\"x\":[66.4988123],\"xaxis\":\"x\",\"y\":[3.545],\"yaxis\":\"y\",\"type\":\"scatter\"},{\"hovertemplate\":\"Model=S70<br>Power_perf_factor=%{x}<br>Sales_in_thousands=%{y}<extra></extra>\",\"legendgroup\":\"S70\",\"marker\":{\"color\":\"#00cc96\",\"symbol\":\"circle\",\"size\":5},\"mode\":\"markers\",\"name\":\"S70\",\"orientation\":\"v\",\"showlegend\":true,\"x\":[70.65449545],\"xaxis\":\"x\",\"y\":[15.245],\"yaxis\":\"y\",\"type\":\"scatter\"},{\"hovertemplate\":\"Model=V70<br>Power_perf_factor=%{x}<br>Sales_in_thousands=%{y}<extra></extra>\",\"legendgroup\":\"V70\",\"marker\":{\"color\":\"#ab63fa\",\"symbol\":\"circle\",\"size\":5},\"mode\":\"markers\",\"name\":\"V70\",\"orientation\":\"v\",\"showlegend\":true,\"x\":[71.1559776],\"xaxis\":\"x\",\"y\":[17.531],\"yaxis\":\"y\",\"type\":\"scatter\"},{\"hovertemplate\":\"Model=C70<br>Power_perf_factor=%{x}<br>Sales_in_thousands=%{y}<extra></extra>\",\"legendgroup\":\"C70\",\"marker\":{\"color\":\"#FFA15A\",\"symbol\":\"circle\",\"size\":5},\"mode\":\"markers\",\"name\":\"C70\",\"orientation\":\"v\",\"showlegend\":true,\"x\":[101.6233572],\"xaxis\":\"x\",\"y\":[3.493],\"yaxis\":\"y\",\"type\":\"scatter\"},{\"hovertemplate\":\"Model=S80<br>Power_perf_factor=%{x}<br>Sales_in_thousands=%{y}<extra></extra>\",\"legendgroup\":\"S80\",\"marker\":{\"color\":\"#19d3f3\",\"symbol\":\"circle\",\"size\":5},\"mode\":\"markers\",\"name\":\"S80\",\"orientation\":\"v\",\"showlegend\":true,\"x\":[85.73565451],\"xaxis\":\"x\",\"y\":[18.969],\"yaxis\":\"y\",\"type\":\"scatter\"}],                        {\"template\":{\"data\":{\"bar\":[{\"error_x\":{\"color\":\"#2a3f5f\"},\"error_y\":{\"color\":\"#2a3f5f\"},\"marker\":{\"line\":{\"color\":\"#E5ECF6\",\"width\":0.5},\"pattern\":{\"fillmode\":\"overlay\",\"size\":10,\"solidity\":0.2}},\"type\":\"bar\"}],\"barpolar\":[{\"marker\":{\"line\":{\"color\":\"#E5ECF6\",\"width\":0.5},\"pattern\":{\"fillmode\":\"overlay\",\"size\":10,\"solidity\":0.2}},\"type\":\"barpolar\"}],\"carpet\":[{\"aaxis\":{\"endlinecolor\":\"#2a3f5f\",\"gridcolor\":\"white\",\"linecolor\":\"white\",\"minorgridcolor\":\"white\",\"startlinecolor\":\"#2a3f5f\"},\"baxis\":{\"endlinecolor\":\"#2a3f5f\",\"gridcolor\":\"white\",\"linecolor\":\"white\",\"minorgridcolor\":\"white\",\"startlinecolor\":\"#2a3f5f\"},\"type\":\"carpet\"}],\"choropleth\":[{\"colorbar\":{\"outlinewidth\":0,\"ticks\":\"\"},\"type\":\"choropleth\"}],\"contour\":[{\"colorbar\":{\"outlinewidth\":0,\"ticks\":\"\"},\"colorscale\":[[0.0,\"#0d0887\"],[0.1111111111111111,\"#46039f\"],[0.2222222222222222,\"#7201a8\"],[0.3333333333333333,\"#9c179e\"],[0.4444444444444444,\"#bd3786\"],[0.5555555555555556,\"#d8576b\"],[0.6666666666666666,\"#ed7953\"],[0.7777777777777778,\"#fb9f3a\"],[0.8888888888888888,\"#fdca26\"],[1.0,\"#f0f921\"]],\"type\":\"contour\"}],\"contourcarpet\":[{\"colorbar\":{\"outlinewidth\":0,\"ticks\":\"\"},\"type\":\"contourcarpet\"}],\"heatmap\":[{\"colorbar\":{\"outlinewidth\":0,\"ticks\":\"\"},\"colorscale\":[[0.0,\"#0d0887\"],[0.1111111111111111,\"#46039f\"],[0.2222222222222222,\"#7201a8\"],[0.3333333333333333,\"#9c179e\"],[0.4444444444444444,\"#bd3786\"],[0.5555555555555556,\"#d8576b\"],[0.6666666666666666,\"#ed7953\"],[0.7777777777777778,\"#fb9f3a\"],[0.8888888888888888,\"#fdca26\"],[1.0,\"#f0f921\"]],\"type\":\"heatmap\"}],\"heatmapgl\":[{\"colorbar\":{\"outlinewidth\":0,\"ticks\":\"\"},\"colorscale\":[[0.0,\"#0d0887\"],[0.1111111111111111,\"#46039f\"],[0.2222222222222222,\"#7201a8\"],[0.3333333333333333,\"#9c179e\"],[0.4444444444444444,\"#bd3786\"],[0.5555555555555556,\"#d8576b\"],[0.6666666666666666,\"#ed7953\"],[0.7777777777777778,\"#fb9f3a\"],[0.8888888888888888,\"#fdca26\"],[1.0,\"#f0f921\"]],\"type\":\"heatmapgl\"}],\"histogram\":[{\"marker\":{\"pattern\":{\"fillmode\":\"overlay\",\"size\":10,\"solidity\":0.2}},\"type\":\"histogram\"}],\"histogram2d\":[{\"colorbar\":{\"outlinewidth\":0,\"ticks\":\"\"},\"colorscale\":[[0.0,\"#0d0887\"],[0.1111111111111111,\"#46039f\"],[0.2222222222222222,\"#7201a8\"],[0.3333333333333333,\"#9c179e\"],[0.4444444444444444,\"#bd3786\"],[0.5555555555555556,\"#d8576b\"],[0.6666666666666666,\"#ed7953\"],[0.7777777777777778,\"#fb9f3a\"],[0.8888888888888888,\"#fdca26\"],[1.0,\"#f0f921\"]],\"type\":\"histogram2d\"}],\"histogram2dcontour\":[{\"colorbar\":{\"outlinewidth\":0,\"ticks\":\"\"},\"colorscale\":[[0.0,\"#0d0887\"],[0.1111111111111111,\"#46039f\"],[0.2222222222222222,\"#7201a8\"],[0.3333333333333333,\"#9c179e\"],[0.4444444444444444,\"#bd3786\"],[0.5555555555555556,\"#d8576b\"],[0.6666666666666666,\"#ed7953\"],[0.7777777777777778,\"#fb9f3a\"],[0.8888888888888888,\"#fdca26\"],[1.0,\"#f0f921\"]],\"type\":\"histogram2dcontour\"}],\"mesh3d\":[{\"colorbar\":{\"outlinewidth\":0,\"ticks\":\"\"},\"type\":\"mesh3d\"}],\"parcoords\":[{\"line\":{\"colorbar\":{\"outlinewidth\":0,\"ticks\":\"\"}},\"type\":\"parcoords\"}],\"pie\":[{\"automargin\":true,\"type\":\"pie\"}],\"scatter\":[{\"marker\":{\"colorbar\":{\"outlinewidth\":0,\"ticks\":\"\"}},\"type\":\"scatter\"}],\"scatter3d\":[{\"line\":{\"colorbar\":{\"outlinewidth\":0,\"ticks\":\"\"}},\"marker\":{\"colorbar\":{\"outlinewidth\":0,\"ticks\":\"\"}},\"type\":\"scatter3d\"}],\"scattercarpet\":[{\"marker\":{\"colorbar\":{\"outlinewidth\":0,\"ticks\":\"\"}},\"type\":\"scattercarpet\"}],\"scattergeo\":[{\"marker\":{\"colorbar\":{\"outlinewidth\":0,\"ticks\":\"\"}},\"type\":\"scattergeo\"}],\"scattergl\":[{\"marker\":{\"colorbar\":{\"outlinewidth\":0,\"ticks\":\"\"}},\"type\":\"scattergl\"}],\"scattermapbox\":[{\"marker\":{\"colorbar\":{\"outlinewidth\":0,\"ticks\":\"\"}},\"type\":\"scattermapbox\"}],\"scatterpolar\":[{\"marker\":{\"colorbar\":{\"outlinewidth\":0,\"ticks\":\"\"}},\"type\":\"scatterpolar\"}],\"scatterpolargl\":[{\"marker\":{\"colorbar\":{\"outlinewidth\":0,\"ticks\":\"\"}},\"type\":\"scatterpolargl\"}],\"scatterternary\":[{\"marker\":{\"colorbar\":{\"outlinewidth\":0,\"ticks\":\"\"}},\"type\":\"scatterternary\"}],\"surface\":[{\"colorbar\":{\"outlinewidth\":0,\"ticks\":\"\"},\"colorscale\":[[0.0,\"#0d0887\"],[0.1111111111111111,\"#46039f\"],[0.2222222222222222,\"#7201a8\"],[0.3333333333333333,\"#9c179e\"],[0.4444444444444444,\"#bd3786\"],[0.5555555555555556,\"#d8576b\"],[0.6666666666666666,\"#ed7953\"],[0.7777777777777778,\"#fb9f3a\"],[0.8888888888888888,\"#fdca26\"],[1.0,\"#f0f921\"]],\"type\":\"surface\"}],\"table\":[{\"cells\":{\"fill\":{\"color\":\"#EBF0F8\"},\"line\":{\"color\":\"white\"}},\"header\":{\"fill\":{\"color\":\"#C8D4E3\"},\"line\":{\"color\":\"white\"}},\"type\":\"table\"}]},\"layout\":{\"annotationdefaults\":{\"arrowcolor\":\"#2a3f5f\",\"arrowhead\":0,\"arrowwidth\":1},\"autotypenumbers\":\"strict\",\"coloraxis\":{\"colorbar\":{\"outlinewidth\":0,\"ticks\":\"\"}},\"colorscale\":{\"diverging\":[[0,\"#8e0152\"],[0.1,\"#c51b7d\"],[0.2,\"#de77ae\"],[0.3,\"#f1b6da\"],[0.4,\"#fde0ef\"],[0.5,\"#f7f7f7\"],[0.6,\"#e6f5d0\"],[0.7,\"#b8e186\"],[0.8,\"#7fbc41\"],[0.9,\"#4d9221\"],[1,\"#276419\"]],\"sequential\":[[0.0,\"#0d0887\"],[0.1111111111111111,\"#46039f\"],[0.2222222222222222,\"#7201a8\"],[0.3333333333333333,\"#9c179e\"],[0.4444444444444444,\"#bd3786\"],[0.5555555555555556,\"#d8576b\"],[0.6666666666666666,\"#ed7953\"],[0.7777777777777778,\"#fb9f3a\"],[0.8888888888888888,\"#fdca26\"],[1.0,\"#f0f921\"]],\"sequentialminus\":[[0.0,\"#0d0887\"],[0.1111111111111111,\"#46039f\"],[0.2222222222222222,\"#7201a8\"],[0.3333333333333333,\"#9c179e\"],[0.4444444444444444,\"#bd3786\"],[0.5555555555555556,\"#d8576b\"],[0.6666666666666666,\"#ed7953\"],[0.7777777777777778,\"#fb9f3a\"],[0.8888888888888888,\"#fdca26\"],[1.0,\"#f0f921\"]]},\"colorway\":[\"#636efa\",\"#EF553B\",\"#00cc96\",\"#ab63fa\",\"#FFA15A\",\"#19d3f3\",\"#FF6692\",\"#B6E880\",\"#FF97FF\",\"#FECB52\"],\"font\":{\"color\":\"#2a3f5f\"},\"geo\":{\"bgcolor\":\"white\",\"lakecolor\":\"white\",\"landcolor\":\"#E5ECF6\",\"showlakes\":true,\"showland\":true,\"subunitcolor\":\"white\"},\"hoverlabel\":{\"align\":\"left\"},\"hovermode\":\"closest\",\"mapbox\":{\"style\":\"light\"},\"paper_bgcolor\":\"white\",\"plot_bgcolor\":\"#E5ECF6\",\"polar\":{\"angularaxis\":{\"gridcolor\":\"white\",\"linecolor\":\"white\",\"ticks\":\"\"},\"bgcolor\":\"#E5ECF6\",\"radialaxis\":{\"gridcolor\":\"white\",\"linecolor\":\"white\",\"ticks\":\"\"}},\"scene\":{\"xaxis\":{\"backgroundcolor\":\"#E5ECF6\",\"gridcolor\":\"white\",\"gridwidth\":2,\"linecolor\":\"white\",\"showbackground\":true,\"ticks\":\"\",\"zerolinecolor\":\"white\"},\"yaxis\":{\"backgroundcolor\":\"#E5ECF6\",\"gridcolor\":\"white\",\"gridwidth\":2,\"linecolor\":\"white\",\"showbackground\":true,\"ticks\":\"\",\"zerolinecolor\":\"white\"},\"zaxis\":{\"backgroundcolor\":\"#E5ECF6\",\"gridcolor\":\"white\",\"gridwidth\":2,\"linecolor\":\"white\",\"showbackground\":true,\"ticks\":\"\",\"zerolinecolor\":\"white\"}},\"shapedefaults\":{\"line\":{\"color\":\"#2a3f5f\"}},\"ternary\":{\"aaxis\":{\"gridcolor\":\"white\",\"linecolor\":\"white\",\"ticks\":\"\"},\"baxis\":{\"gridcolor\":\"white\",\"linecolor\":\"white\",\"ticks\":\"\"},\"bgcolor\":\"#E5ECF6\",\"caxis\":{\"gridcolor\":\"white\",\"linecolor\":\"white\",\"ticks\":\"\"}},\"title\":{\"x\":0.05},\"xaxis\":{\"automargin\":true,\"gridcolor\":\"white\",\"linecolor\":\"white\",\"ticks\":\"\",\"title\":{\"standoff\":15},\"zerolinecolor\":\"white\",\"zerolinewidth\":2},\"yaxis\":{\"automargin\":true,\"gridcolor\":\"white\",\"linecolor\":\"white\",\"ticks\":\"\",\"title\":{\"standoff\":15},\"zerolinecolor\":\"white\",\"zerolinewidth\":2}}},\"xaxis\":{\"anchor\":\"y\",\"domain\":[0.0,1.0],\"title\":{\"text\":\"Power_perf_factor\"}},\"yaxis\":{\"anchor\":\"x\",\"domain\":[0.0,1.0],\"title\":{\"text\":\"Sales_in_thousands\"}},\"legend\":{\"title\":{\"text\":\"Model\"},\"tracegroupgap\":0},\"title\":{\"text\":\"Power Performance vs. Sales in Thousands\",\"y\":0.9,\"x\":0.5,\"xanchor\":\"center\",\"yanchor\":\"top\"}},                        {\"responsive\": true}                    ).then(function(){\n",
       "                            \n",
       "var gd = document.getElementById('06fc2a92-666e-45c4-89e2-95d5cef3e3c7');\n",
       "var x = new MutationObserver(function (mutations, observer) {{\n",
       "        var display = window.getComputedStyle(gd).display;\n",
       "        if (!display || display === 'none') {{\n",
       "            console.log([gd, 'removed!']);\n",
       "            Plotly.purge(gd);\n",
       "            observer.disconnect();\n",
       "        }}\n",
       "}});\n",
       "\n",
       "// Listen for the removal of the full notebook cells\n",
       "var notebookContainer = gd.closest('#notebook-container');\n",
       "if (notebookContainer) {{\n",
       "    x.observe(notebookContainer, {childList: true});\n",
       "}}\n",
       "\n",
       "// Listen for the clearing of the current output cell\n",
       "var outputEl = gd.closest('.output');\n",
       "if (outputEl) {{\n",
       "    x.observe(outputEl, {childList: true});\n",
       "}}\n",
       "\n",
       "                        })                };                });            </script>        </div>"
      ]
     },
     "metadata": {},
     "output_type": "display_data"
    }
   ],
   "source": [
    "'''. Next, to see if this theory is valid, I decided to check out the power-to-performance ratio\n",
    "and had basically the same results.  '''\n",
    "\n",
    "#Correlation between power performance and sales\n",
    "\n",
    "#Set the x and y, hover data: when mouse hovers over, it shows sales in thousands, power to performance ratio and Model\n",
    "fig = px.scatter(df4,x='Power_perf_factor', y = 'Sales_in_thousands', color = 'Model',\n",
    "    hover_data=['Sales_in_thousands'],title='Power Performance vs. Sales in Thousands')\n",
    "fig.update_traces(marker_size=5)\n",
    "\n",
    "#positions the title \n",
    "fig.update_layout(\n",
    "    title={'y':0.9,'x':0.5,'xanchor': 'center','yanchor': 'top'})\n",
    "fig.show()"
   ]
  },
  {
   "cell_type": "code",
   "execution_count": 437,
   "id": "6d13ce45",
   "metadata": {},
   "outputs": [
    {
     "data": {
      "application/vnd.plotly.v1+json": {
       "config": {
        "plotlyServerURL": "https://plot.ly"
       },
       "data": [
        {
         "hovertemplate": "Model=Integra<br>Fuel_efficiency=%{x}<br>Sales_in_thousands=%{y}<extra></extra>",
         "legendgroup": "Integra",
         "marker": {
          "color": "#636efa",
          "size": 5,
          "symbol": "circle"
         },
         "mode": "markers",
         "name": "Integra",
         "orientation": "v",
         "showlegend": true,
         "type": "scatter",
         "x": [
          28
         ],
         "xaxis": "x",
         "y": [
          16.919
         ],
         "yaxis": "y"
        },
        {
         "hovertemplate": "Model=TL<br>Fuel_efficiency=%{x}<br>Sales_in_thousands=%{y}<extra></extra>",
         "legendgroup": "TL",
         "marker": {
          "color": "#EF553B",
          "size": 5,
          "symbol": "circle"
         },
         "mode": "markers",
         "name": "TL",
         "orientation": "v",
         "showlegend": true,
         "type": "scatter",
         "x": [
          25
         ],
         "xaxis": "x",
         "y": [
          39.384
         ],
         "yaxis": "y"
        },
        {
         "hovertemplate": "Model=CL<br>Fuel_efficiency=%{x}<br>Sales_in_thousands=%{y}<extra></extra>",
         "legendgroup": "CL",
         "marker": {
          "color": "#00cc96",
          "size": 5,
          "symbol": "circle"
         },
         "mode": "markers",
         "name": "CL",
         "orientation": "v",
         "showlegend": true,
         "type": "scatter",
         "x": [
          26
         ],
         "xaxis": "x",
         "y": [
          14.114
         ],
         "yaxis": "y"
        },
        {
         "hovertemplate": "Model=RL<br>Fuel_efficiency=%{x}<br>Sales_in_thousands=%{y}<extra></extra>",
         "legendgroup": "RL",
         "marker": {
          "color": "#ab63fa",
          "size": 5,
          "symbol": "circle"
         },
         "mode": "markers",
         "name": "RL",
         "orientation": "v",
         "showlegend": true,
         "type": "scatter",
         "x": [
          22
         ],
         "xaxis": "x",
         "y": [
          8.588
         ],
         "yaxis": "y"
        },
        {
         "hovertemplate": "Model=A4<br>Fuel_efficiency=%{x}<br>Sales_in_thousands=%{y}<extra></extra>",
         "legendgroup": "A4",
         "marker": {
          "color": "#FFA15A",
          "size": 5,
          "symbol": "circle"
         },
         "mode": "markers",
         "name": "A4",
         "orientation": "v",
         "showlegend": true,
         "type": "scatter",
         "x": [
          27
         ],
         "xaxis": "x",
         "y": [
          20.397
         ],
         "yaxis": "y"
        },
        {
         "hovertemplate": "Model=A6<br>Fuel_efficiency=%{x}<br>Sales_in_thousands=%{y}<extra></extra>",
         "legendgroup": "A6",
         "marker": {
          "color": "#19d3f3",
          "size": 5,
          "symbol": "circle"
         },
         "mode": "markers",
         "name": "A6",
         "orientation": "v",
         "showlegend": true,
         "type": "scatter",
         "x": [
          22
         ],
         "xaxis": "x",
         "y": [
          18.78
         ],
         "yaxis": "y"
        },
        {
         "hovertemplate": "Model=A8<br>Fuel_efficiency=%{x}<br>Sales_in_thousands=%{y}<extra></extra>",
         "legendgroup": "A8",
         "marker": {
          "color": "#FF6692",
          "size": 5,
          "symbol": "circle"
         },
         "mode": "markers",
         "name": "A8",
         "orientation": "v",
         "showlegend": true,
         "type": "scatter",
         "x": [
          21
         ],
         "xaxis": "x",
         "y": [
          1.38
         ],
         "yaxis": "y"
        },
        {
         "hovertemplate": "Model=323i<br>Fuel_efficiency=%{x}<br>Sales_in_thousands=%{y}<extra></extra>",
         "legendgroup": "323i",
         "marker": {
          "color": "#B6E880",
          "size": 5,
          "symbol": "circle"
         },
         "mode": "markers",
         "name": "323i",
         "orientation": "v",
         "showlegend": true,
         "type": "scatter",
         "x": [
          26
         ],
         "xaxis": "x",
         "y": [
          19.747
         ],
         "yaxis": "y"
        },
        {
         "hovertemplate": "Model=328i<br>Fuel_efficiency=%{x}<br>Sales_in_thousands=%{y}<extra></extra>",
         "legendgroup": "328i",
         "marker": {
          "color": "#FF97FF",
          "size": 5,
          "symbol": "circle"
         },
         "mode": "markers",
         "name": "328i",
         "orientation": "v",
         "showlegend": true,
         "type": "scatter",
         "x": [
          24
         ],
         "xaxis": "x",
         "y": [
          9.231
         ],
         "yaxis": "y"
        },
        {
         "hovertemplate": "Model=528i<br>Fuel_efficiency=%{x}<br>Sales_in_thousands=%{y}<extra></extra>",
         "legendgroup": "528i",
         "marker": {
          "color": "#FECB52",
          "size": 5,
          "symbol": "circle"
         },
         "mode": "markers",
         "name": "528i",
         "orientation": "v",
         "showlegend": true,
         "type": "scatter",
         "x": [
          25
         ],
         "xaxis": "x",
         "y": [
          17.527
         ],
         "yaxis": "y"
        },
        {
         "hovertemplate": "Model=Century<br>Fuel_efficiency=%{x}<br>Sales_in_thousands=%{y}<extra></extra>",
         "legendgroup": "Century",
         "marker": {
          "color": "#636efa",
          "size": 5,
          "symbol": "circle"
         },
         "mode": "markers",
         "name": "Century",
         "orientation": "v",
         "showlegend": true,
         "type": "scatter",
         "x": [
          25
         ],
         "xaxis": "x",
         "y": [
          91.561
         ],
         "yaxis": "y"
        },
        {
         "hovertemplate": "Model=Regal<br>Fuel_efficiency=%{x}<br>Sales_in_thousands=%{y}<extra></extra>",
         "legendgroup": "Regal",
         "marker": {
          "color": "#EF553B",
          "size": 5,
          "symbol": "circle"
         },
         "mode": "markers",
         "name": "Regal",
         "orientation": "v",
         "showlegend": true,
         "type": "scatter",
         "x": [
          23
         ],
         "xaxis": "x",
         "y": [
          39.35
         ],
         "yaxis": "y"
        },
        {
         "hovertemplate": "Model=Park Avenue<br>Fuel_efficiency=%{x}<br>Sales_in_thousands=%{y}<extra></extra>",
         "legendgroup": "Park Avenue",
         "marker": {
          "color": "#00cc96",
          "size": 5,
          "symbol": "circle"
         },
         "mode": "markers",
         "name": "Park Avenue",
         "orientation": "v",
         "showlegend": true,
         "type": "scatter",
         "x": [
          24
         ],
         "xaxis": "x",
         "y": [
          27.851
         ],
         "yaxis": "y"
        },
        {
         "hovertemplate": "Model=LeSabre<br>Fuel_efficiency=%{x}<br>Sales_in_thousands=%{y}<extra></extra>",
         "legendgroup": "LeSabre",
         "marker": {
          "color": "#ab63fa",
          "size": 5,
          "symbol": "circle"
         },
         "mode": "markers",
         "name": "LeSabre",
         "orientation": "v",
         "showlegend": true,
         "type": "scatter",
         "x": [
          25
         ],
         "xaxis": "x",
         "y": [
          83.257
         ],
         "yaxis": "y"
        },
        {
         "hovertemplate": "Model=DeVille<br>Fuel_efficiency=%{x}<br>Sales_in_thousands=%{y}<extra></extra>",
         "legendgroup": "DeVille",
         "marker": {
          "color": "#FFA15A",
          "size": 5,
          "symbol": "circle"
         },
         "mode": "markers",
         "name": "DeVille",
         "orientation": "v",
         "showlegend": true,
         "type": "scatter",
         "x": [
          22
         ],
         "xaxis": "x",
         "y": [
          63.729
         ],
         "yaxis": "y"
        },
        {
         "hovertemplate": "Model=Seville<br>Fuel_efficiency=%{x}<br>Sales_in_thousands=%{y}<extra></extra>",
         "legendgroup": "Seville",
         "marker": {
          "color": "#19d3f3",
          "size": 5,
          "symbol": "circle"
         },
         "mode": "markers",
         "name": "Seville",
         "orientation": "v",
         "showlegend": true,
         "type": "scatter",
         "x": [
          22
         ],
         "xaxis": "x",
         "y": [
          15.943
         ],
         "yaxis": "y"
        },
        {
         "hovertemplate": "Model=Eldorado<br>Fuel_efficiency=%{x}<br>Sales_in_thousands=%{y}<extra></extra>",
         "legendgroup": "Eldorado",
         "marker": {
          "color": "#FF6692",
          "size": 5,
          "symbol": "circle"
         },
         "mode": "markers",
         "name": "Eldorado",
         "orientation": "v",
         "showlegend": true,
         "type": "scatter",
         "x": [
          22
         ],
         "xaxis": "x",
         "y": [
          6.536
         ],
         "yaxis": "y"
        },
        {
         "hovertemplate": "Model=Catera<br>Fuel_efficiency=%{x}<br>Sales_in_thousands=%{y}<extra></extra>",
         "legendgroup": "Catera",
         "marker": {
          "color": "#B6E880",
          "size": 5,
          "symbol": "circle"
         },
         "mode": "markers",
         "name": "Catera",
         "orientation": "v",
         "showlegend": true,
         "type": "scatter",
         "x": [
          22
         ],
         "xaxis": "x",
         "y": [
          11.185
         ],
         "yaxis": "y"
        },
        {
         "hovertemplate": "Model=Escalade<br>Fuel_efficiency=%{x}<br>Sales_in_thousands=%{y}<extra></extra>",
         "legendgroup": "Escalade",
         "marker": {
          "color": "#FF97FF",
          "size": 5,
          "symbol": "circle"
         },
         "mode": "markers",
         "name": "Escalade",
         "orientation": "v",
         "showlegend": true,
         "type": "scatter",
         "x": [
          15
         ],
         "xaxis": "x",
         "y": [
          14.785
         ],
         "yaxis": "y"
        },
        {
         "hovertemplate": "Model=Cavalier<br>Fuel_efficiency=%{x}<br>Sales_in_thousands=%{y}<extra></extra>",
         "legendgroup": "Cavalier",
         "marker": {
          "color": "#FECB52",
          "size": 5,
          "symbol": "circle"
         },
         "mode": "markers",
         "name": "Cavalier",
         "orientation": "v",
         "showlegend": true,
         "type": "scatter",
         "x": [
          27
         ],
         "xaxis": "x",
         "y": [
          145.519
         ],
         "yaxis": "y"
        },
        {
         "hovertemplate": "Model=Malibu<br>Fuel_efficiency=%{x}<br>Sales_in_thousands=%{y}<extra></extra>",
         "legendgroup": "Malibu",
         "marker": {
          "color": "#636efa",
          "size": 5,
          "symbol": "circle"
         },
         "mode": "markers",
         "name": "Malibu",
         "orientation": "v",
         "showlegend": true,
         "type": "scatter",
         "x": [
          25
         ],
         "xaxis": "x",
         "y": [
          135.126
         ],
         "yaxis": "y"
        },
        {
         "hovertemplate": "Model=Lumina<br>Fuel_efficiency=%{x}<br>Sales_in_thousands=%{y}<extra></extra>",
         "legendgroup": "Lumina",
         "marker": {
          "color": "#EF553B",
          "size": 5,
          "symbol": "circle"
         },
         "mode": "markers",
         "name": "Lumina",
         "orientation": "v",
         "showlegend": true,
         "type": "scatter",
         "x": [
          25
         ],
         "xaxis": "x",
         "y": [
          24.629
         ],
         "yaxis": "y"
        },
        {
         "hovertemplate": "Model=Monte Carlo<br>Fuel_efficiency=%{x}<br>Sales_in_thousands=%{y}<extra></extra>",
         "legendgroup": "Monte Carlo",
         "marker": {
          "color": "#00cc96",
          "size": 5,
          "symbol": "circle"
         },
         "mode": "markers",
         "name": "Monte Carlo",
         "orientation": "v",
         "showlegend": true,
         "type": "scatter",
         "x": [
          27
         ],
         "xaxis": "x",
         "y": [
          42.593
         ],
         "yaxis": "y"
        },
        {
         "hovertemplate": "Model=Camaro<br>Fuel_efficiency=%{x}<br>Sales_in_thousands=%{y}<extra></extra>",
         "legendgroup": "Camaro",
         "marker": {
          "color": "#ab63fa",
          "size": 5,
          "symbol": "circle"
         },
         "mode": "markers",
         "name": "Camaro",
         "orientation": "v",
         "showlegend": true,
         "type": "scatter",
         "x": [
          25
         ],
         "xaxis": "x",
         "y": [
          26.402
         ],
         "yaxis": "y"
        },
        {
         "hovertemplate": "Model=Corvette<br>Fuel_efficiency=%{x}<br>Sales_in_thousands=%{y}<extra></extra>",
         "legendgroup": "Corvette",
         "marker": {
          "color": "#FFA15A",
          "size": 5,
          "symbol": "circle"
         },
         "mode": "markers",
         "name": "Corvette",
         "orientation": "v",
         "showlegend": true,
         "type": "scatter",
         "x": [
          22
         ],
         "xaxis": "x",
         "y": [
          17.947
         ],
         "yaxis": "y"
        },
        {
         "hovertemplate": "Model=Prizm<br>Fuel_efficiency=%{x}<br>Sales_in_thousands=%{y}<extra></extra>",
         "legendgroup": "Prizm",
         "marker": {
          "color": "#19d3f3",
          "size": 5,
          "symbol": "circle"
         },
         "mode": "markers",
         "name": "Prizm",
         "orientation": "v",
         "showlegend": true,
         "type": "scatter",
         "x": [
          33
         ],
         "xaxis": "x",
         "y": [
          32.299
         ],
         "yaxis": "y"
        },
        {
         "hovertemplate": "Model=Metro<br>Fuel_efficiency=%{x}<br>Sales_in_thousands=%{y}<extra></extra>",
         "legendgroup": "Metro",
         "marker": {
          "color": "#FF6692",
          "size": 5,
          "symbol": "circle"
         },
         "mode": "markers",
         "name": "Metro",
         "orientation": "v",
         "showlegend": true,
         "type": "scatter",
         "x": [
          45
         ],
         "xaxis": "x",
         "y": [
          21.855
         ],
         "yaxis": "y"
        },
        {
         "hovertemplate": "Model=Impala<br>Fuel_efficiency=%{x}<br>Sales_in_thousands=%{y}<extra></extra>",
         "legendgroup": "Impala",
         "marker": {
          "color": "#B6E880",
          "size": 5,
          "symbol": "circle"
         },
         "mode": "markers",
         "name": "Impala",
         "orientation": "v",
         "showlegend": true,
         "type": "scatter",
         "x": [
          27
         ],
         "xaxis": "x",
         "y": [
          107.995
         ],
         "yaxis": "y"
        },
        {
         "hovertemplate": "Model=Sebring Coupe<br>Fuel_efficiency=%{x}<br>Sales_in_thousands=%{y}<extra></extra>",
         "legendgroup": "Sebring Coupe",
         "marker": {
          "color": "#FF97FF",
          "size": 5,
          "symbol": "circle"
         },
         "mode": "markers",
         "name": "Sebring Coupe",
         "orientation": "v",
         "showlegend": true,
         "type": "scatter",
         "x": [
          24
         ],
         "xaxis": "x",
         "y": [
          7.854
         ],
         "yaxis": "y"
        },
        {
         "hovertemplate": "Model=Sebring Conv.<br>Fuel_efficiency=%{x}<br>Sales_in_thousands=%{y}<extra></extra>",
         "legendgroup": "Sebring Conv.",
         "marker": {
          "color": "#FECB52",
          "size": 5,
          "symbol": "circle"
         },
         "mode": "markers",
         "name": "Sebring Conv.",
         "orientation": "v",
         "showlegend": true,
         "type": "scatter",
         "x": [
          24
         ],
         "xaxis": "x",
         "y": [
          32.775
         ],
         "yaxis": "y"
        },
        {
         "hovertemplate": "Model=Concorde<br>Fuel_efficiency=%{x}<br>Sales_in_thousands=%{y}<extra></extra>",
         "legendgroup": "Concorde",
         "marker": {
          "color": "#636efa",
          "size": 5,
          "symbol": "circle"
         },
         "mode": "markers",
         "name": "Concorde",
         "orientation": "v",
         "showlegend": true,
         "type": "scatter",
         "x": [
          26
         ],
         "xaxis": "x",
         "y": [
          31.148
         ],
         "yaxis": "y"
        },
        {
         "hovertemplate": "Model=Cirrus<br>Fuel_efficiency=%{x}<br>Sales_in_thousands=%{y}<extra></extra>",
         "legendgroup": "Cirrus",
         "marker": {
          "color": "#EF553B",
          "size": 5,
          "symbol": "circle"
         },
         "mode": "markers",
         "name": "Cirrus",
         "orientation": "v",
         "showlegend": true,
         "type": "scatter",
         "x": [
          27
         ],
         "xaxis": "x",
         "y": [
          32.306
         ],
         "yaxis": "y"
        },
        {
         "hovertemplate": "Model=LHS<br>Fuel_efficiency=%{x}<br>Sales_in_thousands=%{y}<extra></extra>",
         "legendgroup": "LHS",
         "marker": {
          "color": "#00cc96",
          "size": 5,
          "symbol": "circle"
         },
         "mode": "markers",
         "name": "LHS",
         "orientation": "v",
         "showlegend": true,
         "type": "scatter",
         "x": [
          23
         ],
         "xaxis": "x",
         "y": [
          13.462
         ],
         "yaxis": "y"
        },
        {
         "hovertemplate": "Model=Town & Country<br>Fuel_efficiency=%{x}<br>Sales_in_thousands=%{y}<extra></extra>",
         "legendgroup": "Town & Country",
         "marker": {
          "color": "#ab63fa",
          "size": 5,
          "symbol": "circle"
         },
         "mode": "markers",
         "name": "Town & Country",
         "orientation": "v",
         "showlegend": true,
         "type": "scatter",
         "x": [
          null
         ],
         "xaxis": "x",
         "y": [
          53.48
         ],
         "yaxis": "y"
        },
        {
         "hovertemplate": "Model=300M<br>Fuel_efficiency=%{x}<br>Sales_in_thousands=%{y}<extra></extra>",
         "legendgroup": "300M",
         "marker": {
          "color": "#FFA15A",
          "size": 5,
          "symbol": "circle"
         },
         "mode": "markers",
         "name": "300M",
         "orientation": "v",
         "showlegend": true,
         "type": "scatter",
         "x": [
          23
         ],
         "xaxis": "x",
         "y": [
          30.696
         ],
         "yaxis": "y"
        },
        {
         "hovertemplate": "Model=Neon<br>Fuel_efficiency=%{x}<br>Sales_in_thousands=%{y}<extra></extra>",
         "legendgroup": "Neon",
         "marker": {
          "color": "#19d3f3",
          "size": 5,
          "symbol": "circle"
         },
         "mode": "markers",
         "name": "Neon",
         "orientation": "v",
         "showlegend": true,
         "type": "scatter",
         "x": [
          29,
          29,
          29,
          29
         ],
         "xaxis": "x",
         "y": [
          76.034,
          76.034,
          32.734,
          32.734
         ],
         "yaxis": "y"
        },
        {
         "hovertemplate": "Model=Avenger<br>Fuel_efficiency=%{x}<br>Sales_in_thousands=%{y}<extra></extra>",
         "legendgroup": "Avenger",
         "marker": {
          "color": "#FF6692",
          "size": 5,
          "symbol": "circle"
         },
         "mode": "markers",
         "name": "Avenger",
         "orientation": "v",
         "showlegend": true,
         "type": "scatter",
         "x": [
          24
         ],
         "xaxis": "x",
         "y": [
          4.734
         ],
         "yaxis": "y"
        },
        {
         "hovertemplate": "Model=Stratus<br>Fuel_efficiency=%{x}<br>Sales_in_thousands=%{y}<extra></extra>",
         "legendgroup": "Stratus",
         "marker": {
          "color": "#B6E880",
          "size": 5,
          "symbol": "circle"
         },
         "mode": "markers",
         "name": "Stratus",
         "orientation": "v",
         "showlegend": true,
         "type": "scatter",
         "x": [
          24
         ],
         "xaxis": "x",
         "y": [
          71.186
         ],
         "yaxis": "y"
        },
        {
         "hovertemplate": "Model=Intrepid<br>Fuel_efficiency=%{x}<br>Sales_in_thousands=%{y}<extra></extra>",
         "legendgroup": "Intrepid",
         "marker": {
          "color": "#FF97FF",
          "size": 5,
          "symbol": "circle"
         },
         "mode": "markers",
         "name": "Intrepid",
         "orientation": "v",
         "showlegend": true,
         "type": "scatter",
         "x": [
          null
         ],
         "xaxis": "x",
         "y": [
          88.028
         ],
         "yaxis": "y"
        },
        {
         "hovertemplate": "Model=Viper<br>Fuel_efficiency=%{x}<br>Sales_in_thousands=%{y}<extra></extra>",
         "legendgroup": "Viper",
         "marker": {
          "color": "#FECB52",
          "size": 5,
          "symbol": "circle"
         },
         "mode": "markers",
         "name": "Viper",
         "orientation": "v",
         "showlegend": true,
         "type": "scatter",
         "x": [
          16
         ],
         "xaxis": "x",
         "y": [
          0.916
         ],
         "yaxis": "y"
        },
        {
         "hovertemplate": "Model=Ram Pickup<br>Fuel_efficiency=%{x}<br>Sales_in_thousands=%{y}<extra></extra>",
         "legendgroup": "Ram Pickup",
         "marker": {
          "color": "#636efa",
          "size": 5,
          "symbol": "circle"
         },
         "mode": "markers",
         "name": "Ram Pickup",
         "orientation": "v",
         "showlegend": true,
         "type": "scatter",
         "x": [
          17
         ],
         "xaxis": "x",
         "y": [
          227.061
         ],
         "yaxis": "y"
        },
        {
         "hovertemplate": "Model=Ram Wagon<br>Fuel_efficiency=%{x}<br>Sales_in_thousands=%{y}<extra></extra>",
         "legendgroup": "Ram Wagon",
         "marker": {
          "color": "#EF553B",
          "size": 5,
          "symbol": "circle"
         },
         "mode": "markers",
         "name": "Ram Wagon",
         "orientation": "v",
         "showlegend": true,
         "type": "scatter",
         "x": [
          15
         ],
         "xaxis": "x",
         "y": [
          16.767
         ],
         "yaxis": "y"
        },
        {
         "hovertemplate": "Model=Ram Van<br>Fuel_efficiency=%{x}<br>Sales_in_thousands=%{y}<extra></extra>",
         "legendgroup": "Ram Van",
         "marker": {
          "color": "#00cc96",
          "size": 5,
          "symbol": "circle"
         },
         "mode": "markers",
         "name": "Ram Van",
         "orientation": "v",
         "showlegend": true,
         "type": "scatter",
         "x": [
          16
         ],
         "xaxis": "x",
         "y": [
          31.038
         ],
         "yaxis": "y"
        },
        {
         "hovertemplate": "Model=Dakota<br>Fuel_efficiency=%{x}<br>Sales_in_thousands=%{y}<extra></extra>",
         "legendgroup": "Dakota",
         "marker": {
          "color": "#ab63fa",
          "size": 5,
          "symbol": "circle"
         },
         "mode": "markers",
         "name": "Dakota",
         "orientation": "v",
         "showlegend": true,
         "type": "scatter",
         "x": [
          19
         ],
         "xaxis": "x",
         "y": [
          111.313
         ],
         "yaxis": "y"
        },
        {
         "hovertemplate": "Model=Durango<br>Fuel_efficiency=%{x}<br>Sales_in_thousands=%{y}<extra></extra>",
         "legendgroup": "Durango",
         "marker": {
          "color": "#FFA15A",
          "size": 5,
          "symbol": "circle"
         },
         "mode": "markers",
         "name": "Durango",
         "orientation": "v",
         "showlegend": true,
         "type": "scatter",
         "x": [
          17
         ],
         "xaxis": "x",
         "y": [
          101.323
         ],
         "yaxis": "y"
        },
        {
         "hovertemplate": "Model=Caravan<br>Fuel_efficiency=%{x}<br>Sales_in_thousands=%{y}<extra></extra>",
         "legendgroup": "Caravan",
         "marker": {
          "color": "#19d3f3",
          "size": 5,
          "symbol": "circle"
         },
         "mode": "markers",
         "name": "Caravan",
         "orientation": "v",
         "showlegend": true,
         "type": "scatter",
         "x": [
          24
         ],
         "xaxis": "x",
         "y": [
          181.749
         ],
         "yaxis": "y"
        },
        {
         "hovertemplate": "Model=Escort<br>Fuel_efficiency=%{x}<br>Sales_in_thousands=%{y}<extra></extra>",
         "legendgroup": "Escort",
         "marker": {
          "color": "#FF6692",
          "size": 5,
          "symbol": "circle"
         },
         "mode": "markers",
         "name": "Escort",
         "orientation": "v",
         "showlegend": true,
         "type": "scatter",
         "x": [
          30
         ],
         "xaxis": "x",
         "y": [
          70.227
         ],
         "yaxis": "y"
        },
        {
         "hovertemplate": "Model=Mustang<br>Fuel_efficiency=%{x}<br>Sales_in_thousands=%{y}<extra></extra>",
         "legendgroup": "Mustang",
         "marker": {
          "color": "#B6E880",
          "size": 5,
          "symbol": "circle"
         },
         "mode": "markers",
         "name": "Mustang",
         "orientation": "v",
         "showlegend": true,
         "type": "scatter",
         "x": [
          24
         ],
         "xaxis": "x",
         "y": [
          113.369
         ],
         "yaxis": "y"
        },
        {
         "hovertemplate": "Model=Contour<br>Fuel_efficiency=%{x}<br>Sales_in_thousands=%{y}<extra></extra>",
         "legendgroup": "Contour",
         "marker": {
          "color": "#FF97FF",
          "size": 5,
          "symbol": "circle"
         },
         "mode": "markers",
         "name": "Contour",
         "orientation": "v",
         "showlegend": true,
         "type": "scatter",
         "x": [
          25
         ],
         "xaxis": "x",
         "y": [
          35.068
         ],
         "yaxis": "y"
        },
        {
         "hovertemplate": "Model=Taurus<br>Fuel_efficiency=%{x}<br>Sales_in_thousands=%{y}<extra></extra>",
         "legendgroup": "Taurus",
         "marker": {
          "color": "#FECB52",
          "size": 5,
          "symbol": "circle"
         },
         "mode": "markers",
         "name": "Taurus",
         "orientation": "v",
         "showlegend": true,
         "type": "scatter",
         "x": [
          24
         ],
         "xaxis": "x",
         "y": [
          245.815
         ],
         "yaxis": "y"
        },
        {
         "hovertemplate": "Model=Focus<br>Fuel_efficiency=%{x}<br>Sales_in_thousands=%{y}<extra></extra>",
         "legendgroup": "Focus",
         "marker": {
          "color": "#636efa",
          "size": 5,
          "symbol": "circle"
         },
         "mode": "markers",
         "name": "Focus",
         "orientation": "v",
         "showlegend": true,
         "type": "scatter",
         "x": [
          30
         ],
         "xaxis": "x",
         "y": [
          175.67
         ],
         "yaxis": "y"
        },
        {
         "hovertemplate": "Model=Crown Victoria<br>Fuel_efficiency=%{x}<br>Sales_in_thousands=%{y}<extra></extra>",
         "legendgroup": "Crown Victoria",
         "marker": {
          "color": "#EF553B",
          "size": 5,
          "symbol": "circle"
         },
         "mode": "markers",
         "name": "Crown Victoria",
         "orientation": "v",
         "showlegend": true,
         "type": "scatter",
         "x": [
          21
         ],
         "xaxis": "x",
         "y": [
          63.403
         ],
         "yaxis": "y"
        },
        {
         "hovertemplate": "Model=Explorer<br>Fuel_efficiency=%{x}<br>Sales_in_thousands=%{y}<extra></extra>",
         "legendgroup": "Explorer",
         "marker": {
          "color": "#00cc96",
          "size": 5,
          "symbol": "circle"
         },
         "mode": "markers",
         "name": "Explorer",
         "orientation": "v",
         "showlegend": true,
         "type": "scatter",
         "x": [
          19
         ],
         "xaxis": "x",
         "y": [
          276.747
         ],
         "yaxis": "y"
        },
        {
         "hovertemplate": "Model=Windstar<br>Fuel_efficiency=%{x}<br>Sales_in_thousands=%{y}<extra></extra>",
         "legendgroup": "Windstar",
         "marker": {
          "color": "#ab63fa",
          "size": 5,
          "symbol": "circle"
         },
         "mode": "markers",
         "name": "Windstar",
         "orientation": "v",
         "showlegend": true,
         "type": "scatter",
         "x": [
          21
         ],
         "xaxis": "x",
         "y": [
          155.787
         ],
         "yaxis": "y"
        },
        {
         "hovertemplate": "Model=Expedition<br>Fuel_efficiency=%{x}<br>Sales_in_thousands=%{y}<extra></extra>",
         "legendgroup": "Expedition",
         "marker": {
          "color": "#FFA15A",
          "size": 5,
          "symbol": "circle"
         },
         "mode": "markers",
         "name": "Expedition",
         "orientation": "v",
         "showlegend": true,
         "type": "scatter",
         "x": [
          16
         ],
         "xaxis": "x",
         "y": [
          125.338
         ],
         "yaxis": "y"
        },
        {
         "hovertemplate": "Model=Ranger<br>Fuel_efficiency=%{x}<br>Sales_in_thousands=%{y}<extra></extra>",
         "legendgroup": "Ranger",
         "marker": {
          "color": "#19d3f3",
          "size": 5,
          "symbol": "circle"
         },
         "mode": "markers",
         "name": "Ranger",
         "orientation": "v",
         "showlegend": true,
         "type": "scatter",
         "x": [
          23
         ],
         "xaxis": "x",
         "y": [
          220.65
         ],
         "yaxis": "y"
        },
        {
         "hovertemplate": "Model=F-Series<br>Fuel_efficiency=%{x}<br>Sales_in_thousands=%{y}<extra></extra>",
         "legendgroup": "F-Series",
         "marker": {
          "color": "#FF6692",
          "size": 5,
          "symbol": "circle"
         },
         "mode": "markers",
         "name": "F-Series",
         "orientation": "v",
         "showlegend": true,
         "type": "scatter",
         "x": [
          18
         ],
         "xaxis": "x",
         "y": [
          540.561
         ],
         "yaxis": "y"
        },
        {
         "hovertemplate": "Model=Civic<br>Fuel_efficiency=%{x}<br>Sales_in_thousands=%{y}<extra></extra>",
         "legendgroup": "Civic",
         "marker": {
          "color": "#B6E880",
          "size": 5,
          "symbol": "circle"
         },
         "mode": "markers",
         "name": "Civic",
         "orientation": "v",
         "showlegend": true,
         "type": "scatter",
         "x": [
          32
         ],
         "xaxis": "x",
         "y": [
          199.685
         ],
         "yaxis": "y"
        },
        {
         "hovertemplate": "Model=Accord<br>Fuel_efficiency=%{x}<br>Sales_in_thousands=%{y}<extra></extra>",
         "legendgroup": "Accord",
         "marker": {
          "color": "#FF97FF",
          "size": 5,
          "symbol": "circle"
         },
         "mode": "markers",
         "name": "Accord",
         "orientation": "v",
         "showlegend": true,
         "type": "scatter",
         "x": [
          27
         ],
         "xaxis": "x",
         "y": [
          230.902
         ],
         "yaxis": "y"
        },
        {
         "hovertemplate": "Model=CR-V<br>Fuel_efficiency=%{x}<br>Sales_in_thousands=%{y}<extra></extra>",
         "legendgroup": "CR-V",
         "marker": {
          "color": "#FECB52",
          "size": 5,
          "symbol": "circle"
         },
         "mode": "markers",
         "name": "CR-V",
         "orientation": "v",
         "showlegend": true,
         "type": "scatter",
         "x": [
          24
         ],
         "xaxis": "x",
         "y": [
          73.203
         ],
         "yaxis": "y"
        },
        {
         "hovertemplate": "Model=Passport<br>Fuel_efficiency=%{x}<br>Sales_in_thousands=%{y}<extra></extra>",
         "legendgroup": "Passport",
         "marker": {
          "color": "#636efa",
          "size": 5,
          "symbol": "circle"
         },
         "mode": "markers",
         "name": "Passport",
         "orientation": "v",
         "showlegend": true,
         "type": "scatter",
         "x": [
          19
         ],
         "xaxis": "x",
         "y": [
          12.855
         ],
         "yaxis": "y"
        },
        {
         "hovertemplate": "Model=Odyssey<br>Fuel_efficiency=%{x}<br>Sales_in_thousands=%{y}<extra></extra>",
         "legendgroup": "Odyssey",
         "marker": {
          "color": "#EF553B",
          "size": 5,
          "symbol": "circle"
         },
         "mode": "markers",
         "name": "Odyssey",
         "orientation": "v",
         "showlegend": true,
         "type": "scatter",
         "x": [
          23
         ],
         "xaxis": "x",
         "y": [
          76.029
         ],
         "yaxis": "y"
        },
        {
         "hovertemplate": "Model=Accent<br>Fuel_efficiency=%{x}<br>Sales_in_thousands=%{y}<extra></extra>",
         "legendgroup": "Accent",
         "marker": {
          "color": "#00cc96",
          "size": 5,
          "symbol": "circle"
         },
         "mode": "markers",
         "name": "Accent",
         "orientation": "v",
         "showlegend": true,
         "type": "scatter",
         "x": [
          31
         ],
         "xaxis": "x",
         "y": [
          41.184
         ],
         "yaxis": "y"
        },
        {
         "hovertemplate": "Model=Elantra<br>Fuel_efficiency=%{x}<br>Sales_in_thousands=%{y}<extra></extra>",
         "legendgroup": "Elantra",
         "marker": {
          "color": "#ab63fa",
          "size": 5,
          "symbol": "circle"
         },
         "mode": "markers",
         "name": "Elantra",
         "orientation": "v",
         "showlegend": true,
         "type": "scatter",
         "x": [
          27
         ],
         "xaxis": "x",
         "y": [
          66.692
         ],
         "yaxis": "y"
        },
        {
         "hovertemplate": "Model=Sonata<br>Fuel_efficiency=%{x}<br>Sales_in_thousands=%{y}<extra></extra>",
         "legendgroup": "Sonata",
         "marker": {
          "color": "#FFA15A",
          "size": 5,
          "symbol": "circle"
         },
         "mode": "markers",
         "name": "Sonata",
         "orientation": "v",
         "showlegend": true,
         "type": "scatter",
         "x": [
          25
         ],
         "xaxis": "x",
         "y": [
          29.45
         ],
         "yaxis": "y"
        },
        {
         "hovertemplate": "Model=I30<br>Fuel_efficiency=%{x}<br>Sales_in_thousands=%{y}<extra></extra>",
         "legendgroup": "I30",
         "marker": {
          "color": "#19d3f3",
          "size": 5,
          "symbol": "circle"
         },
         "mode": "markers",
         "name": "I30",
         "orientation": "v",
         "showlegend": true,
         "type": "scatter",
         "x": [
          25
         ],
         "xaxis": "x",
         "y": [
          23.713
         ],
         "yaxis": "y"
        },
        {
         "hovertemplate": "Model=S-Type<br>Fuel_efficiency=%{x}<br>Sales_in_thousands=%{y}<extra></extra>",
         "legendgroup": "S-Type",
         "marker": {
          "color": "#FF6692",
          "size": 5,
          "symbol": "circle"
         },
         "mode": "markers",
         "name": "S-Type",
         "orientation": "v",
         "showlegend": true,
         "type": "scatter",
         "x": [
          21
         ],
         "xaxis": "x",
         "y": [
          15.467
         ],
         "yaxis": "y"
        },
        {
         "hovertemplate": "Model=Wrangler<br>Fuel_efficiency=%{x}<br>Sales_in_thousands=%{y}<extra></extra>",
         "legendgroup": "Wrangler",
         "marker": {
          "color": "#B6E880",
          "size": 5,
          "symbol": "circle"
         },
         "mode": "markers",
         "name": "Wrangler",
         "orientation": "v",
         "showlegend": true,
         "type": "scatter",
         "x": [
          17
         ],
         "xaxis": "x",
         "y": [
          55.557
         ],
         "yaxis": "y"
        },
        {
         "hovertemplate": "Model=Cherokee<br>Fuel_efficiency=%{x}<br>Sales_in_thousands=%{y}<extra></extra>",
         "legendgroup": "Cherokee",
         "marker": {
          "color": "#FF97FF",
          "size": 5,
          "symbol": "circle"
         },
         "mode": "markers",
         "name": "Cherokee",
         "orientation": "v",
         "showlegend": true,
         "type": "scatter",
         "x": [
          20
         ],
         "xaxis": "x",
         "y": [
          80.556
         ],
         "yaxis": "y"
        },
        {
         "hovertemplate": "Model=Grand Cherokee<br>Fuel_efficiency=%{x}<br>Sales_in_thousands=%{y}<extra></extra>",
         "legendgroup": "Grand Cherokee",
         "marker": {
          "color": "#FECB52",
          "size": 5,
          "symbol": "circle"
         },
         "mode": "markers",
         "name": "Grand Cherokee",
         "orientation": "v",
         "showlegend": true,
         "type": "scatter",
         "x": [
          19
         ],
         "xaxis": "x",
         "y": [
          157.04
         ],
         "yaxis": "y"
        },
        {
         "hovertemplate": "Model=ES300<br>Fuel_efficiency=%{x}<br>Sales_in_thousands=%{y}<extra></extra>",
         "legendgroup": "ES300",
         "marker": {
          "color": "#636efa",
          "size": 5,
          "symbol": "circle"
         },
         "mode": "markers",
         "name": "ES300",
         "orientation": "v",
         "showlegend": true,
         "type": "scatter",
         "x": [
          23
         ],
         "xaxis": "x",
         "y": [
          24.072
         ],
         "yaxis": "y"
        },
        {
         "hovertemplate": "Model=GS300<br>Fuel_efficiency=%{x}<br>Sales_in_thousands=%{y}<extra></extra>",
         "legendgroup": "GS300",
         "marker": {
          "color": "#EF553B",
          "size": 5,
          "symbol": "circle"
         },
         "mode": "markers",
         "name": "GS300",
         "orientation": "v",
         "showlegend": true,
         "type": "scatter",
         "x": [
          23
         ],
         "xaxis": "x",
         "y": [
          12.698
         ],
         "yaxis": "y"
        },
        {
         "hovertemplate": "Model=GS400<br>Fuel_efficiency=%{x}<br>Sales_in_thousands=%{y}<extra></extra>",
         "legendgroup": "GS400",
         "marker": {
          "color": "#00cc96",
          "size": 5,
          "symbol": "circle"
         },
         "mode": "markers",
         "name": "GS400",
         "orientation": "v",
         "showlegend": true,
         "type": "scatter",
         "x": [
          21
         ],
         "xaxis": "x",
         "y": [
          3.334
         ],
         "yaxis": "y"
        },
        {
         "hovertemplate": "Model=LS400<br>Fuel_efficiency=%{x}<br>Sales_in_thousands=%{y}<extra></extra>",
         "legendgroup": "LS400",
         "marker": {
          "color": "#ab63fa",
          "size": 5,
          "symbol": "circle"
         },
         "mode": "markers",
         "name": "LS400",
         "orientation": "v",
         "showlegend": true,
         "type": "scatter",
         "x": [
          22
         ],
         "xaxis": "x",
         "y": [
          6.375
         ],
         "yaxis": "y"
        },
        {
         "hovertemplate": "Model=LX470<br>Fuel_efficiency=%{x}<br>Sales_in_thousands=%{y}<extra></extra>",
         "legendgroup": "LX470",
         "marker": {
          "color": "#FFA15A",
          "size": 5,
          "symbol": "circle"
         },
         "mode": "markers",
         "name": "LX470",
         "orientation": "v",
         "showlegend": true,
         "type": "scatter",
         "x": [
          15
         ],
         "xaxis": "x",
         "y": [
          9.126
         ],
         "yaxis": "y"
        },
        {
         "hovertemplate": "Model=RX300<br>Fuel_efficiency=%{x}<br>Sales_in_thousands=%{y}<extra></extra>",
         "legendgroup": "RX300",
         "marker": {
          "color": "#19d3f3",
          "size": 5,
          "symbol": "circle"
         },
         "mode": "markers",
         "name": "RX300",
         "orientation": "v",
         "showlegend": true,
         "type": "scatter",
         "x": [
          21
         ],
         "xaxis": "x",
         "y": [
          51.238
         ],
         "yaxis": "y"
        },
        {
         "hovertemplate": "Model=Continental<br>Fuel_efficiency=%{x}<br>Sales_in_thousands=%{y}<extra></extra>",
         "legendgroup": "Continental",
         "marker": {
          "color": "#FF6692",
          "size": 5,
          "symbol": "circle"
         },
         "mode": "markers",
         "name": "Continental",
         "orientation": "v",
         "showlegend": true,
         "type": "scatter",
         "x": [
          22
         ],
         "xaxis": "x",
         "y": [
          13.798
         ],
         "yaxis": "y"
        },
        {
         "hovertemplate": "Model=Town car<br>Fuel_efficiency=%{x}<br>Sales_in_thousands=%{y}<extra></extra>",
         "legendgroup": "Town car",
         "marker": {
          "color": "#B6E880",
          "size": 5,
          "symbol": "circle"
         },
         "mode": "markers",
         "name": "Town car",
         "orientation": "v",
         "showlegend": true,
         "type": "scatter",
         "x": [
          21
         ],
         "xaxis": "x",
         "y": [
          48.911
         ],
         "yaxis": "y"
        },
        {
         "hovertemplate": "Model=Navigator<br>Fuel_efficiency=%{x}<br>Sales_in_thousands=%{y}<extra></extra>",
         "legendgroup": "Navigator",
         "marker": {
          "color": "#FF97FF",
          "size": 5,
          "symbol": "circle"
         },
         "mode": "markers",
         "name": "Navigator",
         "orientation": "v",
         "showlegend": true,
         "type": "scatter",
         "x": [
          15
         ],
         "xaxis": "x",
         "y": [
          22.925
         ],
         "yaxis": "y"
        },
        {
         "hovertemplate": "Model=Mirage<br>Fuel_efficiency=%{x}<br>Sales_in_thousands=%{y}<extra></extra>",
         "legendgroup": "Mirage",
         "marker": {
          "color": "#FECB52",
          "size": 5,
          "symbol": "circle"
         },
         "mode": "markers",
         "name": "Mirage",
         "orientation": "v",
         "showlegend": true,
         "type": "scatter",
         "x": [
          30
         ],
         "xaxis": "x",
         "y": [
          26.232
         ],
         "yaxis": "y"
        },
        {
         "hovertemplate": "Model=Eclipse<br>Fuel_efficiency=%{x}<br>Sales_in_thousands=%{y}<extra></extra>",
         "legendgroup": "Eclipse",
         "marker": {
          "color": "#636efa",
          "size": 5,
          "symbol": "circle"
         },
         "mode": "markers",
         "name": "Eclipse",
         "orientation": "v",
         "showlegend": true,
         "type": "scatter",
         "x": [
          24
         ],
         "xaxis": "x",
         "y": [
          42.541
         ],
         "yaxis": "y"
        },
        {
         "hovertemplate": "Model=Galant<br>Fuel_efficiency=%{x}<br>Sales_in_thousands=%{y}<extra></extra>",
         "legendgroup": "Galant",
         "marker": {
          "color": "#EF553B",
          "size": 5,
          "symbol": "circle"
         },
         "mode": "markers",
         "name": "Galant",
         "orientation": "v",
         "showlegend": true,
         "type": "scatter",
         "x": [
          25
         ],
         "xaxis": "x",
         "y": [
          55.616
         ],
         "yaxis": "y"
        },
        {
         "hovertemplate": "Model=Diamante<br>Fuel_efficiency=%{x}<br>Sales_in_thousands=%{y}<extra></extra>",
         "legendgroup": "Diamante",
         "marker": {
          "color": "#00cc96",
          "size": 5,
          "symbol": "circle"
         },
         "mode": "markers",
         "name": "Diamante",
         "orientation": "v",
         "showlegend": true,
         "type": "scatter",
         "x": [
          22
         ],
         "xaxis": "x",
         "y": [
          5.711
         ],
         "yaxis": "y"
        },
        {
         "hovertemplate": "Model=3000GT<br>Fuel_efficiency=%{x}<br>Sales_in_thousands=%{y}<extra></extra>",
         "legendgroup": "3000GT",
         "marker": {
          "color": "#ab63fa",
          "size": 5,
          "symbol": "circle"
         },
         "mode": "markers",
         "name": "3000GT",
         "orientation": "v",
         "showlegend": true,
         "type": "scatter",
         "x": [
          21
         ],
         "xaxis": "x",
         "y": [
          0.11
         ],
         "yaxis": "y"
        },
        {
         "hovertemplate": "Model=Montero<br>Fuel_efficiency=%{x}<br>Sales_in_thousands=%{y}<extra></extra>",
         "legendgroup": "Montero",
         "marker": {
          "color": "#FFA15A",
          "size": 5,
          "symbol": "circle"
         },
         "mode": "markers",
         "name": "Montero",
         "orientation": "v",
         "showlegend": true,
         "type": "scatter",
         "x": [
          18
         ],
         "xaxis": "x",
         "y": [
          11.337
         ],
         "yaxis": "y"
        },
        {
         "hovertemplate": "Model=Montero Sport<br>Fuel_efficiency=%{x}<br>Sales_in_thousands=%{y}<extra></extra>",
         "legendgroup": "Montero Sport",
         "marker": {
          "color": "#19d3f3",
          "size": 5,
          "symbol": "circle"
         },
         "mode": "markers",
         "name": "Montero Sport",
         "orientation": "v",
         "showlegend": true,
         "type": "scatter",
         "x": [
          20
         ],
         "xaxis": "x",
         "y": [
          39.348
         ],
         "yaxis": "y"
        },
        {
         "hovertemplate": "Model=Mystique<br>Fuel_efficiency=%{x}<br>Sales_in_thousands=%{y}<extra></extra>",
         "legendgroup": "Mystique",
         "marker": {
          "color": "#FF6692",
          "size": 5,
          "symbol": "circle"
         },
         "mode": "markers",
         "name": "Mystique",
         "orientation": "v",
         "showlegend": true,
         "type": "scatter",
         "x": [
          28
         ],
         "xaxis": "x",
         "y": [
          14.351
         ],
         "yaxis": "y"
        },
        {
         "hovertemplate": "Model=Cougar<br>Fuel_efficiency=%{x}<br>Sales_in_thousands=%{y}<extra></extra>",
         "legendgroup": "Cougar",
         "marker": {
          "color": "#B6E880",
          "size": 5,
          "symbol": "circle"
         },
         "mode": "markers",
         "name": "Cougar",
         "orientation": "v",
         "showlegend": true,
         "type": "scatter",
         "x": [
          30
         ],
         "xaxis": "x",
         "y": [
          26.529
         ],
         "yaxis": "y"
        },
        {
         "hovertemplate": "Model=Sable<br>Fuel_efficiency=%{x}<br>Sales_in_thousands=%{y}<extra></extra>",
         "legendgroup": "Sable",
         "marker": {
          "color": "#FF97FF",
          "size": 5,
          "symbol": "circle"
         },
         "mode": "markers",
         "name": "Sable",
         "orientation": "v",
         "showlegend": true,
         "type": "scatter",
         "x": [
          24
         ],
         "xaxis": "x",
         "y": [
          67.956
         ],
         "yaxis": "y"
        },
        {
         "hovertemplate": "Model=Grand Marquis<br>Fuel_efficiency=%{x}<br>Sales_in_thousands=%{y}<extra></extra>",
         "legendgroup": "Grand Marquis",
         "marker": {
          "color": "#FECB52",
          "size": 5,
          "symbol": "circle"
         },
         "mode": "markers",
         "name": "Grand Marquis",
         "orientation": "v",
         "showlegend": true,
         "type": "scatter",
         "x": [
          21
         ],
         "xaxis": "x",
         "y": [
          81.174
         ],
         "yaxis": "y"
        },
        {
         "hovertemplate": "Model=Mountaineer<br>Fuel_efficiency=%{x}<br>Sales_in_thousands=%{y}<extra></extra>",
         "legendgroup": "Mountaineer",
         "marker": {
          "color": "#636efa",
          "size": 5,
          "symbol": "circle"
         },
         "mode": "markers",
         "name": "Mountaineer",
         "orientation": "v",
         "showlegend": true,
         "type": "scatter",
         "x": [
          18
         ],
         "xaxis": "x",
         "y": [
          27.609
         ],
         "yaxis": "y"
        },
        {
         "hovertemplate": "Model=Villager<br>Fuel_efficiency=%{x}<br>Sales_in_thousands=%{y}<extra></extra>",
         "legendgroup": "Villager",
         "marker": {
          "color": "#EF553B",
          "size": 5,
          "symbol": "circle"
         },
         "mode": "markers",
         "name": "Villager",
         "orientation": "v",
         "showlegend": true,
         "type": "scatter",
         "x": [
          21
         ],
         "xaxis": "x",
         "y": [
          20.38
         ],
         "yaxis": "y"
        },
        {
         "hovertemplate": "Model=C-Class<br>Fuel_efficiency=%{x}<br>Sales_in_thousands=%{y}<extra></extra>",
         "legendgroup": "C-Class",
         "marker": {
          "color": "#00cc96",
          "size": 5,
          "symbol": "circle"
         },
         "mode": "markers",
         "name": "C-Class",
         "orientation": "v",
         "showlegend": true,
         "type": "scatter",
         "x": [
          26
         ],
         "xaxis": "x",
         "y": [
          18.392
         ],
         "yaxis": "y"
        },
        {
         "hovertemplate": "Model=E-Class<br>Fuel_efficiency=%{x}<br>Sales_in_thousands=%{y}<extra></extra>",
         "legendgroup": "E-Class",
         "marker": {
          "color": "#ab63fa",
          "size": 5,
          "symbol": "circle"
         },
         "mode": "markers",
         "name": "E-Class",
         "orientation": "v",
         "showlegend": true,
         "type": "scatter",
         "x": [
          25
         ],
         "xaxis": "x",
         "y": [
          27.602
         ],
         "yaxis": "y"
        },
        {
         "hovertemplate": "Model=S-Class<br>Fuel_efficiency=%{x}<br>Sales_in_thousands=%{y}<extra></extra>",
         "legendgroup": "S-Class",
         "marker": {
          "color": "#FFA15A",
          "size": 5,
          "symbol": "circle"
         },
         "mode": "markers",
         "name": "S-Class",
         "orientation": "v",
         "showlegend": true,
         "type": "scatter",
         "x": [
          21
         ],
         "xaxis": "x",
         "y": [
          16.774
         ],
         "yaxis": "y"
        },
        {
         "hovertemplate": "Model=SL-Class<br>Fuel_efficiency=%{x}<br>Sales_in_thousands=%{y}<extra></extra>",
         "legendgroup": "SL-Class",
         "marker": {
          "color": "#19d3f3",
          "size": 5,
          "symbol": "circle"
         },
         "mode": "markers",
         "name": "SL-Class",
         "orientation": "v",
         "showlegend": true,
         "type": "scatter",
         "x": [
          20
         ],
         "xaxis": "x",
         "y": [
          3.311
         ],
         "yaxis": "y"
        },
        {
         "hovertemplate": "Model=SLK<br>Fuel_efficiency=%{x}<br>Sales_in_thousands=%{y}<extra></extra>",
         "legendgroup": "SLK",
         "marker": {
          "color": "#FF6692",
          "size": 5,
          "symbol": "circle"
         },
         "mode": "markers",
         "name": "SLK",
         "orientation": "v",
         "showlegend": true,
         "type": "scatter",
         "x": [
          26
         ],
         "xaxis": "x",
         "y": [
          7.998
         ],
         "yaxis": "y"
        },
        {
         "hovertemplate": "Model=SLK230<br>Fuel_efficiency=%{x}<br>Sales_in_thousands=%{y}<extra></extra>",
         "legendgroup": "SLK230",
         "marker": {
          "color": "#B6E880",
          "size": 5,
          "symbol": "circle"
         },
         "mode": "markers",
         "name": "SLK230",
         "orientation": "v",
         "showlegend": true,
         "type": "scatter",
         "x": [
          27
         ],
         "xaxis": "x",
         "y": [
          1.526
         ],
         "yaxis": "y"
        },
        {
         "hovertemplate": "Model=CLK Coupe<br>Fuel_efficiency=%{x}<br>Sales_in_thousands=%{y}<extra></extra>",
         "legendgroup": "CLK Coupe",
         "marker": {
          "color": "#FF97FF",
          "size": 5,
          "symbol": "circle"
         },
         "mode": "markers",
         "name": "CLK Coupe",
         "orientation": "v",
         "showlegend": true,
         "type": "scatter",
         "x": [
          26
         ],
         "xaxis": "x",
         "y": [
          11.592
         ],
         "yaxis": "y"
        },
        {
         "hovertemplate": "Model=CL500<br>Fuel_efficiency=%{x}<br>Sales_in_thousands=%{y}<extra></extra>",
         "legendgroup": "CL500",
         "marker": {
          "color": "#FECB52",
          "size": 5,
          "symbol": "circle"
         },
         "mode": "markers",
         "name": "CL500",
         "orientation": "v",
         "showlegend": true,
         "type": "scatter",
         "x": [
          20
         ],
         "xaxis": "x",
         "y": [
          0.954
         ],
         "yaxis": "y"
        },
        {
         "hovertemplate": "Model=M-Class<br>Fuel_efficiency=%{x}<br>Sales_in_thousands=%{y}<extra></extra>",
         "legendgroup": "M-Class",
         "marker": {
          "color": "#636efa",
          "size": 5,
          "symbol": "circle"
         },
         "mode": "markers",
         "name": "M-Class",
         "orientation": "v",
         "showlegend": true,
         "type": "scatter",
         "x": [
          20
         ],
         "xaxis": "x",
         "y": [
          28.976
         ],
         "yaxis": "y"
        },
        {
         "hovertemplate": "Model=Sentra<br>Fuel_efficiency=%{x}<br>Sales_in_thousands=%{y}<extra></extra>",
         "legendgroup": "Sentra",
         "marker": {
          "color": "#EF553B",
          "size": 5,
          "symbol": "circle"
         },
         "mode": "markers",
         "name": "Sentra",
         "orientation": "v",
         "showlegend": true,
         "type": "scatter",
         "x": [
          30
         ],
         "xaxis": "x",
         "y": [
          42.643
         ],
         "yaxis": "y"
        },
        {
         "hovertemplate": "Model=Altima<br>Fuel_efficiency=%{x}<br>Sales_in_thousands=%{y}<extra></extra>",
         "legendgroup": "Altima",
         "marker": {
          "color": "#00cc96",
          "size": 5,
          "symbol": "circle"
         },
         "mode": "markers",
         "name": "Altima",
         "orientation": "v",
         "showlegend": true,
         "type": "scatter",
         "x": [
          25
         ],
         "xaxis": "x",
         "y": [
          88.094
         ],
         "yaxis": "y"
        },
        {
         "hovertemplate": "Model=Maxima<br>Fuel_efficiency=%{x}<br>Sales_in_thousands=%{y}<extra></extra>",
         "legendgroup": "Maxima",
         "marker": {
          "color": "#ab63fa",
          "size": 5,
          "symbol": "circle"
         },
         "mode": "markers",
         "name": "Maxima",
         "orientation": "v",
         "showlegend": true,
         "type": "scatter",
         "x": [
          25
         ],
         "xaxis": "x",
         "y": [
          79.853
         ],
         "yaxis": "y"
        },
        {
         "hovertemplate": "Model=Quest<br>Fuel_efficiency=%{x}<br>Sales_in_thousands=%{y}<extra></extra>",
         "legendgroup": "Quest",
         "marker": {
          "color": "#FFA15A",
          "size": 5,
          "symbol": "circle"
         },
         "mode": "markers",
         "name": "Quest",
         "orientation": "v",
         "showlegend": true,
         "type": "scatter",
         "x": [
          21
         ],
         "xaxis": "x",
         "y": [
          27.308
         ],
         "yaxis": "y"
        },
        {
         "hovertemplate": "Model=Pathfinder<br>Fuel_efficiency=%{x}<br>Sales_in_thousands=%{y}<extra></extra>",
         "legendgroup": "Pathfinder",
         "marker": {
          "color": "#19d3f3",
          "size": 5,
          "symbol": "circle"
         },
         "mode": "markers",
         "name": "Pathfinder",
         "orientation": "v",
         "showlegend": true,
         "type": "scatter",
         "x": [
          19
         ],
         "xaxis": "x",
         "y": [
          42.574
         ],
         "yaxis": "y"
        },
        {
         "hovertemplate": "Model=Xterra<br>Fuel_efficiency=%{x}<br>Sales_in_thousands=%{y}<extra></extra>",
         "legendgroup": "Xterra",
         "marker": {
          "color": "#FF6692",
          "size": 5,
          "symbol": "circle"
         },
         "mode": "markers",
         "name": "Xterra",
         "orientation": "v",
         "showlegend": true,
         "type": "scatter",
         "x": [
          18
         ],
         "xaxis": "x",
         "y": [
          54.158
         ],
         "yaxis": "y"
        },
        {
         "hovertemplate": "Model=Frontier<br>Fuel_efficiency=%{x}<br>Sales_in_thousands=%{y}<extra></extra>",
         "legendgroup": "Frontier",
         "marker": {
          "color": "#B6E880",
          "size": 5,
          "symbol": "circle"
         },
         "mode": "markers",
         "name": "Frontier",
         "orientation": "v",
         "showlegend": true,
         "type": "scatter",
         "x": [
          18
         ],
         "xaxis": "x",
         "y": [
          65.005
         ],
         "yaxis": "y"
        },
        {
         "hovertemplate": "Model=Cutlass<br>Fuel_efficiency=%{x}<br>Sales_in_thousands=%{y}<extra></extra>",
         "legendgroup": "Cutlass",
         "marker": {
          "color": "#FF97FF",
          "size": 5,
          "symbol": "circle"
         },
         "mode": "markers",
         "name": "Cutlass",
         "orientation": "v",
         "showlegend": true,
         "type": "scatter",
         "x": [
          25
         ],
         "xaxis": "x",
         "y": [
          1.112
         ],
         "yaxis": "y"
        },
        {
         "hovertemplate": "Model=Intrigue<br>Fuel_efficiency=%{x}<br>Sales_in_thousands=%{y}<extra></extra>",
         "legendgroup": "Intrigue",
         "marker": {
          "color": "#FECB52",
          "size": 5,
          "symbol": "circle"
         },
         "mode": "markers",
         "name": "Intrigue",
         "orientation": "v",
         "showlegend": true,
         "type": "scatter",
         "x": [
          null
         ],
         "xaxis": "x",
         "y": [
          38.554
         ],
         "yaxis": "y"
        },
        {
         "hovertemplate": "Model=Alero<br>Fuel_efficiency=%{x}<br>Sales_in_thousands=%{y}<extra></extra>",
         "legendgroup": "Alero",
         "marker": {
          "color": "#636efa",
          "size": 5,
          "symbol": "circle"
         },
         "mode": "markers",
         "name": "Alero",
         "orientation": "v",
         "showlegend": true,
         "type": "scatter",
         "x": [
          27
         ],
         "xaxis": "x",
         "y": [
          80.255
         ],
         "yaxis": "y"
        },
        {
         "hovertemplate": "Model=Aurora<br>Fuel_efficiency=%{x}<br>Sales_in_thousands=%{y}<extra></extra>",
         "legendgroup": "Aurora",
         "marker": {
          "color": "#EF553B",
          "size": 5,
          "symbol": "circle"
         },
         "mode": "markers",
         "name": "Aurora",
         "orientation": "v",
         "showlegend": true,
         "type": "scatter",
         "x": [
          22
         ],
         "xaxis": "x",
         "y": [
          14.69
         ],
         "yaxis": "y"
        },
        {
         "hovertemplate": "Model=Bravada<br>Fuel_efficiency=%{x}<br>Sales_in_thousands=%{y}<extra></extra>",
         "legendgroup": "Bravada",
         "marker": {
          "color": "#00cc96",
          "size": 5,
          "symbol": "circle"
         },
         "mode": "markers",
         "name": "Bravada",
         "orientation": "v",
         "showlegend": true,
         "type": "scatter",
         "x": [
          19
         ],
         "xaxis": "x",
         "y": [
          20.017
         ],
         "yaxis": "y"
        },
        {
         "hovertemplate": "Model=Silhouette<br>Fuel_efficiency=%{x}<br>Sales_in_thousands=%{y}<extra></extra>",
         "legendgroup": "Silhouette",
         "marker": {
          "color": "#ab63fa",
          "size": 5,
          "symbol": "circle"
         },
         "mode": "markers",
         "name": "Silhouette",
         "orientation": "v",
         "showlegend": true,
         "type": "scatter",
         "x": [
          22
         ],
         "xaxis": "x",
         "y": [
          24.361
         ],
         "yaxis": "y"
        },
        {
         "hovertemplate": "Model=Breeze<br>Fuel_efficiency=%{x}<br>Sales_in_thousands=%{y}<extra></extra>",
         "legendgroup": "Breeze",
         "marker": {
          "color": "#FFA15A",
          "size": 5,
          "symbol": "circle"
         },
         "mode": "markers",
         "name": "Breeze",
         "orientation": "v",
         "showlegend": true,
         "type": "scatter",
         "x": [
          27
         ],
         "xaxis": "x",
         "y": [
          5.24
         ],
         "yaxis": "y"
        },
        {
         "hovertemplate": "Model=Voyager<br>Fuel_efficiency=%{x}<br>Sales_in_thousands=%{y}<extra></extra>",
         "legendgroup": "Voyager",
         "marker": {
          "color": "#19d3f3",
          "size": 5,
          "symbol": "circle"
         },
         "mode": "markers",
         "name": "Voyager",
         "orientation": "v",
         "showlegend": true,
         "type": "scatter",
         "x": [
          24
         ],
         "xaxis": "x",
         "y": [
          24.155
         ],
         "yaxis": "y"
        },
        {
         "hovertemplate": "Model=Prowler<br>Fuel_efficiency=%{x}<br>Sales_in_thousands=%{y}<extra></extra>",
         "legendgroup": "Prowler",
         "marker": {
          "color": "#FF6692",
          "size": 5,
          "symbol": "circle"
         },
         "mode": "markers",
         "name": "Prowler",
         "orientation": "v",
         "showlegend": true,
         "type": "scatter",
         "x": [
          21
         ],
         "xaxis": "x",
         "y": [
          1.872
         ],
         "yaxis": "y"
        },
        {
         "hovertemplate": "Model=Sunfire<br>Fuel_efficiency=%{x}<br>Sales_in_thousands=%{y}<extra></extra>",
         "legendgroup": "Sunfire",
         "marker": {
          "color": "#B6E880",
          "size": 5,
          "symbol": "circle"
         },
         "mode": "markers",
         "name": "Sunfire",
         "orientation": "v",
         "showlegend": true,
         "type": "scatter",
         "x": [
          27
         ],
         "xaxis": "x",
         "y": [
          51.645
         ],
         "yaxis": "y"
        },
        {
         "hovertemplate": "Model=Grand Am<br>Fuel_efficiency=%{x}<br>Sales_in_thousands=%{y}<extra></extra>",
         "legendgroup": "Grand Am",
         "marker": {
          "color": "#FF97FF",
          "size": 5,
          "symbol": "circle"
         },
         "mode": "markers",
         "name": "Grand Am",
         "orientation": "v",
         "showlegend": true,
         "type": "scatter",
         "x": [
          25
         ],
         "xaxis": "x",
         "y": [
          131.097
         ],
         "yaxis": "y"
        },
        {
         "hovertemplate": "Model=Firebird<br>Fuel_efficiency=%{x}<br>Sales_in_thousands=%{y}<extra></extra>",
         "legendgroup": "Firebird",
         "marker": {
          "color": "#FECB52",
          "size": 5,
          "symbol": "circle"
         },
         "mode": "markers",
         "name": "Firebird",
         "orientation": "v",
         "showlegend": true,
         "type": "scatter",
         "x": [
          25
         ],
         "xaxis": "x",
         "y": [
          19.911
         ],
         "yaxis": "y"
        },
        {
         "hovertemplate": "Model=Grand Prix<br>Fuel_efficiency=%{x}<br>Sales_in_thousands=%{y}<extra></extra>",
         "legendgroup": "Grand Prix",
         "marker": {
          "color": "#636efa",
          "size": 5,
          "symbol": "circle"
         },
         "mode": "markers",
         "name": "Grand Prix",
         "orientation": "v",
         "showlegend": true,
         "type": "scatter",
         "x": [
          25
         ],
         "xaxis": "x",
         "y": [
          92.364
         ],
         "yaxis": "y"
        },
        {
         "hovertemplate": "Model=Bonneville<br>Fuel_efficiency=%{x}<br>Sales_in_thousands=%{y}<extra></extra>",
         "legendgroup": "Bonneville",
         "marker": {
          "color": "#EF553B",
          "size": 5,
          "symbol": "circle"
         },
         "mode": "markers",
         "name": "Bonneville",
         "orientation": "v",
         "showlegend": true,
         "type": "scatter",
         "x": [
          24
         ],
         "xaxis": "x",
         "y": [
          35.945
         ],
         "yaxis": "y"
        },
        {
         "hovertemplate": "Model=Montana<br>Fuel_efficiency=%{x}<br>Sales_in_thousands=%{y}<extra></extra>",
         "legendgroup": "Montana",
         "marker": {
          "color": "#00cc96",
          "size": 5,
          "symbol": "circle"
         },
         "mode": "markers",
         "name": "Montana",
         "orientation": "v",
         "showlegend": true,
         "type": "scatter",
         "x": [
          23
         ],
         "xaxis": "x",
         "y": [
          39.572
         ],
         "yaxis": "y"
        },
        {
         "hovertemplate": "Model=Boxter<br>Fuel_efficiency=%{x}<br>Sales_in_thousands=%{y}<extra></extra>",
         "legendgroup": "Boxter",
         "marker": {
          "color": "#ab63fa",
          "size": 5,
          "symbol": "circle"
         },
         "mode": "markers",
         "name": "Boxter",
         "orientation": "v",
         "showlegend": true,
         "type": "scatter",
         "x": [
          22
         ],
         "xaxis": "x",
         "y": [
          8.982
         ],
         "yaxis": "y"
        },
        {
         "hovertemplate": "Model=Carrera Coupe<br>Fuel_efficiency=%{x}<br>Sales_in_thousands=%{y}<extra></extra>",
         "legendgroup": "Carrera Coupe",
         "marker": {
          "color": "#FFA15A",
          "size": 5,
          "symbol": "circle"
         },
         "mode": "markers",
         "name": "Carrera Coupe",
         "orientation": "v",
         "showlegend": true,
         "type": "scatter",
         "x": [
          21
         ],
         "xaxis": "x",
         "y": [
          1.28
         ],
         "yaxis": "y"
        },
        {
         "hovertemplate": "Model=Carrera Cabrio<br>Fuel_efficiency=%{x}<br>Sales_in_thousands=%{y}<extra></extra>",
         "legendgroup": "Carrera Cabrio",
         "marker": {
          "color": "#19d3f3",
          "size": 5,
          "symbol": "circle"
         },
         "mode": "markers",
         "name": "Carrera Cabrio",
         "orientation": "v",
         "showlegend": true,
         "type": "scatter",
         "x": [
          23
         ],
         "xaxis": "x",
         "y": [
          1.866
         ],
         "yaxis": "y"
        },
        {
         "hovertemplate": "Model=5-Sep<br>Fuel_efficiency=%{x}<br>Sales_in_thousands=%{y}<extra></extra>",
         "legendgroup": "5-Sep",
         "marker": {
          "color": "#FF6692",
          "size": 5,
          "symbol": "circle"
         },
         "mode": "markers",
         "name": "5-Sep",
         "orientation": "v",
         "showlegend": true,
         "type": "scatter",
         "x": [
          23
         ],
         "xaxis": "x",
         "y": [
          9.191
         ],
         "yaxis": "y"
        },
        {
         "hovertemplate": "Model=3-Sep<br>Fuel_efficiency=%{x}<br>Sales_in_thousands=%{y}<extra></extra>",
         "legendgroup": "3-Sep",
         "marker": {
          "color": "#B6E880",
          "size": 5,
          "symbol": "circle"
         },
         "mode": "markers",
         "name": "3-Sep",
         "orientation": "v",
         "showlegend": true,
         "type": "scatter",
         "x": [
          23
         ],
         "xaxis": "x",
         "y": [
          12.115
         ],
         "yaxis": "y"
        },
        {
         "hovertemplate": "Model=SL<br>Fuel_efficiency=%{x}<br>Sales_in_thousands=%{y}<extra></extra>",
         "legendgroup": "SL",
         "marker": {
          "color": "#FF97FF",
          "size": 5,
          "symbol": "circle"
         },
         "mode": "markers",
         "name": "SL",
         "orientation": "v",
         "showlegend": true,
         "type": "scatter",
         "x": [
          33
         ],
         "xaxis": "x",
         "y": [
          80.62
         ],
         "yaxis": "y"
        },
        {
         "hovertemplate": "Model=SC<br>Fuel_efficiency=%{x}<br>Sales_in_thousands=%{y}<extra></extra>",
         "legendgroup": "SC",
         "marker": {
          "color": "#FECB52",
          "size": 5,
          "symbol": "circle"
         },
         "mode": "markers",
         "name": "SC",
         "orientation": "v",
         "showlegend": true,
         "type": "scatter",
         "x": [
          33
         ],
         "xaxis": "x",
         "y": [
          24.546
         ],
         "yaxis": "y"
        },
        {
         "hovertemplate": "Model=SW<br>Fuel_efficiency=%{x}<br>Sales_in_thousands=%{y}<extra></extra>",
         "legendgroup": "SW",
         "marker": {
          "color": "#636efa",
          "size": 5,
          "symbol": "circle"
         },
         "mode": "markers",
         "name": "SW",
         "orientation": "v",
         "showlegend": true,
         "type": "scatter",
         "x": [
          31
         ],
         "xaxis": "x",
         "y": [
          5.223
         ],
         "yaxis": "y"
        },
        {
         "hovertemplate": "Model=LW<br>Fuel_efficiency=%{x}<br>Sales_in_thousands=%{y}<extra></extra>",
         "legendgroup": "LW",
         "marker": {
          "color": "#EF553B",
          "size": 5,
          "symbol": "circle"
         },
         "mode": "markers",
         "name": "LW",
         "orientation": "v",
         "showlegend": true,
         "type": "scatter",
         "x": [
          27
         ],
         "xaxis": "x",
         "y": [
          8.472
         ],
         "yaxis": "y"
        },
        {
         "hovertemplate": "Model=LS<br>Fuel_efficiency=%{x}<br>Sales_in_thousands=%{y}<extra></extra>",
         "legendgroup": "LS",
         "marker": {
          "color": "#00cc96",
          "size": 5,
          "symbol": "circle"
         },
         "mode": "markers",
         "name": "LS",
         "orientation": "v",
         "showlegend": true,
         "type": "scatter",
         "x": [
          28
         ],
         "xaxis": "x",
         "y": [
          49.989
         ],
         "yaxis": "y"
        },
        {
         "hovertemplate": "Model=Outback<br>Fuel_efficiency=%{x}<br>Sales_in_thousands=%{y}<extra></extra>",
         "legendgroup": "Outback",
         "marker": {
          "color": "#ab63fa",
          "size": 5,
          "symbol": "circle"
         },
         "mode": "markers",
         "name": "Outback",
         "orientation": "v",
         "showlegend": true,
         "type": "scatter",
         "x": [
          25
         ],
         "xaxis": "x",
         "y": [
          47.107
         ],
         "yaxis": "y"
        },
        {
         "hovertemplate": "Model=Forester<br>Fuel_efficiency=%{x}<br>Sales_in_thousands=%{y}<extra></extra>",
         "legendgroup": "Forester",
         "marker": {
          "color": "#FFA15A",
          "size": 5,
          "symbol": "circle"
         },
         "mode": "markers",
         "name": "Forester",
         "orientation": "v",
         "showlegend": true,
         "type": "scatter",
         "x": [
          24
         ],
         "xaxis": "x",
         "y": [
          33.028
         ],
         "yaxis": "y"
        },
        {
         "hovertemplate": "Model=Corolla<br>Fuel_efficiency=%{x}<br>Sales_in_thousands=%{y}<extra></extra>",
         "legendgroup": "Corolla",
         "marker": {
          "color": "#19d3f3",
          "size": 5,
          "symbol": "circle"
         },
         "mode": "markers",
         "name": "Corolla",
         "orientation": "v",
         "showlegend": true,
         "type": "scatter",
         "x": [
          33
         ],
         "xaxis": "x",
         "y": [
          142.535
         ],
         "yaxis": "y"
        },
        {
         "hovertemplate": "Model=Camry<br>Fuel_efficiency=%{x}<br>Sales_in_thousands=%{y}<extra></extra>",
         "legendgroup": "Camry",
         "marker": {
          "color": "#FF6692",
          "size": 5,
          "symbol": "circle"
         },
         "mode": "markers",
         "name": "Camry",
         "orientation": "v",
         "showlegend": true,
         "type": "scatter",
         "x": [
          27
         ],
         "xaxis": "x",
         "y": [
          247.994
         ],
         "yaxis": "y"
        },
        {
         "hovertemplate": "Model=Avalon<br>Fuel_efficiency=%{x}<br>Sales_in_thousands=%{y}<extra></extra>",
         "legendgroup": "Avalon",
         "marker": {
          "color": "#B6E880",
          "size": 5,
          "symbol": "circle"
         },
         "mode": "markers",
         "name": "Avalon",
         "orientation": "v",
         "showlegend": true,
         "type": "scatter",
         "x": [
          26
         ],
         "xaxis": "x",
         "y": [
          63.849
         ],
         "yaxis": "y"
        },
        {
         "hovertemplate": "Model=Celica<br>Fuel_efficiency=%{x}<br>Sales_in_thousands=%{y}<extra></extra>",
         "legendgroup": "Celica",
         "marker": {
          "color": "#FF97FF",
          "size": 5,
          "symbol": "circle"
         },
         "mode": "markers",
         "name": "Celica",
         "orientation": "v",
         "showlegend": true,
         "type": "scatter",
         "x": [
          31
         ],
         "xaxis": "x",
         "y": [
          33.269
         ],
         "yaxis": "y"
        },
        {
         "hovertemplate": "Model=Tacoma<br>Fuel_efficiency=%{x}<br>Sales_in_thousands=%{y}<extra></extra>",
         "legendgroup": "Tacoma",
         "marker": {
          "color": "#FECB52",
          "size": 5,
          "symbol": "circle"
         },
         "mode": "markers",
         "name": "Tacoma",
         "orientation": "v",
         "showlegend": true,
         "type": "scatter",
         "x": [
          23
         ],
         "xaxis": "x",
         "y": [
          84.087
         ],
         "yaxis": "y"
        },
        {
         "hovertemplate": "Model=Sienna<br>Fuel_efficiency=%{x}<br>Sales_in_thousands=%{y}<extra></extra>",
         "legendgroup": "Sienna",
         "marker": {
          "color": "#636efa",
          "size": 5,
          "symbol": "circle"
         },
         "mode": "markers",
         "name": "Sienna",
         "orientation": "v",
         "showlegend": true,
         "type": "scatter",
         "x": [
          22
         ],
         "xaxis": "x",
         "y": [
          65.119
         ],
         "yaxis": "y"
        },
        {
         "hovertemplate": "Model=RAV4<br>Fuel_efficiency=%{x}<br>Sales_in_thousands=%{y}<extra></extra>",
         "legendgroup": "RAV4",
         "marker": {
          "color": "#EF553B",
          "size": 5,
          "symbol": "circle"
         },
         "mode": "markers",
         "name": "RAV4",
         "orientation": "v",
         "showlegend": true,
         "type": "scatter",
         "x": [
          27
         ],
         "xaxis": "x",
         "y": [
          25.106
         ],
         "yaxis": "y"
        },
        {
         "hovertemplate": "Model=4Runner<br>Fuel_efficiency=%{x}<br>Sales_in_thousands=%{y}<extra></extra>",
         "legendgroup": "4Runner",
         "marker": {
          "color": "#00cc96",
          "size": 5,
          "symbol": "circle"
         },
         "mode": "markers",
         "name": "4Runner",
         "orientation": "v",
         "showlegend": true,
         "type": "scatter",
         "x": [
          23
         ],
         "xaxis": "x",
         "y": [
          68.411
         ],
         "yaxis": "y"
        },
        {
         "hovertemplate": "Model=Land Cruiser<br>Fuel_efficiency=%{x}<br>Sales_in_thousands=%{y}<extra></extra>",
         "legendgroup": "Land Cruiser",
         "marker": {
          "color": "#ab63fa",
          "size": 5,
          "symbol": "circle"
         },
         "mode": "markers",
         "name": "Land Cruiser",
         "orientation": "v",
         "showlegend": true,
         "type": "scatter",
         "x": [
          15
         ],
         "xaxis": "x",
         "y": [
          9.835
         ],
         "yaxis": "y"
        },
        {
         "hovertemplate": "Model=Golf<br>Fuel_efficiency=%{x}<br>Sales_in_thousands=%{y}<extra></extra>",
         "legendgroup": "Golf",
         "marker": {
          "color": "#FFA15A",
          "size": 5,
          "symbol": "circle"
         },
         "mode": "markers",
         "name": "Golf",
         "orientation": "v",
         "showlegend": true,
         "type": "scatter",
         "x": [
          26
         ],
         "xaxis": "x",
         "y": [
          9.761
         ],
         "yaxis": "y"
        },
        {
         "hovertemplate": "Model=Jetta<br>Fuel_efficiency=%{x}<br>Sales_in_thousands=%{y}<extra></extra>",
         "legendgroup": "Jetta",
         "marker": {
          "color": "#19d3f3",
          "size": 5,
          "symbol": "circle"
         },
         "mode": "markers",
         "name": "Jetta",
         "orientation": "v",
         "showlegend": true,
         "type": "scatter",
         "x": [
          26
         ],
         "xaxis": "x",
         "y": [
          83.721
         ],
         "yaxis": "y"
        },
        {
         "hovertemplate": "Model=Passat<br>Fuel_efficiency=%{x}<br>Sales_in_thousands=%{y}<extra></extra>",
         "legendgroup": "Passat",
         "marker": {
          "color": "#FF6692",
          "size": 5,
          "symbol": "circle"
         },
         "mode": "markers",
         "name": "Passat",
         "orientation": "v",
         "showlegend": true,
         "type": "scatter",
         "x": [
          27
         ],
         "xaxis": "x",
         "y": [
          51.102
         ],
         "yaxis": "y"
        },
        {
         "hovertemplate": "Model=Cabrio<br>Fuel_efficiency=%{x}<br>Sales_in_thousands=%{y}<extra></extra>",
         "legendgroup": "Cabrio",
         "marker": {
          "color": "#B6E880",
          "size": 5,
          "symbol": "circle"
         },
         "mode": "markers",
         "name": "Cabrio",
         "orientation": "v",
         "showlegend": true,
         "type": "scatter",
         "x": [
          26
         ],
         "xaxis": "x",
         "y": [
          9.569
         ],
         "yaxis": "y"
        },
        {
         "hovertemplate": "Model=GTI<br>Fuel_efficiency=%{x}<br>Sales_in_thousands=%{y}<extra></extra>",
         "legendgroup": "GTI",
         "marker": {
          "color": "#FF97FF",
          "size": 5,
          "symbol": "circle"
         },
         "mode": "markers",
         "name": "GTI",
         "orientation": "v",
         "showlegend": true,
         "type": "scatter",
         "x": [
          26
         ],
         "xaxis": "x",
         "y": [
          5.596
         ],
         "yaxis": "y"
        },
        {
         "hovertemplate": "Model=Beetle<br>Fuel_efficiency=%{x}<br>Sales_in_thousands=%{y}<extra></extra>",
         "legendgroup": "Beetle",
         "marker": {
          "color": "#FECB52",
          "size": 5,
          "symbol": "circle"
         },
         "mode": "markers",
         "name": "Beetle",
         "orientation": "v",
         "showlegend": true,
         "type": "scatter",
         "x": [
          26
         ],
         "xaxis": "x",
         "y": [
          49.463
         ],
         "yaxis": "y"
        },
        {
         "hovertemplate": "Model=S40<br>Fuel_efficiency=%{x}<br>Sales_in_thousands=%{y}<extra></extra>",
         "legendgroup": "S40",
         "marker": {
          "color": "#636efa",
          "size": 5,
          "symbol": "circle"
         },
         "mode": "markers",
         "name": "S40",
         "orientation": "v",
         "showlegend": true,
         "type": "scatter",
         "x": [
          25
         ],
         "xaxis": "x",
         "y": [
          16.957
         ],
         "yaxis": "y"
        },
        {
         "hovertemplate": "Model=V40<br>Fuel_efficiency=%{x}<br>Sales_in_thousands=%{y}<extra></extra>",
         "legendgroup": "V40",
         "marker": {
          "color": "#EF553B",
          "size": 5,
          "symbol": "circle"
         },
         "mode": "markers",
         "name": "V40",
         "orientation": "v",
         "showlegend": true,
         "type": "scatter",
         "x": [
          25
         ],
         "xaxis": "x",
         "y": [
          3.545
         ],
         "yaxis": "y"
        },
        {
         "hovertemplate": "Model=S70<br>Fuel_efficiency=%{x}<br>Sales_in_thousands=%{y}<extra></extra>",
         "legendgroup": "S70",
         "marker": {
          "color": "#00cc96",
          "size": 5,
          "symbol": "circle"
         },
         "mode": "markers",
         "name": "S70",
         "orientation": "v",
         "showlegend": true,
         "type": "scatter",
         "x": [
          25
         ],
         "xaxis": "x",
         "y": [
          15.245
         ],
         "yaxis": "y"
        },
        {
         "hovertemplate": "Model=V70<br>Fuel_efficiency=%{x}<br>Sales_in_thousands=%{y}<extra></extra>",
         "legendgroup": "V70",
         "marker": {
          "color": "#ab63fa",
          "size": 5,
          "symbol": "circle"
         },
         "mode": "markers",
         "name": "V70",
         "orientation": "v",
         "showlegend": true,
         "type": "scatter",
         "x": [
          25
         ],
         "xaxis": "x",
         "y": [
          17.531
         ],
         "yaxis": "y"
        },
        {
         "hovertemplate": "Model=C70<br>Fuel_efficiency=%{x}<br>Sales_in_thousands=%{y}<extra></extra>",
         "legendgroup": "C70",
         "marker": {
          "color": "#FFA15A",
          "size": 5,
          "symbol": "circle"
         },
         "mode": "markers",
         "name": "C70",
         "orientation": "v",
         "showlegend": true,
         "type": "scatter",
         "x": [
          23
         ],
         "xaxis": "x",
         "y": [
          3.493
         ],
         "yaxis": "y"
        },
        {
         "hovertemplate": "Model=S80<br>Fuel_efficiency=%{x}<br>Sales_in_thousands=%{y}<extra></extra>",
         "legendgroup": "S80",
         "marker": {
          "color": "#19d3f3",
          "size": 5,
          "symbol": "circle"
         },
         "mode": "markers",
         "name": "S80",
         "orientation": "v",
         "showlegend": true,
         "type": "scatter",
         "x": [
          24
         ],
         "xaxis": "x",
         "y": [
          18.969
         ],
         "yaxis": "y"
        }
       ],
       "layout": {
        "legend": {
         "title": {
          "text": "Model"
         },
         "tracegroupgap": 0
        },
        "template": {
         "data": {
          "bar": [
           {
            "error_x": {
             "color": "#2a3f5f"
            },
            "error_y": {
             "color": "#2a3f5f"
            },
            "marker": {
             "line": {
              "color": "#E5ECF6",
              "width": 0.5
             },
             "pattern": {
              "fillmode": "overlay",
              "size": 10,
              "solidity": 0.2
             }
            },
            "type": "bar"
           }
          ],
          "barpolar": [
           {
            "marker": {
             "line": {
              "color": "#E5ECF6",
              "width": 0.5
             },
             "pattern": {
              "fillmode": "overlay",
              "size": 10,
              "solidity": 0.2
             }
            },
            "type": "barpolar"
           }
          ],
          "carpet": [
           {
            "aaxis": {
             "endlinecolor": "#2a3f5f",
             "gridcolor": "white",
             "linecolor": "white",
             "minorgridcolor": "white",
             "startlinecolor": "#2a3f5f"
            },
            "baxis": {
             "endlinecolor": "#2a3f5f",
             "gridcolor": "white",
             "linecolor": "white",
             "minorgridcolor": "white",
             "startlinecolor": "#2a3f5f"
            },
            "type": "carpet"
           }
          ],
          "choropleth": [
           {
            "colorbar": {
             "outlinewidth": 0,
             "ticks": ""
            },
            "type": "choropleth"
           }
          ],
          "contour": [
           {
            "colorbar": {
             "outlinewidth": 0,
             "ticks": ""
            },
            "colorscale": [
             [
              0,
              "#0d0887"
             ],
             [
              0.1111111111111111,
              "#46039f"
             ],
             [
              0.2222222222222222,
              "#7201a8"
             ],
             [
              0.3333333333333333,
              "#9c179e"
             ],
             [
              0.4444444444444444,
              "#bd3786"
             ],
             [
              0.5555555555555556,
              "#d8576b"
             ],
             [
              0.6666666666666666,
              "#ed7953"
             ],
             [
              0.7777777777777778,
              "#fb9f3a"
             ],
             [
              0.8888888888888888,
              "#fdca26"
             ],
             [
              1,
              "#f0f921"
             ]
            ],
            "type": "contour"
           }
          ],
          "contourcarpet": [
           {
            "colorbar": {
             "outlinewidth": 0,
             "ticks": ""
            },
            "type": "contourcarpet"
           }
          ],
          "heatmap": [
           {
            "colorbar": {
             "outlinewidth": 0,
             "ticks": ""
            },
            "colorscale": [
             [
              0,
              "#0d0887"
             ],
             [
              0.1111111111111111,
              "#46039f"
             ],
             [
              0.2222222222222222,
              "#7201a8"
             ],
             [
              0.3333333333333333,
              "#9c179e"
             ],
             [
              0.4444444444444444,
              "#bd3786"
             ],
             [
              0.5555555555555556,
              "#d8576b"
             ],
             [
              0.6666666666666666,
              "#ed7953"
             ],
             [
              0.7777777777777778,
              "#fb9f3a"
             ],
             [
              0.8888888888888888,
              "#fdca26"
             ],
             [
              1,
              "#f0f921"
             ]
            ],
            "type": "heatmap"
           }
          ],
          "heatmapgl": [
           {
            "colorbar": {
             "outlinewidth": 0,
             "ticks": ""
            },
            "colorscale": [
             [
              0,
              "#0d0887"
             ],
             [
              0.1111111111111111,
              "#46039f"
             ],
             [
              0.2222222222222222,
              "#7201a8"
             ],
             [
              0.3333333333333333,
              "#9c179e"
             ],
             [
              0.4444444444444444,
              "#bd3786"
             ],
             [
              0.5555555555555556,
              "#d8576b"
             ],
             [
              0.6666666666666666,
              "#ed7953"
             ],
             [
              0.7777777777777778,
              "#fb9f3a"
             ],
             [
              0.8888888888888888,
              "#fdca26"
             ],
             [
              1,
              "#f0f921"
             ]
            ],
            "type": "heatmapgl"
           }
          ],
          "histogram": [
           {
            "marker": {
             "pattern": {
              "fillmode": "overlay",
              "size": 10,
              "solidity": 0.2
             }
            },
            "type": "histogram"
           }
          ],
          "histogram2d": [
           {
            "colorbar": {
             "outlinewidth": 0,
             "ticks": ""
            },
            "colorscale": [
             [
              0,
              "#0d0887"
             ],
             [
              0.1111111111111111,
              "#46039f"
             ],
             [
              0.2222222222222222,
              "#7201a8"
             ],
             [
              0.3333333333333333,
              "#9c179e"
             ],
             [
              0.4444444444444444,
              "#bd3786"
             ],
             [
              0.5555555555555556,
              "#d8576b"
             ],
             [
              0.6666666666666666,
              "#ed7953"
             ],
             [
              0.7777777777777778,
              "#fb9f3a"
             ],
             [
              0.8888888888888888,
              "#fdca26"
             ],
             [
              1,
              "#f0f921"
             ]
            ],
            "type": "histogram2d"
           }
          ],
          "histogram2dcontour": [
           {
            "colorbar": {
             "outlinewidth": 0,
             "ticks": ""
            },
            "colorscale": [
             [
              0,
              "#0d0887"
             ],
             [
              0.1111111111111111,
              "#46039f"
             ],
             [
              0.2222222222222222,
              "#7201a8"
             ],
             [
              0.3333333333333333,
              "#9c179e"
             ],
             [
              0.4444444444444444,
              "#bd3786"
             ],
             [
              0.5555555555555556,
              "#d8576b"
             ],
             [
              0.6666666666666666,
              "#ed7953"
             ],
             [
              0.7777777777777778,
              "#fb9f3a"
             ],
             [
              0.8888888888888888,
              "#fdca26"
             ],
             [
              1,
              "#f0f921"
             ]
            ],
            "type": "histogram2dcontour"
           }
          ],
          "mesh3d": [
           {
            "colorbar": {
             "outlinewidth": 0,
             "ticks": ""
            },
            "type": "mesh3d"
           }
          ],
          "parcoords": [
           {
            "line": {
             "colorbar": {
              "outlinewidth": 0,
              "ticks": ""
             }
            },
            "type": "parcoords"
           }
          ],
          "pie": [
           {
            "automargin": true,
            "type": "pie"
           }
          ],
          "scatter": [
           {
            "marker": {
             "colorbar": {
              "outlinewidth": 0,
              "ticks": ""
             }
            },
            "type": "scatter"
           }
          ],
          "scatter3d": [
           {
            "line": {
             "colorbar": {
              "outlinewidth": 0,
              "ticks": ""
             }
            },
            "marker": {
             "colorbar": {
              "outlinewidth": 0,
              "ticks": ""
             }
            },
            "type": "scatter3d"
           }
          ],
          "scattercarpet": [
           {
            "marker": {
             "colorbar": {
              "outlinewidth": 0,
              "ticks": ""
             }
            },
            "type": "scattercarpet"
           }
          ],
          "scattergeo": [
           {
            "marker": {
             "colorbar": {
              "outlinewidth": 0,
              "ticks": ""
             }
            },
            "type": "scattergeo"
           }
          ],
          "scattergl": [
           {
            "marker": {
             "colorbar": {
              "outlinewidth": 0,
              "ticks": ""
             }
            },
            "type": "scattergl"
           }
          ],
          "scattermapbox": [
           {
            "marker": {
             "colorbar": {
              "outlinewidth": 0,
              "ticks": ""
             }
            },
            "type": "scattermapbox"
           }
          ],
          "scatterpolar": [
           {
            "marker": {
             "colorbar": {
              "outlinewidth": 0,
              "ticks": ""
             }
            },
            "type": "scatterpolar"
           }
          ],
          "scatterpolargl": [
           {
            "marker": {
             "colorbar": {
              "outlinewidth": 0,
              "ticks": ""
             }
            },
            "type": "scatterpolargl"
           }
          ],
          "scatterternary": [
           {
            "marker": {
             "colorbar": {
              "outlinewidth": 0,
              "ticks": ""
             }
            },
            "type": "scatterternary"
           }
          ],
          "surface": [
           {
            "colorbar": {
             "outlinewidth": 0,
             "ticks": ""
            },
            "colorscale": [
             [
              0,
              "#0d0887"
             ],
             [
              0.1111111111111111,
              "#46039f"
             ],
             [
              0.2222222222222222,
              "#7201a8"
             ],
             [
              0.3333333333333333,
              "#9c179e"
             ],
             [
              0.4444444444444444,
              "#bd3786"
             ],
             [
              0.5555555555555556,
              "#d8576b"
             ],
             [
              0.6666666666666666,
              "#ed7953"
             ],
             [
              0.7777777777777778,
              "#fb9f3a"
             ],
             [
              0.8888888888888888,
              "#fdca26"
             ],
             [
              1,
              "#f0f921"
             ]
            ],
            "type": "surface"
           }
          ],
          "table": [
           {
            "cells": {
             "fill": {
              "color": "#EBF0F8"
             },
             "line": {
              "color": "white"
             }
            },
            "header": {
             "fill": {
              "color": "#C8D4E3"
             },
             "line": {
              "color": "white"
             }
            },
            "type": "table"
           }
          ]
         },
         "layout": {
          "annotationdefaults": {
           "arrowcolor": "#2a3f5f",
           "arrowhead": 0,
           "arrowwidth": 1
          },
          "autotypenumbers": "strict",
          "coloraxis": {
           "colorbar": {
            "outlinewidth": 0,
            "ticks": ""
           }
          },
          "colorscale": {
           "diverging": [
            [
             0,
             "#8e0152"
            ],
            [
             0.1,
             "#c51b7d"
            ],
            [
             0.2,
             "#de77ae"
            ],
            [
             0.3,
             "#f1b6da"
            ],
            [
             0.4,
             "#fde0ef"
            ],
            [
             0.5,
             "#f7f7f7"
            ],
            [
             0.6,
             "#e6f5d0"
            ],
            [
             0.7,
             "#b8e186"
            ],
            [
             0.8,
             "#7fbc41"
            ],
            [
             0.9,
             "#4d9221"
            ],
            [
             1,
             "#276419"
            ]
           ],
           "sequential": [
            [
             0,
             "#0d0887"
            ],
            [
             0.1111111111111111,
             "#46039f"
            ],
            [
             0.2222222222222222,
             "#7201a8"
            ],
            [
             0.3333333333333333,
             "#9c179e"
            ],
            [
             0.4444444444444444,
             "#bd3786"
            ],
            [
             0.5555555555555556,
             "#d8576b"
            ],
            [
             0.6666666666666666,
             "#ed7953"
            ],
            [
             0.7777777777777778,
             "#fb9f3a"
            ],
            [
             0.8888888888888888,
             "#fdca26"
            ],
            [
             1,
             "#f0f921"
            ]
           ],
           "sequentialminus": [
            [
             0,
             "#0d0887"
            ],
            [
             0.1111111111111111,
             "#46039f"
            ],
            [
             0.2222222222222222,
             "#7201a8"
            ],
            [
             0.3333333333333333,
             "#9c179e"
            ],
            [
             0.4444444444444444,
             "#bd3786"
            ],
            [
             0.5555555555555556,
             "#d8576b"
            ],
            [
             0.6666666666666666,
             "#ed7953"
            ],
            [
             0.7777777777777778,
             "#fb9f3a"
            ],
            [
             0.8888888888888888,
             "#fdca26"
            ],
            [
             1,
             "#f0f921"
            ]
           ]
          },
          "colorway": [
           "#636efa",
           "#EF553B",
           "#00cc96",
           "#ab63fa",
           "#FFA15A",
           "#19d3f3",
           "#FF6692",
           "#B6E880",
           "#FF97FF",
           "#FECB52"
          ],
          "font": {
           "color": "#2a3f5f"
          },
          "geo": {
           "bgcolor": "white",
           "lakecolor": "white",
           "landcolor": "#E5ECF6",
           "showlakes": true,
           "showland": true,
           "subunitcolor": "white"
          },
          "hoverlabel": {
           "align": "left"
          },
          "hovermode": "closest",
          "mapbox": {
           "style": "light"
          },
          "paper_bgcolor": "white",
          "plot_bgcolor": "#E5ECF6",
          "polar": {
           "angularaxis": {
            "gridcolor": "white",
            "linecolor": "white",
            "ticks": ""
           },
           "bgcolor": "#E5ECF6",
           "radialaxis": {
            "gridcolor": "white",
            "linecolor": "white",
            "ticks": ""
           }
          },
          "scene": {
           "xaxis": {
            "backgroundcolor": "#E5ECF6",
            "gridcolor": "white",
            "gridwidth": 2,
            "linecolor": "white",
            "showbackground": true,
            "ticks": "",
            "zerolinecolor": "white"
           },
           "yaxis": {
            "backgroundcolor": "#E5ECF6",
            "gridcolor": "white",
            "gridwidth": 2,
            "linecolor": "white",
            "showbackground": true,
            "ticks": "",
            "zerolinecolor": "white"
           },
           "zaxis": {
            "backgroundcolor": "#E5ECF6",
            "gridcolor": "white",
            "gridwidth": 2,
            "linecolor": "white",
            "showbackground": true,
            "ticks": "",
            "zerolinecolor": "white"
           }
          },
          "shapedefaults": {
           "line": {
            "color": "#2a3f5f"
           }
          },
          "ternary": {
           "aaxis": {
            "gridcolor": "white",
            "linecolor": "white",
            "ticks": ""
           },
           "baxis": {
            "gridcolor": "white",
            "linecolor": "white",
            "ticks": ""
           },
           "bgcolor": "#E5ECF6",
           "caxis": {
            "gridcolor": "white",
            "linecolor": "white",
            "ticks": ""
           }
          },
          "title": {
           "x": 0.05
          },
          "xaxis": {
           "automargin": true,
           "gridcolor": "white",
           "linecolor": "white",
           "ticks": "",
           "title": {
            "standoff": 15
           },
           "zerolinecolor": "white",
           "zerolinewidth": 2
          },
          "yaxis": {
           "automargin": true,
           "gridcolor": "white",
           "linecolor": "white",
           "ticks": "",
           "title": {
            "standoff": 15
           },
           "zerolinecolor": "white",
           "zerolinewidth": 2
          }
         }
        },
        "title": {
         "text": "Fuel Efficiency vs. Sales in Thousands",
         "x": 0.5,
         "xanchor": "center",
         "y": 0.9,
         "yanchor": "top"
        },
        "xaxis": {
         "anchor": "y",
         "domain": [
          0,
          1
         ],
         "title": {
          "text": "Fuel_efficiency"
         }
        },
        "yaxis": {
         "anchor": "x",
         "domain": [
          0,
          1
         ],
         "title": {
          "text": "Sales_in_thousands"
         }
        }
       }
      },
      "text/html": [
       "<div>                            <div id=\"889913fd-3411-4707-993e-cbfb471913f5\" class=\"plotly-graph-div\" style=\"height:525px; width:100%;\"></div>            <script type=\"text/javascript\">                require([\"plotly\"], function(Plotly) {                    window.PLOTLYENV=window.PLOTLYENV || {};                                    if (document.getElementById(\"889913fd-3411-4707-993e-cbfb471913f5\")) {                    Plotly.newPlot(                        \"889913fd-3411-4707-993e-cbfb471913f5\",                        [{\"hovertemplate\":\"Model=Integra<br>Fuel_efficiency=%{x}<br>Sales_in_thousands=%{y}<extra></extra>\",\"legendgroup\":\"Integra\",\"marker\":{\"color\":\"#636efa\",\"symbol\":\"circle\",\"size\":5},\"mode\":\"markers\",\"name\":\"Integra\",\"orientation\":\"v\",\"showlegend\":true,\"x\":[28.0],\"xaxis\":\"x\",\"y\":[16.919],\"yaxis\":\"y\",\"type\":\"scatter\"},{\"hovertemplate\":\"Model=TL<br>Fuel_efficiency=%{x}<br>Sales_in_thousands=%{y}<extra></extra>\",\"legendgroup\":\"TL\",\"marker\":{\"color\":\"#EF553B\",\"symbol\":\"circle\",\"size\":5},\"mode\":\"markers\",\"name\":\"TL\",\"orientation\":\"v\",\"showlegend\":true,\"x\":[25.0],\"xaxis\":\"x\",\"y\":[39.384],\"yaxis\":\"y\",\"type\":\"scatter\"},{\"hovertemplate\":\"Model=CL<br>Fuel_efficiency=%{x}<br>Sales_in_thousands=%{y}<extra></extra>\",\"legendgroup\":\"CL\",\"marker\":{\"color\":\"#00cc96\",\"symbol\":\"circle\",\"size\":5},\"mode\":\"markers\",\"name\":\"CL\",\"orientation\":\"v\",\"showlegend\":true,\"x\":[26.0],\"xaxis\":\"x\",\"y\":[14.114],\"yaxis\":\"y\",\"type\":\"scatter\"},{\"hovertemplate\":\"Model=RL<br>Fuel_efficiency=%{x}<br>Sales_in_thousands=%{y}<extra></extra>\",\"legendgroup\":\"RL\",\"marker\":{\"color\":\"#ab63fa\",\"symbol\":\"circle\",\"size\":5},\"mode\":\"markers\",\"name\":\"RL\",\"orientation\":\"v\",\"showlegend\":true,\"x\":[22.0],\"xaxis\":\"x\",\"y\":[8.588],\"yaxis\":\"y\",\"type\":\"scatter\"},{\"hovertemplate\":\"Model=A4<br>Fuel_efficiency=%{x}<br>Sales_in_thousands=%{y}<extra></extra>\",\"legendgroup\":\"A4\",\"marker\":{\"color\":\"#FFA15A\",\"symbol\":\"circle\",\"size\":5},\"mode\":\"markers\",\"name\":\"A4\",\"orientation\":\"v\",\"showlegend\":true,\"x\":[27.0],\"xaxis\":\"x\",\"y\":[20.397],\"yaxis\":\"y\",\"type\":\"scatter\"},{\"hovertemplate\":\"Model=A6<br>Fuel_efficiency=%{x}<br>Sales_in_thousands=%{y}<extra></extra>\",\"legendgroup\":\"A6\",\"marker\":{\"color\":\"#19d3f3\",\"symbol\":\"circle\",\"size\":5},\"mode\":\"markers\",\"name\":\"A6\",\"orientation\":\"v\",\"showlegend\":true,\"x\":[22.0],\"xaxis\":\"x\",\"y\":[18.78],\"yaxis\":\"y\",\"type\":\"scatter\"},{\"hovertemplate\":\"Model=A8<br>Fuel_efficiency=%{x}<br>Sales_in_thousands=%{y}<extra></extra>\",\"legendgroup\":\"A8\",\"marker\":{\"color\":\"#FF6692\",\"symbol\":\"circle\",\"size\":5},\"mode\":\"markers\",\"name\":\"A8\",\"orientation\":\"v\",\"showlegend\":true,\"x\":[21.0],\"xaxis\":\"x\",\"y\":[1.38],\"yaxis\":\"y\",\"type\":\"scatter\"},{\"hovertemplate\":\"Model=323i<br>Fuel_efficiency=%{x}<br>Sales_in_thousands=%{y}<extra></extra>\",\"legendgroup\":\"323i\",\"marker\":{\"color\":\"#B6E880\",\"symbol\":\"circle\",\"size\":5},\"mode\":\"markers\",\"name\":\"323i\",\"orientation\":\"v\",\"showlegend\":true,\"x\":[26.0],\"xaxis\":\"x\",\"y\":[19.747],\"yaxis\":\"y\",\"type\":\"scatter\"},{\"hovertemplate\":\"Model=328i<br>Fuel_efficiency=%{x}<br>Sales_in_thousands=%{y}<extra></extra>\",\"legendgroup\":\"328i\",\"marker\":{\"color\":\"#FF97FF\",\"symbol\":\"circle\",\"size\":5},\"mode\":\"markers\",\"name\":\"328i\",\"orientation\":\"v\",\"showlegend\":true,\"x\":[24.0],\"xaxis\":\"x\",\"y\":[9.231],\"yaxis\":\"y\",\"type\":\"scatter\"},{\"hovertemplate\":\"Model=528i<br>Fuel_efficiency=%{x}<br>Sales_in_thousands=%{y}<extra></extra>\",\"legendgroup\":\"528i\",\"marker\":{\"color\":\"#FECB52\",\"symbol\":\"circle\",\"size\":5},\"mode\":\"markers\",\"name\":\"528i\",\"orientation\":\"v\",\"showlegend\":true,\"x\":[25.0],\"xaxis\":\"x\",\"y\":[17.527],\"yaxis\":\"y\",\"type\":\"scatter\"},{\"hovertemplate\":\"Model=Century<br>Fuel_efficiency=%{x}<br>Sales_in_thousands=%{y}<extra></extra>\",\"legendgroup\":\"Century\",\"marker\":{\"color\":\"#636efa\",\"symbol\":\"circle\",\"size\":5},\"mode\":\"markers\",\"name\":\"Century\",\"orientation\":\"v\",\"showlegend\":true,\"x\":[25.0],\"xaxis\":\"x\",\"y\":[91.561],\"yaxis\":\"y\",\"type\":\"scatter\"},{\"hovertemplate\":\"Model=Regal<br>Fuel_efficiency=%{x}<br>Sales_in_thousands=%{y}<extra></extra>\",\"legendgroup\":\"Regal\",\"marker\":{\"color\":\"#EF553B\",\"symbol\":\"circle\",\"size\":5},\"mode\":\"markers\",\"name\":\"Regal\",\"orientation\":\"v\",\"showlegend\":true,\"x\":[23.0],\"xaxis\":\"x\",\"y\":[39.35],\"yaxis\":\"y\",\"type\":\"scatter\"},{\"hovertemplate\":\"Model=Park Avenue<br>Fuel_efficiency=%{x}<br>Sales_in_thousands=%{y}<extra></extra>\",\"legendgroup\":\"Park Avenue\",\"marker\":{\"color\":\"#00cc96\",\"symbol\":\"circle\",\"size\":5},\"mode\":\"markers\",\"name\":\"Park Avenue\",\"orientation\":\"v\",\"showlegend\":true,\"x\":[24.0],\"xaxis\":\"x\",\"y\":[27.851],\"yaxis\":\"y\",\"type\":\"scatter\"},{\"hovertemplate\":\"Model=LeSabre<br>Fuel_efficiency=%{x}<br>Sales_in_thousands=%{y}<extra></extra>\",\"legendgroup\":\"LeSabre\",\"marker\":{\"color\":\"#ab63fa\",\"symbol\":\"circle\",\"size\":5},\"mode\":\"markers\",\"name\":\"LeSabre\",\"orientation\":\"v\",\"showlegend\":true,\"x\":[25.0],\"xaxis\":\"x\",\"y\":[83.257],\"yaxis\":\"y\",\"type\":\"scatter\"},{\"hovertemplate\":\"Model=DeVille<br>Fuel_efficiency=%{x}<br>Sales_in_thousands=%{y}<extra></extra>\",\"legendgroup\":\"DeVille\",\"marker\":{\"color\":\"#FFA15A\",\"symbol\":\"circle\",\"size\":5},\"mode\":\"markers\",\"name\":\"DeVille\",\"orientation\":\"v\",\"showlegend\":true,\"x\":[22.0],\"xaxis\":\"x\",\"y\":[63.729],\"yaxis\":\"y\",\"type\":\"scatter\"},{\"hovertemplate\":\"Model=Seville<br>Fuel_efficiency=%{x}<br>Sales_in_thousands=%{y}<extra></extra>\",\"legendgroup\":\"Seville\",\"marker\":{\"color\":\"#19d3f3\",\"symbol\":\"circle\",\"size\":5},\"mode\":\"markers\",\"name\":\"Seville\",\"orientation\":\"v\",\"showlegend\":true,\"x\":[22.0],\"xaxis\":\"x\",\"y\":[15.943],\"yaxis\":\"y\",\"type\":\"scatter\"},{\"hovertemplate\":\"Model=Eldorado<br>Fuel_efficiency=%{x}<br>Sales_in_thousands=%{y}<extra></extra>\",\"legendgroup\":\"Eldorado\",\"marker\":{\"color\":\"#FF6692\",\"symbol\":\"circle\",\"size\":5},\"mode\":\"markers\",\"name\":\"Eldorado\",\"orientation\":\"v\",\"showlegend\":true,\"x\":[22.0],\"xaxis\":\"x\",\"y\":[6.536],\"yaxis\":\"y\",\"type\":\"scatter\"},{\"hovertemplate\":\"Model=Catera<br>Fuel_efficiency=%{x}<br>Sales_in_thousands=%{y}<extra></extra>\",\"legendgroup\":\"Catera\",\"marker\":{\"color\":\"#B6E880\",\"symbol\":\"circle\",\"size\":5},\"mode\":\"markers\",\"name\":\"Catera\",\"orientation\":\"v\",\"showlegend\":true,\"x\":[22.0],\"xaxis\":\"x\",\"y\":[11.185],\"yaxis\":\"y\",\"type\":\"scatter\"},{\"hovertemplate\":\"Model=Escalade<br>Fuel_efficiency=%{x}<br>Sales_in_thousands=%{y}<extra></extra>\",\"legendgroup\":\"Escalade\",\"marker\":{\"color\":\"#FF97FF\",\"symbol\":\"circle\",\"size\":5},\"mode\":\"markers\",\"name\":\"Escalade\",\"orientation\":\"v\",\"showlegend\":true,\"x\":[15.0],\"xaxis\":\"x\",\"y\":[14.785],\"yaxis\":\"y\",\"type\":\"scatter\"},{\"hovertemplate\":\"Model=Cavalier<br>Fuel_efficiency=%{x}<br>Sales_in_thousands=%{y}<extra></extra>\",\"legendgroup\":\"Cavalier\",\"marker\":{\"color\":\"#FECB52\",\"symbol\":\"circle\",\"size\":5},\"mode\":\"markers\",\"name\":\"Cavalier\",\"orientation\":\"v\",\"showlegend\":true,\"x\":[27.0],\"xaxis\":\"x\",\"y\":[145.519],\"yaxis\":\"y\",\"type\":\"scatter\"},{\"hovertemplate\":\"Model=Malibu<br>Fuel_efficiency=%{x}<br>Sales_in_thousands=%{y}<extra></extra>\",\"legendgroup\":\"Malibu\",\"marker\":{\"color\":\"#636efa\",\"symbol\":\"circle\",\"size\":5},\"mode\":\"markers\",\"name\":\"Malibu\",\"orientation\":\"v\",\"showlegend\":true,\"x\":[25.0],\"xaxis\":\"x\",\"y\":[135.126],\"yaxis\":\"y\",\"type\":\"scatter\"},{\"hovertemplate\":\"Model=Lumina<br>Fuel_efficiency=%{x}<br>Sales_in_thousands=%{y}<extra></extra>\",\"legendgroup\":\"Lumina\",\"marker\":{\"color\":\"#EF553B\",\"symbol\":\"circle\",\"size\":5},\"mode\":\"markers\",\"name\":\"Lumina\",\"orientation\":\"v\",\"showlegend\":true,\"x\":[25.0],\"xaxis\":\"x\",\"y\":[24.629],\"yaxis\":\"y\",\"type\":\"scatter\"},{\"hovertemplate\":\"Model=Monte Carlo<br>Fuel_efficiency=%{x}<br>Sales_in_thousands=%{y}<extra></extra>\",\"legendgroup\":\"Monte Carlo\",\"marker\":{\"color\":\"#00cc96\",\"symbol\":\"circle\",\"size\":5},\"mode\":\"markers\",\"name\":\"Monte Carlo\",\"orientation\":\"v\",\"showlegend\":true,\"x\":[27.0],\"xaxis\":\"x\",\"y\":[42.593],\"yaxis\":\"y\",\"type\":\"scatter\"},{\"hovertemplate\":\"Model=Camaro<br>Fuel_efficiency=%{x}<br>Sales_in_thousands=%{y}<extra></extra>\",\"legendgroup\":\"Camaro\",\"marker\":{\"color\":\"#ab63fa\",\"symbol\":\"circle\",\"size\":5},\"mode\":\"markers\",\"name\":\"Camaro\",\"orientation\":\"v\",\"showlegend\":true,\"x\":[25.0],\"xaxis\":\"x\",\"y\":[26.402],\"yaxis\":\"y\",\"type\":\"scatter\"},{\"hovertemplate\":\"Model=Corvette<br>Fuel_efficiency=%{x}<br>Sales_in_thousands=%{y}<extra></extra>\",\"legendgroup\":\"Corvette\",\"marker\":{\"color\":\"#FFA15A\",\"symbol\":\"circle\",\"size\":5},\"mode\":\"markers\",\"name\":\"Corvette\",\"orientation\":\"v\",\"showlegend\":true,\"x\":[22.0],\"xaxis\":\"x\",\"y\":[17.947],\"yaxis\":\"y\",\"type\":\"scatter\"},{\"hovertemplate\":\"Model=Prizm<br>Fuel_efficiency=%{x}<br>Sales_in_thousands=%{y}<extra></extra>\",\"legendgroup\":\"Prizm\",\"marker\":{\"color\":\"#19d3f3\",\"symbol\":\"circle\",\"size\":5},\"mode\":\"markers\",\"name\":\"Prizm\",\"orientation\":\"v\",\"showlegend\":true,\"x\":[33.0],\"xaxis\":\"x\",\"y\":[32.299],\"yaxis\":\"y\",\"type\":\"scatter\"},{\"hovertemplate\":\"Model=Metro<br>Fuel_efficiency=%{x}<br>Sales_in_thousands=%{y}<extra></extra>\",\"legendgroup\":\"Metro\",\"marker\":{\"color\":\"#FF6692\",\"symbol\":\"circle\",\"size\":5},\"mode\":\"markers\",\"name\":\"Metro\",\"orientation\":\"v\",\"showlegend\":true,\"x\":[45.0],\"xaxis\":\"x\",\"y\":[21.855],\"yaxis\":\"y\",\"type\":\"scatter\"},{\"hovertemplate\":\"Model=Impala<br>Fuel_efficiency=%{x}<br>Sales_in_thousands=%{y}<extra></extra>\",\"legendgroup\":\"Impala\",\"marker\":{\"color\":\"#B6E880\",\"symbol\":\"circle\",\"size\":5},\"mode\":\"markers\",\"name\":\"Impala\",\"orientation\":\"v\",\"showlegend\":true,\"x\":[27.0],\"xaxis\":\"x\",\"y\":[107.995],\"yaxis\":\"y\",\"type\":\"scatter\"},{\"hovertemplate\":\"Model=Sebring Coupe<br>Fuel_efficiency=%{x}<br>Sales_in_thousands=%{y}<extra></extra>\",\"legendgroup\":\"Sebring Coupe\",\"marker\":{\"color\":\"#FF97FF\",\"symbol\":\"circle\",\"size\":5},\"mode\":\"markers\",\"name\":\"Sebring Coupe\",\"orientation\":\"v\",\"showlegend\":true,\"x\":[24.0],\"xaxis\":\"x\",\"y\":[7.854],\"yaxis\":\"y\",\"type\":\"scatter\"},{\"hovertemplate\":\"Model=Sebring Conv.<br>Fuel_efficiency=%{x}<br>Sales_in_thousands=%{y}<extra></extra>\",\"legendgroup\":\"Sebring Conv.\",\"marker\":{\"color\":\"#FECB52\",\"symbol\":\"circle\",\"size\":5},\"mode\":\"markers\",\"name\":\"Sebring Conv.\",\"orientation\":\"v\",\"showlegend\":true,\"x\":[24.0],\"xaxis\":\"x\",\"y\":[32.775],\"yaxis\":\"y\",\"type\":\"scatter\"},{\"hovertemplate\":\"Model=Concorde<br>Fuel_efficiency=%{x}<br>Sales_in_thousands=%{y}<extra></extra>\",\"legendgroup\":\"Concorde\",\"marker\":{\"color\":\"#636efa\",\"symbol\":\"circle\",\"size\":5},\"mode\":\"markers\",\"name\":\"Concorde\",\"orientation\":\"v\",\"showlegend\":true,\"x\":[26.0],\"xaxis\":\"x\",\"y\":[31.148],\"yaxis\":\"y\",\"type\":\"scatter\"},{\"hovertemplate\":\"Model=Cirrus<br>Fuel_efficiency=%{x}<br>Sales_in_thousands=%{y}<extra></extra>\",\"legendgroup\":\"Cirrus\",\"marker\":{\"color\":\"#EF553B\",\"symbol\":\"circle\",\"size\":5},\"mode\":\"markers\",\"name\":\"Cirrus\",\"orientation\":\"v\",\"showlegend\":true,\"x\":[27.0],\"xaxis\":\"x\",\"y\":[32.306],\"yaxis\":\"y\",\"type\":\"scatter\"},{\"hovertemplate\":\"Model=LHS<br>Fuel_efficiency=%{x}<br>Sales_in_thousands=%{y}<extra></extra>\",\"legendgroup\":\"LHS\",\"marker\":{\"color\":\"#00cc96\",\"symbol\":\"circle\",\"size\":5},\"mode\":\"markers\",\"name\":\"LHS\",\"orientation\":\"v\",\"showlegend\":true,\"x\":[23.0],\"xaxis\":\"x\",\"y\":[13.462],\"yaxis\":\"y\",\"type\":\"scatter\"},{\"hovertemplate\":\"Model=Town & Country<br>Fuel_efficiency=%{x}<br>Sales_in_thousands=%{y}<extra></extra>\",\"legendgroup\":\"Town & Country\",\"marker\":{\"color\":\"#ab63fa\",\"symbol\":\"circle\",\"size\":5},\"mode\":\"markers\",\"name\":\"Town & Country\",\"orientation\":\"v\",\"showlegend\":true,\"x\":[null],\"xaxis\":\"x\",\"y\":[53.48],\"yaxis\":\"y\",\"type\":\"scatter\"},{\"hovertemplate\":\"Model=300M<br>Fuel_efficiency=%{x}<br>Sales_in_thousands=%{y}<extra></extra>\",\"legendgroup\":\"300M\",\"marker\":{\"color\":\"#FFA15A\",\"symbol\":\"circle\",\"size\":5},\"mode\":\"markers\",\"name\":\"300M\",\"orientation\":\"v\",\"showlegend\":true,\"x\":[23.0],\"xaxis\":\"x\",\"y\":[30.696],\"yaxis\":\"y\",\"type\":\"scatter\"},{\"hovertemplate\":\"Model=Neon<br>Fuel_efficiency=%{x}<br>Sales_in_thousands=%{y}<extra></extra>\",\"legendgroup\":\"Neon\",\"marker\":{\"color\":\"#19d3f3\",\"symbol\":\"circle\",\"size\":5},\"mode\":\"markers\",\"name\":\"Neon\",\"orientation\":\"v\",\"showlegend\":true,\"x\":[29.0,29.0,29.0,29.0],\"xaxis\":\"x\",\"y\":[76.034,76.034,32.734,32.734],\"yaxis\":\"y\",\"type\":\"scatter\"},{\"hovertemplate\":\"Model=Avenger<br>Fuel_efficiency=%{x}<br>Sales_in_thousands=%{y}<extra></extra>\",\"legendgroup\":\"Avenger\",\"marker\":{\"color\":\"#FF6692\",\"symbol\":\"circle\",\"size\":5},\"mode\":\"markers\",\"name\":\"Avenger\",\"orientation\":\"v\",\"showlegend\":true,\"x\":[24.0],\"xaxis\":\"x\",\"y\":[4.734],\"yaxis\":\"y\",\"type\":\"scatter\"},{\"hovertemplate\":\"Model=Stratus<br>Fuel_efficiency=%{x}<br>Sales_in_thousands=%{y}<extra></extra>\",\"legendgroup\":\"Stratus\",\"marker\":{\"color\":\"#B6E880\",\"symbol\":\"circle\",\"size\":5},\"mode\":\"markers\",\"name\":\"Stratus\",\"orientation\":\"v\",\"showlegend\":true,\"x\":[24.0],\"xaxis\":\"x\",\"y\":[71.186],\"yaxis\":\"y\",\"type\":\"scatter\"},{\"hovertemplate\":\"Model=Intrepid<br>Fuel_efficiency=%{x}<br>Sales_in_thousands=%{y}<extra></extra>\",\"legendgroup\":\"Intrepid\",\"marker\":{\"color\":\"#FF97FF\",\"symbol\":\"circle\",\"size\":5},\"mode\":\"markers\",\"name\":\"Intrepid\",\"orientation\":\"v\",\"showlegend\":true,\"x\":[null],\"xaxis\":\"x\",\"y\":[88.028],\"yaxis\":\"y\",\"type\":\"scatter\"},{\"hovertemplate\":\"Model=Viper<br>Fuel_efficiency=%{x}<br>Sales_in_thousands=%{y}<extra></extra>\",\"legendgroup\":\"Viper\",\"marker\":{\"color\":\"#FECB52\",\"symbol\":\"circle\",\"size\":5},\"mode\":\"markers\",\"name\":\"Viper\",\"orientation\":\"v\",\"showlegend\":true,\"x\":[16.0],\"xaxis\":\"x\",\"y\":[0.916],\"yaxis\":\"y\",\"type\":\"scatter\"},{\"hovertemplate\":\"Model=Ram Pickup<br>Fuel_efficiency=%{x}<br>Sales_in_thousands=%{y}<extra></extra>\",\"legendgroup\":\"Ram Pickup\",\"marker\":{\"color\":\"#636efa\",\"symbol\":\"circle\",\"size\":5},\"mode\":\"markers\",\"name\":\"Ram Pickup\",\"orientation\":\"v\",\"showlegend\":true,\"x\":[17.0],\"xaxis\":\"x\",\"y\":[227.061],\"yaxis\":\"y\",\"type\":\"scatter\"},{\"hovertemplate\":\"Model=Ram Wagon<br>Fuel_efficiency=%{x}<br>Sales_in_thousands=%{y}<extra></extra>\",\"legendgroup\":\"Ram Wagon\",\"marker\":{\"color\":\"#EF553B\",\"symbol\":\"circle\",\"size\":5},\"mode\":\"markers\",\"name\":\"Ram Wagon\",\"orientation\":\"v\",\"showlegend\":true,\"x\":[15.0],\"xaxis\":\"x\",\"y\":[16.767],\"yaxis\":\"y\",\"type\":\"scatter\"},{\"hovertemplate\":\"Model=Ram Van<br>Fuel_efficiency=%{x}<br>Sales_in_thousands=%{y}<extra></extra>\",\"legendgroup\":\"Ram Van\",\"marker\":{\"color\":\"#00cc96\",\"symbol\":\"circle\",\"size\":5},\"mode\":\"markers\",\"name\":\"Ram Van\",\"orientation\":\"v\",\"showlegend\":true,\"x\":[16.0],\"xaxis\":\"x\",\"y\":[31.038],\"yaxis\":\"y\",\"type\":\"scatter\"},{\"hovertemplate\":\"Model=Dakota<br>Fuel_efficiency=%{x}<br>Sales_in_thousands=%{y}<extra></extra>\",\"legendgroup\":\"Dakota\",\"marker\":{\"color\":\"#ab63fa\",\"symbol\":\"circle\",\"size\":5},\"mode\":\"markers\",\"name\":\"Dakota\",\"orientation\":\"v\",\"showlegend\":true,\"x\":[19.0],\"xaxis\":\"x\",\"y\":[111.313],\"yaxis\":\"y\",\"type\":\"scatter\"},{\"hovertemplate\":\"Model=Durango<br>Fuel_efficiency=%{x}<br>Sales_in_thousands=%{y}<extra></extra>\",\"legendgroup\":\"Durango\",\"marker\":{\"color\":\"#FFA15A\",\"symbol\":\"circle\",\"size\":5},\"mode\":\"markers\",\"name\":\"Durango\",\"orientation\":\"v\",\"showlegend\":true,\"x\":[17.0],\"xaxis\":\"x\",\"y\":[101.323],\"yaxis\":\"y\",\"type\":\"scatter\"},{\"hovertemplate\":\"Model=Caravan<br>Fuel_efficiency=%{x}<br>Sales_in_thousands=%{y}<extra></extra>\",\"legendgroup\":\"Caravan\",\"marker\":{\"color\":\"#19d3f3\",\"symbol\":\"circle\",\"size\":5},\"mode\":\"markers\",\"name\":\"Caravan\",\"orientation\":\"v\",\"showlegend\":true,\"x\":[24.0],\"xaxis\":\"x\",\"y\":[181.749],\"yaxis\":\"y\",\"type\":\"scatter\"},{\"hovertemplate\":\"Model=Escort<br>Fuel_efficiency=%{x}<br>Sales_in_thousands=%{y}<extra></extra>\",\"legendgroup\":\"Escort\",\"marker\":{\"color\":\"#FF6692\",\"symbol\":\"circle\",\"size\":5},\"mode\":\"markers\",\"name\":\"Escort\",\"orientation\":\"v\",\"showlegend\":true,\"x\":[30.0],\"xaxis\":\"x\",\"y\":[70.227],\"yaxis\":\"y\",\"type\":\"scatter\"},{\"hovertemplate\":\"Model=Mustang<br>Fuel_efficiency=%{x}<br>Sales_in_thousands=%{y}<extra></extra>\",\"legendgroup\":\"Mustang\",\"marker\":{\"color\":\"#B6E880\",\"symbol\":\"circle\",\"size\":5},\"mode\":\"markers\",\"name\":\"Mustang\",\"orientation\":\"v\",\"showlegend\":true,\"x\":[24.0],\"xaxis\":\"x\",\"y\":[113.369],\"yaxis\":\"y\",\"type\":\"scatter\"},{\"hovertemplate\":\"Model=Contour<br>Fuel_efficiency=%{x}<br>Sales_in_thousands=%{y}<extra></extra>\",\"legendgroup\":\"Contour\",\"marker\":{\"color\":\"#FF97FF\",\"symbol\":\"circle\",\"size\":5},\"mode\":\"markers\",\"name\":\"Contour\",\"orientation\":\"v\",\"showlegend\":true,\"x\":[25.0],\"xaxis\":\"x\",\"y\":[35.068],\"yaxis\":\"y\",\"type\":\"scatter\"},{\"hovertemplate\":\"Model=Taurus<br>Fuel_efficiency=%{x}<br>Sales_in_thousands=%{y}<extra></extra>\",\"legendgroup\":\"Taurus\",\"marker\":{\"color\":\"#FECB52\",\"symbol\":\"circle\",\"size\":5},\"mode\":\"markers\",\"name\":\"Taurus\",\"orientation\":\"v\",\"showlegend\":true,\"x\":[24.0],\"xaxis\":\"x\",\"y\":[245.815],\"yaxis\":\"y\",\"type\":\"scatter\"},{\"hovertemplate\":\"Model=Focus<br>Fuel_efficiency=%{x}<br>Sales_in_thousands=%{y}<extra></extra>\",\"legendgroup\":\"Focus\",\"marker\":{\"color\":\"#636efa\",\"symbol\":\"circle\",\"size\":5},\"mode\":\"markers\",\"name\":\"Focus\",\"orientation\":\"v\",\"showlegend\":true,\"x\":[30.0],\"xaxis\":\"x\",\"y\":[175.67],\"yaxis\":\"y\",\"type\":\"scatter\"},{\"hovertemplate\":\"Model=Crown Victoria<br>Fuel_efficiency=%{x}<br>Sales_in_thousands=%{y}<extra></extra>\",\"legendgroup\":\"Crown Victoria\",\"marker\":{\"color\":\"#EF553B\",\"symbol\":\"circle\",\"size\":5},\"mode\":\"markers\",\"name\":\"Crown Victoria\",\"orientation\":\"v\",\"showlegend\":true,\"x\":[21.0],\"xaxis\":\"x\",\"y\":[63.403],\"yaxis\":\"y\",\"type\":\"scatter\"},{\"hovertemplate\":\"Model=Explorer<br>Fuel_efficiency=%{x}<br>Sales_in_thousands=%{y}<extra></extra>\",\"legendgroup\":\"Explorer\",\"marker\":{\"color\":\"#00cc96\",\"symbol\":\"circle\",\"size\":5},\"mode\":\"markers\",\"name\":\"Explorer\",\"orientation\":\"v\",\"showlegend\":true,\"x\":[19.0],\"xaxis\":\"x\",\"y\":[276.747],\"yaxis\":\"y\",\"type\":\"scatter\"},{\"hovertemplate\":\"Model=Windstar<br>Fuel_efficiency=%{x}<br>Sales_in_thousands=%{y}<extra></extra>\",\"legendgroup\":\"Windstar\",\"marker\":{\"color\":\"#ab63fa\",\"symbol\":\"circle\",\"size\":5},\"mode\":\"markers\",\"name\":\"Windstar\",\"orientation\":\"v\",\"showlegend\":true,\"x\":[21.0],\"xaxis\":\"x\",\"y\":[155.787],\"yaxis\":\"y\",\"type\":\"scatter\"},{\"hovertemplate\":\"Model=Expedition<br>Fuel_efficiency=%{x}<br>Sales_in_thousands=%{y}<extra></extra>\",\"legendgroup\":\"Expedition\",\"marker\":{\"color\":\"#FFA15A\",\"symbol\":\"circle\",\"size\":5},\"mode\":\"markers\",\"name\":\"Expedition\",\"orientation\":\"v\",\"showlegend\":true,\"x\":[16.0],\"xaxis\":\"x\",\"y\":[125.338],\"yaxis\":\"y\",\"type\":\"scatter\"},{\"hovertemplate\":\"Model=Ranger<br>Fuel_efficiency=%{x}<br>Sales_in_thousands=%{y}<extra></extra>\",\"legendgroup\":\"Ranger\",\"marker\":{\"color\":\"#19d3f3\",\"symbol\":\"circle\",\"size\":5},\"mode\":\"markers\",\"name\":\"Ranger\",\"orientation\":\"v\",\"showlegend\":true,\"x\":[23.0],\"xaxis\":\"x\",\"y\":[220.65],\"yaxis\":\"y\",\"type\":\"scatter\"},{\"hovertemplate\":\"Model=F-Series<br>Fuel_efficiency=%{x}<br>Sales_in_thousands=%{y}<extra></extra>\",\"legendgroup\":\"F-Series\",\"marker\":{\"color\":\"#FF6692\",\"symbol\":\"circle\",\"size\":5},\"mode\":\"markers\",\"name\":\"F-Series\",\"orientation\":\"v\",\"showlegend\":true,\"x\":[18.0],\"xaxis\":\"x\",\"y\":[540.561],\"yaxis\":\"y\",\"type\":\"scatter\"},{\"hovertemplate\":\"Model=Civic<br>Fuel_efficiency=%{x}<br>Sales_in_thousands=%{y}<extra></extra>\",\"legendgroup\":\"Civic\",\"marker\":{\"color\":\"#B6E880\",\"symbol\":\"circle\",\"size\":5},\"mode\":\"markers\",\"name\":\"Civic\",\"orientation\":\"v\",\"showlegend\":true,\"x\":[32.0],\"xaxis\":\"x\",\"y\":[199.685],\"yaxis\":\"y\",\"type\":\"scatter\"},{\"hovertemplate\":\"Model=Accord<br>Fuel_efficiency=%{x}<br>Sales_in_thousands=%{y}<extra></extra>\",\"legendgroup\":\"Accord\",\"marker\":{\"color\":\"#FF97FF\",\"symbol\":\"circle\",\"size\":5},\"mode\":\"markers\",\"name\":\"Accord\",\"orientation\":\"v\",\"showlegend\":true,\"x\":[27.0],\"xaxis\":\"x\",\"y\":[230.902],\"yaxis\":\"y\",\"type\":\"scatter\"},{\"hovertemplate\":\"Model=CR-V<br>Fuel_efficiency=%{x}<br>Sales_in_thousands=%{y}<extra></extra>\",\"legendgroup\":\"CR-V\",\"marker\":{\"color\":\"#FECB52\",\"symbol\":\"circle\",\"size\":5},\"mode\":\"markers\",\"name\":\"CR-V\",\"orientation\":\"v\",\"showlegend\":true,\"x\":[24.0],\"xaxis\":\"x\",\"y\":[73.203],\"yaxis\":\"y\",\"type\":\"scatter\"},{\"hovertemplate\":\"Model=Passport<br>Fuel_efficiency=%{x}<br>Sales_in_thousands=%{y}<extra></extra>\",\"legendgroup\":\"Passport\",\"marker\":{\"color\":\"#636efa\",\"symbol\":\"circle\",\"size\":5},\"mode\":\"markers\",\"name\":\"Passport\",\"orientation\":\"v\",\"showlegend\":true,\"x\":[19.0],\"xaxis\":\"x\",\"y\":[12.855],\"yaxis\":\"y\",\"type\":\"scatter\"},{\"hovertemplate\":\"Model=Odyssey<br>Fuel_efficiency=%{x}<br>Sales_in_thousands=%{y}<extra></extra>\",\"legendgroup\":\"Odyssey\",\"marker\":{\"color\":\"#EF553B\",\"symbol\":\"circle\",\"size\":5},\"mode\":\"markers\",\"name\":\"Odyssey\",\"orientation\":\"v\",\"showlegend\":true,\"x\":[23.0],\"xaxis\":\"x\",\"y\":[76.029],\"yaxis\":\"y\",\"type\":\"scatter\"},{\"hovertemplate\":\"Model=Accent<br>Fuel_efficiency=%{x}<br>Sales_in_thousands=%{y}<extra></extra>\",\"legendgroup\":\"Accent\",\"marker\":{\"color\":\"#00cc96\",\"symbol\":\"circle\",\"size\":5},\"mode\":\"markers\",\"name\":\"Accent\",\"orientation\":\"v\",\"showlegend\":true,\"x\":[31.0],\"xaxis\":\"x\",\"y\":[41.184],\"yaxis\":\"y\",\"type\":\"scatter\"},{\"hovertemplate\":\"Model=Elantra<br>Fuel_efficiency=%{x}<br>Sales_in_thousands=%{y}<extra></extra>\",\"legendgroup\":\"Elantra\",\"marker\":{\"color\":\"#ab63fa\",\"symbol\":\"circle\",\"size\":5},\"mode\":\"markers\",\"name\":\"Elantra\",\"orientation\":\"v\",\"showlegend\":true,\"x\":[27.0],\"xaxis\":\"x\",\"y\":[66.692],\"yaxis\":\"y\",\"type\":\"scatter\"},{\"hovertemplate\":\"Model=Sonata<br>Fuel_efficiency=%{x}<br>Sales_in_thousands=%{y}<extra></extra>\",\"legendgroup\":\"Sonata\",\"marker\":{\"color\":\"#FFA15A\",\"symbol\":\"circle\",\"size\":5},\"mode\":\"markers\",\"name\":\"Sonata\",\"orientation\":\"v\",\"showlegend\":true,\"x\":[25.0],\"xaxis\":\"x\",\"y\":[29.45],\"yaxis\":\"y\",\"type\":\"scatter\"},{\"hovertemplate\":\"Model=I30<br>Fuel_efficiency=%{x}<br>Sales_in_thousands=%{y}<extra></extra>\",\"legendgroup\":\"I30\",\"marker\":{\"color\":\"#19d3f3\",\"symbol\":\"circle\",\"size\":5},\"mode\":\"markers\",\"name\":\"I30\",\"orientation\":\"v\",\"showlegend\":true,\"x\":[25.0],\"xaxis\":\"x\",\"y\":[23.713],\"yaxis\":\"y\",\"type\":\"scatter\"},{\"hovertemplate\":\"Model=S-Type<br>Fuel_efficiency=%{x}<br>Sales_in_thousands=%{y}<extra></extra>\",\"legendgroup\":\"S-Type\",\"marker\":{\"color\":\"#FF6692\",\"symbol\":\"circle\",\"size\":5},\"mode\":\"markers\",\"name\":\"S-Type\",\"orientation\":\"v\",\"showlegend\":true,\"x\":[21.0],\"xaxis\":\"x\",\"y\":[15.467],\"yaxis\":\"y\",\"type\":\"scatter\"},{\"hovertemplate\":\"Model=Wrangler<br>Fuel_efficiency=%{x}<br>Sales_in_thousands=%{y}<extra></extra>\",\"legendgroup\":\"Wrangler\",\"marker\":{\"color\":\"#B6E880\",\"symbol\":\"circle\",\"size\":5},\"mode\":\"markers\",\"name\":\"Wrangler\",\"orientation\":\"v\",\"showlegend\":true,\"x\":[17.0],\"xaxis\":\"x\",\"y\":[55.557],\"yaxis\":\"y\",\"type\":\"scatter\"},{\"hovertemplate\":\"Model=Cherokee<br>Fuel_efficiency=%{x}<br>Sales_in_thousands=%{y}<extra></extra>\",\"legendgroup\":\"Cherokee\",\"marker\":{\"color\":\"#FF97FF\",\"symbol\":\"circle\",\"size\":5},\"mode\":\"markers\",\"name\":\"Cherokee\",\"orientation\":\"v\",\"showlegend\":true,\"x\":[20.0],\"xaxis\":\"x\",\"y\":[80.556],\"yaxis\":\"y\",\"type\":\"scatter\"},{\"hovertemplate\":\"Model=Grand Cherokee<br>Fuel_efficiency=%{x}<br>Sales_in_thousands=%{y}<extra></extra>\",\"legendgroup\":\"Grand Cherokee\",\"marker\":{\"color\":\"#FECB52\",\"symbol\":\"circle\",\"size\":5},\"mode\":\"markers\",\"name\":\"Grand Cherokee\",\"orientation\":\"v\",\"showlegend\":true,\"x\":[19.0],\"xaxis\":\"x\",\"y\":[157.04],\"yaxis\":\"y\",\"type\":\"scatter\"},{\"hovertemplate\":\"Model=ES300<br>Fuel_efficiency=%{x}<br>Sales_in_thousands=%{y}<extra></extra>\",\"legendgroup\":\"ES300\",\"marker\":{\"color\":\"#636efa\",\"symbol\":\"circle\",\"size\":5},\"mode\":\"markers\",\"name\":\"ES300\",\"orientation\":\"v\",\"showlegend\":true,\"x\":[23.0],\"xaxis\":\"x\",\"y\":[24.072],\"yaxis\":\"y\",\"type\":\"scatter\"},{\"hovertemplate\":\"Model=GS300<br>Fuel_efficiency=%{x}<br>Sales_in_thousands=%{y}<extra></extra>\",\"legendgroup\":\"GS300\",\"marker\":{\"color\":\"#EF553B\",\"symbol\":\"circle\",\"size\":5},\"mode\":\"markers\",\"name\":\"GS300\",\"orientation\":\"v\",\"showlegend\":true,\"x\":[23.0],\"xaxis\":\"x\",\"y\":[12.698],\"yaxis\":\"y\",\"type\":\"scatter\"},{\"hovertemplate\":\"Model=GS400<br>Fuel_efficiency=%{x}<br>Sales_in_thousands=%{y}<extra></extra>\",\"legendgroup\":\"GS400\",\"marker\":{\"color\":\"#00cc96\",\"symbol\":\"circle\",\"size\":5},\"mode\":\"markers\",\"name\":\"GS400\",\"orientation\":\"v\",\"showlegend\":true,\"x\":[21.0],\"xaxis\":\"x\",\"y\":[3.334],\"yaxis\":\"y\",\"type\":\"scatter\"},{\"hovertemplate\":\"Model=LS400<br>Fuel_efficiency=%{x}<br>Sales_in_thousands=%{y}<extra></extra>\",\"legendgroup\":\"LS400\",\"marker\":{\"color\":\"#ab63fa\",\"symbol\":\"circle\",\"size\":5},\"mode\":\"markers\",\"name\":\"LS400\",\"orientation\":\"v\",\"showlegend\":true,\"x\":[22.0],\"xaxis\":\"x\",\"y\":[6.375],\"yaxis\":\"y\",\"type\":\"scatter\"},{\"hovertemplate\":\"Model=LX470<br>Fuel_efficiency=%{x}<br>Sales_in_thousands=%{y}<extra></extra>\",\"legendgroup\":\"LX470\",\"marker\":{\"color\":\"#FFA15A\",\"symbol\":\"circle\",\"size\":5},\"mode\":\"markers\",\"name\":\"LX470\",\"orientation\":\"v\",\"showlegend\":true,\"x\":[15.0],\"xaxis\":\"x\",\"y\":[9.126],\"yaxis\":\"y\",\"type\":\"scatter\"},{\"hovertemplate\":\"Model=RX300<br>Fuel_efficiency=%{x}<br>Sales_in_thousands=%{y}<extra></extra>\",\"legendgroup\":\"RX300\",\"marker\":{\"color\":\"#19d3f3\",\"symbol\":\"circle\",\"size\":5},\"mode\":\"markers\",\"name\":\"RX300\",\"orientation\":\"v\",\"showlegend\":true,\"x\":[21.0],\"xaxis\":\"x\",\"y\":[51.238],\"yaxis\":\"y\",\"type\":\"scatter\"},{\"hovertemplate\":\"Model=Continental<br>Fuel_efficiency=%{x}<br>Sales_in_thousands=%{y}<extra></extra>\",\"legendgroup\":\"Continental\",\"marker\":{\"color\":\"#FF6692\",\"symbol\":\"circle\",\"size\":5},\"mode\":\"markers\",\"name\":\"Continental\",\"orientation\":\"v\",\"showlegend\":true,\"x\":[22.0],\"xaxis\":\"x\",\"y\":[13.798],\"yaxis\":\"y\",\"type\":\"scatter\"},{\"hovertemplate\":\"Model=Town car<br>Fuel_efficiency=%{x}<br>Sales_in_thousands=%{y}<extra></extra>\",\"legendgroup\":\"Town car\",\"marker\":{\"color\":\"#B6E880\",\"symbol\":\"circle\",\"size\":5},\"mode\":\"markers\",\"name\":\"Town car\",\"orientation\":\"v\",\"showlegend\":true,\"x\":[21.0],\"xaxis\":\"x\",\"y\":[48.911],\"yaxis\":\"y\",\"type\":\"scatter\"},{\"hovertemplate\":\"Model=Navigator<br>Fuel_efficiency=%{x}<br>Sales_in_thousands=%{y}<extra></extra>\",\"legendgroup\":\"Navigator\",\"marker\":{\"color\":\"#FF97FF\",\"symbol\":\"circle\",\"size\":5},\"mode\":\"markers\",\"name\":\"Navigator\",\"orientation\":\"v\",\"showlegend\":true,\"x\":[15.0],\"xaxis\":\"x\",\"y\":[22.925],\"yaxis\":\"y\",\"type\":\"scatter\"},{\"hovertemplate\":\"Model=Mirage<br>Fuel_efficiency=%{x}<br>Sales_in_thousands=%{y}<extra></extra>\",\"legendgroup\":\"Mirage\",\"marker\":{\"color\":\"#FECB52\",\"symbol\":\"circle\",\"size\":5},\"mode\":\"markers\",\"name\":\"Mirage\",\"orientation\":\"v\",\"showlegend\":true,\"x\":[30.0],\"xaxis\":\"x\",\"y\":[26.232],\"yaxis\":\"y\",\"type\":\"scatter\"},{\"hovertemplate\":\"Model=Eclipse<br>Fuel_efficiency=%{x}<br>Sales_in_thousands=%{y}<extra></extra>\",\"legendgroup\":\"Eclipse\",\"marker\":{\"color\":\"#636efa\",\"symbol\":\"circle\",\"size\":5},\"mode\":\"markers\",\"name\":\"Eclipse\",\"orientation\":\"v\",\"showlegend\":true,\"x\":[24.0],\"xaxis\":\"x\",\"y\":[42.541],\"yaxis\":\"y\",\"type\":\"scatter\"},{\"hovertemplate\":\"Model=Galant<br>Fuel_efficiency=%{x}<br>Sales_in_thousands=%{y}<extra></extra>\",\"legendgroup\":\"Galant\",\"marker\":{\"color\":\"#EF553B\",\"symbol\":\"circle\",\"size\":5},\"mode\":\"markers\",\"name\":\"Galant\",\"orientation\":\"v\",\"showlegend\":true,\"x\":[25.0],\"xaxis\":\"x\",\"y\":[55.616],\"yaxis\":\"y\",\"type\":\"scatter\"},{\"hovertemplate\":\"Model=Diamante<br>Fuel_efficiency=%{x}<br>Sales_in_thousands=%{y}<extra></extra>\",\"legendgroup\":\"Diamante\",\"marker\":{\"color\":\"#00cc96\",\"symbol\":\"circle\",\"size\":5},\"mode\":\"markers\",\"name\":\"Diamante\",\"orientation\":\"v\",\"showlegend\":true,\"x\":[22.0],\"xaxis\":\"x\",\"y\":[5.711],\"yaxis\":\"y\",\"type\":\"scatter\"},{\"hovertemplate\":\"Model=3000GT<br>Fuel_efficiency=%{x}<br>Sales_in_thousands=%{y}<extra></extra>\",\"legendgroup\":\"3000GT\",\"marker\":{\"color\":\"#ab63fa\",\"symbol\":\"circle\",\"size\":5},\"mode\":\"markers\",\"name\":\"3000GT\",\"orientation\":\"v\",\"showlegend\":true,\"x\":[21.0],\"xaxis\":\"x\",\"y\":[0.11],\"yaxis\":\"y\",\"type\":\"scatter\"},{\"hovertemplate\":\"Model=Montero<br>Fuel_efficiency=%{x}<br>Sales_in_thousands=%{y}<extra></extra>\",\"legendgroup\":\"Montero\",\"marker\":{\"color\":\"#FFA15A\",\"symbol\":\"circle\",\"size\":5},\"mode\":\"markers\",\"name\":\"Montero\",\"orientation\":\"v\",\"showlegend\":true,\"x\":[18.0],\"xaxis\":\"x\",\"y\":[11.337],\"yaxis\":\"y\",\"type\":\"scatter\"},{\"hovertemplate\":\"Model=Montero Sport<br>Fuel_efficiency=%{x}<br>Sales_in_thousands=%{y}<extra></extra>\",\"legendgroup\":\"Montero Sport\",\"marker\":{\"color\":\"#19d3f3\",\"symbol\":\"circle\",\"size\":5},\"mode\":\"markers\",\"name\":\"Montero Sport\",\"orientation\":\"v\",\"showlegend\":true,\"x\":[20.0],\"xaxis\":\"x\",\"y\":[39.348],\"yaxis\":\"y\",\"type\":\"scatter\"},{\"hovertemplate\":\"Model=Mystique<br>Fuel_efficiency=%{x}<br>Sales_in_thousands=%{y}<extra></extra>\",\"legendgroup\":\"Mystique\",\"marker\":{\"color\":\"#FF6692\",\"symbol\":\"circle\",\"size\":5},\"mode\":\"markers\",\"name\":\"Mystique\",\"orientation\":\"v\",\"showlegend\":true,\"x\":[28.0],\"xaxis\":\"x\",\"y\":[14.351],\"yaxis\":\"y\",\"type\":\"scatter\"},{\"hovertemplate\":\"Model=Cougar<br>Fuel_efficiency=%{x}<br>Sales_in_thousands=%{y}<extra></extra>\",\"legendgroup\":\"Cougar\",\"marker\":{\"color\":\"#B6E880\",\"symbol\":\"circle\",\"size\":5},\"mode\":\"markers\",\"name\":\"Cougar\",\"orientation\":\"v\",\"showlegend\":true,\"x\":[30.0],\"xaxis\":\"x\",\"y\":[26.529],\"yaxis\":\"y\",\"type\":\"scatter\"},{\"hovertemplate\":\"Model=Sable<br>Fuel_efficiency=%{x}<br>Sales_in_thousands=%{y}<extra></extra>\",\"legendgroup\":\"Sable\",\"marker\":{\"color\":\"#FF97FF\",\"symbol\":\"circle\",\"size\":5},\"mode\":\"markers\",\"name\":\"Sable\",\"orientation\":\"v\",\"showlegend\":true,\"x\":[24.0],\"xaxis\":\"x\",\"y\":[67.956],\"yaxis\":\"y\",\"type\":\"scatter\"},{\"hovertemplate\":\"Model=Grand Marquis<br>Fuel_efficiency=%{x}<br>Sales_in_thousands=%{y}<extra></extra>\",\"legendgroup\":\"Grand Marquis\",\"marker\":{\"color\":\"#FECB52\",\"symbol\":\"circle\",\"size\":5},\"mode\":\"markers\",\"name\":\"Grand Marquis\",\"orientation\":\"v\",\"showlegend\":true,\"x\":[21.0],\"xaxis\":\"x\",\"y\":[81.174],\"yaxis\":\"y\",\"type\":\"scatter\"},{\"hovertemplate\":\"Model=Mountaineer<br>Fuel_efficiency=%{x}<br>Sales_in_thousands=%{y}<extra></extra>\",\"legendgroup\":\"Mountaineer\",\"marker\":{\"color\":\"#636efa\",\"symbol\":\"circle\",\"size\":5},\"mode\":\"markers\",\"name\":\"Mountaineer\",\"orientation\":\"v\",\"showlegend\":true,\"x\":[18.0],\"xaxis\":\"x\",\"y\":[27.609],\"yaxis\":\"y\",\"type\":\"scatter\"},{\"hovertemplate\":\"Model=Villager<br>Fuel_efficiency=%{x}<br>Sales_in_thousands=%{y}<extra></extra>\",\"legendgroup\":\"Villager\",\"marker\":{\"color\":\"#EF553B\",\"symbol\":\"circle\",\"size\":5},\"mode\":\"markers\",\"name\":\"Villager\",\"orientation\":\"v\",\"showlegend\":true,\"x\":[21.0],\"xaxis\":\"x\",\"y\":[20.38],\"yaxis\":\"y\",\"type\":\"scatter\"},{\"hovertemplate\":\"Model=C-Class<br>Fuel_efficiency=%{x}<br>Sales_in_thousands=%{y}<extra></extra>\",\"legendgroup\":\"C-Class\",\"marker\":{\"color\":\"#00cc96\",\"symbol\":\"circle\",\"size\":5},\"mode\":\"markers\",\"name\":\"C-Class\",\"orientation\":\"v\",\"showlegend\":true,\"x\":[26.0],\"xaxis\":\"x\",\"y\":[18.392],\"yaxis\":\"y\",\"type\":\"scatter\"},{\"hovertemplate\":\"Model=E-Class<br>Fuel_efficiency=%{x}<br>Sales_in_thousands=%{y}<extra></extra>\",\"legendgroup\":\"E-Class\",\"marker\":{\"color\":\"#ab63fa\",\"symbol\":\"circle\",\"size\":5},\"mode\":\"markers\",\"name\":\"E-Class\",\"orientation\":\"v\",\"showlegend\":true,\"x\":[25.0],\"xaxis\":\"x\",\"y\":[27.602],\"yaxis\":\"y\",\"type\":\"scatter\"},{\"hovertemplate\":\"Model=S-Class<br>Fuel_efficiency=%{x}<br>Sales_in_thousands=%{y}<extra></extra>\",\"legendgroup\":\"S-Class\",\"marker\":{\"color\":\"#FFA15A\",\"symbol\":\"circle\",\"size\":5},\"mode\":\"markers\",\"name\":\"S-Class\",\"orientation\":\"v\",\"showlegend\":true,\"x\":[21.0],\"xaxis\":\"x\",\"y\":[16.774],\"yaxis\":\"y\",\"type\":\"scatter\"},{\"hovertemplate\":\"Model=SL-Class<br>Fuel_efficiency=%{x}<br>Sales_in_thousands=%{y}<extra></extra>\",\"legendgroup\":\"SL-Class\",\"marker\":{\"color\":\"#19d3f3\",\"symbol\":\"circle\",\"size\":5},\"mode\":\"markers\",\"name\":\"SL-Class\",\"orientation\":\"v\",\"showlegend\":true,\"x\":[20.0],\"xaxis\":\"x\",\"y\":[3.311],\"yaxis\":\"y\",\"type\":\"scatter\"},{\"hovertemplate\":\"Model=SLK<br>Fuel_efficiency=%{x}<br>Sales_in_thousands=%{y}<extra></extra>\",\"legendgroup\":\"SLK\",\"marker\":{\"color\":\"#FF6692\",\"symbol\":\"circle\",\"size\":5},\"mode\":\"markers\",\"name\":\"SLK\",\"orientation\":\"v\",\"showlegend\":true,\"x\":[26.0],\"xaxis\":\"x\",\"y\":[7.998],\"yaxis\":\"y\",\"type\":\"scatter\"},{\"hovertemplate\":\"Model=SLK230<br>Fuel_efficiency=%{x}<br>Sales_in_thousands=%{y}<extra></extra>\",\"legendgroup\":\"SLK230\",\"marker\":{\"color\":\"#B6E880\",\"symbol\":\"circle\",\"size\":5},\"mode\":\"markers\",\"name\":\"SLK230\",\"orientation\":\"v\",\"showlegend\":true,\"x\":[27.0],\"xaxis\":\"x\",\"y\":[1.526],\"yaxis\":\"y\",\"type\":\"scatter\"},{\"hovertemplate\":\"Model=CLK Coupe<br>Fuel_efficiency=%{x}<br>Sales_in_thousands=%{y}<extra></extra>\",\"legendgroup\":\"CLK Coupe\",\"marker\":{\"color\":\"#FF97FF\",\"symbol\":\"circle\",\"size\":5},\"mode\":\"markers\",\"name\":\"CLK Coupe\",\"orientation\":\"v\",\"showlegend\":true,\"x\":[26.0],\"xaxis\":\"x\",\"y\":[11.592],\"yaxis\":\"y\",\"type\":\"scatter\"},{\"hovertemplate\":\"Model=CL500<br>Fuel_efficiency=%{x}<br>Sales_in_thousands=%{y}<extra></extra>\",\"legendgroup\":\"CL500\",\"marker\":{\"color\":\"#FECB52\",\"symbol\":\"circle\",\"size\":5},\"mode\":\"markers\",\"name\":\"CL500\",\"orientation\":\"v\",\"showlegend\":true,\"x\":[20.0],\"xaxis\":\"x\",\"y\":[0.954],\"yaxis\":\"y\",\"type\":\"scatter\"},{\"hovertemplate\":\"Model=M-Class<br>Fuel_efficiency=%{x}<br>Sales_in_thousands=%{y}<extra></extra>\",\"legendgroup\":\"M-Class\",\"marker\":{\"color\":\"#636efa\",\"symbol\":\"circle\",\"size\":5},\"mode\":\"markers\",\"name\":\"M-Class\",\"orientation\":\"v\",\"showlegend\":true,\"x\":[20.0],\"xaxis\":\"x\",\"y\":[28.976],\"yaxis\":\"y\",\"type\":\"scatter\"},{\"hovertemplate\":\"Model=Sentra<br>Fuel_efficiency=%{x}<br>Sales_in_thousands=%{y}<extra></extra>\",\"legendgroup\":\"Sentra\",\"marker\":{\"color\":\"#EF553B\",\"symbol\":\"circle\",\"size\":5},\"mode\":\"markers\",\"name\":\"Sentra\",\"orientation\":\"v\",\"showlegend\":true,\"x\":[30.0],\"xaxis\":\"x\",\"y\":[42.643],\"yaxis\":\"y\",\"type\":\"scatter\"},{\"hovertemplate\":\"Model=Altima<br>Fuel_efficiency=%{x}<br>Sales_in_thousands=%{y}<extra></extra>\",\"legendgroup\":\"Altima\",\"marker\":{\"color\":\"#00cc96\",\"symbol\":\"circle\",\"size\":5},\"mode\":\"markers\",\"name\":\"Altima\",\"orientation\":\"v\",\"showlegend\":true,\"x\":[25.0],\"xaxis\":\"x\",\"y\":[88.094],\"yaxis\":\"y\",\"type\":\"scatter\"},{\"hovertemplate\":\"Model=Maxima<br>Fuel_efficiency=%{x}<br>Sales_in_thousands=%{y}<extra></extra>\",\"legendgroup\":\"Maxima\",\"marker\":{\"color\":\"#ab63fa\",\"symbol\":\"circle\",\"size\":5},\"mode\":\"markers\",\"name\":\"Maxima\",\"orientation\":\"v\",\"showlegend\":true,\"x\":[25.0],\"xaxis\":\"x\",\"y\":[79.853],\"yaxis\":\"y\",\"type\":\"scatter\"},{\"hovertemplate\":\"Model=Quest<br>Fuel_efficiency=%{x}<br>Sales_in_thousands=%{y}<extra></extra>\",\"legendgroup\":\"Quest\",\"marker\":{\"color\":\"#FFA15A\",\"symbol\":\"circle\",\"size\":5},\"mode\":\"markers\",\"name\":\"Quest\",\"orientation\":\"v\",\"showlegend\":true,\"x\":[21.0],\"xaxis\":\"x\",\"y\":[27.308],\"yaxis\":\"y\",\"type\":\"scatter\"},{\"hovertemplate\":\"Model=Pathfinder<br>Fuel_efficiency=%{x}<br>Sales_in_thousands=%{y}<extra></extra>\",\"legendgroup\":\"Pathfinder\",\"marker\":{\"color\":\"#19d3f3\",\"symbol\":\"circle\",\"size\":5},\"mode\":\"markers\",\"name\":\"Pathfinder\",\"orientation\":\"v\",\"showlegend\":true,\"x\":[19.0],\"xaxis\":\"x\",\"y\":[42.574],\"yaxis\":\"y\",\"type\":\"scatter\"},{\"hovertemplate\":\"Model=Xterra<br>Fuel_efficiency=%{x}<br>Sales_in_thousands=%{y}<extra></extra>\",\"legendgroup\":\"Xterra\",\"marker\":{\"color\":\"#FF6692\",\"symbol\":\"circle\",\"size\":5},\"mode\":\"markers\",\"name\":\"Xterra\",\"orientation\":\"v\",\"showlegend\":true,\"x\":[18.0],\"xaxis\":\"x\",\"y\":[54.158],\"yaxis\":\"y\",\"type\":\"scatter\"},{\"hovertemplate\":\"Model=Frontier<br>Fuel_efficiency=%{x}<br>Sales_in_thousands=%{y}<extra></extra>\",\"legendgroup\":\"Frontier\",\"marker\":{\"color\":\"#B6E880\",\"symbol\":\"circle\",\"size\":5},\"mode\":\"markers\",\"name\":\"Frontier\",\"orientation\":\"v\",\"showlegend\":true,\"x\":[18.0],\"xaxis\":\"x\",\"y\":[65.005],\"yaxis\":\"y\",\"type\":\"scatter\"},{\"hovertemplate\":\"Model=Cutlass<br>Fuel_efficiency=%{x}<br>Sales_in_thousands=%{y}<extra></extra>\",\"legendgroup\":\"Cutlass\",\"marker\":{\"color\":\"#FF97FF\",\"symbol\":\"circle\",\"size\":5},\"mode\":\"markers\",\"name\":\"Cutlass\",\"orientation\":\"v\",\"showlegend\":true,\"x\":[25.0],\"xaxis\":\"x\",\"y\":[1.112],\"yaxis\":\"y\",\"type\":\"scatter\"},{\"hovertemplate\":\"Model=Intrigue<br>Fuel_efficiency=%{x}<br>Sales_in_thousands=%{y}<extra></extra>\",\"legendgroup\":\"Intrigue\",\"marker\":{\"color\":\"#FECB52\",\"symbol\":\"circle\",\"size\":5},\"mode\":\"markers\",\"name\":\"Intrigue\",\"orientation\":\"v\",\"showlegend\":true,\"x\":[null],\"xaxis\":\"x\",\"y\":[38.554],\"yaxis\":\"y\",\"type\":\"scatter\"},{\"hovertemplate\":\"Model=Alero<br>Fuel_efficiency=%{x}<br>Sales_in_thousands=%{y}<extra></extra>\",\"legendgroup\":\"Alero\",\"marker\":{\"color\":\"#636efa\",\"symbol\":\"circle\",\"size\":5},\"mode\":\"markers\",\"name\":\"Alero\",\"orientation\":\"v\",\"showlegend\":true,\"x\":[27.0],\"xaxis\":\"x\",\"y\":[80.255],\"yaxis\":\"y\",\"type\":\"scatter\"},{\"hovertemplate\":\"Model=Aurora<br>Fuel_efficiency=%{x}<br>Sales_in_thousands=%{y}<extra></extra>\",\"legendgroup\":\"Aurora\",\"marker\":{\"color\":\"#EF553B\",\"symbol\":\"circle\",\"size\":5},\"mode\":\"markers\",\"name\":\"Aurora\",\"orientation\":\"v\",\"showlegend\":true,\"x\":[22.0],\"xaxis\":\"x\",\"y\":[14.69],\"yaxis\":\"y\",\"type\":\"scatter\"},{\"hovertemplate\":\"Model=Bravada<br>Fuel_efficiency=%{x}<br>Sales_in_thousands=%{y}<extra></extra>\",\"legendgroup\":\"Bravada\",\"marker\":{\"color\":\"#00cc96\",\"symbol\":\"circle\",\"size\":5},\"mode\":\"markers\",\"name\":\"Bravada\",\"orientation\":\"v\",\"showlegend\":true,\"x\":[19.0],\"xaxis\":\"x\",\"y\":[20.017],\"yaxis\":\"y\",\"type\":\"scatter\"},{\"hovertemplate\":\"Model=Silhouette<br>Fuel_efficiency=%{x}<br>Sales_in_thousands=%{y}<extra></extra>\",\"legendgroup\":\"Silhouette\",\"marker\":{\"color\":\"#ab63fa\",\"symbol\":\"circle\",\"size\":5},\"mode\":\"markers\",\"name\":\"Silhouette\",\"orientation\":\"v\",\"showlegend\":true,\"x\":[22.0],\"xaxis\":\"x\",\"y\":[24.361],\"yaxis\":\"y\",\"type\":\"scatter\"},{\"hovertemplate\":\"Model=Breeze<br>Fuel_efficiency=%{x}<br>Sales_in_thousands=%{y}<extra></extra>\",\"legendgroup\":\"Breeze\",\"marker\":{\"color\":\"#FFA15A\",\"symbol\":\"circle\",\"size\":5},\"mode\":\"markers\",\"name\":\"Breeze\",\"orientation\":\"v\",\"showlegend\":true,\"x\":[27.0],\"xaxis\":\"x\",\"y\":[5.24],\"yaxis\":\"y\",\"type\":\"scatter\"},{\"hovertemplate\":\"Model=Voyager<br>Fuel_efficiency=%{x}<br>Sales_in_thousands=%{y}<extra></extra>\",\"legendgroup\":\"Voyager\",\"marker\":{\"color\":\"#19d3f3\",\"symbol\":\"circle\",\"size\":5},\"mode\":\"markers\",\"name\":\"Voyager\",\"orientation\":\"v\",\"showlegend\":true,\"x\":[24.0],\"xaxis\":\"x\",\"y\":[24.155],\"yaxis\":\"y\",\"type\":\"scatter\"},{\"hovertemplate\":\"Model=Prowler<br>Fuel_efficiency=%{x}<br>Sales_in_thousands=%{y}<extra></extra>\",\"legendgroup\":\"Prowler\",\"marker\":{\"color\":\"#FF6692\",\"symbol\":\"circle\",\"size\":5},\"mode\":\"markers\",\"name\":\"Prowler\",\"orientation\":\"v\",\"showlegend\":true,\"x\":[21.0],\"xaxis\":\"x\",\"y\":[1.872],\"yaxis\":\"y\",\"type\":\"scatter\"},{\"hovertemplate\":\"Model=Sunfire<br>Fuel_efficiency=%{x}<br>Sales_in_thousands=%{y}<extra></extra>\",\"legendgroup\":\"Sunfire\",\"marker\":{\"color\":\"#B6E880\",\"symbol\":\"circle\",\"size\":5},\"mode\":\"markers\",\"name\":\"Sunfire\",\"orientation\":\"v\",\"showlegend\":true,\"x\":[27.0],\"xaxis\":\"x\",\"y\":[51.645],\"yaxis\":\"y\",\"type\":\"scatter\"},{\"hovertemplate\":\"Model=Grand Am<br>Fuel_efficiency=%{x}<br>Sales_in_thousands=%{y}<extra></extra>\",\"legendgroup\":\"Grand Am\",\"marker\":{\"color\":\"#FF97FF\",\"symbol\":\"circle\",\"size\":5},\"mode\":\"markers\",\"name\":\"Grand Am\",\"orientation\":\"v\",\"showlegend\":true,\"x\":[25.0],\"xaxis\":\"x\",\"y\":[131.097],\"yaxis\":\"y\",\"type\":\"scatter\"},{\"hovertemplate\":\"Model=Firebird<br>Fuel_efficiency=%{x}<br>Sales_in_thousands=%{y}<extra></extra>\",\"legendgroup\":\"Firebird\",\"marker\":{\"color\":\"#FECB52\",\"symbol\":\"circle\",\"size\":5},\"mode\":\"markers\",\"name\":\"Firebird\",\"orientation\":\"v\",\"showlegend\":true,\"x\":[25.0],\"xaxis\":\"x\",\"y\":[19.911],\"yaxis\":\"y\",\"type\":\"scatter\"},{\"hovertemplate\":\"Model=Grand Prix<br>Fuel_efficiency=%{x}<br>Sales_in_thousands=%{y}<extra></extra>\",\"legendgroup\":\"Grand Prix\",\"marker\":{\"color\":\"#636efa\",\"symbol\":\"circle\",\"size\":5},\"mode\":\"markers\",\"name\":\"Grand Prix\",\"orientation\":\"v\",\"showlegend\":true,\"x\":[25.0],\"xaxis\":\"x\",\"y\":[92.364],\"yaxis\":\"y\",\"type\":\"scatter\"},{\"hovertemplate\":\"Model=Bonneville<br>Fuel_efficiency=%{x}<br>Sales_in_thousands=%{y}<extra></extra>\",\"legendgroup\":\"Bonneville\",\"marker\":{\"color\":\"#EF553B\",\"symbol\":\"circle\",\"size\":5},\"mode\":\"markers\",\"name\":\"Bonneville\",\"orientation\":\"v\",\"showlegend\":true,\"x\":[24.0],\"xaxis\":\"x\",\"y\":[35.945],\"yaxis\":\"y\",\"type\":\"scatter\"},{\"hovertemplate\":\"Model=Montana<br>Fuel_efficiency=%{x}<br>Sales_in_thousands=%{y}<extra></extra>\",\"legendgroup\":\"Montana\",\"marker\":{\"color\":\"#00cc96\",\"symbol\":\"circle\",\"size\":5},\"mode\":\"markers\",\"name\":\"Montana\",\"orientation\":\"v\",\"showlegend\":true,\"x\":[23.0],\"xaxis\":\"x\",\"y\":[39.572],\"yaxis\":\"y\",\"type\":\"scatter\"},{\"hovertemplate\":\"Model=Boxter<br>Fuel_efficiency=%{x}<br>Sales_in_thousands=%{y}<extra></extra>\",\"legendgroup\":\"Boxter\",\"marker\":{\"color\":\"#ab63fa\",\"symbol\":\"circle\",\"size\":5},\"mode\":\"markers\",\"name\":\"Boxter\",\"orientation\":\"v\",\"showlegend\":true,\"x\":[22.0],\"xaxis\":\"x\",\"y\":[8.982],\"yaxis\":\"y\",\"type\":\"scatter\"},{\"hovertemplate\":\"Model=Carrera Coupe<br>Fuel_efficiency=%{x}<br>Sales_in_thousands=%{y}<extra></extra>\",\"legendgroup\":\"Carrera Coupe\",\"marker\":{\"color\":\"#FFA15A\",\"symbol\":\"circle\",\"size\":5},\"mode\":\"markers\",\"name\":\"Carrera Coupe\",\"orientation\":\"v\",\"showlegend\":true,\"x\":[21.0],\"xaxis\":\"x\",\"y\":[1.28],\"yaxis\":\"y\",\"type\":\"scatter\"},{\"hovertemplate\":\"Model=Carrera Cabrio<br>Fuel_efficiency=%{x}<br>Sales_in_thousands=%{y}<extra></extra>\",\"legendgroup\":\"Carrera Cabrio\",\"marker\":{\"color\":\"#19d3f3\",\"symbol\":\"circle\",\"size\":5},\"mode\":\"markers\",\"name\":\"Carrera Cabrio\",\"orientation\":\"v\",\"showlegend\":true,\"x\":[23.0],\"xaxis\":\"x\",\"y\":[1.866],\"yaxis\":\"y\",\"type\":\"scatter\"},{\"hovertemplate\":\"Model=5-Sep<br>Fuel_efficiency=%{x}<br>Sales_in_thousands=%{y}<extra></extra>\",\"legendgroup\":\"5-Sep\",\"marker\":{\"color\":\"#FF6692\",\"symbol\":\"circle\",\"size\":5},\"mode\":\"markers\",\"name\":\"5-Sep\",\"orientation\":\"v\",\"showlegend\":true,\"x\":[23.0],\"xaxis\":\"x\",\"y\":[9.191],\"yaxis\":\"y\",\"type\":\"scatter\"},{\"hovertemplate\":\"Model=3-Sep<br>Fuel_efficiency=%{x}<br>Sales_in_thousands=%{y}<extra></extra>\",\"legendgroup\":\"3-Sep\",\"marker\":{\"color\":\"#B6E880\",\"symbol\":\"circle\",\"size\":5},\"mode\":\"markers\",\"name\":\"3-Sep\",\"orientation\":\"v\",\"showlegend\":true,\"x\":[23.0],\"xaxis\":\"x\",\"y\":[12.115],\"yaxis\":\"y\",\"type\":\"scatter\"},{\"hovertemplate\":\"Model=SL<br>Fuel_efficiency=%{x}<br>Sales_in_thousands=%{y}<extra></extra>\",\"legendgroup\":\"SL\",\"marker\":{\"color\":\"#FF97FF\",\"symbol\":\"circle\",\"size\":5},\"mode\":\"markers\",\"name\":\"SL\",\"orientation\":\"v\",\"showlegend\":true,\"x\":[33.0],\"xaxis\":\"x\",\"y\":[80.62],\"yaxis\":\"y\",\"type\":\"scatter\"},{\"hovertemplate\":\"Model=SC<br>Fuel_efficiency=%{x}<br>Sales_in_thousands=%{y}<extra></extra>\",\"legendgroup\":\"SC\",\"marker\":{\"color\":\"#FECB52\",\"symbol\":\"circle\",\"size\":5},\"mode\":\"markers\",\"name\":\"SC\",\"orientation\":\"v\",\"showlegend\":true,\"x\":[33.0],\"xaxis\":\"x\",\"y\":[24.546],\"yaxis\":\"y\",\"type\":\"scatter\"},{\"hovertemplate\":\"Model=SW<br>Fuel_efficiency=%{x}<br>Sales_in_thousands=%{y}<extra></extra>\",\"legendgroup\":\"SW\",\"marker\":{\"color\":\"#636efa\",\"symbol\":\"circle\",\"size\":5},\"mode\":\"markers\",\"name\":\"SW\",\"orientation\":\"v\",\"showlegend\":true,\"x\":[31.0],\"xaxis\":\"x\",\"y\":[5.223],\"yaxis\":\"y\",\"type\":\"scatter\"},{\"hovertemplate\":\"Model=LW<br>Fuel_efficiency=%{x}<br>Sales_in_thousands=%{y}<extra></extra>\",\"legendgroup\":\"LW\",\"marker\":{\"color\":\"#EF553B\",\"symbol\":\"circle\",\"size\":5},\"mode\":\"markers\",\"name\":\"LW\",\"orientation\":\"v\",\"showlegend\":true,\"x\":[27.0],\"xaxis\":\"x\",\"y\":[8.472],\"yaxis\":\"y\",\"type\":\"scatter\"},{\"hovertemplate\":\"Model=LS<br>Fuel_efficiency=%{x}<br>Sales_in_thousands=%{y}<extra></extra>\",\"legendgroup\":\"LS\",\"marker\":{\"color\":\"#00cc96\",\"symbol\":\"circle\",\"size\":5},\"mode\":\"markers\",\"name\":\"LS\",\"orientation\":\"v\",\"showlegend\":true,\"x\":[28.0],\"xaxis\":\"x\",\"y\":[49.989],\"yaxis\":\"y\",\"type\":\"scatter\"},{\"hovertemplate\":\"Model=Outback<br>Fuel_efficiency=%{x}<br>Sales_in_thousands=%{y}<extra></extra>\",\"legendgroup\":\"Outback\",\"marker\":{\"color\":\"#ab63fa\",\"symbol\":\"circle\",\"size\":5},\"mode\":\"markers\",\"name\":\"Outback\",\"orientation\":\"v\",\"showlegend\":true,\"x\":[25.0],\"xaxis\":\"x\",\"y\":[47.107],\"yaxis\":\"y\",\"type\":\"scatter\"},{\"hovertemplate\":\"Model=Forester<br>Fuel_efficiency=%{x}<br>Sales_in_thousands=%{y}<extra></extra>\",\"legendgroup\":\"Forester\",\"marker\":{\"color\":\"#FFA15A\",\"symbol\":\"circle\",\"size\":5},\"mode\":\"markers\",\"name\":\"Forester\",\"orientation\":\"v\",\"showlegend\":true,\"x\":[24.0],\"xaxis\":\"x\",\"y\":[33.028],\"yaxis\":\"y\",\"type\":\"scatter\"},{\"hovertemplate\":\"Model=Corolla<br>Fuel_efficiency=%{x}<br>Sales_in_thousands=%{y}<extra></extra>\",\"legendgroup\":\"Corolla\",\"marker\":{\"color\":\"#19d3f3\",\"symbol\":\"circle\",\"size\":5},\"mode\":\"markers\",\"name\":\"Corolla\",\"orientation\":\"v\",\"showlegend\":true,\"x\":[33.0],\"xaxis\":\"x\",\"y\":[142.535],\"yaxis\":\"y\",\"type\":\"scatter\"},{\"hovertemplate\":\"Model=Camry<br>Fuel_efficiency=%{x}<br>Sales_in_thousands=%{y}<extra></extra>\",\"legendgroup\":\"Camry\",\"marker\":{\"color\":\"#FF6692\",\"symbol\":\"circle\",\"size\":5},\"mode\":\"markers\",\"name\":\"Camry\",\"orientation\":\"v\",\"showlegend\":true,\"x\":[27.0],\"xaxis\":\"x\",\"y\":[247.994],\"yaxis\":\"y\",\"type\":\"scatter\"},{\"hovertemplate\":\"Model=Avalon<br>Fuel_efficiency=%{x}<br>Sales_in_thousands=%{y}<extra></extra>\",\"legendgroup\":\"Avalon\",\"marker\":{\"color\":\"#B6E880\",\"symbol\":\"circle\",\"size\":5},\"mode\":\"markers\",\"name\":\"Avalon\",\"orientation\":\"v\",\"showlegend\":true,\"x\":[26.0],\"xaxis\":\"x\",\"y\":[63.849],\"yaxis\":\"y\",\"type\":\"scatter\"},{\"hovertemplate\":\"Model=Celica<br>Fuel_efficiency=%{x}<br>Sales_in_thousands=%{y}<extra></extra>\",\"legendgroup\":\"Celica\",\"marker\":{\"color\":\"#FF97FF\",\"symbol\":\"circle\",\"size\":5},\"mode\":\"markers\",\"name\":\"Celica\",\"orientation\":\"v\",\"showlegend\":true,\"x\":[31.0],\"xaxis\":\"x\",\"y\":[33.269],\"yaxis\":\"y\",\"type\":\"scatter\"},{\"hovertemplate\":\"Model=Tacoma<br>Fuel_efficiency=%{x}<br>Sales_in_thousands=%{y}<extra></extra>\",\"legendgroup\":\"Tacoma\",\"marker\":{\"color\":\"#FECB52\",\"symbol\":\"circle\",\"size\":5},\"mode\":\"markers\",\"name\":\"Tacoma\",\"orientation\":\"v\",\"showlegend\":true,\"x\":[23.0],\"xaxis\":\"x\",\"y\":[84.087],\"yaxis\":\"y\",\"type\":\"scatter\"},{\"hovertemplate\":\"Model=Sienna<br>Fuel_efficiency=%{x}<br>Sales_in_thousands=%{y}<extra></extra>\",\"legendgroup\":\"Sienna\",\"marker\":{\"color\":\"#636efa\",\"symbol\":\"circle\",\"size\":5},\"mode\":\"markers\",\"name\":\"Sienna\",\"orientation\":\"v\",\"showlegend\":true,\"x\":[22.0],\"xaxis\":\"x\",\"y\":[65.119],\"yaxis\":\"y\",\"type\":\"scatter\"},{\"hovertemplate\":\"Model=RAV4<br>Fuel_efficiency=%{x}<br>Sales_in_thousands=%{y}<extra></extra>\",\"legendgroup\":\"RAV4\",\"marker\":{\"color\":\"#EF553B\",\"symbol\":\"circle\",\"size\":5},\"mode\":\"markers\",\"name\":\"RAV4\",\"orientation\":\"v\",\"showlegend\":true,\"x\":[27.0],\"xaxis\":\"x\",\"y\":[25.106],\"yaxis\":\"y\",\"type\":\"scatter\"},{\"hovertemplate\":\"Model=4Runner<br>Fuel_efficiency=%{x}<br>Sales_in_thousands=%{y}<extra></extra>\",\"legendgroup\":\"4Runner\",\"marker\":{\"color\":\"#00cc96\",\"symbol\":\"circle\",\"size\":5},\"mode\":\"markers\",\"name\":\"4Runner\",\"orientation\":\"v\",\"showlegend\":true,\"x\":[23.0],\"xaxis\":\"x\",\"y\":[68.411],\"yaxis\":\"y\",\"type\":\"scatter\"},{\"hovertemplate\":\"Model=Land Cruiser<br>Fuel_efficiency=%{x}<br>Sales_in_thousands=%{y}<extra></extra>\",\"legendgroup\":\"Land Cruiser\",\"marker\":{\"color\":\"#ab63fa\",\"symbol\":\"circle\",\"size\":5},\"mode\":\"markers\",\"name\":\"Land Cruiser\",\"orientation\":\"v\",\"showlegend\":true,\"x\":[15.0],\"xaxis\":\"x\",\"y\":[9.835],\"yaxis\":\"y\",\"type\":\"scatter\"},{\"hovertemplate\":\"Model=Golf<br>Fuel_efficiency=%{x}<br>Sales_in_thousands=%{y}<extra></extra>\",\"legendgroup\":\"Golf\",\"marker\":{\"color\":\"#FFA15A\",\"symbol\":\"circle\",\"size\":5},\"mode\":\"markers\",\"name\":\"Golf\",\"orientation\":\"v\",\"showlegend\":true,\"x\":[26.0],\"xaxis\":\"x\",\"y\":[9.761],\"yaxis\":\"y\",\"type\":\"scatter\"},{\"hovertemplate\":\"Model=Jetta<br>Fuel_efficiency=%{x}<br>Sales_in_thousands=%{y}<extra></extra>\",\"legendgroup\":\"Jetta\",\"marker\":{\"color\":\"#19d3f3\",\"symbol\":\"circle\",\"size\":5},\"mode\":\"markers\",\"name\":\"Jetta\",\"orientation\":\"v\",\"showlegend\":true,\"x\":[26.0],\"xaxis\":\"x\",\"y\":[83.721],\"yaxis\":\"y\",\"type\":\"scatter\"},{\"hovertemplate\":\"Model=Passat<br>Fuel_efficiency=%{x}<br>Sales_in_thousands=%{y}<extra></extra>\",\"legendgroup\":\"Passat\",\"marker\":{\"color\":\"#FF6692\",\"symbol\":\"circle\",\"size\":5},\"mode\":\"markers\",\"name\":\"Passat\",\"orientation\":\"v\",\"showlegend\":true,\"x\":[27.0],\"xaxis\":\"x\",\"y\":[51.102],\"yaxis\":\"y\",\"type\":\"scatter\"},{\"hovertemplate\":\"Model=Cabrio<br>Fuel_efficiency=%{x}<br>Sales_in_thousands=%{y}<extra></extra>\",\"legendgroup\":\"Cabrio\",\"marker\":{\"color\":\"#B6E880\",\"symbol\":\"circle\",\"size\":5},\"mode\":\"markers\",\"name\":\"Cabrio\",\"orientation\":\"v\",\"showlegend\":true,\"x\":[26.0],\"xaxis\":\"x\",\"y\":[9.569],\"yaxis\":\"y\",\"type\":\"scatter\"},{\"hovertemplate\":\"Model=GTI<br>Fuel_efficiency=%{x}<br>Sales_in_thousands=%{y}<extra></extra>\",\"legendgroup\":\"GTI\",\"marker\":{\"color\":\"#FF97FF\",\"symbol\":\"circle\",\"size\":5},\"mode\":\"markers\",\"name\":\"GTI\",\"orientation\":\"v\",\"showlegend\":true,\"x\":[26.0],\"xaxis\":\"x\",\"y\":[5.596],\"yaxis\":\"y\",\"type\":\"scatter\"},{\"hovertemplate\":\"Model=Beetle<br>Fuel_efficiency=%{x}<br>Sales_in_thousands=%{y}<extra></extra>\",\"legendgroup\":\"Beetle\",\"marker\":{\"color\":\"#FECB52\",\"symbol\":\"circle\",\"size\":5},\"mode\":\"markers\",\"name\":\"Beetle\",\"orientation\":\"v\",\"showlegend\":true,\"x\":[26.0],\"xaxis\":\"x\",\"y\":[49.463],\"yaxis\":\"y\",\"type\":\"scatter\"},{\"hovertemplate\":\"Model=S40<br>Fuel_efficiency=%{x}<br>Sales_in_thousands=%{y}<extra></extra>\",\"legendgroup\":\"S40\",\"marker\":{\"color\":\"#636efa\",\"symbol\":\"circle\",\"size\":5},\"mode\":\"markers\",\"name\":\"S40\",\"orientation\":\"v\",\"showlegend\":true,\"x\":[25.0],\"xaxis\":\"x\",\"y\":[16.957],\"yaxis\":\"y\",\"type\":\"scatter\"},{\"hovertemplate\":\"Model=V40<br>Fuel_efficiency=%{x}<br>Sales_in_thousands=%{y}<extra></extra>\",\"legendgroup\":\"V40\",\"marker\":{\"color\":\"#EF553B\",\"symbol\":\"circle\",\"size\":5},\"mode\":\"markers\",\"name\":\"V40\",\"orientation\":\"v\",\"showlegend\":true,\"x\":[25.0],\"xaxis\":\"x\",\"y\":[3.545],\"yaxis\":\"y\",\"type\":\"scatter\"},{\"hovertemplate\":\"Model=S70<br>Fuel_efficiency=%{x}<br>Sales_in_thousands=%{y}<extra></extra>\",\"legendgroup\":\"S70\",\"marker\":{\"color\":\"#00cc96\",\"symbol\":\"circle\",\"size\":5},\"mode\":\"markers\",\"name\":\"S70\",\"orientation\":\"v\",\"showlegend\":true,\"x\":[25.0],\"xaxis\":\"x\",\"y\":[15.245],\"yaxis\":\"y\",\"type\":\"scatter\"},{\"hovertemplate\":\"Model=V70<br>Fuel_efficiency=%{x}<br>Sales_in_thousands=%{y}<extra></extra>\",\"legendgroup\":\"V70\",\"marker\":{\"color\":\"#ab63fa\",\"symbol\":\"circle\",\"size\":5},\"mode\":\"markers\",\"name\":\"V70\",\"orientation\":\"v\",\"showlegend\":true,\"x\":[25.0],\"xaxis\":\"x\",\"y\":[17.531],\"yaxis\":\"y\",\"type\":\"scatter\"},{\"hovertemplate\":\"Model=C70<br>Fuel_efficiency=%{x}<br>Sales_in_thousands=%{y}<extra></extra>\",\"legendgroup\":\"C70\",\"marker\":{\"color\":\"#FFA15A\",\"symbol\":\"circle\",\"size\":5},\"mode\":\"markers\",\"name\":\"C70\",\"orientation\":\"v\",\"showlegend\":true,\"x\":[23.0],\"xaxis\":\"x\",\"y\":[3.493],\"yaxis\":\"y\",\"type\":\"scatter\"},{\"hovertemplate\":\"Model=S80<br>Fuel_efficiency=%{x}<br>Sales_in_thousands=%{y}<extra></extra>\",\"legendgroup\":\"S80\",\"marker\":{\"color\":\"#19d3f3\",\"symbol\":\"circle\",\"size\":5},\"mode\":\"markers\",\"name\":\"S80\",\"orientation\":\"v\",\"showlegend\":true,\"x\":[24.0],\"xaxis\":\"x\",\"y\":[18.969],\"yaxis\":\"y\",\"type\":\"scatter\"}],                        {\"template\":{\"data\":{\"bar\":[{\"error_x\":{\"color\":\"#2a3f5f\"},\"error_y\":{\"color\":\"#2a3f5f\"},\"marker\":{\"line\":{\"color\":\"#E5ECF6\",\"width\":0.5},\"pattern\":{\"fillmode\":\"overlay\",\"size\":10,\"solidity\":0.2}},\"type\":\"bar\"}],\"barpolar\":[{\"marker\":{\"line\":{\"color\":\"#E5ECF6\",\"width\":0.5},\"pattern\":{\"fillmode\":\"overlay\",\"size\":10,\"solidity\":0.2}},\"type\":\"barpolar\"}],\"carpet\":[{\"aaxis\":{\"endlinecolor\":\"#2a3f5f\",\"gridcolor\":\"white\",\"linecolor\":\"white\",\"minorgridcolor\":\"white\",\"startlinecolor\":\"#2a3f5f\"},\"baxis\":{\"endlinecolor\":\"#2a3f5f\",\"gridcolor\":\"white\",\"linecolor\":\"white\",\"minorgridcolor\":\"white\",\"startlinecolor\":\"#2a3f5f\"},\"type\":\"carpet\"}],\"choropleth\":[{\"colorbar\":{\"outlinewidth\":0,\"ticks\":\"\"},\"type\":\"choropleth\"}],\"contour\":[{\"colorbar\":{\"outlinewidth\":0,\"ticks\":\"\"},\"colorscale\":[[0.0,\"#0d0887\"],[0.1111111111111111,\"#46039f\"],[0.2222222222222222,\"#7201a8\"],[0.3333333333333333,\"#9c179e\"],[0.4444444444444444,\"#bd3786\"],[0.5555555555555556,\"#d8576b\"],[0.6666666666666666,\"#ed7953\"],[0.7777777777777778,\"#fb9f3a\"],[0.8888888888888888,\"#fdca26\"],[1.0,\"#f0f921\"]],\"type\":\"contour\"}],\"contourcarpet\":[{\"colorbar\":{\"outlinewidth\":0,\"ticks\":\"\"},\"type\":\"contourcarpet\"}],\"heatmap\":[{\"colorbar\":{\"outlinewidth\":0,\"ticks\":\"\"},\"colorscale\":[[0.0,\"#0d0887\"],[0.1111111111111111,\"#46039f\"],[0.2222222222222222,\"#7201a8\"],[0.3333333333333333,\"#9c179e\"],[0.4444444444444444,\"#bd3786\"],[0.5555555555555556,\"#d8576b\"],[0.6666666666666666,\"#ed7953\"],[0.7777777777777778,\"#fb9f3a\"],[0.8888888888888888,\"#fdca26\"],[1.0,\"#f0f921\"]],\"type\":\"heatmap\"}],\"heatmapgl\":[{\"colorbar\":{\"outlinewidth\":0,\"ticks\":\"\"},\"colorscale\":[[0.0,\"#0d0887\"],[0.1111111111111111,\"#46039f\"],[0.2222222222222222,\"#7201a8\"],[0.3333333333333333,\"#9c179e\"],[0.4444444444444444,\"#bd3786\"],[0.5555555555555556,\"#d8576b\"],[0.6666666666666666,\"#ed7953\"],[0.7777777777777778,\"#fb9f3a\"],[0.8888888888888888,\"#fdca26\"],[1.0,\"#f0f921\"]],\"type\":\"heatmapgl\"}],\"histogram\":[{\"marker\":{\"pattern\":{\"fillmode\":\"overlay\",\"size\":10,\"solidity\":0.2}},\"type\":\"histogram\"}],\"histogram2d\":[{\"colorbar\":{\"outlinewidth\":0,\"ticks\":\"\"},\"colorscale\":[[0.0,\"#0d0887\"],[0.1111111111111111,\"#46039f\"],[0.2222222222222222,\"#7201a8\"],[0.3333333333333333,\"#9c179e\"],[0.4444444444444444,\"#bd3786\"],[0.5555555555555556,\"#d8576b\"],[0.6666666666666666,\"#ed7953\"],[0.7777777777777778,\"#fb9f3a\"],[0.8888888888888888,\"#fdca26\"],[1.0,\"#f0f921\"]],\"type\":\"histogram2d\"}],\"histogram2dcontour\":[{\"colorbar\":{\"outlinewidth\":0,\"ticks\":\"\"},\"colorscale\":[[0.0,\"#0d0887\"],[0.1111111111111111,\"#46039f\"],[0.2222222222222222,\"#7201a8\"],[0.3333333333333333,\"#9c179e\"],[0.4444444444444444,\"#bd3786\"],[0.5555555555555556,\"#d8576b\"],[0.6666666666666666,\"#ed7953\"],[0.7777777777777778,\"#fb9f3a\"],[0.8888888888888888,\"#fdca26\"],[1.0,\"#f0f921\"]],\"type\":\"histogram2dcontour\"}],\"mesh3d\":[{\"colorbar\":{\"outlinewidth\":0,\"ticks\":\"\"},\"type\":\"mesh3d\"}],\"parcoords\":[{\"line\":{\"colorbar\":{\"outlinewidth\":0,\"ticks\":\"\"}},\"type\":\"parcoords\"}],\"pie\":[{\"automargin\":true,\"type\":\"pie\"}],\"scatter\":[{\"marker\":{\"colorbar\":{\"outlinewidth\":0,\"ticks\":\"\"}},\"type\":\"scatter\"}],\"scatter3d\":[{\"line\":{\"colorbar\":{\"outlinewidth\":0,\"ticks\":\"\"}},\"marker\":{\"colorbar\":{\"outlinewidth\":0,\"ticks\":\"\"}},\"type\":\"scatter3d\"}],\"scattercarpet\":[{\"marker\":{\"colorbar\":{\"outlinewidth\":0,\"ticks\":\"\"}},\"type\":\"scattercarpet\"}],\"scattergeo\":[{\"marker\":{\"colorbar\":{\"outlinewidth\":0,\"ticks\":\"\"}},\"type\":\"scattergeo\"}],\"scattergl\":[{\"marker\":{\"colorbar\":{\"outlinewidth\":0,\"ticks\":\"\"}},\"type\":\"scattergl\"}],\"scattermapbox\":[{\"marker\":{\"colorbar\":{\"outlinewidth\":0,\"ticks\":\"\"}},\"type\":\"scattermapbox\"}],\"scatterpolar\":[{\"marker\":{\"colorbar\":{\"outlinewidth\":0,\"ticks\":\"\"}},\"type\":\"scatterpolar\"}],\"scatterpolargl\":[{\"marker\":{\"colorbar\":{\"outlinewidth\":0,\"ticks\":\"\"}},\"type\":\"scatterpolargl\"}],\"scatterternary\":[{\"marker\":{\"colorbar\":{\"outlinewidth\":0,\"ticks\":\"\"}},\"type\":\"scatterternary\"}],\"surface\":[{\"colorbar\":{\"outlinewidth\":0,\"ticks\":\"\"},\"colorscale\":[[0.0,\"#0d0887\"],[0.1111111111111111,\"#46039f\"],[0.2222222222222222,\"#7201a8\"],[0.3333333333333333,\"#9c179e\"],[0.4444444444444444,\"#bd3786\"],[0.5555555555555556,\"#d8576b\"],[0.6666666666666666,\"#ed7953\"],[0.7777777777777778,\"#fb9f3a\"],[0.8888888888888888,\"#fdca26\"],[1.0,\"#f0f921\"]],\"type\":\"surface\"}],\"table\":[{\"cells\":{\"fill\":{\"color\":\"#EBF0F8\"},\"line\":{\"color\":\"white\"}},\"header\":{\"fill\":{\"color\":\"#C8D4E3\"},\"line\":{\"color\":\"white\"}},\"type\":\"table\"}]},\"layout\":{\"annotationdefaults\":{\"arrowcolor\":\"#2a3f5f\",\"arrowhead\":0,\"arrowwidth\":1},\"autotypenumbers\":\"strict\",\"coloraxis\":{\"colorbar\":{\"outlinewidth\":0,\"ticks\":\"\"}},\"colorscale\":{\"diverging\":[[0,\"#8e0152\"],[0.1,\"#c51b7d\"],[0.2,\"#de77ae\"],[0.3,\"#f1b6da\"],[0.4,\"#fde0ef\"],[0.5,\"#f7f7f7\"],[0.6,\"#e6f5d0\"],[0.7,\"#b8e186\"],[0.8,\"#7fbc41\"],[0.9,\"#4d9221\"],[1,\"#276419\"]],\"sequential\":[[0.0,\"#0d0887\"],[0.1111111111111111,\"#46039f\"],[0.2222222222222222,\"#7201a8\"],[0.3333333333333333,\"#9c179e\"],[0.4444444444444444,\"#bd3786\"],[0.5555555555555556,\"#d8576b\"],[0.6666666666666666,\"#ed7953\"],[0.7777777777777778,\"#fb9f3a\"],[0.8888888888888888,\"#fdca26\"],[1.0,\"#f0f921\"]],\"sequentialminus\":[[0.0,\"#0d0887\"],[0.1111111111111111,\"#46039f\"],[0.2222222222222222,\"#7201a8\"],[0.3333333333333333,\"#9c179e\"],[0.4444444444444444,\"#bd3786\"],[0.5555555555555556,\"#d8576b\"],[0.6666666666666666,\"#ed7953\"],[0.7777777777777778,\"#fb9f3a\"],[0.8888888888888888,\"#fdca26\"],[1.0,\"#f0f921\"]]},\"colorway\":[\"#636efa\",\"#EF553B\",\"#00cc96\",\"#ab63fa\",\"#FFA15A\",\"#19d3f3\",\"#FF6692\",\"#B6E880\",\"#FF97FF\",\"#FECB52\"],\"font\":{\"color\":\"#2a3f5f\"},\"geo\":{\"bgcolor\":\"white\",\"lakecolor\":\"white\",\"landcolor\":\"#E5ECF6\",\"showlakes\":true,\"showland\":true,\"subunitcolor\":\"white\"},\"hoverlabel\":{\"align\":\"left\"},\"hovermode\":\"closest\",\"mapbox\":{\"style\":\"light\"},\"paper_bgcolor\":\"white\",\"plot_bgcolor\":\"#E5ECF6\",\"polar\":{\"angularaxis\":{\"gridcolor\":\"white\",\"linecolor\":\"white\",\"ticks\":\"\"},\"bgcolor\":\"#E5ECF6\",\"radialaxis\":{\"gridcolor\":\"white\",\"linecolor\":\"white\",\"ticks\":\"\"}},\"scene\":{\"xaxis\":{\"backgroundcolor\":\"#E5ECF6\",\"gridcolor\":\"white\",\"gridwidth\":2,\"linecolor\":\"white\",\"showbackground\":true,\"ticks\":\"\",\"zerolinecolor\":\"white\"},\"yaxis\":{\"backgroundcolor\":\"#E5ECF6\",\"gridcolor\":\"white\",\"gridwidth\":2,\"linecolor\":\"white\",\"showbackground\":true,\"ticks\":\"\",\"zerolinecolor\":\"white\"},\"zaxis\":{\"backgroundcolor\":\"#E5ECF6\",\"gridcolor\":\"white\",\"gridwidth\":2,\"linecolor\":\"white\",\"showbackground\":true,\"ticks\":\"\",\"zerolinecolor\":\"white\"}},\"shapedefaults\":{\"line\":{\"color\":\"#2a3f5f\"}},\"ternary\":{\"aaxis\":{\"gridcolor\":\"white\",\"linecolor\":\"white\",\"ticks\":\"\"},\"baxis\":{\"gridcolor\":\"white\",\"linecolor\":\"white\",\"ticks\":\"\"},\"bgcolor\":\"#E5ECF6\",\"caxis\":{\"gridcolor\":\"white\",\"linecolor\":\"white\",\"ticks\":\"\"}},\"title\":{\"x\":0.05},\"xaxis\":{\"automargin\":true,\"gridcolor\":\"white\",\"linecolor\":\"white\",\"ticks\":\"\",\"title\":{\"standoff\":15},\"zerolinecolor\":\"white\",\"zerolinewidth\":2},\"yaxis\":{\"automargin\":true,\"gridcolor\":\"white\",\"linecolor\":\"white\",\"ticks\":\"\",\"title\":{\"standoff\":15},\"zerolinecolor\":\"white\",\"zerolinewidth\":2}}},\"xaxis\":{\"anchor\":\"y\",\"domain\":[0.0,1.0],\"title\":{\"text\":\"Fuel_efficiency\"}},\"yaxis\":{\"anchor\":\"x\",\"domain\":[0.0,1.0],\"title\":{\"text\":\"Sales_in_thousands\"}},\"legend\":{\"title\":{\"text\":\"Model\"},\"tracegroupgap\":0},\"title\":{\"text\":\"Fuel Efficiency vs. Sales in Thousands\",\"y\":0.9,\"x\":0.5,\"xanchor\":\"center\",\"yanchor\":\"top\"}},                        {\"responsive\": true}                    ).then(function(){\n",
       "                            \n",
       "var gd = document.getElementById('889913fd-3411-4707-993e-cbfb471913f5');\n",
       "var x = new MutationObserver(function (mutations, observer) {{\n",
       "        var display = window.getComputedStyle(gd).display;\n",
       "        if (!display || display === 'none') {{\n",
       "            console.log([gd, 'removed!']);\n",
       "            Plotly.purge(gd);\n",
       "            observer.disconnect();\n",
       "        }}\n",
       "}});\n",
       "\n",
       "// Listen for the removal of the full notebook cells\n",
       "var notebookContainer = gd.closest('#notebook-container');\n",
       "if (notebookContainer) {{\n",
       "    x.observe(notebookContainer, {childList: true});\n",
       "}}\n",
       "\n",
       "// Listen for the clearing of the current output cell\n",
       "var outputEl = gd.closest('.output');\n",
       "if (outputEl) {{\n",
       "    x.observe(outputEl, {childList: true});\n",
       "}}\n",
       "\n",
       "                        })                };                });            </script>        </div>"
      ]
     },
     "metadata": {},
     "output_type": "display_data"
    }
   ],
   "source": [
    "'''When we look at Fuel Economy, we can see that the data is beginning to spread out horizontally, \n",
    "and staying pretty stagnant with the sales. Most cars sold were in the range of 17 and 27 miles \n",
    "per gallon which means Fuel economy definitely plays a factor in these purchases. '''\n",
    "\n",
    "#Correlation between Fuel Efficiency and sales\n",
    "\n",
    "#Set the x and y, hover data: when mouse hovers over, it shows sales in thousands, Fuel efficiency and Model\n",
    "fig = px.scatter(df4,x='Fuel_efficiency', y = 'Sales_in_thousands', color = 'Model',\n",
    "    hover_data=['Sales_in_thousands'],title='Fuel Efficiency vs. Sales in Thousands')\n",
    "fig.update_traces(marker_size=5)\n",
    "\n",
    "#positions the title \n",
    "fig.update_layout(\n",
    "    title={'y':0.9,'x':0.5,'xanchor': 'center','yanchor': 'top'})\n",
    "fig.show()"
   ]
  },
  {
   "cell_type": "code",
   "execution_count": 438,
   "id": "63b7ae24",
   "metadata": {},
   "outputs": [],
   "source": [
    "mpm2 = df1[['Vehicle_type', 'Sales_in_thousands']].groupby('Vehicle_type',\n",
    "as_index = False).mean()\n"
   ]
  },
  {
   "cell_type": "code",
   "execution_count": 439,
   "id": "430ad614",
   "metadata": {},
   "outputs": [
    {
     "data": {
      "image/png": "[encoded data removed]",
      "text/plain": [
       "<Figure size 1440x720 with 1 Axes>"
      ]
     },
     "metadata": {
      "needs_background": "light"
     },
     "output_type": "display_data"
    }
   ],
   "source": [
    "'''So, Passenger vehicles are vehicles that are made to carry people such as SUVs minivans, \n",
    "and anything which fits that criterion. With that being said, almost half of the population \n",
    "did not buy a vehicle due to it being classified as a passenger vehicle.'''\n",
    "\n",
    "plt.figure(figsize = (20, 10)) #set the size of the bar graph to a decent size\n",
    "sns.barplot(x = mpm2['Vehicle_type'], y = mpm2['Sales_in_thousands']) #set the x and y values\n",
    "plt.title('Mean Sales Price for Each Vehicle Type') #create a title\n",
    "plt.ylabel('Mean Price', fontsize = 12) #create a y lable\n",
    "plt.xlabel('Vehicle Type', fontsize = 12) #create a x lable\n",
    "plt.show()"
   ]
  },
  {
   "cell_type": "code",
   "execution_count": 440,
   "id": "84152d94",
   "metadata": {},
   "outputs": [],
   "source": [
    "'''I decided to go with a decision tree and a Random Forrest regression. A random tree \n",
    "builds decision trees on different samples and takes the majority vote for classification \n",
    "and average in case of regression. In order to create the Random Forrest, I had to go \n",
    "through multiple steps. Some of the columns in the data had values that were not comprehensible\n",
    "to machine learning platforms such as null values, strings, and dates. I first created a list\n",
    "of data which did not have any nulls. I then went through the collumns with missing values and added\n",
    "each null with a median of the colum’s data. This accounts for the columns year release value, fuel\n",
    "efficiency, and curb weight. I then dropped the model column and only accounted for the brand of the car.'''\n",
    "\n",
    "\n",
    "modified_data = data[data['Price_in_thousands'].notna()]\n",
    "modified_data.isnull().sum().sort_values(ascending = False)\n",
    "\n",
    "#Replacing the missing values in __year_resale_value as median\n",
    "year_index = list(~modified_data['__year_resale_value'].isnull())\n",
    "median_year = np.median(modified_data['__year_resale_value'].loc[year_index])\n",
    "\n",
    "#Replacing the missing values of __year_resale_value \n",
    "modified_data['__year_resale_value'].fillna(median_year, inplace = True)\n",
    "\n",
    "\n",
    "\n",
    "\n",
    "\n",
    "\n",
    "\n",
    "# Replacing the missing values in Fuel_efficiency as median\n",
    "fuel_index = list(~modified_data['Fuel_efficiency'].isnull())\n",
    "median_fuel = np.median(modified_data['Fuel_efficiency'].loc[fuel_index])\n",
    "\n",
    "# Replacing the missing values of Fuel_efficiency \n",
    "modified_data['Fuel_efficiency'].fillna(median_year, inplace = True)\n",
    "\n",
    "\n",
    "\n",
    "\n",
    "\n",
    "\n",
    "#Replacing the missing values in Curb_weight as median\n",
    "c_index = list(~modified_data['Curb_weight'].isnull())\n",
    "median_c = np.median(modified_data['Curb_weight'].loc[c_index])\n",
    "\n",
    "# Replacing the missing values of Curb_weight\n",
    "modified_data['Curb_weight'].fillna(median_c, inplace = True)\n",
    "\n",
    "\n",
    "\n",
    "\n",
    "\n",
    "#Dropping Model\n",
    "modified_data.drop(['Model'], axis = 1, inplace = True)"
   ]
  },
  {
   "cell_type": "code",
   "execution_count": 441,
   "id": "c4159c14",
   "metadata": {},
   "outputs": [],
   "source": [
    "'''I then needed to create 2 separate classifications for the Brand of the car. \n",
    "Class 1 is cars that are $30,000 or less and class 2 is cars with a higher price. \n",
    "Now that the manufacturer column is not a string, the machine learning model would be \n",
    "able to comprehend that column. Next we move on to create a new column for Age which will \n",
    "replace the year the car launched. We do this because the model can not read back slashes, \n",
    "so we remove the whole date and only use the year the car was made in as the year column'''\n",
    "\n",
    "\n",
    "\n",
    "#Seperating the Manufacturers into class 1 and class 2 to have them as yes and no \n",
    "class1 = []\n",
    "class2 = []\n",
    "\n",
    "for index in range(len(mean_price_manufacturer)):\n",
    "    if mean_price_manufacturer.iloc[index, 1] <= 30:\n",
    "        class1.append(mean_price_manufacturer.iloc[index, 0])\n",
    "    else:\n",
    "        class2.append(mean_price_manufacturer.iloc[index, 0])\n",
    "        \n",
    "# Modifying Manufacturer \n",
    "manufacturer_data = modified_data['Manufacturer']\n",
    "new_manufacturer_data = []\n",
    "\n",
    "for val in manufacturer_data:\n",
    "    if val in class1:\n",
    "        new_manufacturer_data.append(1)\n",
    "    else:\n",
    "        new_manufacturer_data.append(2)\n",
    "        \n",
    "modified_data['Manufacturer'] = new_manufacturer_data\n",
    "\n",
    "# Creating Age so that there is no Date time stamp\n",
    "age_data = []\n",
    "launch_data = modified_data['Latest_Launch']\n",
    "\n",
    "#Splits the numbers by '/', appends 2022 as the year\n",
    "for val in launch_data:\n",
    "    year = int(val.split('/')[-1])\n",
    "    age_data.append(2022 - year)\n",
    "    \n",
    "#Adding Age as a column \n",
    "modified_data['Age'] = age_data\n",
    "\n",
    "#Dropping Latest_Launch for no time stamp\n",
    "modified_data.drop(['Latest_Launch'], axis = 1, inplace = True)"
   ]
  },
  {
   "cell_type": "code",
   "execution_count": 452,
   "id": "5cc864e2",
   "metadata": {},
   "outputs": [],
   "source": [
    "'''I created a function that would go through each of the columns which were all originally\n",
    "numerical in value and would normalize the dataset in each one of those columns. The next step\n",
    "was to create dummy variables for the manufacturer and vehicle type columns from the modified dataset. \n",
    "This sets them to either a 0 or a 1. I then created a target for the learning model which was\n",
    "the sales in thousands, and dropped it from the modified data set.\n",
    "'''\n",
    "\n",
    "\n",
    "def normal(datafm, col):\n",
    "    data = datafm[col]\n",
    "    mn = min(data)\n",
    "    mx = max(data)\n",
    "    new_data = []\n",
    "    \n",
    "    for val in data:\n",
    "        new_data.append((val - mn)/(mx - mn))\n",
    "    \n",
    "    datafm[col] = new_data\n",
    "\n",
    "num_col = ['Price_in_thousands', '__year_resale_value', 'Engine_size', 'Horsepower', 'Wheelbase', 'Width','Length', 'Curb_weight', 'Fuel_capacity', 'Fuel_efficiency', 'Power_perf_factor', 'Age']\n",
    "for i in num_col:\n",
    "    normal(modified_data, i)\n",
    "    \n",
    "#Encoding Manufacturer, Vehicle_type of the modified dataset\n",
    "enc_dataset = pd.get_dummies(data = modified_data, columns = ['Manufacturer', 'Vehicle_type'])\n",
    "\n",
    "#Create target for Sales_in_thousands\n",
    "target_data = enc_dataset['Sales_in_thousands']\n",
    "enc_dataset['Target'] = target_data\n",
    "\n",
    "# Drop Sales_in_thousands\n",
    "enc_dataset.drop(['Sales_in_thousands'], axis = 1, inplace = True)\n",
    "\n"
   ]
  },
  {
   "cell_type": "code",
   "execution_count": 453,
   "id": "74e25fb0",
   "metadata": {},
   "outputs": [
    {
     "name": "stdout",
     "output_type": "stream",
     "text": [
      "RMSE of the Decision Tree is : 0.126\n",
      "R-squared of the Decision Tree is : -0.249\n",
      " \n",
      "RMSE of the Random Forrest is : 0.089\n",
      "R-squared of the Random Forrest is : 0.391\n"
     ]
    }
   ],
   "source": [
    "'''The next step was to create the x and y variables and the train and test with a 20: 80 ratio.\n",
    "I also created a dictionary to keep RMSE and r squared. Now we move on to the decision tree.\n",
    "I create an instance of the decision tree regressor and fit it with our x and y train. \n",
    "I then call it to predict the x-test. I have it calculate MSE, then RMSE, and from that, \n",
    "it can get the r-squared value. I save the values of each into their dictionary and print them out.\n",
    "I do the exact same thing for the random forest which has 100 bins and gets the results. For the Decision tree, \n",
    "R-Squared is at -.249 For the Random Forrest, the R-Squared is at .391. Values between .2 and .5 \n",
    "are considered to be accurately predicted data. This means that from the two machine learning models the Random \n",
    "Forest was more accurate in concluding the data. I recommend creating more machine-learning models in the future \n",
    "to have an even better understanding of which model can predict how many sales of these cars there will be\n",
    "in the next coming year.'''\n",
    "\n",
    "\n",
    "#split the dataset into X and Y\n",
    "X = enc_dataset.iloc[:, : -1].values\n",
    "Y = enc_dataset.iloc[:, -1].values\n",
    "\n",
    "# train and test with 80, 20 ratio\n",
    "X_train, X_test, Y_train, Y_test = train_test_split(X, Y, test_size = 0.2, random_state = 1, shuffle = True)\n",
    "\n",
    "#Dictionary to keep rmse\n",
    "model_rmse = OrderedDict()\n",
    "\n",
    "# Dictionary to keep rsquared\n",
    "model_r2 = OrderedDict()\n",
    "\n",
    "\n",
    "\n",
    "\n",
    "\n",
    "# Training the decision tree \n",
    "decision_tree_regressor = DecisionTreeRegressor()\n",
    "decision_tree_regressor.fit(X_train, Y_train)\n",
    "\n",
    "# Predicting results\n",
    "Y_pred = decision_tree_regressor.predict(X_test)\n",
    "\n",
    "# Calculating RMSE and rsquared\n",
    "mse = round(mean_squared_error(Y_test, Y_pred), 3)\n",
    "rmse = round(sqrt(mse), 3)\n",
    "\n",
    "r2_value = round(r2_score(Y_test, Y_pred), 3)\n",
    "\n",
    "model_rmse['Decision Tree Regression'] = rmse\n",
    "model_r2['Decision Tree Regression'] = r2_value\n",
    "\n",
    "print('RMSE of the Decision Tree is : {}'.format(rmse))\n",
    "print('R-squared of the Decision Tree is : {}'.format(r2_value))\n",
    "print(' ')\n",
    "\n",
    "\n",
    "\n",
    "\n",
    "\n",
    "# Training the random forest \n",
    "random_forest_regressor = RandomForestRegressor(n_estimators = 100, random_state = 27)\n",
    "random_forest_regressor.fit(X_train, Y_train)\n",
    "\n",
    "# Predicting results\n",
    "Y_pred = random_forest_regressor.predict(X_test)\n",
    "\n",
    "# Calculating RMSE and rsquared \n",
    "mse = round(mean_squared_error(Y_test, Y_pred), 3)\n",
    "rmse = round(sqrt(mse), 3)\n",
    "\n",
    "r2_value = round(r2_score(Y_test, Y_pred), 3)\n",
    "\n",
    "model_rmse['Random Forest Regression (100 trees)'] = rmse\n",
    "model_r2['Random Forest Regression (100 trees)'] = r2_value\n",
    "\n",
    "print('RMSE of the Random Forrest is : {}'.format(rmse))\n",
    "print('R-squared of the Random Forrest is : {}'.format(r2_value))"
   ]
  },
  {
   "cell_type": "code",
   "execution_count": null,
   "id": "c842792d",
   "metadata": {},
   "outputs": [],
   "source": []
  }
 ],
 "metadata": {
  "kernelspec": {
   "display_name": "Python 3 (ipykernel)",
   "language": "python",
   "name": "python3"
  },
  "language_info": {
   "codemirror_mode": {
    "name": "ipython",
    "version": 3
   },
   "file_extension": ".py",
   "mimetype": "text/x-python",
   "name": "python",
   "nbconvert_exporter": "python",
   "pygments_lexer": "ipython3",
   "version": "3.9.12"
  }
 },
 "nbformat": 4,
 "nbformat_minor": 5
}
